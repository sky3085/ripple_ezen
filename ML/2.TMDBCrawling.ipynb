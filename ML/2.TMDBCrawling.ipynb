{
 "cells": [
  {
   "cell_type": "code",
   "execution_count": 1,
   "metadata": {},
   "outputs": [],
   "source": [
    "# 데이터가 부족한 경우 사용\n",
    "# NaN값을 제거하면 데이터가 5302개이므로 클롤링을 통해 NaN값을 채울려고 한다.\n",
    "import pandas as pd\n",
    "import numpy as np"
   ]
  },
  {
   "cell_type": "markdown",
   "metadata": {},
   "source": [
    "- 데이터 분석(감독)"
   ]
  },
  {
   "cell_type": "code",
   "execution_count": 10,
   "metadata": {},
   "outputs": [],
   "source": [
    "# title budget genres country main_charactor director vote_average vote_count\n",
    "df = pd.read_csv('data/movie_data_original.csv',\n",
    "                 names=\"title postpath openDate budget genres country main_charactor director time overview vote_average vote_count\".split(),\n",
    "                 skiprows=1)"
   ]
  },
  {
   "cell_type": "code",
   "execution_count": 11,
   "metadata": {},
   "outputs": [
    {
     "data": {
      "text/html": [
       "<div>\n",
       "<style scoped>\n",
       "    .dataframe tbody tr th:only-of-type {\n",
       "        vertical-align: middle;\n",
       "    }\n",
       "\n",
       "    .dataframe tbody tr th {\n",
       "        vertical-align: top;\n",
       "    }\n",
       "\n",
       "    .dataframe thead th {\n",
       "        text-align: right;\n",
       "    }\n",
       "</style>\n",
       "<table border=\"1\" class=\"dataframe\">\n",
       "  <thead>\n",
       "    <tr style=\"text-align: right;\">\n",
       "      <th></th>\n",
       "      <th>title</th>\n",
       "      <th>postpath</th>\n",
       "      <th>openDate</th>\n",
       "      <th>budget</th>\n",
       "      <th>genres</th>\n",
       "      <th>country</th>\n",
       "      <th>main_charactor</th>\n",
       "      <th>director</th>\n",
       "      <th>time</th>\n",
       "      <th>overview</th>\n",
       "      <th>vote_average</th>\n",
       "      <th>vote_count</th>\n",
       "    </tr>\n",
       "  </thead>\n",
       "  <tbody>\n",
       "    <tr>\n",
       "      <th>0</th>\n",
       "      <td>{616037: '토르: 러브 앤 썬더'}</td>\n",
       "      <td>https://image.tmdb.org/t/p/original/bZLrpWM065...</td>\n",
       "      <td>2022-07-06</td>\n",
       "      <td>250000000</td>\n",
       "      <td>[{'id': 28, 'name': '액션'}, {'id': 12, 'name': ...</td>\n",
       "      <td>[{'iso_3166_1': 'US', 'name': 'United States o...</td>\n",
       "      <td>{3894: 'Christian Bale'}</td>\n",
       "      <td>{55934: 'Taika Waititi'}</td>\n",
       "      <td>119</td>\n",
       "      <td>이너피스를 위해 자아 찾기 여정을 떠난 천둥의 신 토르. 그러나, 우주의 모든 신들...</td>\n",
       "      <td>6.778</td>\n",
       "      <td>1802</td>\n",
       "    </tr>\n",
       "  </tbody>\n",
       "</table>\n",
       "</div>"
      ],
      "text/plain": [
       "                     title                                           postpath  \\\n",
       "0  {616037: '토르: 러브 앤 썬더'}  https://image.tmdb.org/t/p/original/bZLrpWM065...   \n",
       "\n",
       "     openDate     budget                                             genres  \\\n",
       "0  2022-07-06  250000000  [{'id': 28, 'name': '액션'}, {'id': 12, 'name': ...   \n",
       "\n",
       "                                             country  \\\n",
       "0  [{'iso_3166_1': 'US', 'name': 'United States o...   \n",
       "\n",
       "             main_charactor                  director  time  \\\n",
       "0  {3894: 'Christian Bale'}  {55934: 'Taika Waititi'}   119   \n",
       "\n",
       "                                            overview  vote_average  vote_count  \n",
       "0  이너피스를 위해 자아 찾기 여정을 떠난 천둥의 신 토르. 그러나, 우주의 모든 신들...         6.778        1802  "
      ]
     },
     "execution_count": 11,
     "metadata": {},
     "output_type": "execute_result"
    }
   ],
   "source": [
    "df.head(1)"
   ]
  },
  {
   "cell_type": "code",
   "execution_count": 35,
   "metadata": {},
   "outputs": [
    {
     "data": {
      "text/plain": [
       "5142"
      ]
     },
     "execution_count": 35,
     "metadata": {},
     "output_type": "execute_result"
    }
   ],
   "source": [
    "# 예산이 표기된 api가 없다...일단 제거\n",
    "NoBudget = df[df['budget'] == 0]\n",
    "df = df.drop(NoBudget.index)\n",
    "len(df)"
   ]
  },
  {
   "cell_type": "code",
   "execution_count": null,
   "metadata": {},
   "outputs": [],
   "source": []
  },
  {
   "cell_type": "code",
   "execution_count": 12,
   "metadata": {},
   "outputs": [
    {
     "data": {
      "text/plain": [
       "119"
      ]
     },
     "execution_count": 12,
     "metadata": {},
     "output_type": "execute_result"
    }
   ],
   "source": [
    "# 감독이 없는 데이터 114개\n",
    "NoDirectors = df[df['director'] == '-']\n",
    "len(NoDirectors)"
   ]
  },
  {
   "cell_type": "code",
   "execution_count": 14,
   "metadata": {},
   "outputs": [
    {
     "data": {
      "text/html": [
       "<div>\n",
       "<style scoped>\n",
       "    .dataframe tbody tr th:only-of-type {\n",
       "        vertical-align: middle;\n",
       "    }\n",
       "\n",
       "    .dataframe tbody tr th {\n",
       "        vertical-align: top;\n",
       "    }\n",
       "\n",
       "    .dataframe thead th {\n",
       "        text-align: right;\n",
       "    }\n",
       "</style>\n",
       "<table border=\"1\" class=\"dataframe\">\n",
       "  <thead>\n",
       "    <tr style=\"text-align: right;\">\n",
       "      <th></th>\n",
       "      <th>title</th>\n",
       "      <th>postpath</th>\n",
       "      <th>openDate</th>\n",
       "      <th>budget</th>\n",
       "      <th>genres</th>\n",
       "      <th>country</th>\n",
       "      <th>main_charactor</th>\n",
       "      <th>director</th>\n",
       "      <th>time</th>\n",
       "      <th>overview</th>\n",
       "      <th>vote_average</th>\n",
       "      <th>vote_count</th>\n",
       "    </tr>\n",
       "  </thead>\n",
       "  <tbody>\n",
       "    <tr>\n",
       "      <th>169</th>\n",
       "      <td>{975117: 'Padre no hay mas que Uno 3'}</td>\n",
       "      <td>https://image.tmdb.org/t/p/original/k0NLfgdPck...</td>\n",
       "      <td>NaN</td>\n",
       "      <td>0</td>\n",
       "      <td>[]</td>\n",
       "      <td>[]</td>\n",
       "      <td>{1114487: 'Hero Fiennes Tiffin'}</td>\n",
       "      <td>-</td>\n",
       "      <td>0</td>\n",
       "      <td>NaN</td>\n",
       "      <td>6.8</td>\n",
       "      <td>3</td>\n",
       "    </tr>\n",
       "  </tbody>\n",
       "</table>\n",
       "</div>"
      ],
      "text/plain": [
       "                                      title  \\\n",
       "169  {975117: 'Padre no hay mas que Uno 3'}   \n",
       "\n",
       "                                              postpath openDate  budget  \\\n",
       "169  https://image.tmdb.org/t/p/original/k0NLfgdPck...      NaN       0   \n",
       "\n",
       "    genres country                    main_charactor director  time overview  \\\n",
       "169     []      []  {1114487: 'Hero Fiennes Tiffin'}        -     0      NaN   \n",
       "\n",
       "     vote_average  vote_count  \n",
       "169           6.8           3  "
      ]
     },
     "execution_count": 14,
     "metadata": {},
     "output_type": "execute_result"
    }
   ],
   "source": [
    "NoDirectors.head(1)"
   ]
  },
  {
   "cell_type": "code",
   "execution_count": 15,
   "metadata": {},
   "outputs": [],
   "source": [
    "import ast"
   ]
  },
  {
   "cell_type": "code",
   "execution_count": 16,
   "metadata": {},
   "outputs": [],
   "source": [
    "# 감독이 없는 리스트 중 타이틀을 string -> dict로 그중 title name만 가져옴\n",
    "# Ndirector 에 리스트로 저장\n",
    "Ndirector = []\n",
    "for NoDirector in df.loc[NoDirectors.index].title:\n",
    "    for s in ast.literal_eval(NoDirector).values():\n",
    "        Ndirector.append(s)"
   ]
  },
  {
   "cell_type": "code",
   "execution_count": 17,
   "metadata": {},
   "outputs": [
    {
     "data": {
      "text/plain": [
       "['Padre no hay mas que Uno 3',\n",
       " \"Chip and Potato: Chip's Holiday\",\n",
       " 'The Monster at the End of This Story',\n",
       " 'Dragon Ball Z: The Real 4-D at 超天下一武道会',\n",
       " '수퍼 소닉 3',\n",
       " '착한 엄마친구 2',\n",
       " 'ドラゴンボール Ｚ あつまれ！ 悟空ワールド',\n",
       " 'Depredador',\n",
       " 'Naruto to Boruto: The Live 2019',\n",
       " '룸싸롱 : 맛있는 서비스2',\n",
       " 'Ninja Escapades: Creation of Akatsuki, The Two Uchiha, The Far Reaches of Hope',\n",
       " 'Misterio en Marbella',\n",
       " 'Your Name',\n",
       " '粉色樱与大眠王',\n",
       " '어벤져스: 시크릿 워즈',\n",
       " 'La Vida en el Silencio',\n",
       " '미용실 : 특별한 서비스 4',\n",
       " \"This Isn't Sex Tape XXX: It's A Spoof!\",\n",
       " 'Avatar：Production Materials',\n",
       " 'Boruto: Jump Festa Special',\n",
       " '50 Greatest Harry Potter Moments',\n",
       " 'Moana Reo Māori',\n",
       " 'Los 7 pecados capitales',\n",
       " '뛰뛰빵빵! 코리의 모험 - 달려라! 크리시',\n",
       " \"James Corden's Top Gun Training with Tom Cruise\",\n",
       " 'Avatar: Scene Deconstruction',\n",
       " 'The Boys - Behind the Scenes: Insider Look',\n",
       " '착한 형수2',\n",
       " '베놈 3',\n",
       " '슈퍼 몬스터의 신비한 옛날이야기',\n",
       " '원피스 - 대양에 펼쳐라! 크나큰 아빠의 꿈!',\n",
       " 'Predators: Moments of Extraction',\n",
       " 'Naruto Shippuden: OVA Hashirama Senju vs Madara Uchiha',\n",
       " 'Constantine 2',\n",
       " 'Shrek 5',\n",
       " '엄마친구',\n",
       " '화성이변',\n",
       " 'LEGO Monkie Kid: A Hero Is Born',\n",
       " 'Spider-Man: All Roads Lead to No Way Home',\n",
       " 'Phantastische Harry Potter Momente - Das große SAT.1 Spezial',\n",
       " 'サニー・サイド・バトル!!!, Sanī Saido Batoru!!!',\n",
       " 'Jurassic Park to Jurassic World: The Greatest Moments',\n",
       " 'Dragon Ball Z: Zenbu Misemasu Toshi Wasure Dragon Ball Z!',\n",
       " 'Predators: Crucified',\n",
       " 'Santa Evita: El Viaje Detras de Escena',\n",
       " 'The Walking Dead: The Journey So Far',\n",
       " '星野源 DOME TOUR “POP VIRUS” at TOKYO DOME',\n",
       " '보스 베이비: 우리 아기를 찾아라!',\n",
       " '파이널 데스티네이션 6',\n",
       " 'DCI 2022: Big, Loud & Live',\n",
       " 'Mr. Sadman',\n",
       " '劇場版 ブラッククローバー',\n",
       " '初裸 virgin nude 晴翔華',\n",
       " 'The Collective: Movie',\n",
       " '극장판 : 원피스 3D 격주! 트랩 코스터',\n",
       " '원피스 - 연말특멸기획! 밀짚모자 루피 대장 수사기록!',\n",
       " '원피스 - 꿈의 축구왕',\n",
       " \"Bing's Animal Stories\",\n",
       " \"My Hero Academia: World Heroes' Mission - Take-off\",\n",
       " 'Selena Live! The Last Concert',\n",
       " \"Patayan Files: Ang Pinakamalalaking Murder Cases Ng Dekada '90\",\n",
       " 'Mirreyes contra Godínez 2: El retiro',\n",
       " 'Predator: Celtic Days',\n",
       " 'Game of Thrones: The Story So Far',\n",
       " \"Chucky's Vacation Slides\",\n",
       " '빤스맨과 메가 카리스마스',\n",
       " 'The Legacy of Chucky',\n",
       " '欲望人妻：滴垂之蜜',\n",
       " 'El señor de los cielos II',\n",
       " '전생했더니 슬라임이었던 건에 대하여 홍련의 인연편 극장판',\n",
       " '막장자매 클라쓰',\n",
       " 'Bob Esponja: Días de Cangreburgers',\n",
       " '어셈블: 메이킹 오브 닥터 스트레인지: 대혼돈의 멀티버스',\n",
       " 'Kamiusagi Rope x Boruto: Naruto Next Generations',\n",
       " 'Naruto x UT',\n",
       " '어셈블: 메이킹 오브 이터널스',\n",
       " \"Gabriel's Inferno: Part IV\",\n",
       " 'Wong Fei Hong vs Kungfu Panda',\n",
       " 'Yuki Kajiura Sword Art Online Sing All Overtures',\n",
       " '원피스 - 노려라! 해적 야구왕',\n",
       " 'Slugterra: Slug Fu Showdown',\n",
       " 'Super Monsters Furever Friends',\n",
       " '모두 그곳에 있다',\n",
       " 'Gloriavale',\n",
       " 'ワンピース フィルム ゴールド: Episode 0',\n",
       " 'Kingsman: The Blue Blood',\n",
       " 'The Bentley Films: The Supercut',\n",
       " 'Game of Thrones: The Iron Anniversary',\n",
       " '坐在我身后的女孩',\n",
       " 'ONE PIECE エピソードオブアラバスタ 砂漠の王女と海賊たち 特別編',\n",
       " 'El Cementerio de los Elefantes',\n",
       " 'Deadpool and Korg React',\n",
       " '장고의 댄스 카니발',\n",
       " 'Prey',\n",
       " 'Bob Esponja: Pantalones largos',\n",
       " \"The Visual Effects of 'Scary Movie 4'\",\n",
       " 'Honor: My Anti-Drug - Yu-Gi-Oh!',\n",
       " '미즈 마블: 팬들을 위한 가이드',\n",
       " 'The Witcher Season One Recap: From the Beginning',\n",
       " '판타스틱 4',\n",
       " 'Did It Happen?',\n",
       " 'Shark Vs Predator',\n",
       " '마블: 슈퍼히어로 군단의 비밀',\n",
       " 'The Witcher Bestiary Season 1, Part 1',\n",
       " 'The Mystic Nine',\n",
       " 'Tokyo New City Orchestra - Sword Art Online Film Orchestra Concert 2021',\n",
       " 'Speedy Gonzales',\n",
       " \"Cars D'oeuvres\",\n",
       " 'Dragon Ball Z: The Fall of Men',\n",
       " 'El señor de los cielos III',\n",
       " '브레이킹 배드 무비: 엘 카미노로 가는 길 - 메이킹 필름',\n",
       " 'Ted Bundy: Mind of a Monster',\n",
       " 'Shippū! Konoha Gakuen Den!',\n",
       " 'The Men Without Fear: Creating Daredevil',\n",
       " 'Jurassic Park: Fan Recreation Movie',\n",
       " '물좋은 하숙집 2',\n",
       " '[극장판] 레이디버그: 미라클스톤의 비밀',\n",
       " 'La Bestia',\n",
       " 'LEGO Frozen Northern Lights']"
      ]
     },
     "execution_count": 17,
     "metadata": {},
     "output_type": "execute_result"
    }
   ],
   "source": [
    "Ndirector"
   ]
  },
  {
   "cell_type": "markdown",
   "metadata": {},
   "source": [
    "- 클롤링(감독 데이터)"
   ]
  },
  {
   "cell_type": "code",
   "execution_count": 18,
   "metadata": {},
   "outputs": [],
   "source": [
    "# 네이버 api에서 제목 검색 => \n",
    "import requests\n",
    "import json"
   ]
  },
  {
   "cell_type": "code",
   "execution_count": 21,
   "metadata": {},
   "outputs": [],
   "source": [
    "with open('APIKey/Naver.json') as file:\n",
    "    api = json.load(file)\n",
    "client_id = api['id']\n",
    "client_secret = api['secret']"
   ]
  },
  {
   "cell_type": "code",
   "execution_count": 33,
   "metadata": {},
   "outputs": [
    {
     "data": {
      "text/plain": [
       "<Response [200]>"
      ]
     },
     "execution_count": 33,
     "metadata": {},
     "output_type": "execute_result"
    }
   ],
   "source": [
    "search = \"Chip and Potato: Chip's Holiday\"\n",
    "url = \"https://openapi.naver.com/v1/search/movie.json\"\n",
    "headers = {\n",
    "            'X-Naver-Client-Id': client_id,\n",
    "            'X-Naver-Client-Secret': client_secret\n",
    "           }\n",
    "params = {\n",
    "    'query' : '[극장판] 레이디버그: 미라클스톤의 비밀'\n",
    "}\n",
    "response = requests.get(url, headers=headers, params=params)\n",
    "response"
   ]
  },
  {
   "cell_type": "code",
   "execution_count": 34,
   "metadata": {},
   "outputs": [
    {
     "data": {
      "text/plain": [
       "{'lastBuildDate': 'Wed, 17 Aug 2022 11:06:51 +0900',\n",
       " 'total': 1,\n",
       " 'start': 1,\n",
       " 'display': 1,\n",
       " 'items': [{'title': '<b>극장판</b> <b>레이디</b><b>버그</b>: <b>미라클</b><b>스톤</b>의 <b>비밀</b>',\n",
       "   'link': 'https://movie.naver.com/movie/bi/mi/basic.nhn?code=171727',\n",
       "   'image': 'https://ssl.pstatic.net/imgmovie/mdi/mit110/1717/171727_P14_110648.jpg',\n",
       "   'subtitle': 'Miraculous seasons 2',\n",
       "   'pubDate': '2017',\n",
       "   'director': '토마스 아스트뤽|',\n",
       "   'actor': '여민정|남도형|홍시호|',\n",
       "   'userRating': '9.39'}]}"
      ]
     },
     "execution_count": 34,
     "metadata": {},
     "output_type": "execute_result"
    }
   ],
   "source": [
    "result = json.loads(response.text)\n",
    "result"
   ]
  },
  {
   "cell_type": "code",
   "execution_count": null,
   "metadata": {},
   "outputs": [],
   "source": [
    "with open('APIKey/Imdb.json') as file:\n",
    "    key = json.loads(file)['key']\n",
    "url = f\"https://imdb-api.com/ko/API/Title/{key}/tt1375666\"\n"
   ]
  }
 ],
 "metadata": {
  "kernelspec": {
   "display_name": "Python 3.9.12 ('base')",
   "language": "python",
   "name": "python3"
  },
  "language_info": {
   "codemirror_mode": {
    "name": "ipython",
    "version": 3
   },
   "file_extension": ".py",
   "mimetype": "text/x-python",
   "name": "python",
   "nbconvert_exporter": "python",
   "pygments_lexer": "ipython3",
   "version": "3.9.12"
  },
  "orig_nbformat": 4,
  "vscode": {
   "interpreter": {
    "hash": "68b27da7ddeb61625eb32b27b233f0587b7aa507dfa408f4f61141179036d5a9"
   }
  }
 },
 "nbformat": 4,
 "nbformat_minor": 2
}
