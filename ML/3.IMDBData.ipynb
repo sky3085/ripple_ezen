{
 "cells": [
  {
   "cell_type": "code",
   "execution_count": 4,
   "metadata": {},
   "outputs": [],
   "source": [
    "# budget, country, action, 등급, 이미지 경로 는 IMDB API를 사용하여 채움\n",
    "import pandas as pd"
   ]
  },
  {
   "cell_type": "code",
   "execution_count": 5,
   "metadata": {},
   "outputs": [],
   "source": [
    "df = pd.read_csv('data/movies.csv')"
   ]
  },
  {
   "cell_type": "code",
   "execution_count": 6,
   "metadata": {},
   "outputs": [
    {
     "data": {
      "text/html": [
       "<div>\n",
       "<style scoped>\n",
       "    .dataframe tbody tr th:only-of-type {\n",
       "        vertical-align: middle;\n",
       "    }\n",
       "\n",
       "    .dataframe tbody tr th {\n",
       "        vertical-align: top;\n",
       "    }\n",
       "\n",
       "    .dataframe thead th {\n",
       "        text-align: right;\n",
       "    }\n",
       "</style>\n",
       "<table border=\"1\" class=\"dataframe\">\n",
       "  <thead>\n",
       "    <tr style=\"text-align: right;\">\n",
       "      <th></th>\n",
       "      <th>Rank</th>\n",
       "      <th>Title</th>\n",
       "      <th>Year</th>\n",
       "      <th>Score</th>\n",
       "      <th>Metascore</th>\n",
       "      <th>Genre</th>\n",
       "      <th>Vote</th>\n",
       "      <th>Director</th>\n",
       "      <th>Runtime</th>\n",
       "      <th>Revenue</th>\n",
       "      <th>Description</th>\n",
       "    </tr>\n",
       "  </thead>\n",
       "  <tbody>\n",
       "    <tr>\n",
       "      <th>0</th>\n",
       "      <td>1</td>\n",
       "      <td>The Shawshank Redemption</td>\n",
       "      <td>1994</td>\n",
       "      <td>9.3</td>\n",
       "      <td>80.0</td>\n",
       "      <td>Drama</td>\n",
       "      <td>2011509</td>\n",
       "      <td>Frank Darabont</td>\n",
       "      <td>142</td>\n",
       "      <td>28.34</td>\n",
       "      <td>Two imprisoned men bond over a number of years...</td>\n",
       "    </tr>\n",
       "  </tbody>\n",
       "</table>\n",
       "</div>"
      ],
      "text/plain": [
       "   Rank                     Title  Year  Score  Metascore  Genre     Vote  \\\n",
       "0     1  The Shawshank Redemption  1994    9.3       80.0  Drama  2011509   \n",
       "\n",
       "         Director  Runtime  Revenue  \\\n",
       "0  Frank Darabont      142    28.34   \n",
       "\n",
       "                                         Description  \n",
       "0  Two imprisoned men bond over a number of years...  "
      ]
     },
     "execution_count": 6,
     "metadata": {},
     "output_type": "execute_result"
    }
   ],
   "source": [
    "df.head(1)"
   ]
  },
  {
   "cell_type": "code",
   "execution_count": 43,
   "metadata": {},
   "outputs": [],
   "source": [
    "import requests\n",
    "import json\n",
    "url = 'https://openapi.naver.com/v1/search/movie.json?query=%EC%A3%BC%EC%8B%9D&display=10&start=1&country=KR&yearfrom=2000'\n",
    "client_id = 'IXZWVcdr93luOc47rYWN'\n",
    "client_secret = 'TudQIXfEKX'\n",
    "headers = {'X-Naver-Client-Id': client_id,\n",
    "           'X-Naver-Client-Secret': client_secret}\n",
    "\n",
    "response = requests.get(url, headers=headers)\n"
   ]
  },
  {
   "cell_type": "code",
   "execution_count": 44,
   "metadata": {},
   "outputs": [],
   "source": [
    "api = json.loads(response.text)"
   ]
  },
  {
   "cell_type": "code",
   "execution_count": 45,
   "metadata": {},
   "outputs": [
    {
     "data": {
      "text/plain": [
       "{'lastBuildDate': 'Sat, 13 Aug 2022 11:11:02 +0900',\n",
       " 'total': 7,\n",
       " 'start': 1,\n",
       " 'display': 7,\n",
       " 'items': [{'title': '영화학도의 <b>주식</b> 사용 설명서',\n",
       "   'link': 'https://movie.naver.com/movie/bi/mi/basic.nhn?code=213928',\n",
       "   'image': '',\n",
       "   'subtitle': 'How this student use stock investment',\n",
       "   'pubDate': '2021',\n",
       "   'director': '박범진|',\n",
       "   'actor': '',\n",
       "   'userRating': '0.00'},\n",
       "  {'title': '우연<b>주식</b>회사',\n",
       "   'link': 'https://movie.naver.com/movie/bi/mi/basic.nhn?code=184304',\n",
       "   'image': 'https://ssl.pstatic.net/imgmovie/mdi/mit110/1843/184304_P01_165559.jpg',\n",
       "   'subtitle': 'Serendipity, Inc.',\n",
       "   'pubDate': '2018',\n",
       "   'director': '이종현|구준하|이재복|',\n",
       "   'actor': '금광산|서정준|',\n",
       "   'userRating': '0.00'},\n",
       "  {'title': '빗자루 <b>주식</b>회사',\n",
       "   'link': 'https://movie.naver.com/movie/bi/mi/basic.nhn?code=141945',\n",
       "   'image': 'https://ssl.pstatic.net/imgmovie/mdi/mit110/1419/141945_P00_104323.jpg',\n",
       "   'subtitle': 'Bloom, Inc',\n",
       "   'pubDate': '2014',\n",
       "   'director': '이맑음|백현정|',\n",
       "   'actor': '',\n",
       "   'userRating': '10.00'},\n",
       "  {'title': '보라간병<b>주식</b>회사',\n",
       "   'link': 'https://movie.naver.com/movie/bi/mi/basic.nhn?code=205932',\n",
       "   'image': 'https://ssl.pstatic.net/imgmovie/mdi/mit110/2059/205932_P01_104753.jpg',\n",
       "   'subtitle': '',\n",
       "   'pubDate': '2013',\n",
       "   'director': '조PD|',\n",
       "   'actor': '',\n",
       "   'userRating': '0.00'},\n",
       "  {'title': '미래 <b>주식</b>',\n",
       "   'link': 'https://movie.naver.com/movie/bi/mi/basic.nhn?code=61479',\n",
       "   'image': '',\n",
       "   'subtitle': '',\n",
       "   'pubDate': '2005',\n",
       "   'director': '최용미|허여진|',\n",
       "   'actor': '',\n",
       "   'userRating': '0.00'},\n",
       "  {'title': '행복<b>주식</b>회사',\n",
       "   'link': 'https://movie.naver.com/movie/bi/mi/basic.nhn?code=61605',\n",
       "   'image': '',\n",
       "   'subtitle': '',\n",
       "   'pubDate': '2005',\n",
       "   'director': '가성문|승명석|',\n",
       "   'actor': '',\n",
       "   'userRating': '0.00'},\n",
       "  {'title': '연애 <b>주식</b>회사',\n",
       "   'link': 'https://movie.naver.com/movie/bi/mi/basic.nhn?code=22263',\n",
       "   'image': '',\n",
       "   'subtitle': '',\n",
       "   'pubDate': '1963',\n",
       "   'director': '최경옥|',\n",
       "   'actor': '김희갑|허장강|이대엽|태현실|',\n",
       "   'userRating': '0.00'}]}"
      ]
     },
     "execution_count": 45,
     "metadata": {},
     "output_type": "execute_result"
    }
   ],
   "source": [
    "api"
   ]
  },
  {
   "cell_type": "code",
   "execution_count": 24,
   "metadata": {},
   "outputs": [
    {
     "ename": "JSONDecodeError",
     "evalue": "Expecting value: line 34 column 1 (char 125)",
     "output_type": "error",
     "traceback": [
      "\u001b[1;31m---------------------------------------------------------------------------\u001b[0m",
      "\u001b[1;31mJSONDecodeError\u001b[0m                           Traceback (most recent call last)",
      "\u001b[1;32md:\\bigdata_pcj\\99.TeamProject\\workspace\\ML\\3.IMDBData.ipynb 셀 7\u001b[0m in \u001b[0;36m<cell line: 6>\u001b[1;34m()\u001b[0m\n\u001b[0;32m      <a href='vscode-notebook-cell:/d%3A/bigdata_pcj/99.TeamProject/workspace/ML/3.IMDBData.ipynb#W6sZmlsZQ%3D%3D?line=1'>2</a>\u001b[0m headers \u001b[39m=\u001b[39m {\u001b[39m'\u001b[39m\u001b[39mX-Naver-Client-Id\u001b[39m\u001b[39m'\u001b[39m: client_id,\n\u001b[0;32m      <a href='vscode-notebook-cell:/d%3A/bigdata_pcj/99.TeamProject/workspace/ML/3.IMDBData.ipynb#W6sZmlsZQ%3D%3D?line=2'>3</a>\u001b[0m            \u001b[39m'\u001b[39m\u001b[39mX-Naver-Client-Secret\u001b[39m\u001b[39m'\u001b[39m: client_secret}\n\u001b[0;32m      <a href='vscode-notebook-cell:/d%3A/bigdata_pcj/99.TeamProject/workspace/ML/3.IMDBData.ipynb#W6sZmlsZQ%3D%3D?line=4'>5</a>\u001b[0m response \u001b[39m=\u001b[39m requests\u001b[39m.\u001b[39mget(url, headers\u001b[39m=\u001b[39mheaders)\n\u001b[1;32m----> <a href='vscode-notebook-cell:/d%3A/bigdata_pcj/99.TeamProject/workspace/ML/3.IMDBData.ipynb#W6sZmlsZQ%3D%3D?line=5'>6</a>\u001b[0m movie \u001b[39m=\u001b[39m json\u001b[39m.\u001b[39;49mloads(response\u001b[39m.\u001b[39;49mtext)\n\u001b[0;32m      <a href='vscode-notebook-cell:/d%3A/bigdata_pcj/99.TeamProject/workspace/ML/3.IMDBData.ipynb#W6sZmlsZQ%3D%3D?line=6'>7</a>\u001b[0m movie\n",
      "File \u001b[1;32mc:\\Users\\lunaw\\anaconda3\\lib\\json\\__init__.py:346\u001b[0m, in \u001b[0;36mloads\u001b[1;34m(s, cls, object_hook, parse_float, parse_int, parse_constant, object_pairs_hook, **kw)\u001b[0m\n\u001b[0;32m    341\u001b[0m     s \u001b[39m=\u001b[39m s\u001b[39m.\u001b[39mdecode(detect_encoding(s), \u001b[39m'\u001b[39m\u001b[39msurrogatepass\u001b[39m\u001b[39m'\u001b[39m)\n\u001b[0;32m    343\u001b[0m \u001b[39mif\u001b[39;00m (\u001b[39mcls\u001b[39m \u001b[39mis\u001b[39;00m \u001b[39mNone\u001b[39;00m \u001b[39mand\u001b[39;00m object_hook \u001b[39mis\u001b[39;00m \u001b[39mNone\u001b[39;00m \u001b[39mand\u001b[39;00m\n\u001b[0;32m    344\u001b[0m         parse_int \u001b[39mis\u001b[39;00m \u001b[39mNone\u001b[39;00m \u001b[39mand\u001b[39;00m parse_float \u001b[39mis\u001b[39;00m \u001b[39mNone\u001b[39;00m \u001b[39mand\u001b[39;00m\n\u001b[0;32m    345\u001b[0m         parse_constant \u001b[39mis\u001b[39;00m \u001b[39mNone\u001b[39;00m \u001b[39mand\u001b[39;00m object_pairs_hook \u001b[39mis\u001b[39;00m \u001b[39mNone\u001b[39;00m \u001b[39mand\u001b[39;00m \u001b[39mnot\u001b[39;00m kw):\n\u001b[1;32m--> 346\u001b[0m     \u001b[39mreturn\u001b[39;00m _default_decoder\u001b[39m.\u001b[39;49mdecode(s)\n\u001b[0;32m    347\u001b[0m \u001b[39mif\u001b[39;00m \u001b[39mcls\u001b[39m \u001b[39mis\u001b[39;00m \u001b[39mNone\u001b[39;00m:\n\u001b[0;32m    348\u001b[0m     \u001b[39mcls\u001b[39m \u001b[39m=\u001b[39m JSONDecoder\n",
      "File \u001b[1;32mc:\\Users\\lunaw\\anaconda3\\lib\\json\\decoder.py:337\u001b[0m, in \u001b[0;36mJSONDecoder.decode\u001b[1;34m(self, s, _w)\u001b[0m\n\u001b[0;32m    332\u001b[0m \u001b[39mdef\u001b[39;00m \u001b[39mdecode\u001b[39m(\u001b[39mself\u001b[39m, s, _w\u001b[39m=\u001b[39mWHITESPACE\u001b[39m.\u001b[39mmatch):\n\u001b[0;32m    333\u001b[0m     \u001b[39m\"\"\"Return the Python representation of ``s`` (a ``str`` instance\u001b[39;00m\n\u001b[0;32m    334\u001b[0m \u001b[39m    containing a JSON document).\u001b[39;00m\n\u001b[0;32m    335\u001b[0m \n\u001b[0;32m    336\u001b[0m \u001b[39m    \"\"\"\u001b[39;00m\n\u001b[1;32m--> 337\u001b[0m     obj, end \u001b[39m=\u001b[39m \u001b[39mself\u001b[39;49m\u001b[39m.\u001b[39;49mraw_decode(s, idx\u001b[39m=\u001b[39;49m_w(s, \u001b[39m0\u001b[39;49m)\u001b[39m.\u001b[39;49mend())\n\u001b[0;32m    338\u001b[0m     end \u001b[39m=\u001b[39m _w(s, end)\u001b[39m.\u001b[39mend()\n\u001b[0;32m    339\u001b[0m     \u001b[39mif\u001b[39;00m end \u001b[39m!=\u001b[39m \u001b[39mlen\u001b[39m(s):\n",
      "File \u001b[1;32mc:\\Users\\lunaw\\anaconda3\\lib\\json\\decoder.py:355\u001b[0m, in \u001b[0;36mJSONDecoder.raw_decode\u001b[1;34m(self, s, idx)\u001b[0m\n\u001b[0;32m    353\u001b[0m     obj, end \u001b[39m=\u001b[39m \u001b[39mself\u001b[39m\u001b[39m.\u001b[39mscan_once(s, idx)\n\u001b[0;32m    354\u001b[0m \u001b[39mexcept\u001b[39;00m \u001b[39mStopIteration\u001b[39;00m \u001b[39mas\u001b[39;00m err:\n\u001b[1;32m--> 355\u001b[0m     \u001b[39mraise\u001b[39;00m JSONDecodeError(\u001b[39m\"\u001b[39m\u001b[39mExpecting value\u001b[39m\u001b[39m\"\u001b[39m, s, err\u001b[39m.\u001b[39mvalue) \u001b[39mfrom\u001b[39;00m \u001b[39mNone\u001b[39m\n\u001b[0;32m    356\u001b[0m \u001b[39mreturn\u001b[39;00m obj, end\n",
      "\u001b[1;31mJSONDecodeError\u001b[0m: Expecting value: line 34 column 1 (char 125)"
     ]
    }
   ],
   "source": [
    "url = \"https://movie.naver.com/movie/bi/mi/basic.nhn?code=195180\"\n",
    "headers = {'X-Naver-Client-Id': client_id,\n",
    "           'X-Naver-Client-Secret': client_secret}\n",
    "\n",
    "response = requests.get(url, headers=headers)\n",
    "movie = json.loads(response.text)\n",
    "movie"
   ]
  },
  {
   "cell_type": "code",
   "execution_count": null,
   "metadata": {},
   "outputs": [],
   "source": []
  }
 ],
 "metadata": {
  "kernelspec": {
   "display_name": "Python 3.9.12 ('base')",
   "language": "python",
   "name": "python3"
  },
  "language_info": {
   "codemirror_mode": {
    "name": "ipython",
    "version": 3
   },
   "file_extension": ".py",
   "mimetype": "text/x-python",
   "name": "python",
   "nbconvert_exporter": "python",
   "pygments_lexer": "ipython3",
   "version": "3.9.12"
  },
  "orig_nbformat": 4,
  "vscode": {
   "interpreter": {
    "hash": "68b27da7ddeb61625eb32b27b233f0587b7aa507dfa408f4f61141179036d5a9"
   }
  }
 },
 "nbformat": 4,
 "nbformat_minor": 2
}
