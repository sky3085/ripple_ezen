{
 "cells": [
  {
   "cell_type": "code",
   "execution_count": 1,
   "metadata": {},
   "outputs": [],
   "source": [
    "# TMDBML : TMDB 머신러닝 모델 만들기\n",
    "import pandas as pd\n",
    "import numpy as np"
   ]
  },
  {
   "cell_type": "markdown",
   "metadata": {},
   "source": [
    "<pre>\n",
    "# vote_average를 가중치를 부여\n",
    "# vote = (v/(v+m))*R + (m/(v+m))*C\n",
    "# v : 개별 영화에 투표한 횟수, m : 평점을 부여하기 위한 최소 투표 횟수\n",
    "# R : 개별 영화에 대한 평균 평점(=vote_average), C : 전체 영화에 대한 평균 평점\n",
    "</pre>"
   ]
  },
  {
   "cell_type": "code",
   "execution_count": 2,
   "metadata": {},
   "outputs": [
    {
     "data": {
      "text/html": [
       "<div>\n",
       "<style scoped>\n",
       "    .dataframe tbody tr th:only-of-type {\n",
       "        vertical-align: middle;\n",
       "    }\n",
       "\n",
       "    .dataframe tbody tr th {\n",
       "        vertical-align: top;\n",
       "    }\n",
       "\n",
       "    .dataframe thead th {\n",
       "        text-align: right;\n",
       "    }\n",
       "</style>\n",
       "<table border=\"1\" class=\"dataframe\">\n",
       "  <thead>\n",
       "    <tr style=\"text-align: right;\">\n",
       "      <th></th>\n",
       "      <th>title</th>\n",
       "      <th>poster_path</th>\n",
       "      <th>release_date</th>\n",
       "      <th>budget</th>\n",
       "      <th>genres</th>\n",
       "      <th>country</th>\n",
       "      <th>main_charactor</th>\n",
       "      <th>director</th>\n",
       "      <th>runtime</th>\n",
       "      <th>overview</th>\n",
       "      <th>vote_average</th>\n",
       "      <th>vote_count</th>\n",
       "    </tr>\n",
       "  </thead>\n",
       "  <tbody>\n",
       "    <tr>\n",
       "      <th>0</th>\n",
       "      <td>{616037: '토르: 러브 앤 썬더'}</td>\n",
       "      <td>https://image.tmdb.org/t/p/original/bZLrpWM065...</td>\n",
       "      <td>2022-07-06</td>\n",
       "      <td>250000000</td>\n",
       "      <td>[{'id': 28, 'name': '액션'}, {'id': 12, 'name': ...</td>\n",
       "      <td>[{'iso_3166_1': 'US', 'name': 'United States o...</td>\n",
       "      <td>{3894: 'Christian Bale'}</td>\n",
       "      <td>{55934: 'Taika Waititi'}</td>\n",
       "      <td>119</td>\n",
       "      <td>이너피스를 위해 자아 찾기 여정을 떠난 천둥의 신 토르. 그러나, 우주의 모든 신들...</td>\n",
       "      <td>6.778</td>\n",
       "      <td>1802</td>\n",
       "    </tr>\n",
       "  </tbody>\n",
       "</table>\n",
       "</div>"
      ],
      "text/plain": [
       "                     title                                        poster_path  \\\n",
       "0  {616037: '토르: 러브 앤 썬더'}  https://image.tmdb.org/t/p/original/bZLrpWM065...   \n",
       "\n",
       "  release_date     budget                                             genres  \\\n",
       "0   2022-07-06  250000000  [{'id': 28, 'name': '액션'}, {'id': 12, 'name': ...   \n",
       "\n",
       "                                             country  \\\n",
       "0  [{'iso_3166_1': 'US', 'name': 'United States o...   \n",
       "\n",
       "             main_charactor                  director  runtime  \\\n",
       "0  {3894: 'Christian Bale'}  {55934: 'Taika Waititi'}      119   \n",
       "\n",
       "                                            overview  vote_average  vote_count  \n",
       "0  이너피스를 위해 자아 찾기 여정을 떠난 천둥의 신 토르. 그러나, 우주의 모든 신들...         6.778        1802  "
      ]
     },
     "execution_count": 2,
     "metadata": {},
     "output_type": "execute_result"
    }
   ],
   "source": [
    "df = pd.read_csv(\"data/movie_data_final.csv\")\n",
    "df.head(1)  # title : str"
   ]
  },
  {
   "cell_type": "code",
   "execution_count": 3,
   "metadata": {},
   "outputs": [
    {
     "name": "stdout",
     "output_type": "stream",
     "text": [
      "m :  3.9188531981279198\n",
      "C :  1491.941185647426\n"
     ]
    }
   ],
   "source": [
    "# m : 투표 횟수의 평균 * 60%\n",
    "# C : 평균 평점 * 60 %\n",
    "m = df.vote_average.mean() * 60 / 100\n",
    "C = df.vote_count.mean() * 60 / 100\n",
    "print(\"m : \", m)\n",
    "print(\"C : \", C)"
   ]
  },
  {
   "cell_type": "code",
   "execution_count": 4,
   "metadata": {},
   "outputs": [
    {
     "data": {
      "text/html": [
       "<div>\n",
       "<style scoped>\n",
       "    .dataframe tbody tr th:only-of-type {\n",
       "        vertical-align: middle;\n",
       "    }\n",
       "\n",
       "    .dataframe tbody tr th {\n",
       "        vertical-align: top;\n",
       "    }\n",
       "\n",
       "    .dataframe thead th {\n",
       "        text-align: right;\n",
       "    }\n",
       "</style>\n",
       "<table border=\"1\" class=\"dataframe\">\n",
       "  <thead>\n",
       "    <tr style=\"text-align: right;\">\n",
       "      <th></th>\n",
       "      <th>title</th>\n",
       "      <th>poster_path</th>\n",
       "      <th>release_date</th>\n",
       "      <th>budget</th>\n",
       "      <th>genres</th>\n",
       "      <th>country</th>\n",
       "      <th>main_charactor</th>\n",
       "      <th>director</th>\n",
       "      <th>runtime</th>\n",
       "      <th>overview</th>\n",
       "      <th>vote_average</th>\n",
       "      <th>vote_count</th>\n",
       "      <th>result</th>\n",
       "    </tr>\n",
       "  </thead>\n",
       "  <tbody>\n",
       "    <tr>\n",
       "      <th>0</th>\n",
       "      <td>{616037: '토르: 러브 앤 썬더'}</td>\n",
       "      <td>https://image.tmdb.org/t/p/original/bZLrpWM065...</td>\n",
       "      <td>2022-07-06</td>\n",
       "      <td>250000000</td>\n",
       "      <td>[{'id': 28, 'name': '액션'}, {'id': 12, 'name': ...</td>\n",
       "      <td>[{'iso_3166_1': 'US', 'name': 'United States o...</td>\n",
       "      <td>{3894: 'Christian Bale'}</td>\n",
       "      <td>{55934: 'Taika Waititi'}</td>\n",
       "      <td>119</td>\n",
       "      <td>이너피스를 위해 자아 찾기 여정을 떠난 천둥의 신 토르. 그러나, 우주의 모든 신들...</td>\n",
       "      <td>6.778</td>\n",
       "      <td>1802</td>\n",
       "      <td>10.000812</td>\n",
       "    </tr>\n",
       "  </tbody>\n",
       "</table>\n",
       "</div>"
      ],
      "text/plain": [
       "                     title                                        poster_path  \\\n",
       "0  {616037: '토르: 러브 앤 썬더'}  https://image.tmdb.org/t/p/original/bZLrpWM065...   \n",
       "\n",
       "  release_date     budget                                             genres  \\\n",
       "0   2022-07-06  250000000  [{'id': 28, 'name': '액션'}, {'id': 12, 'name': ...   \n",
       "\n",
       "                                             country  \\\n",
       "0  [{'iso_3166_1': 'US', 'name': 'United States o...   \n",
       "\n",
       "             main_charactor                  director  runtime  \\\n",
       "0  {3894: 'Christian Bale'}  {55934: 'Taika Waititi'}      119   \n",
       "\n",
       "                                            overview  vote_average  \\\n",
       "0  이너피스를 위해 자아 찾기 여정을 떠난 천둥의 신 토르. 그러나, 우주의 모든 신들...         6.778   \n",
       "\n",
       "   vote_count     result  \n",
       "0        1802  10.000812  "
      ]
     },
     "execution_count": 4,
     "metadata": {},
     "output_type": "execute_result"
    }
   ],
   "source": [
    "v = df.vote_count\n",
    "R = df.vote_average\n",
    "df['result'] = (v/(v+m))*R + (m/(v+m))*C\n",
    "df.head(1)"
   ]
  },
  {
   "cell_type": "code",
   "execution_count": 5,
   "metadata": {},
   "outputs": [],
   "source": [
    "import ast #형태가 리스트/딕셔너리인 문자열을 다시 리스트/딕셔너리 형태로 바꿀 수 있다."
   ]
  },
  {
   "cell_type": "code",
   "execution_count": 6,
   "metadata": {},
   "outputs": [
    {
     "name": "stderr",
     "output_type": "stream",
     "text": [
      "C:\\Users\\Public\\Documents\\ESTsoft\\CreatorTemp\\ipykernel_35540\\2465986390.py:15: VisibleDeprecationWarning: Creating an ndarray from ragged nested sequences (which is a list-or-tuple of lists-or-tuples-or ndarrays with different lengths or shapes) is deprecated. If you meant to do this, you must specify 'dtype=object' when creating the ndarray.\n",
      "  df_arr = np.array(df_list)\n"
     ]
    }
   ],
   "source": [
    "# title: 이름, id/ genres: to_categorical/ country: to_categorical/ charactor: 이름, id/ director: 이름, id/ result 0 or 1\n",
    "# numpy 배열 (5302,)\n",
    "# df['genres'] = df['genres'].apply(literal_eval) 로 다시 짤 수 있다.\n",
    "df_list = []\n",
    "title, budget, genres, country, charactor, director, result = [], [], [], [], [], [], []\n",
    "for idx in df.index:\n",
    "    title.append([ast.literal_eval(df.title[idx])])\n",
    "    budget.append([int(df.budget[idx])])\n",
    "    genres.append(ast.literal_eval(df.genres[idx]))\n",
    "    country.append(ast.literal_eval(df.country[idx]))\n",
    "    charactor.append([ast.literal_eval(df.main_charactor[idx])])\n",
    "    director.append([ast.literal_eval(df.director[idx])])\n",
    "    result.append([1 if df.vote_average[idx] >= 0.5 else 0])\n",
    "df_list.append([title, budget, genres, country, charactor, director, result])\n",
    "df_arr = np.array(df_list)"
   ]
  },
  {
   "cell_type": "code",
   "execution_count": 7,
   "metadata": {},
   "outputs": [],
   "source": [
    "# for title, charactor, director\n",
    "class SeperateID_Name:\n",
    "    def __init__(self, column):\n",
    "        self.id = []\n",
    "        self.name = []\n",
    "        self.column = column\n",
    "\n",
    "    def print(self):\n",
    "        for col in self.column:\n",
    "            for key, value in col[0].items():\n",
    "                self.id.append(int(key))\n",
    "                self.name.append(str(value))\n",
    "        return self.id, self.name"
   ]
  },
  {
   "cell_type": "code",
   "execution_count": 8,
   "metadata": {},
   "outputs": [],
   "source": [
    "# title : dictionary about title_ID & title_Name\n",
    "sep_title = SeperateID_Name(title)\n",
    "title_ID, title_Name = sep_title.print()\n",
    "# charactor : dictionary about char_ID & char_Name\n",
    "sep_charactor = SeperateID_Name(charactor)\n",
    "char_ID, char_Name = sep_charactor.print()\n",
    "# director : dictionary about dir_ID & dir_Name\n",
    "sep_director = SeperateID_Name(director)\n",
    "dir_ID, dir_Name = sep_director.print()"
   ]
  },
  {
   "cell_type": "code",
   "execution_count": 9,
   "metadata": {},
   "outputs": [],
   "source": [
    "# country dictionry name to id 만들기\n",
    "country_data = []\n",
    "for cs in country:\n",
    "    for c in cs:\n",
    "        country_data.append(c['name'])\n",
    "country_dict = {}\n",
    "i = 0\n",
    "for l in country_data:\n",
    "    try:\n",
    "        country_dict[l]  # 찾으면 패스 못찾으면 선언 및 아이디 부여\n",
    "    except:\n",
    "        country_dict[l] = i\n",
    "        i += 1"
   ]
  },
  {
   "cell_type": "code",
   "execution_count": 10,
   "metadata": {},
   "outputs": [],
   "source": [
    "# for genres, country\n",
    "class SeperateID_Name_list:\n",
    "    def __init__(self, column):\n",
    "        self.ids, self.id = [], []\n",
    "        self.names, self.name = [], []\n",
    "        self.column = column\n",
    "\n",
    "    def print(self):\n",
    "        for cols in self.column:\n",
    "            for col in cols:\n",
    "                self.id.append(list(col.values())[0])\n",
    "                self.name.append(list(col.values())[1])\n",
    "            self.ids.append(self.id)\n",
    "            self.names.append(self.name)\n",
    "            self.id = []\n",
    "            self.name = []\n",
    "        return self.ids, self.names"
   ]
  },
  {
   "cell_type": "code",
   "execution_count": 11,
   "metadata": {},
   "outputs": [],
   "source": [
    "# genres\n",
    "sep_genres = SeperateID_Name_list(genres)\n",
    "genre_ID, genre_Name = sep_genres.print()\n",
    "# country\n",
    "sep_country = SeperateID_Name_list(country)\n",
    "country_ID, country_Name = sep_country.print()"
   ]
  },
  {
   "cell_type": "code",
   "execution_count": 12,
   "metadata": {},
   "outputs": [],
   "source": [
    "# country_ID id 저장\n",
    "country_I = []\n",
    "country_ID = []\n",
    "for names in country_Name:\n",
    "    for name in names:\n",
    "        country_I.append(country_dict[name])\n",
    "    country_ID.append(country_I)\n",
    "    country_I = []"
   ]
  },
  {
   "cell_type": "markdown",
   "metadata": {},
   "source": [
    "- Id로 이루어진 데이터프레임(머신러닝용1)"
   ]
  },
  {
   "cell_type": "code",
   "execution_count": 13,
   "metadata": {},
   "outputs": [
    {
     "data": {
      "text/html": [
       "<div>\n",
       "<style scoped>\n",
       "    .dataframe tbody tr th:only-of-type {\n",
       "        vertical-align: middle;\n",
       "    }\n",
       "\n",
       "    .dataframe tbody tr th {\n",
       "        vertical-align: top;\n",
       "    }\n",
       "\n",
       "    .dataframe thead th {\n",
       "        text-align: right;\n",
       "    }\n",
       "</style>\n",
       "<table border=\"1\" class=\"dataframe\">\n",
       "  <thead>\n",
       "    <tr style=\"text-align: right;\">\n",
       "      <th></th>\n",
       "      <th>title</th>\n",
       "      <th>poster_path</th>\n",
       "      <th>release_date</th>\n",
       "      <th>budget</th>\n",
       "      <th>genres</th>\n",
       "      <th>country</th>\n",
       "      <th>main_charactor</th>\n",
       "      <th>director</th>\n",
       "      <th>runtime</th>\n",
       "      <th>overview</th>\n",
       "      <th>vote_average</th>\n",
       "      <th>vote_count</th>\n",
       "      <th>result</th>\n",
       "    </tr>\n",
       "  </thead>\n",
       "  <tbody>\n",
       "    <tr>\n",
       "      <th>0</th>\n",
       "      <td>{616037: '토르: 러브 앤 썬더'}</td>\n",
       "      <td>https://image.tmdb.org/t/p/original/bZLrpWM065...</td>\n",
       "      <td>2022-07-06</td>\n",
       "      <td>250000000</td>\n",
       "      <td>[{'id': 28, 'name': '액션'}, {'id': 12, 'name': ...</td>\n",
       "      <td>[{'iso_3166_1': 'US', 'name': 'United States o...</td>\n",
       "      <td>{3894: 'Christian Bale'}</td>\n",
       "      <td>{55934: 'Taika Waititi'}</td>\n",
       "      <td>119</td>\n",
       "      <td>이너피스를 위해 자아 찾기 여정을 떠난 천둥의 신 토르. 그러나, 우주의 모든 신들...</td>\n",
       "      <td>6.778</td>\n",
       "      <td>1802</td>\n",
       "      <td>10.000812</td>\n",
       "    </tr>\n",
       "  </tbody>\n",
       "</table>\n",
       "</div>"
      ],
      "text/plain": [
       "                     title                                        poster_path  \\\n",
       "0  {616037: '토르: 러브 앤 썬더'}  https://image.tmdb.org/t/p/original/bZLrpWM065...   \n",
       "\n",
       "  release_date     budget                                             genres  \\\n",
       "0   2022-07-06  250000000  [{'id': 28, 'name': '액션'}, {'id': 12, 'name': ...   \n",
       "\n",
       "                                             country  \\\n",
       "0  [{'iso_3166_1': 'US', 'name': 'United States o...   \n",
       "\n",
       "             main_charactor                  director  runtime  \\\n",
       "0  {3894: 'Christian Bale'}  {55934: 'Taika Waititi'}      119   \n",
       "\n",
       "                                            overview  vote_average  \\\n",
       "0  이너피스를 위해 자아 찾기 여정을 떠난 천둥의 신 토르. 그러나, 우주의 모든 신들...         6.778   \n",
       "\n",
       "   vote_count     result  \n",
       "0        1802  10.000812  "
      ]
     },
     "execution_count": 13,
     "metadata": {},
     "output_type": "execute_result"
    }
   ],
   "source": [
    "df.head(1)"
   ]
  },
  {
   "cell_type": "code",
   "execution_count": 14,
   "metadata": {},
   "outputs": [],
   "source": [
    "# title\tbudget\tgenres\tcountry\tmain_charactor\tdirector\tvote_average\tvote_count\tresult\n",
    "df_ID = pd.DataFrame({'title': title_ID, 'budget':df.budget, 'genres':genre_ID, 'country':country_ID, 'charactor': char_ID, 'director':dir_ID, 'vote_score':df.vote_average, 'vote_count':df.vote_count,\n",
    "'vote_weight':df.result})"
   ]
  },
  {
   "cell_type": "code",
   "execution_count": 15,
   "metadata": {},
   "outputs": [
    {
     "data": {
      "text/html": [
       "<div>\n",
       "<style scoped>\n",
       "    .dataframe tbody tr th:only-of-type {\n",
       "        vertical-align: middle;\n",
       "    }\n",
       "\n",
       "    .dataframe tbody tr th {\n",
       "        vertical-align: top;\n",
       "    }\n",
       "\n",
       "    .dataframe thead th {\n",
       "        text-align: right;\n",
       "    }\n",
       "</style>\n",
       "<table border=\"1\" class=\"dataframe\">\n",
       "  <thead>\n",
       "    <tr style=\"text-align: right;\">\n",
       "      <th></th>\n",
       "      <th>title</th>\n",
       "      <th>budget</th>\n",
       "      <th>genres</th>\n",
       "      <th>country</th>\n",
       "      <th>charactor</th>\n",
       "      <th>director</th>\n",
       "      <th>vote_score</th>\n",
       "      <th>vote_count</th>\n",
       "      <th>vote_weight</th>\n",
       "    </tr>\n",
       "  </thead>\n",
       "  <tbody>\n",
       "    <tr>\n",
       "      <th>0</th>\n",
       "      <td>616037</td>\n",
       "      <td>250000000</td>\n",
       "      <td>[28, 12, 14]</td>\n",
       "      <td>[0]</td>\n",
       "      <td>3894</td>\n",
       "      <td>55934</td>\n",
       "      <td>6.778</td>\n",
       "      <td>1802</td>\n",
       "      <td>10.000812</td>\n",
       "    </tr>\n",
       "  </tbody>\n",
       "</table>\n",
       "</div>"
      ],
      "text/plain": [
       "    title     budget        genres country  charactor  director  vote_score  \\\n",
       "0  616037  250000000  [28, 12, 14]     [0]       3894     55934       6.778   \n",
       "\n",
       "   vote_count  vote_weight  \n",
       "0        1802    10.000812  "
      ]
     },
     "execution_count": 15,
     "metadata": {},
     "output_type": "execute_result"
    }
   ],
   "source": [
    "df_ID.head(1)"
   ]
  },
  {
   "cell_type": "code",
   "execution_count": 16,
   "metadata": {},
   "outputs": [],
   "source": [
    "df_ID.to_csv('data/movie_data_ID.csv', index=False)"
   ]
  },
  {
   "cell_type": "markdown",
   "metadata": {},
   "source": [
    "- Name으로 이루어진 데이터프레임(분석용)"
   ]
  },
  {
   "cell_type": "code",
   "execution_count": 17,
   "metadata": {},
   "outputs": [],
   "source": [
    "# title\tbudget\tgenres\tcountry\tmain_charactor\tdirector\tvote_average\tvote_count\tresult\n",
    "df_Name = pd.DataFrame({'title': title_Name, 'budget':df.budget, 'genres':genre_Name, 'country':country_Name, 'charactor': char_Name, 'director':dir_Name, 'vote_score':df.vote_average, 'vote_count':df.vote_count,\n",
    "'vote_weight':df.result})"
   ]
  },
  {
   "cell_type": "code",
   "execution_count": 18,
   "metadata": {},
   "outputs": [
    {
     "data": {
      "text/html": [
       "<div>\n",
       "<style scoped>\n",
       "    .dataframe tbody tr th:only-of-type {\n",
       "        vertical-align: middle;\n",
       "    }\n",
       "\n",
       "    .dataframe tbody tr th {\n",
       "        vertical-align: top;\n",
       "    }\n",
       "\n",
       "    .dataframe thead th {\n",
       "        text-align: right;\n",
       "    }\n",
       "</style>\n",
       "<table border=\"1\" class=\"dataframe\">\n",
       "  <thead>\n",
       "    <tr style=\"text-align: right;\">\n",
       "      <th></th>\n",
       "      <th>title</th>\n",
       "      <th>budget</th>\n",
       "      <th>genres</th>\n",
       "      <th>country</th>\n",
       "      <th>charactor</th>\n",
       "      <th>director</th>\n",
       "      <th>vote_score</th>\n",
       "      <th>vote_count</th>\n",
       "      <th>vote_weight</th>\n",
       "    </tr>\n",
       "  </thead>\n",
       "  <tbody>\n",
       "    <tr>\n",
       "      <th>0</th>\n",
       "      <td>토르: 러브 앤 썬더</td>\n",
       "      <td>250000000</td>\n",
       "      <td>[액션, 모험, 판타지]</td>\n",
       "      <td>[United States of America]</td>\n",
       "      <td>Christian Bale</td>\n",
       "      <td>Taika Waititi</td>\n",
       "      <td>6.778</td>\n",
       "      <td>1802</td>\n",
       "      <td>10.000812</td>\n",
       "    </tr>\n",
       "  </tbody>\n",
       "</table>\n",
       "</div>"
      ],
      "text/plain": [
       "         title     budget         genres                     country  \\\n",
       "0  토르: 러브 앤 썬더  250000000  [액션, 모험, 판타지]  [United States of America]   \n",
       "\n",
       "        charactor       director  vote_score  vote_count  vote_weight  \n",
       "0  Christian Bale  Taika Waititi       6.778        1802    10.000812  "
      ]
     },
     "execution_count": 18,
     "metadata": {},
     "output_type": "execute_result"
    }
   ],
   "source": [
    "df_Name.head(1)"
   ]
  },
  {
   "cell_type": "code",
   "execution_count": 19,
   "metadata": {},
   "outputs": [],
   "source": [
    "df_Name.to_csv('data/movie_data_Name.csv', index=False)"
   ]
  },
  {
   "cell_type": "markdown",
   "metadata": {},
   "source": [
    "- Id로 이루어진 데이터프레임(머신러닝용2)"
   ]
  },
  {
   "cell_type": "markdown",
   "metadata": {},
   "source": [
    "- genres, country columns"
   ]
  },
  {
   "cell_type": "code",
   "execution_count": 20,
   "metadata": {},
   "outputs": [],
   "source": [
    "genres_list = [\"Action\", \"Adventure\" ,\"Fantasy\", \"Family\", \"Animation\", \"Comedy\", \"Science Fiction\", \"Drama\", \"Horror\", \"Thriller\", \"Crime\", \"Mystery\", \"Music\", \"History\", \"TV Movie\", \"War\", \"Romance\", \"Documentary\", \"Western\"]"
   ]
  },
  {
   "cell_type": "code",
   "execution_count": 21,
   "metadata": {},
   "outputs": [],
   "source": [
    "# genres 종류에 따라 나온 결과 값을 데이터프레임 변형, 해당하는 값만 1로 부여하고 나머지는 0으로 부여\n",
    "# 가중치 값은 반올림하여 정수형으로 바꿈.\n",
    "df_genre_each = pd.DataFrame(columns=genres_list)\n",
    "for idx in df.index:\n",
    "    genres = df_Name.genres[idx]\n",
    "    # 한 줄 0으로 초기화\n",
    "    df_genre_each.loc[idx] = 0\n",
    "    for genre in genres:\n",
    "        df_genre_each.loc[idx][str(genre)] = 1  # 한 줄 값 부여"
   ]
  },
  {
   "cell_type": "code",
   "execution_count": 22,
   "metadata": {},
   "outputs": [],
   "source": [
    "df_genre_each.to_csv(\"data/movie_genres_data.csv\", index=False)"
   ]
  }
 ],
 "metadata": {
  "kernelspec": {
   "display_name": "Python 3.9.12 ('base')",
   "language": "python",
   "name": "python3"
  },
  "language_info": {
   "codemirror_mode": {
    "name": "ipython",
    "version": 3
   },
   "file_extension": ".py",
   "mimetype": "text/x-python",
   "name": "python",
   "nbconvert_exporter": "python",
   "pygments_lexer": "ipython3",
   "version": "3.9.12"
  },
  "orig_nbformat": 4,
  "vscode": {
   "interpreter": {
    "hash": "68b27da7ddeb61625eb32b27b233f0587b7aa507dfa408f4f61141179036d5a9"
   }
  }
 },
 "nbformat": 4,
 "nbformat_minor": 2
}
