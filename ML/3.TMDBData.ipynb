{
 "cells": [
  {
   "cell_type": "code",
   "execution_count": 3,
   "metadata": {},
   "outputs": [],
   "source": [
    "# TMDBML : TMDB 머신러닝 모델 만들기\n",
    "import pandas as pd\n",
    "import numpy as np"
   ]
  },
  {
   "cell_type": "markdown",
   "metadata": {},
   "source": [
    "<pre>\n",
    "# vote_average를 가중치를 부여\n",
    "# vote = (v/(v+m))*R + (m/(v+m))*C\n",
    "# v : 개별 영화에 투표한 횟수, m : 평점을 부여하기 위한 최소 투표 횟수\n",
    "# R : 개별 영화에 대한 평균 평점(=vote_average), C : 전체 영화에 대한 평균 평점\n",
    "</pre>"
   ]
  },
  {
   "cell_type": "code",
   "execution_count": 4,
   "metadata": {},
   "outputs": [
    {
     "data": {
      "text/html": [
       "<div>\n",
       "<style scoped>\n",
       "    .dataframe tbody tr th:only-of-type {\n",
       "        vertical-align: middle;\n",
       "    }\n",
       "\n",
       "    .dataframe tbody tr th {\n",
       "        vertical-align: top;\n",
       "    }\n",
       "\n",
       "    .dataframe thead th {\n",
       "        text-align: right;\n",
       "    }\n",
       "</style>\n",
       "<table border=\"1\" class=\"dataframe\">\n",
       "  <thead>\n",
       "    <tr style=\"text-align: right;\">\n",
       "      <th></th>\n",
       "      <th>title</th>\n",
       "      <th>budget</th>\n",
       "      <th>genres</th>\n",
       "      <th>country</th>\n",
       "      <th>main_charactor</th>\n",
       "      <th>director</th>\n",
       "      <th>vote_average</th>\n",
       "      <th>vote_count</th>\n",
       "    </tr>\n",
       "  </thead>\n",
       "  <tbody>\n",
       "    <tr>\n",
       "      <th>0</th>\n",
       "      <td>{616037: 'Thor: Love and Thunder'}</td>\n",
       "      <td>250000000</td>\n",
       "      <td>[{'id': 28, 'name': 'Action'}, {'id': 12, 'nam...</td>\n",
       "      <td>[{'iso_3166_1': 'US', 'name': 'United States o...</td>\n",
       "      <td>{3894: 'Christian Bale'}</td>\n",
       "      <td>{55934: 'Taika Waititi'}</td>\n",
       "      <td>6.772</td>\n",
       "      <td>1752</td>\n",
       "    </tr>\n",
       "  </tbody>\n",
       "</table>\n",
       "</div>"
      ],
      "text/plain": [
       "                                title     budget  \\\n",
       "0  {616037: 'Thor: Love and Thunder'}  250000000   \n",
       "\n",
       "                                              genres  \\\n",
       "0  [{'id': 28, 'name': 'Action'}, {'id': 12, 'nam...   \n",
       "\n",
       "                                             country  \\\n",
       "0  [{'iso_3166_1': 'US', 'name': 'United States o...   \n",
       "\n",
       "             main_charactor                  director  vote_average  \\\n",
       "0  {3894: 'Christian Bale'}  {55934: 'Taika Waititi'}         6.772   \n",
       "\n",
       "   vote_count  \n",
       "0        1752  "
      ]
     },
     "execution_count": 4,
     "metadata": {},
     "output_type": "execute_result"
    }
   ],
   "source": [
    "df = pd.read_csv(\"data/movie_data_final.csv\")\n",
    "df.head(1)  # title : str"
   ]
  },
  {
   "cell_type": "code",
   "execution_count": 5,
   "metadata": {},
   "outputs": [
    {
     "name": "stdout",
     "output_type": "stream",
     "text": [
      "m :  3.927044210526323\n",
      "C :  1494.659298245614\n"
     ]
    }
   ],
   "source": [
    "# m : 투표 횟수의 평균 * 60%\n",
    "# C : 평균 평점 * 60 %\n",
    "m = df.vote_average.mean() * 60 / 100\n",
    "C = df.vote_count.mean() * 60 / 100\n",
    "print(\"m : \", m)\n",
    "print(\"C : \", C)"
   ]
  },
  {
   "cell_type": "code",
   "execution_count": 6,
   "metadata": {},
   "outputs": [
    {
     "data": {
      "text/html": [
       "<div>\n",
       "<style scoped>\n",
       "    .dataframe tbody tr th:only-of-type {\n",
       "        vertical-align: middle;\n",
       "    }\n",
       "\n",
       "    .dataframe tbody tr th {\n",
       "        vertical-align: top;\n",
       "    }\n",
       "\n",
       "    .dataframe thead th {\n",
       "        text-align: right;\n",
       "    }\n",
       "</style>\n",
       "<table border=\"1\" class=\"dataframe\">\n",
       "  <thead>\n",
       "    <tr style=\"text-align: right;\">\n",
       "      <th></th>\n",
       "      <th>title</th>\n",
       "      <th>budget</th>\n",
       "      <th>genres</th>\n",
       "      <th>country</th>\n",
       "      <th>main_charactor</th>\n",
       "      <th>director</th>\n",
       "      <th>vote_average</th>\n",
       "      <th>vote_count</th>\n",
       "      <th>result</th>\n",
       "    </tr>\n",
       "  </thead>\n",
       "  <tbody>\n",
       "    <tr>\n",
       "      <th>0</th>\n",
       "      <td>{616037: 'Thor: Love and Thunder'}</td>\n",
       "      <td>250000000</td>\n",
       "      <td>[{'id': 28, 'name': 'Action'}, {'id': 12, 'nam...</td>\n",
       "      <td>[{'iso_3166_1': 'US', 'name': 'United States o...</td>\n",
       "      <td>{3894: 'Christian Bale'}</td>\n",
       "      <td>{55934: 'Taika Waititi'}</td>\n",
       "      <td>6.772</td>\n",
       "      <td>1752</td>\n",
       "      <td>10.099587</td>\n",
       "    </tr>\n",
       "  </tbody>\n",
       "</table>\n",
       "</div>"
      ],
      "text/plain": [
       "                                title     budget  \\\n",
       "0  {616037: 'Thor: Love and Thunder'}  250000000   \n",
       "\n",
       "                                              genres  \\\n",
       "0  [{'id': 28, 'name': 'Action'}, {'id': 12, 'nam...   \n",
       "\n",
       "                                             country  \\\n",
       "0  [{'iso_3166_1': 'US', 'name': 'United States o...   \n",
       "\n",
       "             main_charactor                  director  vote_average  \\\n",
       "0  {3894: 'Christian Bale'}  {55934: 'Taika Waititi'}         6.772   \n",
       "\n",
       "   vote_count     result  \n",
       "0        1752  10.099587  "
      ]
     },
     "execution_count": 6,
     "metadata": {},
     "output_type": "execute_result"
    }
   ],
   "source": [
    "v = df.vote_count\n",
    "R = df.vote_average\n",
    "df['result'] = (v/(v+m))*R + (m/(v+m))*C\n",
    "df.head(1)"
   ]
  },
  {
   "cell_type": "code",
   "execution_count": 7,
   "metadata": {},
   "outputs": [],
   "source": [
    "import ast #형태가 리스트/딕셔너리인 문자열을 다시 리스트/딕셔너리 형태로 바꿀 수 있다."
   ]
  },
  {
   "cell_type": "code",
   "execution_count": 8,
   "metadata": {},
   "outputs": [
    {
     "name": "stderr",
     "output_type": "stream",
     "text": [
      "C:\\Users\\ezen\\AppData\\Local\\Temp\\ipykernel_10000\\1274597262.py:14: VisibleDeprecationWarning: Creating an ndarray from ragged nested sequences (which is a list-or-tuple of lists-or-tuples-or ndarrays with different lengths or shapes) is deprecated. If you meant to do this, you must specify 'dtype=object' when creating the ndarray.\n",
      "  df_arr = np.array(df_list)\n"
     ]
    }
   ],
   "source": [
    "# title: 이름, id/ genres: to_categorical/ country: to_categorical/ charactor: 이름, id/ director: 이름, id/ result 0 or 1\n",
    "# numpy 배열 (5302,)\n",
    "df_list = []\n",
    "title, budget, genres, country, charactor, director, result = [], [], [], [], [], [], []\n",
    "for idx in df.index:\n",
    "    title.append([ast.literal_eval(df.title[idx])])\n",
    "    budget.append([int(df.budget[idx])])\n",
    "    genres.append(ast.literal_eval(df.genres[idx]))\n",
    "    country.append(ast.literal_eval(df.country[idx]))\n",
    "    charactor.append([ast.literal_eval(df.main_charactor[idx])])\n",
    "    director.append([ast.literal_eval(df.director[idx])])\n",
    "    result.append([1 if df.vote_average[idx] >= 0.5 else 0])\n",
    "df_list.append([title, budget, genres, country, charactor, director, result])\n",
    "df_arr = np.array(df_list)"
   ]
  },
  {
   "cell_type": "code",
   "execution_count": 9,
   "metadata": {},
   "outputs": [],
   "source": [
    "# for title, charactor, director\n",
    "class SeperateID_Name:\n",
    "    def __init__(self, column):\n",
    "        self.id = []\n",
    "        self.name = []\n",
    "        self.column = column\n",
    "\n",
    "    def print(self):\n",
    "        for col in self.column:\n",
    "            for key, value in col[0].items():\n",
    "                self.id.append(int(key))\n",
    "                self.name.append(str(value))\n",
    "        return self.id, self.name"
   ]
  },
  {
   "cell_type": "code",
   "execution_count": 10,
   "metadata": {},
   "outputs": [],
   "source": [
    "# title : dictionary about title_ID & title_Name\n",
    "sep_title = SeperateID_Name(title)\n",
    "title_ID, title_Name = sep_title.print()\n",
    "# charactor : dictionary about char_ID & char_Name\n",
    "sep_charactor = SeperateID_Name(charactor)\n",
    "char_ID, char_Name = sep_charactor.print()\n",
    "# director : dictionary about dir_ID & dir_Name\n",
    "sep_director = SeperateID_Name(director)\n",
    "dir_ID, dir_Name = sep_director.print()"
   ]
  },
  {
   "cell_type": "code",
   "execution_count": 11,
   "metadata": {},
   "outputs": [],
   "source": [
    "# country dictionry name to id 만들기\n",
    "country_data = []\n",
    "for cs in country:\n",
    "    for c in cs:\n",
    "        country_data.append(c['name'])\n",
    "country_dict = {}\n",
    "i = 0\n",
    "for l in country_data:\n",
    "    try:\n",
    "        country_dict[l]  # 찾으면 패스 못찾으면 선언 및 아이디 부여\n",
    "    except:\n",
    "        country_dict[l] = i\n",
    "        i += 1"
   ]
  },
  {
   "cell_type": "code",
   "execution_count": 12,
   "metadata": {},
   "outputs": [],
   "source": [
    "# for genres, country\n",
    "class SeperateID_Name_list:\n",
    "    def __init__(self, column):\n",
    "        self.ids, self.id = [], []\n",
    "        self.names, self.name = [], []\n",
    "        self.column = column\n",
    "\n",
    "    def print(self):\n",
    "        for cols in self.column:\n",
    "            for col in cols:\n",
    "                self.id.append(list(col.values())[0])\n",
    "                self.name.append(list(col.values())[1])\n",
    "            self.ids.append(self.id)\n",
    "            self.names.append(self.name)\n",
    "            self.id = []\n",
    "            self.name = []\n",
    "        return self.ids, self.names"
   ]
  },
  {
   "cell_type": "code",
   "execution_count": 13,
   "metadata": {},
   "outputs": [],
   "source": [
    "# genres\n",
    "sep_genres = SeperateID_Name_list(genres)\n",
    "genre_ID, genre_Name = sep_genres.print()\n",
    "# country\n",
    "sep_country = SeperateID_Name_list(country)\n",
    "country_ID, country_Name = sep_country.print()"
   ]
  },
  {
   "cell_type": "code",
   "execution_count": 14,
   "metadata": {},
   "outputs": [],
   "source": [
    "# country_ID id 저장\n",
    "country_I = []\n",
    "country_ID = []\n",
    "for names in country_Name:\n",
    "    for name in names:\n",
    "        country_I.append(country_dict[name])\n",
    "    country_ID.append(country_I)\n",
    "    country_I = []"
   ]
  },
  {
   "cell_type": "markdown",
   "metadata": {},
   "source": [
    "- Id로 이루어진 데이터프레임(머신러닝용)"
   ]
  },
  {
   "cell_type": "code",
   "execution_count": 15,
   "metadata": {},
   "outputs": [
    {
     "data": {
      "text/html": [
       "<div>\n",
       "<style scoped>\n",
       "    .dataframe tbody tr th:only-of-type {\n",
       "        vertical-align: middle;\n",
       "    }\n",
       "\n",
       "    .dataframe tbody tr th {\n",
       "        vertical-align: top;\n",
       "    }\n",
       "\n",
       "    .dataframe thead th {\n",
       "        text-align: right;\n",
       "    }\n",
       "</style>\n",
       "<table border=\"1\" class=\"dataframe\">\n",
       "  <thead>\n",
       "    <tr style=\"text-align: right;\">\n",
       "      <th></th>\n",
       "      <th>title</th>\n",
       "      <th>budget</th>\n",
       "      <th>genres</th>\n",
       "      <th>country</th>\n",
       "      <th>main_charactor</th>\n",
       "      <th>director</th>\n",
       "      <th>vote_average</th>\n",
       "      <th>vote_count</th>\n",
       "      <th>result</th>\n",
       "    </tr>\n",
       "  </thead>\n",
       "  <tbody>\n",
       "    <tr>\n",
       "      <th>0</th>\n",
       "      <td>{616037: 'Thor: Love and Thunder'}</td>\n",
       "      <td>250000000</td>\n",
       "      <td>[{'id': 28, 'name': 'Action'}, {'id': 12, 'nam...</td>\n",
       "      <td>[{'iso_3166_1': 'US', 'name': 'United States o...</td>\n",
       "      <td>{3894: 'Christian Bale'}</td>\n",
       "      <td>{55934: 'Taika Waititi'}</td>\n",
       "      <td>6.772</td>\n",
       "      <td>1752</td>\n",
       "      <td>10.099587</td>\n",
       "    </tr>\n",
       "  </tbody>\n",
       "</table>\n",
       "</div>"
      ],
      "text/plain": [
       "                                title     budget  \\\n",
       "0  {616037: 'Thor: Love and Thunder'}  250000000   \n",
       "\n",
       "                                              genres  \\\n",
       "0  [{'id': 28, 'name': 'Action'}, {'id': 12, 'nam...   \n",
       "\n",
       "                                             country  \\\n",
       "0  [{'iso_3166_1': 'US', 'name': 'United States o...   \n",
       "\n",
       "             main_charactor                  director  vote_average  \\\n",
       "0  {3894: 'Christian Bale'}  {55934: 'Taika Waititi'}         6.772   \n",
       "\n",
       "   vote_count     result  \n",
       "0        1752  10.099587  "
      ]
     },
     "execution_count": 15,
     "metadata": {},
     "output_type": "execute_result"
    }
   ],
   "source": [
    "df.head(1)"
   ]
  },
  {
   "cell_type": "code",
   "execution_count": 46,
   "metadata": {},
   "outputs": [],
   "source": [
    "# title\tbudget\tgenres\tcountry\tmain_charactor\tdirector\tvote_average\tvote_count\tresult\n",
    "df_ID = pd.DataFrame({'title': title_ID, 'budget':df.budget, 'genres':genre_ID, 'country':country_ID, 'charactor': char_ID, 'director':dir_ID, 'vote_score':df.vote_average, 'vote_count':df.vote_count,\n",
    "'vote_weight':df.result})"
   ]
  },
  {
   "cell_type": "code",
   "execution_count": 47,
   "metadata": {},
   "outputs": [
    {
     "data": {
      "text/html": [
       "<div>\n",
       "<style scoped>\n",
       "    .dataframe tbody tr th:only-of-type {\n",
       "        vertical-align: middle;\n",
       "    }\n",
       "\n",
       "    .dataframe tbody tr th {\n",
       "        vertical-align: top;\n",
       "    }\n",
       "\n",
       "    .dataframe thead th {\n",
       "        text-align: right;\n",
       "    }\n",
       "</style>\n",
       "<table border=\"1\" class=\"dataframe\">\n",
       "  <thead>\n",
       "    <tr style=\"text-align: right;\">\n",
       "      <th></th>\n",
       "      <th>title</th>\n",
       "      <th>budget</th>\n",
       "      <th>genres</th>\n",
       "      <th>country</th>\n",
       "      <th>charactor</th>\n",
       "      <th>director</th>\n",
       "      <th>vote_score</th>\n",
       "      <th>vote_count</th>\n",
       "      <th>vote_weight</th>\n",
       "    </tr>\n",
       "  </thead>\n",
       "  <tbody>\n",
       "    <tr>\n",
       "      <th>0</th>\n",
       "      <td>616037</td>\n",
       "      <td>250000000</td>\n",
       "      <td>[28, 12, 14]</td>\n",
       "      <td>[0]</td>\n",
       "      <td>3894</td>\n",
       "      <td>55934</td>\n",
       "      <td>6.772</td>\n",
       "      <td>1752</td>\n",
       "      <td>10.099587</td>\n",
       "    </tr>\n",
       "  </tbody>\n",
       "</table>\n",
       "</div>"
      ],
      "text/plain": [
       "    title     budget        genres country  charactor  director  vote_score  \\\n",
       "0  616037  250000000  [28, 12, 14]     [0]       3894     55934       6.772   \n",
       "\n",
       "   vote_count  vote_weight  \n",
       "0        1752    10.099587  "
      ]
     },
     "execution_count": 47,
     "metadata": {},
     "output_type": "execute_result"
    }
   ],
   "source": [
    "df_ID.head(1)"
   ]
  },
  {
   "cell_type": "code",
   "execution_count": 52,
   "metadata": {},
   "outputs": [],
   "source": [
    "df_ID.to_csv('data/movie_data_ID.csv', index=False)"
   ]
  },
  {
   "cell_type": "markdown",
   "metadata": {},
   "source": [
    "- Name으로 이루어진 데이터프레임(분석용)"
   ]
  },
  {
   "cell_type": "code",
   "execution_count": 49,
   "metadata": {},
   "outputs": [],
   "source": [
    "# title\tbudget\tgenres\tcountry\tmain_charactor\tdirector\tvote_average\tvote_count\tresult\n",
    "df_Name = pd.DataFrame({'title': title_Name, 'budget':df.budget, 'genres':genre_Name, 'country':country_Name, 'charactor': char_Name, 'director':dir_Name, 'vote_score':df.vote_average, 'vote_count':df.vote_count,\n",
    "'vote_weight':df.result})"
   ]
  },
  {
   "cell_type": "code",
   "execution_count": 50,
   "metadata": {},
   "outputs": [
    {
     "data": {
      "text/html": [
       "<div>\n",
       "<style scoped>\n",
       "    .dataframe tbody tr th:only-of-type {\n",
       "        vertical-align: middle;\n",
       "    }\n",
       "\n",
       "    .dataframe tbody tr th {\n",
       "        vertical-align: top;\n",
       "    }\n",
       "\n",
       "    .dataframe thead th {\n",
       "        text-align: right;\n",
       "    }\n",
       "</style>\n",
       "<table border=\"1\" class=\"dataframe\">\n",
       "  <thead>\n",
       "    <tr style=\"text-align: right;\">\n",
       "      <th></th>\n",
       "      <th>title</th>\n",
       "      <th>budget</th>\n",
       "      <th>genres</th>\n",
       "      <th>country</th>\n",
       "      <th>charactor</th>\n",
       "      <th>director</th>\n",
       "      <th>vote_score</th>\n",
       "      <th>vote_count</th>\n",
       "      <th>vote_weight</th>\n",
       "    </tr>\n",
       "  </thead>\n",
       "  <tbody>\n",
       "    <tr>\n",
       "      <th>0</th>\n",
       "      <td>Thor: Love and Thunder</td>\n",
       "      <td>250000000</td>\n",
       "      <td>[Action, Adventure, Fantasy]</td>\n",
       "      <td>[United States of America]</td>\n",
       "      <td>Christian Bale</td>\n",
       "      <td>Taika Waititi</td>\n",
       "      <td>6.772</td>\n",
       "      <td>1752</td>\n",
       "      <td>10.099587</td>\n",
       "    </tr>\n",
       "  </tbody>\n",
       "</table>\n",
       "</div>"
      ],
      "text/plain": [
       "                    title     budget                        genres  \\\n",
       "0  Thor: Love and Thunder  250000000  [Action, Adventure, Fantasy]   \n",
       "\n",
       "                      country       charactor       director  vote_score  \\\n",
       "0  [United States of America]  Christian Bale  Taika Waititi       6.772   \n",
       "\n",
       "   vote_count  vote_weight  \n",
       "0        1752    10.099587  "
      ]
     },
     "execution_count": 50,
     "metadata": {},
     "output_type": "execute_result"
    }
   ],
   "source": [
    "df_Name.head(1)"
   ]
  },
  {
   "cell_type": "code",
   "execution_count": 53,
   "metadata": {},
   "outputs": [],
   "source": [
    "df_Name.to_csv('data/movie_data_Name.csv', index=False)"
   ]
  }
 ],
 "metadata": {
  "kernelspec": {
   "display_name": "Python 3.9.12 64-bit",
   "language": "python",
   "name": "python3"
  },
  "language_info": {
   "codemirror_mode": {
    "name": "ipython",
    "version": 3
   },
   "file_extension": ".py",
   "mimetype": "text/x-python",
   "name": "python",
   "nbconvert_exporter": "python",
   "pygments_lexer": "ipython3",
   "version": "3.9.12"
  },
  "orig_nbformat": 4,
  "vscode": {
   "interpreter": {
    "hash": "e4cce46d6be9934fbd27f9ca0432556941ea5bdf741d4f4d64c6cd7f8dfa8fba"
   }
  }
 },
 "nbformat": 4,
 "nbformat_minor": 2
}
