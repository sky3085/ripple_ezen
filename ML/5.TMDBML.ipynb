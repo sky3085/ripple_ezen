{
 "cells": [
  {
   "cell_type": "code",
   "execution_count": 80,
   "metadata": {},
   "outputs": [],
   "source": [
    "import pandas as pd\n",
    "import numpy as np"
   ]
  },
  {
   "cell_type": "code",
   "execution_count": 81,
   "metadata": {},
   "outputs": [],
   "source": [
    "# title budget genres country main_charactor director vote_average vote_count\n",
    "df = pd.concat([pd.read_csv('data/movie_genres_data.csv'), pd.read_csv('data/movie_data_ID.csv')], axis=1)"
   ]
  },
  {
   "cell_type": "code",
   "execution_count": 82,
   "metadata": {},
   "outputs": [],
   "source": [
    "# 로지스틱 회귀 모델(sigmoid) : weight초기화, dropout, ReLU, batch nomalization\n",
    "# 결과 : 흥행성공, 흥행 실패, 전체영화 의 평균 정확도\n",
    "# 1. 데이터셋 준비하기\n",
    "df.drop(['title', 'genres', 'country', 'vote_score', 'vote_count'], axis=1, inplace=True)\n",
    "df.vote_weight = df.vote_weight.apply(lambda x: 1 if x >= 11 else 0)"
   ]
  },
  {
   "cell_type": "code",
   "execution_count": 83,
   "metadata": {},
   "outputs": [],
   "source": [
    "df.budget = df.budget / df.budget.max()\n",
    "df.charactor = df.charactor / df.charactor.max()\n",
    "df.director = df.director / df.director.max()"
   ]
  },
  {
   "cell_type": "code",
   "execution_count": 84,
   "metadata": {},
   "outputs": [],
   "source": [
    "X = np.array(df)"
   ]
  },
  {
   "cell_type": "code",
   "execution_count": 85,
   "metadata": {},
   "outputs": [],
   "source": [
    "# y_train : 흥행했는지(1) 안했는지(0)\n",
    "from sklearn.model_selection import train_test_split\n",
    "y = X[:, 22:]\n",
    "X = X[:, :-1]\n",
    "X_train, X_test, y_train, y_test = train_test_split(X, y, test_size=0.2)\n",
    "X_val = X_test[:513]\n",
    "y_val = y_test[:513]"
   ]
  },
  {
   "cell_type": "code",
   "execution_count": 86,
   "metadata": {},
   "outputs": [
    {
     "name": "stdout",
     "output_type": "stream",
     "text": [
      "(4104, 22)\n",
      "(4104, 1)\n",
      "(513, 22)\n",
      "(513, 1)\n",
      "(1026, 22)\n",
      "(1026, 1)\n"
     ]
    }
   ],
   "source": [
    "print(X_train.shape)\n",
    "print(y_train.shape)\n",
    "print(X_val.shape)\n",
    "print(y_val.shape)\n",
    "print(X_test.shape)\n",
    "print(y_test.shape)"
   ]
  },
  {
   "cell_type": "code",
   "execution_count": 87,
   "metadata": {},
   "outputs": [],
   "source": [
    "import matplotlib.pyplot as plt\n",
    "from tensorflow.keras.models import Sequential\n",
    "from tensorflow.keras.layers import Dense"
   ]
  },
  {
   "cell_type": "code",
   "execution_count": 88,
   "metadata": {},
   "outputs": [],
   "source": [
    "model = Sequential()\n",
    "model.add(Dense(64, activation='relu', input_dim=22))\n",
    "model.add(Dense(128, activation='relu'))\n",
    "model.add(Dense(64, activation='relu'))\n",
    "model.add(Dense(1, activation='sigmoid'))"
   ]
  },
  {
   "cell_type": "code",
   "execution_count": 89,
   "metadata": {},
   "outputs": [],
   "source": [
    "model.compile(loss='mse', optimizer='sgd', metrics=['accuracy'])"
   ]
  },
  {
   "cell_type": "code",
   "execution_count": 90,
   "metadata": {},
   "outputs": [
    {
     "name": "stdout",
     "output_type": "stream",
     "text": [
      "Epoch 1/100\n",
      "129/129 [==============================] - 1s 4ms/step - loss: 0.2532 - accuracy: 0.4793 - val_loss: 0.2547 - val_accuracy: 0.4444\n",
      "Epoch 2/100\n",
      "129/129 [==============================] - 0s 3ms/step - loss: 0.2521 - accuracy: 0.4754 - val_loss: 0.2534 - val_accuracy: 0.4542\n",
      "Epoch 3/100\n",
      "129/129 [==============================] - 0s 3ms/step - loss: 0.2514 - accuracy: 0.4764 - val_loss: 0.2521 - val_accuracy: 0.4503\n",
      "Epoch 4/100\n",
      "129/129 [==============================] - 0s 3ms/step - loss: 0.2506 - accuracy: 0.4773 - val_loss: 0.2512 - val_accuracy: 0.4483\n",
      "Epoch 5/100\n",
      "129/129 [==============================] - 0s 3ms/step - loss: 0.2500 - accuracy: 0.4856 - val_loss: 0.2505 - val_accuracy: 0.4678\n",
      "Epoch 6/100\n",
      "129/129 [==============================] - 0s 3ms/step - loss: 0.2495 - accuracy: 0.5010 - val_loss: 0.2501 - val_accuracy: 0.4815\n",
      "Epoch 7/100\n",
      "129/129 [==============================] - 0s 3ms/step - loss: 0.2490 - accuracy: 0.5266 - val_loss: 0.2497 - val_accuracy: 0.5088\n",
      "Epoch 8/100\n",
      "129/129 [==============================] - 0s 3ms/step - loss: 0.2486 - accuracy: 0.5407 - val_loss: 0.2494 - val_accuracy: 0.5322\n",
      "Epoch 9/100\n",
      "129/129 [==============================] - 0s 3ms/step - loss: 0.2482 - accuracy: 0.5680 - val_loss: 0.2490 - val_accuracy: 0.5458\n",
      "Epoch 10/100\n",
      "129/129 [==============================] - 0s 3ms/step - loss: 0.2478 - accuracy: 0.5719 - val_loss: 0.2488 - val_accuracy: 0.5439\n",
      "Epoch 11/100\n",
      "129/129 [==============================] - 0s 3ms/step - loss: 0.2474 - accuracy: 0.5721 - val_loss: 0.2485 - val_accuracy: 0.5458\n",
      "Epoch 12/100\n",
      "129/129 [==============================] - 0s 3ms/step - loss: 0.2471 - accuracy: 0.5768 - val_loss: 0.2483 - val_accuracy: 0.5380\n",
      "Epoch 13/100\n",
      "129/129 [==============================] - 0s 3ms/step - loss: 0.2467 - accuracy: 0.5721 - val_loss: 0.2482 - val_accuracy: 0.5497\n",
      "Epoch 14/100\n",
      "129/129 [==============================] - 0s 3ms/step - loss: 0.2464 - accuracy: 0.5743 - val_loss: 0.2480 - val_accuracy: 0.5575\n",
      "Epoch 15/100\n",
      "129/129 [==============================] - 0s 3ms/step - loss: 0.2461 - accuracy: 0.5760 - val_loss: 0.2479 - val_accuracy: 0.5595\n",
      "Epoch 16/100\n",
      "129/129 [==============================] - 0s 3ms/step - loss: 0.2457 - accuracy: 0.5738 - val_loss: 0.2474 - val_accuracy: 0.5575\n",
      "Epoch 17/100\n",
      "129/129 [==============================] - 0s 3ms/step - loss: 0.2454 - accuracy: 0.5772 - val_loss: 0.2473 - val_accuracy: 0.5595\n",
      "Epoch 18/100\n",
      "129/129 [==============================] - 0s 3ms/step - loss: 0.2451 - accuracy: 0.5792 - val_loss: 0.2471 - val_accuracy: 0.5614\n",
      "Epoch 19/100\n",
      "129/129 [==============================] - 0s 3ms/step - loss: 0.2448 - accuracy: 0.5789 - val_loss: 0.2470 - val_accuracy: 0.5653\n",
      "Epoch 20/100\n",
      "129/129 [==============================] - 0s 2ms/step - loss: 0.2445 - accuracy: 0.5789 - val_loss: 0.2468 - val_accuracy: 0.5712\n",
      "Epoch 21/100\n",
      "129/129 [==============================] - 0s 2ms/step - loss: 0.2442 - accuracy: 0.5797 - val_loss: 0.2466 - val_accuracy: 0.5789\n",
      "Epoch 22/100\n",
      "129/129 [==============================] - 0s 2ms/step - loss: 0.2439 - accuracy: 0.5826 - val_loss: 0.2464 - val_accuracy: 0.5770\n",
      "Epoch 23/100\n",
      "129/129 [==============================] - 0s 3ms/step - loss: 0.2436 - accuracy: 0.5841 - val_loss: 0.2460 - val_accuracy: 0.5809\n",
      "Epoch 24/100\n",
      "129/129 [==============================] - 0s 2ms/step - loss: 0.2433 - accuracy: 0.5819 - val_loss: 0.2459 - val_accuracy: 0.5750\n",
      "Epoch 25/100\n",
      "129/129 [==============================] - 0s 3ms/step - loss: 0.2429 - accuracy: 0.5831 - val_loss: 0.2458 - val_accuracy: 0.5770\n",
      "Epoch 26/100\n",
      "129/129 [==============================] - 0s 3ms/step - loss: 0.2426 - accuracy: 0.5828 - val_loss: 0.2457 - val_accuracy: 0.5789\n",
      "Epoch 27/100\n",
      "129/129 [==============================] - 0s 3ms/step - loss: 0.2423 - accuracy: 0.5828 - val_loss: 0.2456 - val_accuracy: 0.5750\n",
      "Epoch 28/100\n",
      "129/129 [==============================] - 0s 3ms/step - loss: 0.2420 - accuracy: 0.5828 - val_loss: 0.2455 - val_accuracy: 0.5770\n",
      "Epoch 29/100\n",
      "129/129 [==============================] - 0s 3ms/step - loss: 0.2417 - accuracy: 0.5816 - val_loss: 0.2454 - val_accuracy: 0.5750\n",
      "Epoch 30/100\n",
      "129/129 [==============================] - 0s 3ms/step - loss: 0.2413 - accuracy: 0.5841 - val_loss: 0.2453 - val_accuracy: 0.5731\n",
      "Epoch 31/100\n",
      "129/129 [==============================] - 0s 3ms/step - loss: 0.2410 - accuracy: 0.5814 - val_loss: 0.2452 - val_accuracy: 0.5731\n",
      "Epoch 32/100\n",
      "129/129 [==============================] - 0s 3ms/step - loss: 0.2407 - accuracy: 0.5831 - val_loss: 0.2447 - val_accuracy: 0.5770\n",
      "Epoch 33/100\n",
      "129/129 [==============================] - 0s 3ms/step - loss: 0.2403 - accuracy: 0.5858 - val_loss: 0.2447 - val_accuracy: 0.5750\n",
      "Epoch 34/100\n",
      "129/129 [==============================] - 0s 3ms/step - loss: 0.2400 - accuracy: 0.5863 - val_loss: 0.2444 - val_accuracy: 0.5789\n",
      "Epoch 35/100\n",
      "129/129 [==============================] - 0s 3ms/step - loss: 0.2396 - accuracy: 0.5897 - val_loss: 0.2441 - val_accuracy: 0.5731\n",
      "Epoch 36/100\n",
      "129/129 [==============================] - 0s 3ms/step - loss: 0.2393 - accuracy: 0.5928 - val_loss: 0.2443 - val_accuracy: 0.5770\n",
      "Epoch 37/100\n",
      "129/129 [==============================] - 0s 2ms/step - loss: 0.2389 - accuracy: 0.5865 - val_loss: 0.2440 - val_accuracy: 0.5828\n",
      "Epoch 38/100\n",
      "129/129 [==============================] - 0s 3ms/step - loss: 0.2385 - accuracy: 0.5965 - val_loss: 0.2444 - val_accuracy: 0.5731\n",
      "Epoch 39/100\n",
      "129/129 [==============================] - 0s 3ms/step - loss: 0.2382 - accuracy: 0.5931 - val_loss: 0.2439 - val_accuracy: 0.5809\n",
      "Epoch 40/100\n",
      "129/129 [==============================] - 0s 3ms/step - loss: 0.2378 - accuracy: 0.5975 - val_loss: 0.2435 - val_accuracy: 0.5809\n",
      "Epoch 41/100\n",
      "129/129 [==============================] - 0s 3ms/step - loss: 0.2375 - accuracy: 0.5975 - val_loss: 0.2432 - val_accuracy: 0.5809\n",
      "Epoch 42/100\n",
      "129/129 [==============================] - 0s 3ms/step - loss: 0.2371 - accuracy: 0.5955 - val_loss: 0.2430 - val_accuracy: 0.5789\n",
      "Epoch 43/100\n",
      "129/129 [==============================] - 0s 3ms/step - loss: 0.2367 - accuracy: 0.5999 - val_loss: 0.2426 - val_accuracy: 0.5789\n",
      "Epoch 44/100\n",
      "129/129 [==============================] - 0s 3ms/step - loss: 0.2363 - accuracy: 0.6011 - val_loss: 0.2419 - val_accuracy: 0.5848\n",
      "Epoch 45/100\n",
      "129/129 [==============================] - 0s 3ms/step - loss: 0.2359 - accuracy: 0.5994 - val_loss: 0.2422 - val_accuracy: 0.5887\n",
      "Epoch 46/100\n",
      "129/129 [==============================] - 0s 3ms/step - loss: 0.2355 - accuracy: 0.6011 - val_loss: 0.2424 - val_accuracy: 0.5887\n",
      "Epoch 47/100\n",
      "129/129 [==============================] - 0s 2ms/step - loss: 0.2351 - accuracy: 0.6023 - val_loss: 0.2421 - val_accuracy: 0.5906\n",
      "Epoch 48/100\n",
      "129/129 [==============================] - 0s 3ms/step - loss: 0.2346 - accuracy: 0.6053 - val_loss: 0.2417 - val_accuracy: 0.5887\n",
      "Epoch 49/100\n",
      "129/129 [==============================] - 0s 3ms/step - loss: 0.2342 - accuracy: 0.6040 - val_loss: 0.2410 - val_accuracy: 0.5945\n",
      "Epoch 50/100\n",
      "129/129 [==============================] - 0s 3ms/step - loss: 0.2337 - accuracy: 0.6062 - val_loss: 0.2412 - val_accuracy: 0.5887\n",
      "Epoch 51/100\n",
      "129/129 [==============================] - 0s 3ms/step - loss: 0.2333 - accuracy: 0.6075 - val_loss: 0.2402 - val_accuracy: 0.5984\n",
      "Epoch 52/100\n",
      "129/129 [==============================] - 0s 2ms/step - loss: 0.2328 - accuracy: 0.6106 - val_loss: 0.2400 - val_accuracy: 0.5965\n",
      "Epoch 53/100\n",
      "129/129 [==============================] - 0s 3ms/step - loss: 0.2323 - accuracy: 0.6109 - val_loss: 0.2409 - val_accuracy: 0.5945\n",
      "Epoch 54/100\n",
      "129/129 [==============================] - 0s 3ms/step - loss: 0.2319 - accuracy: 0.6106 - val_loss: 0.2403 - val_accuracy: 0.5965\n",
      "Epoch 55/100\n",
      "129/129 [==============================] - 0s 3ms/step - loss: 0.2313 - accuracy: 0.6118 - val_loss: 0.2391 - val_accuracy: 0.6023\n",
      "Epoch 56/100\n",
      "129/129 [==============================] - 0s 3ms/step - loss: 0.2308 - accuracy: 0.6109 - val_loss: 0.2390 - val_accuracy: 0.6023\n",
      "Epoch 57/100\n",
      "129/129 [==============================] - 0s 3ms/step - loss: 0.2303 - accuracy: 0.6157 - val_loss: 0.2393 - val_accuracy: 0.6023\n",
      "Epoch 58/100\n",
      "129/129 [==============================] - 0s 3ms/step - loss: 0.2298 - accuracy: 0.6135 - val_loss: 0.2393 - val_accuracy: 0.6062\n",
      "Epoch 59/100\n",
      "129/129 [==============================] - 0s 3ms/step - loss: 0.2292 - accuracy: 0.6182 - val_loss: 0.2377 - val_accuracy: 0.6004\n",
      "Epoch 60/100\n",
      "129/129 [==============================] - 0s 3ms/step - loss: 0.2287 - accuracy: 0.6216 - val_loss: 0.2367 - val_accuracy: 0.6004\n",
      "Epoch 61/100\n",
      "129/129 [==============================] - 0s 3ms/step - loss: 0.2281 - accuracy: 0.6194 - val_loss: 0.2366 - val_accuracy: 0.6062\n",
      "Epoch 62/100\n",
      "129/129 [==============================] - 0s 3ms/step - loss: 0.2275 - accuracy: 0.6238 - val_loss: 0.2358 - val_accuracy: 0.6043\n",
      "Epoch 63/100\n",
      "129/129 [==============================] - 0s 3ms/step - loss: 0.2269 - accuracy: 0.6257 - val_loss: 0.2362 - val_accuracy: 0.6062\n",
      "Epoch 64/100\n",
      "129/129 [==============================] - 0s 3ms/step - loss: 0.2263 - accuracy: 0.6262 - val_loss: 0.2356 - val_accuracy: 0.6082\n",
      "Epoch 65/100\n",
      "129/129 [==============================] - 0s 3ms/step - loss: 0.2256 - accuracy: 0.6277 - val_loss: 0.2349 - val_accuracy: 0.6101\n",
      "Epoch 66/100\n",
      "129/129 [==============================] - 0s 3ms/step - loss: 0.2250 - accuracy: 0.6311 - val_loss: 0.2349 - val_accuracy: 0.6160\n",
      "Epoch 67/100\n",
      "129/129 [==============================] - 0s 3ms/step - loss: 0.2244 - accuracy: 0.6355 - val_loss: 0.2335 - val_accuracy: 0.6199\n",
      "Epoch 68/100\n",
      "129/129 [==============================] - 0s 3ms/step - loss: 0.2237 - accuracy: 0.6347 - val_loss: 0.2330 - val_accuracy: 0.6218\n",
      "Epoch 69/100\n",
      "129/129 [==============================] - 0s 3ms/step - loss: 0.2231 - accuracy: 0.6408 - val_loss: 0.2316 - val_accuracy: 0.6257\n",
      "Epoch 70/100\n",
      "129/129 [==============================] - 0s 2ms/step - loss: 0.2224 - accuracy: 0.6396 - val_loss: 0.2326 - val_accuracy: 0.6257\n",
      "Epoch 71/100\n",
      "129/129 [==============================] - 0s 3ms/step - loss: 0.2218 - accuracy: 0.6438 - val_loss: 0.2309 - val_accuracy: 0.6335\n",
      "Epoch 72/100\n",
      "129/129 [==============================] - 0s 3ms/step - loss: 0.2211 - accuracy: 0.6462 - val_loss: 0.2317 - val_accuracy: 0.6277\n",
      "Epoch 73/100\n",
      "129/129 [==============================] - 0s 2ms/step - loss: 0.2204 - accuracy: 0.6455 - val_loss: 0.2323 - val_accuracy: 0.6160\n",
      "Epoch 74/100\n",
      "129/129 [==============================] - 0s 2ms/step - loss: 0.2197 - accuracy: 0.6499 - val_loss: 0.2313 - val_accuracy: 0.6238\n",
      "Epoch 75/100\n",
      "129/129 [==============================] - 0s 3ms/step - loss: 0.2190 - accuracy: 0.6525 - val_loss: 0.2284 - val_accuracy: 0.6335\n",
      "Epoch 76/100\n",
      "129/129 [==============================] - 0s 3ms/step - loss: 0.2183 - accuracy: 0.6562 - val_loss: 0.2294 - val_accuracy: 0.6277\n",
      "Epoch 77/100\n",
      "129/129 [==============================] - 0s 3ms/step - loss: 0.2175 - accuracy: 0.6581 - val_loss: 0.2287 - val_accuracy: 0.6257\n",
      "Epoch 78/100\n",
      "129/129 [==============================] - 0s 3ms/step - loss: 0.2169 - accuracy: 0.6579 - val_loss: 0.2267 - val_accuracy: 0.6277\n",
      "Epoch 79/100\n",
      "129/129 [==============================] - 0s 3ms/step - loss: 0.2161 - accuracy: 0.6584 - val_loss: 0.2255 - val_accuracy: 0.6413\n",
      "Epoch 80/100\n",
      "129/129 [==============================] - 0s 3ms/step - loss: 0.2154 - accuracy: 0.6567 - val_loss: 0.2273 - val_accuracy: 0.6257\n",
      "Epoch 81/100\n",
      "129/129 [==============================] - 0s 2ms/step - loss: 0.2147 - accuracy: 0.6598 - val_loss: 0.2250 - val_accuracy: 0.6296\n",
      "Epoch 82/100\n",
      "129/129 [==============================] - 0s 3ms/step - loss: 0.2140 - accuracy: 0.6598 - val_loss: 0.2259 - val_accuracy: 0.6296\n",
      "Epoch 83/100\n",
      "129/129 [==============================] - 0s 3ms/step - loss: 0.2131 - accuracy: 0.6601 - val_loss: 0.2263 - val_accuracy: 0.6238\n",
      "Epoch 84/100\n",
      "129/129 [==============================] - 0s 3ms/step - loss: 0.2125 - accuracy: 0.6625 - val_loss: 0.2265 - val_accuracy: 0.6179\n",
      "Epoch 85/100\n",
      "129/129 [==============================] - 0s 3ms/step - loss: 0.2118 - accuracy: 0.6625 - val_loss: 0.2235 - val_accuracy: 0.6238\n",
      "Epoch 86/100\n",
      "129/129 [==============================] - 0s 2ms/step - loss: 0.2110 - accuracy: 0.6672 - val_loss: 0.2228 - val_accuracy: 0.6218\n",
      "Epoch 87/100\n",
      "129/129 [==============================] - 0s 3ms/step - loss: 0.2102 - accuracy: 0.6698 - val_loss: 0.2206 - val_accuracy: 0.6316\n",
      "Epoch 88/100\n",
      "129/129 [==============================] - 0s 3ms/step - loss: 0.2096 - accuracy: 0.6703 - val_loss: 0.2213 - val_accuracy: 0.6199\n",
      "Epoch 89/100\n",
      "129/129 [==============================] - 0s 3ms/step - loss: 0.2088 - accuracy: 0.6669 - val_loss: 0.2192 - val_accuracy: 0.6355\n",
      "Epoch 90/100\n",
      "129/129 [==============================] - 0s 3ms/step - loss: 0.2082 - accuracy: 0.6698 - val_loss: 0.2188 - val_accuracy: 0.6374\n",
      "Epoch 91/100\n",
      "129/129 [==============================] - 0s 3ms/step - loss: 0.2074 - accuracy: 0.6720 - val_loss: 0.2193 - val_accuracy: 0.6218\n",
      "Epoch 92/100\n",
      "129/129 [==============================] - 0s 2ms/step - loss: 0.2067 - accuracy: 0.6723 - val_loss: 0.2185 - val_accuracy: 0.6277\n",
      "Epoch 93/100\n",
      "129/129 [==============================] - 0s 3ms/step - loss: 0.2060 - accuracy: 0.6767 - val_loss: 0.2188 - val_accuracy: 0.6296\n",
      "Epoch 94/100\n",
      "129/129 [==============================] - 0s 3ms/step - loss: 0.2054 - accuracy: 0.6764 - val_loss: 0.2159 - val_accuracy: 0.6433\n",
      "Epoch 95/100\n",
      "129/129 [==============================] - 0s 3ms/step - loss: 0.2048 - accuracy: 0.6764 - val_loss: 0.2180 - val_accuracy: 0.6335\n",
      "Epoch 96/100\n",
      "129/129 [==============================] - 0s 2ms/step - loss: 0.2040 - accuracy: 0.6791 - val_loss: 0.2142 - val_accuracy: 0.6530\n",
      "Epoch 97/100\n",
      "129/129 [==============================] - 0s 3ms/step - loss: 0.2035 - accuracy: 0.6801 - val_loss: 0.2157 - val_accuracy: 0.6472\n",
      "Epoch 98/100\n",
      "129/129 [==============================] - 0s 3ms/step - loss: 0.2031 - accuracy: 0.6813 - val_loss: 0.2190 - val_accuracy: 0.6394\n",
      "Epoch 99/100\n",
      "129/129 [==============================] - 0s 3ms/step - loss: 0.2024 - accuracy: 0.6849 - val_loss: 0.2170 - val_accuracy: 0.6374\n",
      "Epoch 100/100\n",
      "129/129 [==============================] - 0s 3ms/step - loss: 0.2019 - accuracy: 0.6845 - val_loss: 0.2151 - val_accuracy: 0.6511\n"
     ]
    }
   ],
   "source": [
    "hist = model.fit(X_train, y_train, epochs=100, batch_size=32,\n",
    "                validation_data=(X_val, y_val))"
   ]
  },
  {
   "cell_type": "code",
   "execution_count": 91,
   "metadata": {},
   "outputs": [
    {
     "name": "stdout",
     "output_type": "stream",
     "text": [
      "33/33 [==============================] - 0s 2ms/step - loss: 0.2047 - accuracy: 0.6784\n",
      "손실 : 0.2046906054019928\n",
      "정확도 : 67.83625483512878 %\n",
      "--------------------\n"
     ]
    }
   ],
   "source": [
    "loss_and_metrics = model.evaluate(X_test, y_test, batch_size=32)\n",
    "print('손실 :', loss_and_metrics[0])\n",
    "print('정확도 :', loss_and_metrics[1] * 100, '%')\n",
    "print(\"-\" * 20)"
   ]
  },
  {
   "cell_type": "code",
   "execution_count": 94,
   "metadata": {},
   "outputs": [],
   "source": [
    "import matplotlib as mpl\n",
    "mpl.rcParams['axes.unicode_minus'] = False\n",
    "mpl.rcParams['font.family'] = 'Malgun Gothic'\n",
    "plt.rcParams.update({'text.color': \"black\",\n",
    "                    'axes.labelcolor': \"white\",\n",
    "                     'xtick.color': \"white\",\n",
    "                     'ytick.color': \"white\"\n",
    "                     })"
   ]
  },
  {
   "cell_type": "code",
   "execution_count": 95,
   "metadata": {},
   "outputs": [
    {
     "data": {
      "image/png": "[encoded data removed]",
      "text/plain": [
       "<Figure size 432x288 with 2 Axes>"
      ]
     },
     "metadata": {
      "needs_background": "dark"
     },
     "output_type": "display_data"
    }
   ],
   "source": [
    "fig, loss_ax = plt.subplots()\n",
    "acc_ax = loss_ax.twinx()\n",
    "\n",
    "loss_ax.plot(hist.history['loss'], 'y', label='train loss')\n",
    "loss_ax.plot(hist.history['val_loss'], 'g', label='val loss')\n",
    "\n",
    "acc_ax.plot(hist.history['accuracy'], 'b', label='train acc')\n",
    "acc_ax.plot(hist.history['val_accuracy'], 'r', label='val acc')\n",
    "\n",
    "loss_ax.set_xlabel('epoch')\n",
    "\n",
    "loss_ax.set_ylabel('loss')\n",
    "acc_ax.set_ylabel('accuracy')\n",
    "\n",
    "loss_ax.legend(loc='upper left')\n",
    "acc_ax.legend(loc='lower left')\n",
    "\n",
    "plt.show()"
   ]
  },
  {
   "cell_type": "code",
   "execution_count": 96,
   "metadata": {},
   "outputs": [
    {
     "name": "stdout",
     "output_type": "stream",
     "text": [
      "33/33 [==============================] - 0s 2ms/step\n",
      "1 1 0 0 1 1 1 0 0 1 \n",
      "1 0 0 0 0 0 1 1 0 0 "
     ]
    }
   ],
   "source": [
    "yhat = model.predict(X_test)\n",
    "for i in range(10):\n",
    "    print(1 if yhat[i] > 0.5 else 0, end=\" \")\n",
    "print()\n",
    "for i in y_test[:10]:\n",
    "    print(int(*i), end=\" \")"
   ]
  },
  {
   "cell_type": "code",
   "execution_count": null,
   "metadata": {},
   "outputs": [],
   "source": []
  }
 ],
 "metadata": {
  "kernelspec": {
   "display_name": "Python 3.9.12 ('base')",
   "language": "python",
   "name": "python3"
  },
  "language_info": {
   "codemirror_mode": {
    "name": "ipython",
    "version": 3
   },
   "file_extension": ".py",
   "mimetype": "text/x-python",
   "name": "python",
   "nbconvert_exporter": "python",
   "pygments_lexer": "ipython3",
   "version": "3.9.12"
  },
  "orig_nbformat": 4,
  "vscode": {
   "interpreter": {
    "hash": "68b27da7ddeb61625eb32b27b233f0587b7aa507dfa408f4f61141179036d5a9"
   }
  }
 },
 "nbformat": 4,
 "nbformat_minor": 2
}
