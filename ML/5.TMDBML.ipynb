{
 "cells": [
  {
   "cell_type": "code",
   "execution_count": 14,
   "metadata": {},
   "outputs": [],
   "source": [
    "import pandas as pd\n",
    "import numpy as np"
   ]
  },
  {
   "cell_type": "code",
   "execution_count": 15,
   "metadata": {},
   "outputs": [],
   "source": [
    "# title budget genres country main_charactor director vote_average vote_count\n",
    "df = pd.concat([pd.read_csv('data/movie_genres_data.csv'), pd.read_csv('data/movie_data_ID.csv')], axis=1)"
   ]
  },
  {
   "cell_type": "code",
   "execution_count": 16,
   "metadata": {},
   "outputs": [],
   "source": [
    "# heatmap의 상관관계 있는 장르만 사용해보자\n",
    "# 액션, 모험, 판타지 sf, 드라마 공포, 스릴러, 미스터리, 로맨스\n",
    "df = df.drop(['가족','애니메이션','코미디', '음악', '역사','TV 영화','전쟁','다큐멘터리','서부', '범죄'], axis=1)"
   ]
  },
  {
   "cell_type": "code",
   "execution_count": 17,
   "metadata": {},
   "outputs": [],
   "source": [
    "# 로지스틱 회귀 모델(sigmoid) : weight초기화, dropout, ReLU, batch nomalization\n",
    "# 결과 : 흥행성공, 흥행 실패, 전체영화 의 평균 정확도\n",
    "# 1. 데이터셋 준비하기\n",
    "df.drop(['genres', 'country', 'vote_score', 'vote_count'], axis=1, inplace=True)\n",
    "df.vote_weight = df.vote_weight.apply(lambda x: 1 if x >= 11 else 0)"
   ]
  },
  {
   "cell_type": "code",
   "execution_count": 18,
   "metadata": {},
   "outputs": [],
   "source": [
    "df.budget = df.budget / df.budget.max()\n",
    "df.charactor = df.charactor / df.charactor.max()\n",
    "df.director = df.director / df.director.max()"
   ]
  },
  {
   "cell_type": "code",
   "execution_count": 19,
   "metadata": {},
   "outputs": [],
   "source": [
    "df.to_csv('data/movie_data_ML_op.csv', index=False)"
   ]
  },
  {
   "cell_type": "code",
   "execution_count": 20,
   "metadata": {},
   "outputs": [],
   "source": [
    "df.drop(['title'], axis=1, inplace=True)"
   ]
  },
  {
   "cell_type": "code",
   "execution_count": 21,
   "metadata": {},
   "outputs": [
    {
     "data": {
      "text/html": [
       "<div>\n",
       "<style scoped>\n",
       "    .dataframe tbody tr th:only-of-type {\n",
       "        vertical-align: middle;\n",
       "    }\n",
       "\n",
       "    .dataframe tbody tr th {\n",
       "        vertical-align: top;\n",
       "    }\n",
       "\n",
       "    .dataframe thead th {\n",
       "        text-align: right;\n",
       "    }\n",
       "</style>\n",
       "<table border=\"1\" class=\"dataframe\">\n",
       "  <thead>\n",
       "    <tr style=\"text-align: right;\">\n",
       "      <th></th>\n",
       "      <th>액션</th>\n",
       "      <th>모헌</th>\n",
       "      <th>판타지</th>\n",
       "      <th>SF</th>\n",
       "      <th>드라마</th>\n",
       "      <th>공포</th>\n",
       "      <th>스릴러</th>\n",
       "      <th>미스터리</th>\n",
       "      <th>로맨스</th>\n",
       "      <th>budget</th>\n",
       "      <th>charactor</th>\n",
       "      <th>director</th>\n",
       "      <th>vote_weight</th>\n",
       "    </tr>\n",
       "  </thead>\n",
       "  <tbody>\n",
       "    <tr>\n",
       "      <th>0</th>\n",
       "      <td>1</td>\n",
       "      <td>0</td>\n",
       "      <td>1</td>\n",
       "      <td>0</td>\n",
       "      <td>0</td>\n",
       "      <td>0</td>\n",
       "      <td>0</td>\n",
       "      <td>0</td>\n",
       "      <td>0</td>\n",
       "      <td>0.657895</td>\n",
       "      <td>0.001068</td>\n",
       "      <td>0.015337</td>\n",
       "      <td>0</td>\n",
       "    </tr>\n",
       "  </tbody>\n",
       "</table>\n",
       "</div>"
      ],
      "text/plain": [
       "   액션  모헌  판타지  SF  드라마  공포  스릴러  미스터리  로맨스    budget  charactor  director  \\\n",
       "0   1   0    1   0    0   0    0     0    0  0.657895   0.001068  0.015337   \n",
       "\n",
       "   vote_weight  \n",
       "0            0  "
      ]
     },
     "execution_count": 21,
     "metadata": {},
     "output_type": "execute_result"
    }
   ],
   "source": [
    "df.head(1)"
   ]
  },
  {
   "cell_type": "code",
   "execution_count": 22,
   "metadata": {},
   "outputs": [],
   "source": [
    "X = np.array(df)"
   ]
  },
  {
   "cell_type": "code",
   "execution_count": 23,
   "metadata": {},
   "outputs": [],
   "source": [
    "# y_train : 흥행했는지(1) 안했는지(0)\n",
    "from sklearn.model_selection import train_test_split\n",
    "y = X[:, 12:]\n",
    "X = X[:, :-1]\n",
    "X_train, X_test, y_train, y_test = train_test_split(X, y, test_size=0.2)\n",
    "X_val = X_test[:513]\n",
    "y_val = y_test[:513]"
   ]
  },
  {
   "cell_type": "code",
   "execution_count": 24,
   "metadata": {},
   "outputs": [
    {
     "name": "stdout",
     "output_type": "stream",
     "text": [
      "(4102, 12)\n",
      "(4102, 1)\n",
      "(513, 12)\n",
      "(513, 1)\n",
      "(1026, 12)\n",
      "(1026, 1)\n"
     ]
    }
   ],
   "source": [
    "print(X_train.shape)\n",
    "print(y_train.shape)\n",
    "print(X_val.shape)\n",
    "print(y_val.shape)\n",
    "print(X_test.shape)\n",
    "print(y_test.shape)"
   ]
  },
  {
   "cell_type": "markdown",
   "metadata": {},
   "source": [
    "- 모델 구성 및 분석"
   ]
  },
  {
   "cell_type": "code",
   "execution_count": 25,
   "metadata": {},
   "outputs": [],
   "source": [
    "import matplotlib.pyplot as plt\n",
    "from tensorflow.keras.models import Sequential\n",
    "from tensorflow.keras.layers import Dense\n",
    "import matplotlib as mpl\n",
    "mpl.rcParams['axes.unicode_minus'] = False\n",
    "mpl.rcParams['font.family'] = 'Malgun Gothic'\n",
    "plt.rcParams.update({'text.color': \"black\",\n",
    "                    'axes.labelcolor': \"white\",\n",
    "                     'xtick.color': \"white\",\n",
    "                     'ytick.color': \"white\"\n",
    "                     })"
   ]
  },
  {
   "cell_type": "code",
   "execution_count": 32,
   "metadata": {},
   "outputs": [
    {
     "name": "stdout",
     "output_type": "stream",
     "text": [
      "Epoch 1/50\n",
      "129/129 [==============================] - 1s 4ms/step - loss: 0.6822 - accuracy: 0.5683 - val_loss: 0.6792 - val_accuracy: 0.5750\n",
      "Epoch 2/50\n",
      "129/129 [==============================] - 0s 3ms/step - loss: 0.6617 - accuracy: 0.6163 - val_loss: 0.6648 - val_accuracy: 0.5984\n",
      "Epoch 3/50\n",
      "129/129 [==============================] - 0s 3ms/step - loss: 0.6465 - accuracy: 0.6429 - val_loss: 0.6522 - val_accuracy: 0.6316\n",
      "Epoch 4/50\n",
      "129/129 [==============================] - 0s 3ms/step - loss: 0.6322 - accuracy: 0.6541 - val_loss: 0.6359 - val_accuracy: 0.6472\n",
      "Epoch 5/50\n",
      "129/129 [==============================] - 0s 3ms/step - loss: 0.6185 - accuracy: 0.6607 - val_loss: 0.6212 - val_accuracy: 0.6764\n",
      "Epoch 6/50\n",
      "129/129 [==============================] - 0s 3ms/step - loss: 0.6075 - accuracy: 0.6719 - val_loss: 0.6116 - val_accuracy: 0.6764\n",
      "Epoch 7/50\n",
      "129/129 [==============================] - 0s 3ms/step - loss: 0.5993 - accuracy: 0.6760 - val_loss: 0.6048 - val_accuracy: 0.6608\n",
      "Epoch 8/50\n",
      "129/129 [==============================] - 0s 3ms/step - loss: 0.5925 - accuracy: 0.6860 - val_loss: 0.6003 - val_accuracy: 0.6706\n",
      "Epoch 9/50\n",
      "129/129 [==============================] - 0s 3ms/step - loss: 0.5874 - accuracy: 0.6882 - val_loss: 0.5951 - val_accuracy: 0.6725\n",
      "Epoch 10/50\n",
      "129/129 [==============================] - 0s 3ms/step - loss: 0.5839 - accuracy: 0.6906 - val_loss: 0.5938 - val_accuracy: 0.6842\n",
      "Epoch 11/50\n",
      "129/129 [==============================] - 0s 3ms/step - loss: 0.5818 - accuracy: 0.6931 - val_loss: 0.5922 - val_accuracy: 0.6784\n",
      "Epoch 12/50\n",
      "129/129 [==============================] - 0s 3ms/step - loss: 0.5791 - accuracy: 0.6921 - val_loss: 0.5933 - val_accuracy: 0.6725\n",
      "Epoch 13/50\n",
      "129/129 [==============================] - 0s 3ms/step - loss: 0.5779 - accuracy: 0.6948 - val_loss: 0.5900 - val_accuracy: 0.6901\n",
      "Epoch 14/50\n",
      "129/129 [==============================] - 0s 3ms/step - loss: 0.5766 - accuracy: 0.6945 - val_loss: 0.5901 - val_accuracy: 0.6862\n",
      "Epoch 15/50\n",
      "129/129 [==============================] - 0s 3ms/step - loss: 0.5753 - accuracy: 0.7026 - val_loss: 0.5896 - val_accuracy: 0.6920\n",
      "Epoch 16/50\n",
      "129/129 [==============================] - 0s 3ms/step - loss: 0.5746 - accuracy: 0.6970 - val_loss: 0.5898 - val_accuracy: 0.6881\n",
      "Epoch 17/50\n",
      "129/129 [==============================] - 0s 3ms/step - loss: 0.5738 - accuracy: 0.7014 - val_loss: 0.5920 - val_accuracy: 0.6745\n",
      "Epoch 18/50\n",
      "129/129 [==============================] - 0s 3ms/step - loss: 0.5732 - accuracy: 0.6994 - val_loss: 0.5881 - val_accuracy: 0.6940\n",
      "Epoch 19/50\n",
      "129/129 [==============================] - 0s 3ms/step - loss: 0.5729 - accuracy: 0.6970 - val_loss: 0.5893 - val_accuracy: 0.6881\n",
      "Epoch 20/50\n",
      "129/129 [==============================] - 0s 3ms/step - loss: 0.5721 - accuracy: 0.6994 - val_loss: 0.5890 - val_accuracy: 0.6920\n",
      "Epoch 21/50\n",
      "129/129 [==============================] - 0s 3ms/step - loss: 0.5722 - accuracy: 0.7028 - val_loss: 0.5891 - val_accuracy: 0.6901\n",
      "Epoch 22/50\n",
      "129/129 [==============================] - 0s 3ms/step - loss: 0.5712 - accuracy: 0.6984 - val_loss: 0.5902 - val_accuracy: 0.6823\n",
      "Epoch 23/50\n",
      "129/129 [==============================] - 0s 3ms/step - loss: 0.5714 - accuracy: 0.6992 - val_loss: 0.5874 - val_accuracy: 0.6998\n",
      "Epoch 24/50\n",
      "129/129 [==============================] - 0s 3ms/step - loss: 0.5707 - accuracy: 0.7014 - val_loss: 0.5890 - val_accuracy: 0.7037\n",
      "Epoch 25/50\n",
      "129/129 [==============================] - 0s 2ms/step - loss: 0.5703 - accuracy: 0.7023 - val_loss: 0.5881 - val_accuracy: 0.7018\n",
      "Epoch 26/50\n",
      "129/129 [==============================] - 0s 3ms/step - loss: 0.5701 - accuracy: 0.7019 - val_loss: 0.5872 - val_accuracy: 0.6881\n",
      "Epoch 27/50\n",
      "129/129 [==============================] - 0s 2ms/step - loss: 0.5701 - accuracy: 0.7033 - val_loss: 0.5892 - val_accuracy: 0.6881\n",
      "Epoch 28/50\n",
      "129/129 [==============================] - 0s 2ms/step - loss: 0.5693 - accuracy: 0.7019 - val_loss: 0.5888 - val_accuracy: 0.6881\n",
      "Epoch 29/50\n",
      "129/129 [==============================] - 0s 2ms/step - loss: 0.5683 - accuracy: 0.7060 - val_loss: 0.5927 - val_accuracy: 0.6764\n",
      "Epoch 30/50\n",
      "129/129 [==============================] - 0s 2ms/step - loss: 0.5690 - accuracy: 0.6999 - val_loss: 0.5899 - val_accuracy: 0.6862\n",
      "Epoch 31/50\n",
      "129/129 [==============================] - 0s 2ms/step - loss: 0.5683 - accuracy: 0.7048 - val_loss: 0.5877 - val_accuracy: 0.6862\n",
      "Epoch 32/50\n",
      "129/129 [==============================] - 0s 2ms/step - loss: 0.5678 - accuracy: 0.7087 - val_loss: 0.5895 - val_accuracy: 0.6920\n",
      "Epoch 33/50\n",
      "129/129 [==============================] - 0s 2ms/step - loss: 0.5676 - accuracy: 0.7072 - val_loss: 0.5887 - val_accuracy: 0.6959\n",
      "Epoch 34/50\n",
      "129/129 [==============================] - 0s 2ms/step - loss: 0.5672 - accuracy: 0.7092 - val_loss: 0.5897 - val_accuracy: 0.6881\n",
      "Epoch 35/50\n",
      "129/129 [==============================] - 0s 2ms/step - loss: 0.5672 - accuracy: 0.7062 - val_loss: 0.5919 - val_accuracy: 0.6803\n",
      "Epoch 36/50\n",
      "129/129 [==============================] - 0s 3ms/step - loss: 0.5666 - accuracy: 0.7045 - val_loss: 0.5892 - val_accuracy: 0.6803\n",
      "Epoch 37/50\n",
      "129/129 [==============================] - 0s 2ms/step - loss: 0.5671 - accuracy: 0.7084 - val_loss: 0.5895 - val_accuracy: 0.6784\n",
      "Epoch 38/50\n",
      "129/129 [==============================] - 0s 2ms/step - loss: 0.5661 - accuracy: 0.7101 - val_loss: 0.5870 - val_accuracy: 0.6940\n",
      "Epoch 39/50\n",
      "129/129 [==============================] - 0s 3ms/step - loss: 0.5659 - accuracy: 0.7097 - val_loss: 0.5879 - val_accuracy: 0.6823\n",
      "Epoch 40/50\n",
      "129/129 [==============================] - 0s 2ms/step - loss: 0.5656 - accuracy: 0.7075 - val_loss: 0.5888 - val_accuracy: 0.6823\n",
      "Epoch 41/50\n",
      "129/129 [==============================] - 0s 2ms/step - loss: 0.5655 - accuracy: 0.7043 - val_loss: 0.5880 - val_accuracy: 0.6842\n",
      "Epoch 42/50\n",
      "129/129 [==============================] - 0s 2ms/step - loss: 0.5655 - accuracy: 0.7058 - val_loss: 0.5876 - val_accuracy: 0.6842\n",
      "Epoch 43/50\n",
      "129/129 [==============================] - 0s 3ms/step - loss: 0.5645 - accuracy: 0.7089 - val_loss: 0.5897 - val_accuracy: 0.6803\n",
      "Epoch 44/50\n",
      "129/129 [==============================] - 0s 2ms/step - loss: 0.5646 - accuracy: 0.7075 - val_loss: 0.5883 - val_accuracy: 0.6823\n",
      "Epoch 45/50\n",
      "129/129 [==============================] - 0s 2ms/step - loss: 0.5642 - accuracy: 0.7111 - val_loss: 0.5875 - val_accuracy: 0.6842\n",
      "Epoch 46/50\n",
      "129/129 [==============================] - 0s 3ms/step - loss: 0.5647 - accuracy: 0.7109 - val_loss: 0.5868 - val_accuracy: 0.6862\n",
      "Epoch 47/50\n",
      "129/129 [==============================] - 0s 3ms/step - loss: 0.5636 - accuracy: 0.7087 - val_loss: 0.5874 - val_accuracy: 0.6842\n",
      "Epoch 48/50\n",
      "129/129 [==============================] - 0s 2ms/step - loss: 0.5635 - accuracy: 0.7126 - val_loss: 0.5874 - val_accuracy: 0.6842\n",
      "Epoch 49/50\n",
      "129/129 [==============================] - 0s 3ms/step - loss: 0.5628 - accuracy: 0.7082 - val_loss: 0.5881 - val_accuracy: 0.6842\n",
      "Epoch 50/50\n",
      "129/129 [==============================] - 0s 2ms/step - loss: 0.5628 - accuracy: 0.7097 - val_loss: 0.5869 - val_accuracy: 0.6823\n",
      "33/33 [==============================] - 0s 2ms/step - loss: 0.5794 - accuracy: 0.6842\n",
      "손실 : 0.5793899297714233\n",
      "정확도 : 68.42105388641357 %\n",
      "--------------------\n"
     ]
    },
    {
     "data": {
      "image/png": "[encoded data removed]",
      "text/plain": [
       "<Figure size 432x288 with 2 Axes>"
      ]
     },
     "metadata": {
      "needs_background": "dark"
     },
     "output_type": "display_data"
    }
   ],
   "source": [
    "from tensorflow.keras import regularizers\n",
    "from tensorflow.keras.layers import Dropout\n",
    "model = Sequential()\n",
    "# 1. 과적합 : train acc 85%, test acc 65% => Node수와 Hidden Layer수를 줄여야함\n",
    "#model.add(Dense(64, activation='relu', input_dim=22))\n",
    "#model.add(Dense(128, activation='relu'))\n",
    "#model.add(Dense(64, activation='relu'))\n",
    "\n",
    "# 2. Dense의 한계치 : test acc 68% => 다른 모델을 사용해야함, L2 Regularization : test acc 69%\n",
    "#model.add(Dense(32, activation='relu', input_dim=22))\n",
    "#model.add(Dense(1, activation='sigmoid'))\n",
    "\n",
    "# Dropout 68.5%\n",
    "model.add(Dense(32, activation='relu', input_dim=12))\n",
    "model.add(Dense(1, activation='sigmoid'))\n",
    "\n",
    "model.compile(loss='binary_crossentropy', optimizer='adam', metrics=['accuracy'])\n",
    "\n",
    "hist = model.fit(X_train, y_train, epochs=50, batch_size=32,\n",
    "                 validation_data=(X_val, y_val))\n",
    "\n",
    "loss_and_metrics = model.evaluate(X_test, y_test, batch_size=32)\n",
    "print('손실 :', loss_and_metrics[0])\n",
    "print('정확도 :', loss_and_metrics[1] * 100, '%')\n",
    "print(\"-\" * 20)\n",
    "\n",
    "fig, loss_ax = plt.subplots()\n",
    "acc_ax = loss_ax.twinx()\n",
    "\n",
    "loss_ax.plot(hist.history['loss'], 'y', label='train loss')\n",
    "loss_ax.plot(hist.history['val_loss'], 'g', label='val loss')\n",
    "\n",
    "acc_ax.plot(hist.history['accuracy'], 'b', label='train acc')\n",
    "acc_ax.plot(hist.history['val_accuracy'], 'r', label='val acc')\n",
    "\n",
    "loss_ax.set_xlabel('epoch')\n",
    "\n",
    "loss_ax.set_ylabel('loss')\n",
    "acc_ax.set_ylabel('accuracy')\n",
    "\n",
    "loss_ax.legend(loc='upper left')\n",
    "acc_ax.legend(loc='lower left')\n",
    "\n",
    "plt.show()"
   ]
  },
  {
   "cell_type": "code",
   "execution_count": 28,
   "metadata": {},
   "outputs": [
    {
     "name": "stdout",
     "output_type": "stream",
     "text": [
      "33/33 [==============================] - 0s 2ms/step\n",
      "0 0 0 0 1 0 1 0 0 1 \n",
      "1 0 1 0 1 0 0 0 0 1 "
     ]
    }
   ],
   "source": [
    "yhat = model.predict(X_test)\n",
    "for i in range(10):\n",
    "    print(1 if yhat[i] > 0.5 else 0, end=\" \")\n",
    "print()\n",
    "for i in y_test[:10]:\n",
    "    print(int(*i), end=\" \")"
   ]
  },
  {
   "cell_type": "code",
   "execution_count": 29,
   "metadata": {},
   "outputs": [],
   "source": [
    "model.save('model/Dense_Dropout.h5')"
   ]
  },
  {
   "cell_type": "code",
   "execution_count": 30,
   "metadata": {},
   "outputs": [],
   "source": [
    "# tensorflow.js 용\n",
    "import tensorflowjs as tfjs\n",
    "tfjs.converters.save_keras_model(model, 'model/Dense_Dropout_js')"
   ]
  },
  {
   "cell_type": "code",
   "execution_count": null,
   "metadata": {},
   "outputs": [],
   "source": []
  }
 ],
 "metadata": {
  "kernelspec": {
   "display_name": "Python 3.9.12 ('base')",
   "language": "python",
   "name": "python3"
  },
  "language_info": {
   "codemirror_mode": {
    "name": "ipython",
    "version": 3
   },
   "file_extension": ".py",
   "mimetype": "text/x-python",
   "name": "python",
   "nbconvert_exporter": "python",
   "pygments_lexer": "ipython3",
   "version": "3.9.12"
  },
  "orig_nbformat": 4,
  "vscode": {
   "interpreter": {
    "hash": "68b27da7ddeb61625eb32b27b233f0587b7aa507dfa408f4f61141179036d5a9"
   }
  }
 },
 "nbformat": 4,
 "nbformat_minor": 2
}
