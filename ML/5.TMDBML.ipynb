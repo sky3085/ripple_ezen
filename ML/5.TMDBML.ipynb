{
 "cells": [
  {
   "cell_type": "code",
   "execution_count": 1,
   "metadata": {},
   "outputs": [],
   "source": [
    "import pandas as pd\n",
    "import numpy as np"
   ]
  },
  {
   "cell_type": "code",
   "execution_count": 2,
   "metadata": {},
   "outputs": [],
   "source": [
    "# title budget genres country main_charactor director vote_average vote_count\n",
    "df = pd.concat([pd.read_csv('data/movie_genres_data.csv'), pd.read_csv('data/movie_data_ID.csv')], axis=1)"
   ]
  },
  {
   "cell_type": "code",
   "execution_count": 3,
   "metadata": {},
   "outputs": [],
   "source": [
    "# 로지스틱 회귀 모델(sigmoid) : weight초기화, dropout, ReLU, batch nomalization\n",
    "# 결과 : 흥행성공, 흥행 실패, 전체영화 의 평균 정확도\n",
    "# 1. 데이터셋 준비하기\n",
    "df.drop(['title', 'genres', 'country', 'vote_score', 'vote_count'], axis=1, inplace=True)\n",
    "df.vote_weight = df.vote_weight.apply(lambda x: 1 if x >= 11 else 0)"
   ]
  },
  {
   "cell_type": "code",
   "execution_count": 4,
   "metadata": {},
   "outputs": [],
   "source": [
    "df.budget = df.budget / df.budget.max()\n",
    "df.charactor = df.charactor / df.charactor.max()\n",
    "df.director = df.director / df.director.max()"
   ]
  },
  {
   "cell_type": "code",
   "execution_count": 5,
   "metadata": {},
   "outputs": [],
   "source": [
    "X = np.array(df)"
   ]
  },
  {
   "cell_type": "code",
   "execution_count": 6,
   "metadata": {},
   "outputs": [],
   "source": [
    "# y_train : 흥행했는지(1) 안했는지(0)\n",
    "from sklearn.model_selection import train_test_split\n",
    "y = X[:, 22:]\n",
    "X = X[:, :-1]\n",
    "X_train, X_test, y_train, y_test = train_test_split(X, y, test_size=0.2)\n",
    "X_val = X_test[:513]\n",
    "y_val = y_test[:513]"
   ]
  },
  {
   "cell_type": "code",
   "execution_count": 7,
   "metadata": {},
   "outputs": [
    {
     "name": "stdout",
     "output_type": "stream",
     "text": [
      "(4102, 22)\n",
      "(4102, 1)\n",
      "(513, 22)\n",
      "(513, 1)\n",
      "(1026, 22)\n",
      "(1026, 1)\n"
     ]
    }
   ],
   "source": [
    "print(X_train.shape)\n",
    "print(y_train.shape)\n",
    "print(X_val.shape)\n",
    "print(y_val.shape)\n",
    "print(X_test.shape)\n",
    "print(y_test.shape)"
   ]
  },
  {
   "cell_type": "markdown",
   "metadata": {},
   "source": [
    "- 모델 구성 및 분석"
   ]
  },
  {
   "cell_type": "code",
   "execution_count": 8,
   "metadata": {},
   "outputs": [],
   "source": [
    "import matplotlib.pyplot as plt\n",
    "from tensorflow.keras.models import Sequential\n",
    "from tensorflow.keras.layers import Dense\n",
    "import matplotlib as mpl\n",
    "mpl.rcParams['axes.unicode_minus'] = False\n",
    "mpl.rcParams['font.family'] = 'Malgun Gothic'\n",
    "plt.rcParams.update({'text.color': \"black\",\n",
    "                    'axes.labelcolor': \"white\",\n",
    "                     'xtick.color': \"white\",\n",
    "                     'ytick.color': \"white\"\n",
    "                     })"
   ]
  },
  {
   "cell_type": "code",
   "execution_count": 9,
   "metadata": {},
   "outputs": [
    {
     "name": "stdout",
     "output_type": "stream",
     "text": [
      "Epoch 1/50\n",
      "129/129 [==============================] - 1s 4ms/step - loss: 0.6777 - accuracy: 0.6299 - val_loss: 0.6675 - val_accuracy: 0.6491\n",
      "Epoch 2/50\n",
      "129/129 [==============================] - 0s 3ms/step - loss: 0.6589 - accuracy: 0.6299 - val_loss: 0.6459 - val_accuracy: 0.6550\n",
      "Epoch 3/50\n",
      "129/129 [==============================] - 0s 2ms/step - loss: 0.6392 - accuracy: 0.6494 - val_loss: 0.6325 - val_accuracy: 0.6550\n",
      "Epoch 4/50\n",
      "129/129 [==============================] - 0s 3ms/step - loss: 0.6300 - accuracy: 0.6482 - val_loss: 0.6285 - val_accuracy: 0.6530\n",
      "Epoch 5/50\n",
      "129/129 [==============================] - 0s 2ms/step - loss: 0.6285 - accuracy: 0.6472 - val_loss: 0.6179 - val_accuracy: 0.6589\n",
      "Epoch 6/50\n",
      "129/129 [==============================] - 0s 3ms/step - loss: 0.6214 - accuracy: 0.6594 - val_loss: 0.6155 - val_accuracy: 0.6589\n",
      "Epoch 7/50\n",
      "129/129 [==============================] - 0s 3ms/step - loss: 0.6292 - accuracy: 0.6431 - val_loss: 0.6133 - val_accuracy: 0.6589\n",
      "Epoch 8/50\n",
      "129/129 [==============================] - 0s 3ms/step - loss: 0.6249 - accuracy: 0.6507 - val_loss: 0.6124 - val_accuracy: 0.6608\n",
      "Epoch 9/50\n",
      "129/129 [==============================] - 0s 3ms/step - loss: 0.6233 - accuracy: 0.6548 - val_loss: 0.6141 - val_accuracy: 0.6550\n",
      "Epoch 10/50\n",
      "129/129 [==============================] - 0s 2ms/step - loss: 0.6238 - accuracy: 0.6524 - val_loss: 0.6119 - val_accuracy: 0.6686\n",
      "Epoch 11/50\n",
      "129/129 [==============================] - 0s 2ms/step - loss: 0.6285 - accuracy: 0.6402 - val_loss: 0.6118 - val_accuracy: 0.6589\n",
      "Epoch 12/50\n",
      "129/129 [==============================] - 0s 2ms/step - loss: 0.6294 - accuracy: 0.6492 - val_loss: 0.6120 - val_accuracy: 0.6569\n",
      "Epoch 13/50\n",
      "129/129 [==============================] - 0s 3ms/step - loss: 0.6261 - accuracy: 0.6538 - val_loss: 0.6139 - val_accuracy: 0.6550\n",
      "Epoch 14/50\n",
      "129/129 [==============================] - 0s 2ms/step - loss: 0.6282 - accuracy: 0.6441 - val_loss: 0.6136 - val_accuracy: 0.6530\n",
      "Epoch 15/50\n",
      "129/129 [==============================] - 0s 3ms/step - loss: 0.6275 - accuracy: 0.6468 - val_loss: 0.6139 - val_accuracy: 0.6550\n",
      "Epoch 16/50\n",
      "129/129 [==============================] - 0s 2ms/step - loss: 0.6258 - accuracy: 0.6524 - val_loss: 0.6131 - val_accuracy: 0.6550\n",
      "Epoch 17/50\n",
      "129/129 [==============================] - 0s 3ms/step - loss: 0.6263 - accuracy: 0.6472 - val_loss: 0.6123 - val_accuracy: 0.6589\n",
      "Epoch 18/50\n",
      "129/129 [==============================] - 0s 2ms/step - loss: 0.6301 - accuracy: 0.6424 - val_loss: 0.6130 - val_accuracy: 0.6530\n",
      "Epoch 19/50\n",
      "129/129 [==============================] - 0s 2ms/step - loss: 0.6205 - accuracy: 0.6580 - val_loss: 0.6126 - val_accuracy: 0.6530\n",
      "Epoch 20/50\n",
      "129/129 [==============================] - 0s 2ms/step - loss: 0.6225 - accuracy: 0.6550 - val_loss: 0.6142 - val_accuracy: 0.6589\n",
      "Epoch 21/50\n",
      "129/129 [==============================] - 0s 3ms/step - loss: 0.6237 - accuracy: 0.6507 - val_loss: 0.6128 - val_accuracy: 0.6550\n",
      "Epoch 22/50\n",
      "129/129 [==============================] - 0s 3ms/step - loss: 0.6235 - accuracy: 0.6516 - val_loss: 0.6106 - val_accuracy: 0.6589\n",
      "Epoch 23/50\n",
      "129/129 [==============================] - 0s 2ms/step - loss: 0.6244 - accuracy: 0.6524 - val_loss: 0.6112 - val_accuracy: 0.6569\n",
      "Epoch 24/50\n",
      "129/129 [==============================] - 0s 2ms/step - loss: 0.6232 - accuracy: 0.6558 - val_loss: 0.6110 - val_accuracy: 0.6667\n",
      "Epoch 25/50\n",
      "129/129 [==============================] - 0s 2ms/step - loss: 0.6251 - accuracy: 0.6548 - val_loss: 0.6106 - val_accuracy: 0.6706\n",
      "Epoch 26/50\n",
      "129/129 [==============================] - 0s 3ms/step - loss: 0.6281 - accuracy: 0.6436 - val_loss: 0.6134 - val_accuracy: 0.6550\n",
      "Epoch 27/50\n",
      "129/129 [==============================] - 0s 3ms/step - loss: 0.6240 - accuracy: 0.6555 - val_loss: 0.6118 - val_accuracy: 0.6569\n",
      "Epoch 28/50\n",
      "129/129 [==============================] - 0s 2ms/step - loss: 0.6314 - accuracy: 0.6421 - val_loss: 0.6118 - val_accuracy: 0.6589\n",
      "Epoch 29/50\n",
      "129/129 [==============================] - 0s 3ms/step - loss: 0.6278 - accuracy: 0.6421 - val_loss: 0.6135 - val_accuracy: 0.6550\n",
      "Epoch 30/50\n",
      "129/129 [==============================] - 0s 2ms/step - loss: 0.6219 - accuracy: 0.6546 - val_loss: 0.6120 - val_accuracy: 0.6550\n",
      "Epoch 31/50\n",
      "129/129 [==============================] - 0s 3ms/step - loss: 0.6307 - accuracy: 0.6499 - val_loss: 0.6151 - val_accuracy: 0.6589\n",
      "Epoch 32/50\n",
      "129/129 [==============================] - 0s 2ms/step - loss: 0.6217 - accuracy: 0.6553 - val_loss: 0.6122 - val_accuracy: 0.6530\n",
      "Epoch 33/50\n",
      "129/129 [==============================] - 0s 2ms/step - loss: 0.6222 - accuracy: 0.6624 - val_loss: 0.6114 - val_accuracy: 0.6550\n",
      "Epoch 34/50\n",
      "129/129 [==============================] - 0s 3ms/step - loss: 0.6302 - accuracy: 0.6470 - val_loss: 0.6120 - val_accuracy: 0.6550\n",
      "Epoch 35/50\n",
      "129/129 [==============================] - 0s 2ms/step - loss: 0.6238 - accuracy: 0.6524 - val_loss: 0.6114 - val_accuracy: 0.6647\n",
      "Epoch 36/50\n",
      "129/129 [==============================] - 0s 3ms/step - loss: 0.6301 - accuracy: 0.6431 - val_loss: 0.6120 - val_accuracy: 0.6569\n",
      "Epoch 37/50\n",
      "129/129 [==============================] - 0s 3ms/step - loss: 0.6314 - accuracy: 0.6480 - val_loss: 0.6121 - val_accuracy: 0.6589\n",
      "Epoch 38/50\n",
      "129/129 [==============================] - 0s 2ms/step - loss: 0.6273 - accuracy: 0.6468 - val_loss: 0.6118 - val_accuracy: 0.6628\n",
      "Epoch 39/50\n",
      "129/129 [==============================] - 0s 3ms/step - loss: 0.6238 - accuracy: 0.6531 - val_loss: 0.6120 - val_accuracy: 0.6550\n",
      "Epoch 40/50\n",
      "129/129 [==============================] - 0s 3ms/step - loss: 0.6230 - accuracy: 0.6538 - val_loss: 0.6118 - val_accuracy: 0.6550\n",
      "Epoch 41/50\n",
      "129/129 [==============================] - 0s 3ms/step - loss: 0.6271 - accuracy: 0.6490 - val_loss: 0.6122 - val_accuracy: 0.6550\n",
      "Epoch 42/50\n",
      "129/129 [==============================] - 0s 2ms/step - loss: 0.6237 - accuracy: 0.6514 - val_loss: 0.6116 - val_accuracy: 0.6569\n",
      "Epoch 43/50\n",
      "129/129 [==============================] - 0s 2ms/step - loss: 0.6297 - accuracy: 0.6509 - val_loss: 0.6112 - val_accuracy: 0.6667\n",
      "Epoch 44/50\n",
      "129/129 [==============================] - 0s 3ms/step - loss: 0.6250 - accuracy: 0.6509 - val_loss: 0.6140 - val_accuracy: 0.6569\n",
      "Epoch 45/50\n",
      "129/129 [==============================] - 0s 2ms/step - loss: 0.6251 - accuracy: 0.6516 - val_loss: 0.6117 - val_accuracy: 0.6569\n",
      "Epoch 46/50\n",
      "129/129 [==============================] - 0s 3ms/step - loss: 0.6252 - accuracy: 0.6502 - val_loss: 0.6161 - val_accuracy: 0.6530\n",
      "Epoch 47/50\n",
      "129/129 [==============================] - 0s 3ms/step - loss: 0.6246 - accuracy: 0.6541 - val_loss: 0.6136 - val_accuracy: 0.6569\n",
      "Epoch 48/50\n",
      "129/129 [==============================] - 0s 3ms/step - loss: 0.6264 - accuracy: 0.6548 - val_loss: 0.6119 - val_accuracy: 0.6569\n",
      "Epoch 49/50\n",
      "129/129 [==============================] - 0s 2ms/step - loss: 0.6217 - accuracy: 0.6550 - val_loss: 0.6118 - val_accuracy: 0.6550\n",
      "Epoch 50/50\n",
      "129/129 [==============================] - 0s 2ms/step - loss: 0.6229 - accuracy: 0.6563 - val_loss: 0.6115 - val_accuracy: 0.6550\n",
      "33/33 [==============================] - 0s 2ms/step - loss: 0.6009 - accuracy: 0.6774\n",
      "손실 : 0.6009419560432434\n",
      "정확도 : 67.73878931999207 %\n",
      "--------------------\n"
     ]
    },
    {
     "data": {
      "image/png": "[encoded data removed]",
      "text/plain": [
       "<Figure size 432x288 with 2 Axes>"
      ]
     },
     "metadata": {
      "needs_background": "dark"
     },
     "output_type": "display_data"
    }
   ],
   "source": [
    "from tensorflow.keras import regularizers\n",
    "from tensorflow.keras.layers import Dropout\n",
    "model = Sequential()\n",
    "# 1. 과적합 : train acc 85%, test acc 65% => Node수와 Hidden Layer수를 줄여야함\n",
    "#model.add(Dense(64, activation='relu', input_dim=22))\n",
    "#model.add(Dense(128, activation='relu'))\n",
    "#model.add(Dense(64, activation='relu'))\n",
    "\n",
    "# 2. Dense의 한계치 : test acc 68% => 다른 모델을 사용해야함, L2 Regularization : test acc 69%\n",
    "#model.add(Dense(32, activation='relu', input_dim=22))\n",
    "#model.add(Dense(1, activation='sigmoid'))\n",
    "\n",
    "model.add(Dropout(0.25))\n",
    "model.add(Dense(32, activation='relu', input_dim=22))\n",
    "model.add(Dense(1, activation='sigmoid'))\n",
    "\n",
    "model.compile(loss='binary_crossentropy', optimizer='adam', metrics=['accuracy'])\n",
    "\n",
    "hist = model.fit(X_train, y_train, epochs=50, batch_size=32,\n",
    "                 validation_data=(X_val, y_val))\n",
    "\n",
    "loss_and_metrics = model.evaluate(X_test, y_test, batch_size=32)\n",
    "print('손실 :', loss_and_metrics[0])\n",
    "print('정확도 :', loss_and_metrics[1] * 100, '%')\n",
    "print(\"-\" * 20)\n",
    "\n",
    "fig, loss_ax = plt.subplots()\n",
    "acc_ax = loss_ax.twinx()\n",
    "\n",
    "loss_ax.plot(hist.history['loss'], 'y', label='train loss')\n",
    "loss_ax.plot(hist.history['val_loss'], 'g', label='val loss')\n",
    "\n",
    "acc_ax.plot(hist.history['accuracy'], 'b', label='train acc')\n",
    "acc_ax.plot(hist.history['val_accuracy'], 'r', label='val acc')\n",
    "\n",
    "loss_ax.set_xlabel('epoch')\n",
    "\n",
    "loss_ax.set_ylabel('loss')\n",
    "acc_ax.set_ylabel('accuracy')\n",
    "\n",
    "loss_ax.legend(loc='upper left')\n",
    "acc_ax.legend(loc='lower left')\n",
    "\n",
    "plt.show()"
   ]
  },
  {
   "cell_type": "code",
   "execution_count": 10,
   "metadata": {},
   "outputs": [
    {
     "name": "stdout",
     "output_type": "stream",
     "text": [
      "33/33 [==============================] - 0s 1ms/step\n",
      "1 1 1 1 1 1 1 1 0 1 \n",
      "1 0 0 0 1 1 0 1 1 1 "
     ]
    }
   ],
   "source": [
    "yhat = model.predict(X_test)\n",
    "for i in range(10):\n",
    "    print(1 if yhat[i] > 0.5 else 0, end=\" \")\n",
    "print()\n",
    "for i in y_test[:10]:\n",
    "    print(int(*i), end=\" \")"
   ]
  },
  {
   "cell_type": "code",
   "execution_count": 11,
   "metadata": {},
   "outputs": [],
   "source": [
    "model.save('model/Dense_Dropout.h5')"
   ]
  },
  {
   "cell_type": "code",
   "execution_count": null,
   "metadata": {},
   "outputs": [],
   "source": []
  }
 ],
 "metadata": {
  "kernelspec": {
   "display_name": "Python 3.9.12 ('base')",
   "language": "python",
   "name": "python3"
  },
  "language_info": {
   "codemirror_mode": {
    "name": "ipython",
    "version": 3
   },
   "file_extension": ".py",
   "mimetype": "text/x-python",
   "name": "python",
   "nbconvert_exporter": "python",
   "pygments_lexer": "ipython3",
   "version": "3.9.12"
  },
  "orig_nbformat": 4,
  "vscode": {
   "interpreter": {
    "hash": "68b27da7ddeb61625eb32b27b233f0587b7aa507dfa408f4f61141179036d5a9"
   }
  }
 },
 "nbformat": 4,
 "nbformat_minor": 2
}
