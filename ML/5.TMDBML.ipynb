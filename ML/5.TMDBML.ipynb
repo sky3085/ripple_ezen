{
 "cells": [
  {
   "cell_type": "code",
   "execution_count": 38,
   "metadata": {},
   "outputs": [],
   "source": [
    "import pandas as pd\n",
    "import numpy as np"
   ]
  },
  {
   "cell_type": "code",
   "execution_count": 39,
   "metadata": {},
   "outputs": [],
   "source": [
    "# title budget genres country main_charactor director vote_average vote_count\n",
    "df = pd.concat([pd.read_csv('data/movie_genres_data.csv'), pd.read_csv('data/movie_data_ID.csv')], axis=1)"
   ]
  },
  {
   "cell_type": "code",
   "execution_count": 40,
   "metadata": {},
   "outputs": [],
   "source": [
    "# heatmap의 상관관계 있는 장르만 사용해보자\n",
    "# 액션, 모험, 판타지 sf, 드라마 공포, 스릴러, 미스터리, 로맨스\n",
    "df = df.drop(['가족','애니메이션','코미디', '음악', '역사','TV 영화','전쟁','다큐멘터리','서부', '범죄'], axis=1)"
   ]
  },
  {
   "cell_type": "code",
   "execution_count": 41,
   "metadata": {},
   "outputs": [],
   "source": [
    "# 로지스틱 회귀 모델(sigmoid) : weight초기화, dropout, ReLU, batch nomalization\n",
    "# 결과 : 흥행성공, 흥행 실패, 전체영화 의 평균 정확도\n",
    "# 1. 데이터셋 준비하기\n",
    "df.drop(['genres', 'country', 'vote_score', 'vote_count'], axis=1, inplace=True)\n",
    "df.vote_weight = df.vote_weight.apply(lambda x: 1 if x >= 11 else 0)"
   ]
  },
  {
   "cell_type": "code",
   "execution_count": 42,
   "metadata": {},
   "outputs": [
    {
     "name": "stdout",
     "output_type": "stream",
     "text": [
      "380000000\n",
      "3646905\n",
      "3646897\n"
     ]
    }
   ],
   "source": [
    "print(df.budget.max())\n",
    "print(df.charactor.max())\n",
    "print(df.director.max())"
   ]
  },
  {
   "cell_type": "code",
   "execution_count": 26,
   "metadata": {},
   "outputs": [],
   "source": [
    "df.budget = df.budget / df.budget.max()\n",
    "df.charactor = df.charactor / df.charactor.max()\n",
    "df.director = df.director / df.director.max()"
   ]
  },
  {
   "cell_type": "code",
   "execution_count": 28,
   "metadata": {},
   "outputs": [],
   "source": [
    "df.to_csv('data/movie_data_ML_op.csv', index=False)"
   ]
  },
  {
   "cell_type": "code",
   "execution_count": 29,
   "metadata": {},
   "outputs": [],
   "source": [
    "df.drop(['title'], axis=1, inplace=True)\n",
    "df.drop(['budget'], axis=1, inplace=True)"
   ]
  },
  {
   "cell_type": "code",
   "execution_count": 30,
   "metadata": {},
   "outputs": [
    {
     "data": {
      "text/html": [
       "<div>\n",
       "<style scoped>\n",
       "    .dataframe tbody tr th:only-of-type {\n",
       "        vertical-align: middle;\n",
       "    }\n",
       "\n",
       "    .dataframe tbody tr th {\n",
       "        vertical-align: top;\n",
       "    }\n",
       "\n",
       "    .dataframe thead th {\n",
       "        text-align: right;\n",
       "    }\n",
       "</style>\n",
       "<table border=\"1\" class=\"dataframe\">\n",
       "  <thead>\n",
       "    <tr style=\"text-align: right;\">\n",
       "      <th></th>\n",
       "      <th>액션</th>\n",
       "      <th>모험</th>\n",
       "      <th>판타지</th>\n",
       "      <th>SF</th>\n",
       "      <th>드라마</th>\n",
       "      <th>공포</th>\n",
       "      <th>스릴러</th>\n",
       "      <th>미스터리</th>\n",
       "      <th>로맨스</th>\n",
       "      <th>charactor</th>\n",
       "      <th>director</th>\n",
       "      <th>vote_weight</th>\n",
       "    </tr>\n",
       "  </thead>\n",
       "  <tbody>\n",
       "    <tr>\n",
       "      <th>0</th>\n",
       "      <td>1</td>\n",
       "      <td>1</td>\n",
       "      <td>1</td>\n",
       "      <td>0</td>\n",
       "      <td>0</td>\n",
       "      <td>0</td>\n",
       "      <td>0</td>\n",
       "      <td>0</td>\n",
       "      <td>0</td>\n",
       "      <td>0.001068</td>\n",
       "      <td>0.015337</td>\n",
       "      <td>0</td>\n",
       "    </tr>\n",
       "  </tbody>\n",
       "</table>\n",
       "</div>"
      ],
      "text/plain": [
       "   액션  모험  판타지  SF  드라마  공포  스릴러  미스터리  로맨스  charactor  director  vote_weight\n",
       "0   1   1    1   0    0   0    0     0    0   0.001068  0.015337            0"
      ]
     },
     "execution_count": 30,
     "metadata": {},
     "output_type": "execute_result"
    }
   ],
   "source": [
    "df.head(1)"
   ]
  },
  {
   "cell_type": "code",
   "execution_count": 31,
   "metadata": {},
   "outputs": [],
   "source": [
    "X = np.array(df)"
   ]
  },
  {
   "cell_type": "code",
   "execution_count": 32,
   "metadata": {},
   "outputs": [],
   "source": [
    "# y_train : 흥행했는지(1) 안했는지(0)\n",
    "from sklearn.model_selection import train_test_split\n",
    "y = X[:, 11:]\n",
    "X = X[:, :-1]\n",
    "X_train, X_test, y_train, y_test = train_test_split(X, y, test_size=0.2)\n",
    "X_val = X_test[:513]\n",
    "y_val = y_test[:513]"
   ]
  },
  {
   "cell_type": "code",
   "execution_count": 33,
   "metadata": {},
   "outputs": [
    {
     "name": "stdout",
     "output_type": "stream",
     "text": [
      "(4102, 11)\n",
      "(4102, 1)\n",
      "(513, 11)\n",
      "(513, 1)\n",
      "(1026, 11)\n",
      "(1026, 1)\n"
     ]
    }
   ],
   "source": [
    "print(X_train.shape)\n",
    "print(y_train.shape)\n",
    "print(X_val.shape)\n",
    "print(y_val.shape)\n",
    "print(X_test.shape)\n",
    "print(y_test.shape)"
   ]
  },
  {
   "cell_type": "markdown",
   "metadata": {},
   "source": [
    "- 모델 구성 및 분석"
   ]
  },
  {
   "cell_type": "code",
   "execution_count": 34,
   "metadata": {},
   "outputs": [],
   "source": [
    "import matplotlib.pyplot as plt\n",
    "from tensorflow.keras.models import Sequential\n",
    "from tensorflow.keras.layers import Dense\n",
    "import matplotlib as mpl\n",
    "mpl.rcParams['axes.unicode_minus'] = False\n",
    "mpl.rcParams['font.family'] = 'Malgun Gothic'\n",
    "plt.rcParams.update({'text.color': \"black\",\n",
    "                    'axes.labelcolor': \"white\",\n",
    "                     'xtick.color': \"white\",\n",
    "                     'ytick.color': \"white\"\n",
    "                     })"
   ]
  },
  {
   "cell_type": "code",
   "execution_count": 35,
   "metadata": {},
   "outputs": [
    {
     "name": "stdout",
     "output_type": "stream",
     "text": [
      "Epoch 1/50\n",
      "129/129 [==============================] - 1s 3ms/step - loss: 0.7862 - accuracy: 0.5324 - val_loss: 0.7555 - val_accuracy: 0.5205\n",
      "Epoch 2/50\n",
      "129/129 [==============================] - 0s 3ms/step - loss: 0.7220 - accuracy: 0.5651 - val_loss: 0.7144 - val_accuracy: 0.5439\n",
      "Epoch 3/50\n",
      "129/129 [==============================] - 0s 2ms/step - loss: 0.6949 - accuracy: 0.5773 - val_loss: 0.6974 - val_accuracy: 0.5556\n",
      "Epoch 4/50\n",
      "129/129 [==============================] - 0s 3ms/step - loss: 0.6823 - accuracy: 0.5846 - val_loss: 0.6886 - val_accuracy: 0.5595\n",
      "Epoch 5/50\n",
      "129/129 [==============================] - 0s 2ms/step - loss: 0.6765 - accuracy: 0.5882 - val_loss: 0.6862 - val_accuracy: 0.5614\n",
      "Epoch 6/50\n",
      "129/129 [==============================] - 0s 2ms/step - loss: 0.6735 - accuracy: 0.5836 - val_loss: 0.6814 - val_accuracy: 0.5595\n",
      "Epoch 7/50\n",
      "129/129 [==============================] - 0s 2ms/step - loss: 0.6705 - accuracy: 0.5990 - val_loss: 0.6808 - val_accuracy: 0.5634\n",
      "Epoch 8/50\n",
      "129/129 [==============================] - 0s 2ms/step - loss: 0.6690 - accuracy: 0.5936 - val_loss: 0.6800 - val_accuracy: 0.5595\n",
      "Epoch 9/50\n",
      "129/129 [==============================] - 0s 2ms/step - loss: 0.6675 - accuracy: 0.5980 - val_loss: 0.6792 - val_accuracy: 0.5712\n",
      "Epoch 10/50\n",
      "129/129 [==============================] - 0s 2ms/step - loss: 0.6662 - accuracy: 0.5987 - val_loss: 0.6778 - val_accuracy: 0.5556\n",
      "Epoch 11/50\n",
      "129/129 [==============================] - 0s 2ms/step - loss: 0.6652 - accuracy: 0.5973 - val_loss: 0.6767 - val_accuracy: 0.5906\n",
      "Epoch 12/50\n",
      "129/129 [==============================] - 0s 2ms/step - loss: 0.6641 - accuracy: 0.6004 - val_loss: 0.6765 - val_accuracy: 0.5848\n",
      "Epoch 13/50\n",
      "129/129 [==============================] - 0s 2ms/step - loss: 0.6636 - accuracy: 0.6002 - val_loss: 0.6755 - val_accuracy: 0.5750\n",
      "Epoch 14/50\n",
      "129/129 [==============================] - 0s 3ms/step - loss: 0.6627 - accuracy: 0.5995 - val_loss: 0.6748 - val_accuracy: 0.5770\n",
      "Epoch 15/50\n",
      "129/129 [==============================] - 0s 3ms/step - loss: 0.6620 - accuracy: 0.6060 - val_loss: 0.6788 - val_accuracy: 0.5828\n",
      "Epoch 16/50\n",
      "129/129 [==============================] - 0s 2ms/step - loss: 0.6615 - accuracy: 0.6039 - val_loss: 0.6817 - val_accuracy: 0.5770\n",
      "Epoch 17/50\n",
      "129/129 [==============================] - 0s 3ms/step - loss: 0.6618 - accuracy: 0.5985 - val_loss: 0.6760 - val_accuracy: 0.5945\n",
      "Epoch 18/50\n",
      "129/129 [==============================] - 0s 3ms/step - loss: 0.6610 - accuracy: 0.6024 - val_loss: 0.6722 - val_accuracy: 0.5789\n",
      "Epoch 19/50\n",
      "129/129 [==============================] - 0s 2ms/step - loss: 0.6604 - accuracy: 0.6051 - val_loss: 0.6723 - val_accuracy: 0.5887\n",
      "Epoch 20/50\n",
      "129/129 [==============================] - 0s 3ms/step - loss: 0.6594 - accuracy: 0.6102 - val_loss: 0.6751 - val_accuracy: 0.5595\n",
      "Epoch 21/50\n",
      "129/129 [==============================] - 0s 3ms/step - loss: 0.6599 - accuracy: 0.6029 - val_loss: 0.6737 - val_accuracy: 0.5692\n",
      "Epoch 22/50\n",
      "129/129 [==============================] - 0s 3ms/step - loss: 0.6588 - accuracy: 0.6031 - val_loss: 0.6716 - val_accuracy: 0.5750\n",
      "Epoch 23/50\n",
      "129/129 [==============================] - 0s 3ms/step - loss: 0.6587 - accuracy: 0.6014 - val_loss: 0.6724 - val_accuracy: 0.5789\n",
      "Epoch 24/50\n",
      "129/129 [==============================] - 0s 3ms/step - loss: 0.6580 - accuracy: 0.5985 - val_loss: 0.6738 - val_accuracy: 0.5731\n",
      "Epoch 25/50\n",
      "129/129 [==============================] - 0s 3ms/step - loss: 0.6575 - accuracy: 0.6085 - val_loss: 0.6715 - val_accuracy: 0.5809\n",
      "Epoch 26/50\n",
      "129/129 [==============================] - 0s 3ms/step - loss: 0.6581 - accuracy: 0.6041 - val_loss: 0.6718 - val_accuracy: 0.5828\n",
      "Epoch 27/50\n",
      "129/129 [==============================] - 0s 3ms/step - loss: 0.6580 - accuracy: 0.6041 - val_loss: 0.6717 - val_accuracy: 0.5867\n",
      "Epoch 28/50\n",
      "129/129 [==============================] - 0s 3ms/step - loss: 0.6566 - accuracy: 0.6092 - val_loss: 0.6720 - val_accuracy: 0.5575\n",
      "Epoch 29/50\n",
      "129/129 [==============================] - 0s 3ms/step - loss: 0.6574 - accuracy: 0.6092 - val_loss: 0.6720 - val_accuracy: 0.5750\n",
      "Epoch 30/50\n",
      "129/129 [==============================] - 0s 3ms/step - loss: 0.6570 - accuracy: 0.6068 - val_loss: 0.6716 - val_accuracy: 0.5731\n",
      "Epoch 31/50\n",
      "129/129 [==============================] - 0s 3ms/step - loss: 0.6562 - accuracy: 0.6131 - val_loss: 0.6709 - val_accuracy: 0.5828\n",
      "Epoch 32/50\n",
      "129/129 [==============================] - 0s 3ms/step - loss: 0.6559 - accuracy: 0.6085 - val_loss: 0.6716 - val_accuracy: 0.5809\n",
      "Epoch 33/50\n",
      "129/129 [==============================] - 0s 3ms/step - loss: 0.6557 - accuracy: 0.6085 - val_loss: 0.6698 - val_accuracy: 0.5653\n",
      "Epoch 34/50\n",
      "129/129 [==============================] - 0s 3ms/step - loss: 0.6559 - accuracy: 0.6063 - val_loss: 0.6717 - val_accuracy: 0.5906\n",
      "Epoch 35/50\n",
      "129/129 [==============================] - 0s 3ms/step - loss: 0.6550 - accuracy: 0.6053 - val_loss: 0.6715 - val_accuracy: 0.5789\n",
      "Epoch 36/50\n",
      "129/129 [==============================] - 0s 3ms/step - loss: 0.6552 - accuracy: 0.6073 - val_loss: 0.6723 - val_accuracy: 0.5809\n",
      "Epoch 37/50\n",
      "129/129 [==============================] - 0s 3ms/step - loss: 0.6560 - accuracy: 0.6095 - val_loss: 0.6715 - val_accuracy: 0.5789\n",
      "Epoch 38/50\n",
      "129/129 [==============================] - 0s 3ms/step - loss: 0.6548 - accuracy: 0.6090 - val_loss: 0.6724 - val_accuracy: 0.5789\n",
      "Epoch 39/50\n",
      "129/129 [==============================] - 0s 3ms/step - loss: 0.6539 - accuracy: 0.6141 - val_loss: 0.6704 - val_accuracy: 0.5809\n",
      "Epoch 40/50\n",
      "129/129 [==============================] - 0s 3ms/step - loss: 0.6544 - accuracy: 0.6124 - val_loss: 0.6705 - val_accuracy: 0.5789\n",
      "Epoch 41/50\n",
      "129/129 [==============================] - 0s 3ms/step - loss: 0.6540 - accuracy: 0.6156 - val_loss: 0.6711 - val_accuracy: 0.5789\n",
      "Epoch 42/50\n",
      "129/129 [==============================] - 0s 3ms/step - loss: 0.6536 - accuracy: 0.6173 - val_loss: 0.6702 - val_accuracy: 0.5828\n",
      "Epoch 43/50\n",
      "129/129 [==============================] - 0s 3ms/step - loss: 0.6540 - accuracy: 0.6129 - val_loss: 0.6704 - val_accuracy: 0.5828\n",
      "Epoch 44/50\n",
      "129/129 [==============================] - 0s 3ms/step - loss: 0.6536 - accuracy: 0.6075 - val_loss: 0.6675 - val_accuracy: 0.5848\n",
      "Epoch 45/50\n",
      "129/129 [==============================] - 0s 3ms/step - loss: 0.6535 - accuracy: 0.6090 - val_loss: 0.6691 - val_accuracy: 0.5828\n",
      "Epoch 46/50\n",
      "129/129 [==============================] - 0s 3ms/step - loss: 0.6534 - accuracy: 0.6138 - val_loss: 0.6686 - val_accuracy: 0.5867\n",
      "Epoch 47/50\n",
      "129/129 [==============================] - 0s 3ms/step - loss: 0.6534 - accuracy: 0.6148 - val_loss: 0.6675 - val_accuracy: 0.5653\n",
      "Epoch 48/50\n",
      "129/129 [==============================] - 0s 3ms/step - loss: 0.6523 - accuracy: 0.6104 - val_loss: 0.6715 - val_accuracy: 0.5809\n",
      "Epoch 49/50\n",
      "129/129 [==============================] - 0s 3ms/step - loss: 0.6535 - accuracy: 0.6065 - val_loss: 0.6704 - val_accuracy: 0.5848\n",
      "Epoch 50/50\n",
      "129/129 [==============================] - 0s 3ms/step - loss: 0.6542 - accuracy: 0.6109 - val_loss: 0.6710 - val_accuracy: 0.5828\n",
      "33/33 [==============================] - 0s 2ms/step - loss: 0.6744 - accuracy: 0.5770\n",
      "손실 : 0.6743814945220947\n",
      "정확도 : 57.69980549812317 %\n",
      "--------------------\n"
     ]
    },
    {
     "data": {
      "image/png": "[encoded data removed]",
      "text/plain": [
       "<Figure size 432x288 with 2 Axes>"
      ]
     },
     "metadata": {
      "needs_background": "dark"
     },
     "output_type": "display_data"
    }
   ],
   "source": [
    "from tensorflow.keras import regularizers\n",
    "from tensorflow.keras.layers import Dropout\n",
    "import tensorflow as tf\n",
    "model = Sequential()\n",
    "# 1. 과적합 : train acc 85%, test acc 65% => Node수와 Hidden Layer수를 줄여야함\n",
    "#model.add(Dense(64, activation='relu', input_dim=22))\n",
    "#model.add(Dense(128, activation='relu'))\n",
    "#model.add(Dense(64, activation='relu'))\n",
    "\n",
    "# 2. Dense의 한계치 : test acc 68% => 다른 모델을 사용해야함, L2 Regularization : test acc 69%\n",
    "#model.add(Dense(32, activation='relu', input_dim=22))\n",
    "#model.add(Dense(1, activation='sigmoid'))\n",
    "tf.keras.regularizers.L2(\n",
    "    l2=0.01\n",
    ")\n",
    "# Dropout 68.5%\n",
    "model.add(Dense(32, activation='relu', input_dim=11))\n",
    "model.add(Dense(10, kernel_regularizer='l2'))\n",
    "model.add(Dense(1, activation='sigmoid'))\n",
    "\n",
    "model.compile(loss='binary_crossentropy', optimizer='adam', metrics=['accuracy'])\n",
    "\n",
    "hist = model.fit(X_train, y_train, epochs=50, batch_size=32,\n",
    "                 validation_data=(X_val, y_val))\n",
    "\n",
    "loss_and_metrics = model.evaluate(X_test, y_test, batch_size=32)\n",
    "print('손실 :', loss_and_metrics[0])\n",
    "print('정확도 :', loss_and_metrics[1] * 100, '%')\n",
    "print(\"-\" * 20)\n",
    "\n",
    "fig, loss_ax = plt.subplots()\n",
    "acc_ax = loss_ax.twinx()\n",
    "\n",
    "loss_ax.plot(hist.history['loss'], 'y', label='train loss')\n",
    "loss_ax.plot(hist.history['val_loss'], 'g', label='val loss')\n",
    "\n",
    "acc_ax.plot(hist.history['accuracy'], 'b', label='train acc')\n",
    "acc_ax.plot(hist.history['val_accuracy'], 'r', label='val acc')\n",
    "\n",
    "loss_ax.set_xlabel('epoch')\n",
    "\n",
    "loss_ax.set_ylabel('loss')\n",
    "acc_ax.set_ylabel('accuracy')\n",
    "\n",
    "loss_ax.legend(loc='upper left')\n",
    "acc_ax.legend(loc='lower left')\n",
    "\n",
    "plt.show()"
   ]
  },
  {
   "cell_type": "code",
   "execution_count": 36,
   "metadata": {},
   "outputs": [
    {
     "name": "stdout",
     "output_type": "stream",
     "text": [
      "33/33 [==============================] - 0s 2ms/step\n",
      "0 1 0 0 1 0 1 0 1 0 \n",
      "1 1 0 1 1 0 1 1 0 0 "
     ]
    }
   ],
   "source": [
    "yhat = model.predict(X_test)\n",
    "for i in range(10):\n",
    "    print(1 if yhat[i] > 0.5 else 0, end=\" \")\n",
    "print()\n",
    "for i in y_test[:10]:\n",
    "    print(int(*i), end=\" \")"
   ]
  },
  {
   "cell_type": "code",
   "execution_count": 37,
   "metadata": {},
   "outputs": [],
   "source": [
    "model.save('model/Dense_Dropout_nobudget.h5')"
   ]
  },
  {
   "cell_type": "code",
   "execution_count": null,
   "metadata": {},
   "outputs": [],
   "source": []
  }
 ],
 "metadata": {
  "kernelspec": {
   "display_name": "Python 3.9.12 ('base')",
   "language": "python",
   "name": "python3"
  },
  "language_info": {
   "codemirror_mode": {
    "name": "ipython",
    "version": 3
   },
   "file_extension": ".py",
   "mimetype": "text/x-python",
   "name": "python",
   "nbconvert_exporter": "python",
   "pygments_lexer": "ipython3",
   "version": "3.9.12"
  },
  "orig_nbformat": 4,
  "vscode": {
   "interpreter": {
    "hash": "68b27da7ddeb61625eb32b27b233f0587b7aa507dfa408f4f61141179036d5a9"
   }
  }
 },
 "nbformat": 4,
 "nbformat_minor": 2
}
