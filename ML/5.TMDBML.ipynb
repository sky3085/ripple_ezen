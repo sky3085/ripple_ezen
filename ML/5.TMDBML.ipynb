{
 "cells": [
  {
   "cell_type": "markdown",
   "metadata": {},
   "source": [
    "<pre>머신러닝 모델 개발한 파일(연구중)</pre>"
   ]
  },
  {
   "cell_type": "markdown",
   "metadata": {},
   "source": [
    "<pre>개봉예정영화 데이터: 장르, 개봉시기, 상영시간, 출연, 감독, 등급, 국가\n",
    "이중 장르, 출연, 감독, 국가를 데이터로 설정</pre>"
   ]
  },
  {
   "cell_type": "code",
   "execution_count": 1,
   "metadata": {},
   "outputs": [],
   "source": [
    "import pandas as pd\n",
    "import numpy as np"
   ]
  },
  {
   "cell_type": "code",
   "execution_count": 147,
   "metadata": {},
   "outputs": [],
   "source": [
    "# title budget genres country main_charactor director vote_average vote_count\n",
    "df = pd.concat([pd.read_csv('data/movie_genres_data.csv'), pd.read_csv('data/movie_data_ID.csv')], axis=1)\n",
    "# heatmap의 상관관계 있는 장르만 사용해보자\n",
    "# 모험, 애니메이션, 코미디, 드라마, 공포\n",
    "#df = df.drop(['액션', '판타지', '가족', 'SF', '스릴러', '범죄', '미스터리', '음악', '역사', '전쟁', '로맨스', '다큐멘터리', 'TV 영화', '서부'], axis=1)"
   ]
  },
  {
   "cell_type": "code",
   "execution_count": 148,
   "metadata": {},
   "outputs": [
    {
     "name": "stdout",
     "output_type": "stream",
     "text": [
      "380000000\n",
      "3646905\n",
      "3646897\n"
     ]
    }
   ],
   "source": [
    "# 로지스틱 회귀 모델(sigmoid) : weight초기화, dropout, ReLU, batch nomalization\n",
    "# 결과 : 흥행성공, 흥행 실패, 전체영화 의 평균 정확도\n",
    "# 1. 데이터셋 준비하기\n",
    "df.drop(['genres', 'country', 'vote_score', 'vote_count'], axis=1, inplace=True)\n",
    "df.vote_weight = df.vote_weight.apply(lambda x: 1 if x >= 5 else 0)\n",
    "\n",
    "print(df.budget.max())\n",
    "print(df.charactor.max())\n",
    "print(df.director.max())"
   ]
  },
  {
   "cell_type": "code",
   "execution_count": 149,
   "metadata": {},
   "outputs": [],
   "source": [
    "df.budget = df.budget / df.budget.max()\n",
    "df.charactor = df.charactor / df.charactor.max()\n",
    "df.director = df.director / df.director.max()"
   ]
  },
  {
   "cell_type": "code",
   "execution_count": 150,
   "metadata": {},
   "outputs": [],
   "source": [
    "df.to_csv('data/movie_data_ML_op.csv', index=False)"
   ]
  },
  {
   "cell_type": "code",
   "execution_count": 151,
   "metadata": {},
   "outputs": [],
   "source": [
    "df.drop(['title'], axis=1, inplace=True)\n",
    "#df.drop(['budget'], axis=1, inplace=True)"
   ]
  },
  {
   "cell_type": "code",
   "execution_count": 152,
   "metadata": {},
   "outputs": [
    {
     "data": {
      "text/html": [
       "<div>\n",
       "<style scoped>\n",
       "    .dataframe tbody tr th:only-of-type {\n",
       "        vertical-align: middle;\n",
       "    }\n",
       "\n",
       "    .dataframe tbody tr th {\n",
       "        vertical-align: top;\n",
       "    }\n",
       "\n",
       "    .dataframe thead th {\n",
       "        text-align: right;\n",
       "    }\n",
       "</style>\n",
       "<table border=\"1\" class=\"dataframe\">\n",
       "  <thead>\n",
       "    <tr style=\"text-align: right;\">\n",
       "      <th></th>\n",
       "      <th>액션</th>\n",
       "      <th>모험</th>\n",
       "      <th>판타지</th>\n",
       "      <th>가족</th>\n",
       "      <th>애니메이션</th>\n",
       "      <th>코미디</th>\n",
       "      <th>SF</th>\n",
       "      <th>드라마</th>\n",
       "      <th>공포</th>\n",
       "      <th>스릴러</th>\n",
       "      <th>...</th>\n",
       "      <th>역사</th>\n",
       "      <th>TV 영화</th>\n",
       "      <th>전쟁</th>\n",
       "      <th>로맨스</th>\n",
       "      <th>다큐멘터리</th>\n",
       "      <th>서부</th>\n",
       "      <th>budget</th>\n",
       "      <th>charactor</th>\n",
       "      <th>director</th>\n",
       "      <th>vote_weight</th>\n",
       "    </tr>\n",
       "  </thead>\n",
       "  <tbody>\n",
       "    <tr>\n",
       "      <th>0</th>\n",
       "      <td>1</td>\n",
       "      <td>1</td>\n",
       "      <td>1</td>\n",
       "      <td>0</td>\n",
       "      <td>0</td>\n",
       "      <td>0</td>\n",
       "      <td>0</td>\n",
       "      <td>0</td>\n",
       "      <td>0</td>\n",
       "      <td>0</td>\n",
       "      <td>...</td>\n",
       "      <td>0</td>\n",
       "      <td>0</td>\n",
       "      <td>0</td>\n",
       "      <td>0</td>\n",
       "      <td>0</td>\n",
       "      <td>0</td>\n",
       "      <td>0.657895</td>\n",
       "      <td>0.001068</td>\n",
       "      <td>0.015337</td>\n",
       "      <td>1</td>\n",
       "    </tr>\n",
       "  </tbody>\n",
       "</table>\n",
       "<p>1 rows × 23 columns</p>\n",
       "</div>"
      ],
      "text/plain": [
       "   액션  모험  판타지  가족  애니메이션  코미디  SF  드라마  공포  스릴러  ...  역사  TV 영화  전쟁  로맨스  \\\n",
       "0   1   1    1   0      0    0   0    0   0    0  ...   0      0   0    0   \n",
       "\n",
       "   다큐멘터리  서부    budget  charactor  director  vote_weight  \n",
       "0      0   0  0.657895   0.001068  0.015337            1  \n",
       "\n",
       "[1 rows x 23 columns]"
      ]
     },
     "execution_count": 152,
     "metadata": {},
     "output_type": "execute_result"
    }
   ],
   "source": [
    "df.head(1)"
   ]
  },
  {
   "cell_type": "code",
   "execution_count": 3,
   "metadata": {},
   "outputs": [],
   "source": [
    "df_one = pd.read_csv('data/movie_data_ID_One.csv')\n",
    "df_one.drop(['title', 'vote_score', 'vote_count'], axis=1, inplace=True)"
   ]
  },
  {
   "cell_type": "code",
   "execution_count": 5,
   "metadata": {},
   "outputs": [
    {
     "data": {
      "text/html": [
       "<div>\n",
       "<style scoped>\n",
       "    .dataframe tbody tr th:only-of-type {\n",
       "        vertical-align: middle;\n",
       "    }\n",
       "\n",
       "    .dataframe tbody tr th {\n",
       "        vertical-align: top;\n",
       "    }\n",
       "\n",
       "    .dataframe thead th {\n",
       "        text-align: right;\n",
       "    }\n",
       "</style>\n",
       "<table border=\"1\" class=\"dataframe\">\n",
       "  <thead>\n",
       "    <tr style=\"text-align: right;\">\n",
       "      <th></th>\n",
       "      <th>budget</th>\n",
       "      <th>genres</th>\n",
       "      <th>country</th>\n",
       "      <th>charactor</th>\n",
       "      <th>director</th>\n",
       "      <th>vote_weight</th>\n",
       "    </tr>\n",
       "  </thead>\n",
       "  <tbody>\n",
       "    <tr>\n",
       "      <th>0</th>\n",
       "      <td>250000000</td>\n",
       "      <td>28</td>\n",
       "      <td>1</td>\n",
       "      <td>3894</td>\n",
       "      <td>55934</td>\n",
       "      <td>5.482992</td>\n",
       "    </tr>\n",
       "    <tr>\n",
       "      <th>1</th>\n",
       "      <td>165000000</td>\n",
       "      <td>12</td>\n",
       "      <td>1</td>\n",
       "      <td>18997</td>\n",
       "      <td>930707</td>\n",
       "      <td>5.972419</td>\n",
       "    </tr>\n",
       "    <tr>\n",
       "      <th>2</th>\n",
       "      <td>85000000</td>\n",
       "      <td>10751</td>\n",
       "      <td>1</td>\n",
       "      <td>124747</td>\n",
       "      <td>8023</td>\n",
       "      <td>5.695402</td>\n",
       "    </tr>\n",
       "    <tr>\n",
       "      <th>3</th>\n",
       "      <td>170000000</td>\n",
       "      <td>28</td>\n",
       "      <td>1</td>\n",
       "      <td>996701</td>\n",
       "      <td>86270</td>\n",
       "      <td>6.379786</td>\n",
       "    </tr>\n",
       "    <tr>\n",
       "      <th>4</th>\n",
       "      <td>18800000</td>\n",
       "      <td>27</td>\n",
       "      <td>1</td>\n",
       "      <td>1530558</td>\n",
       "      <td>55499</td>\n",
       "      <td>6.110784</td>\n",
       "    </tr>\n",
       "  </tbody>\n",
       "</table>\n",
       "</div>"
      ],
      "text/plain": [
       "      budget  genres  country  charactor  director  vote_weight\n",
       "0  250000000      28        1       3894     55934     5.482992\n",
       "1  165000000      12        1      18997    930707     5.972419\n",
       "2   85000000   10751        1     124747      8023     5.695402\n",
       "3  170000000      28        1     996701     86270     6.379786\n",
       "4   18800000      27        1    1530558     55499     6.110784"
      ]
     },
     "execution_count": 5,
     "metadata": {},
     "output_type": "execute_result"
    }
   ],
   "source": [
    "df_one.head(5)"
   ]
  },
  {
   "cell_type": "code",
   "execution_count": 2,
   "metadata": {},
   "outputs": [],
   "source": [
    "df_one.budget = df_one.budget / df_one.budget.max()\n",
    "df_one.charactor = df_one.charactor / df_one.charactor.max()\n",
    "df_one.director = df_one.director / df_one.director.max()\n",
    "df_one.genres = df_one.genres / df_one.genres.max()\n",
    "df_one.country = df_one.country / df_one.country.max()"
   ]
  },
  {
   "cell_type": "code",
   "execution_count": 215,
   "metadata": {},
   "outputs": [],
   "source": [
    "df_one.vote_weight = df_one.vote_weight.apply(lambda x: 1 if x >= 5 else 0)"
   ]
  },
  {
   "cell_type": "code",
   "execution_count": 216,
   "metadata": {},
   "outputs": [
    {
     "data": {
      "text/html": [
       "<div>\n",
       "<style scoped>\n",
       "    .dataframe tbody tr th:only-of-type {\n",
       "        vertical-align: middle;\n",
       "    }\n",
       "\n",
       "    .dataframe tbody tr th {\n",
       "        vertical-align: top;\n",
       "    }\n",
       "\n",
       "    .dataframe thead th {\n",
       "        text-align: right;\n",
       "    }\n",
       "</style>\n",
       "<table border=\"1\" class=\"dataframe\">\n",
       "  <thead>\n",
       "    <tr style=\"text-align: right;\">\n",
       "      <th></th>\n",
       "      <th>budget</th>\n",
       "      <th>genres</th>\n",
       "      <th>country</th>\n",
       "      <th>charactor</th>\n",
       "      <th>director</th>\n",
       "      <th>vote_weight</th>\n",
       "    </tr>\n",
       "  </thead>\n",
       "  <tbody>\n",
       "    <tr>\n",
       "      <th>0</th>\n",
       "      <td>0.657895</td>\n",
       "      <td>0.002600</td>\n",
       "      <td>0.013333</td>\n",
       "      <td>0.001068</td>\n",
       "      <td>0.015337</td>\n",
       "      <td>1</td>\n",
       "    </tr>\n",
       "    <tr>\n",
       "      <th>1</th>\n",
       "      <td>0.434211</td>\n",
       "      <td>0.001114</td>\n",
       "      <td>0.013333</td>\n",
       "      <td>0.005209</td>\n",
       "      <td>0.255205</td>\n",
       "      <td>1</td>\n",
       "    </tr>\n",
       "    <tr>\n",
       "      <th>2</th>\n",
       "      <td>0.223684</td>\n",
       "      <td>0.998236</td>\n",
       "      <td>0.013333</td>\n",
       "      <td>0.034206</td>\n",
       "      <td>0.002200</td>\n",
       "      <td>1</td>\n",
       "    </tr>\n",
       "    <tr>\n",
       "      <th>3</th>\n",
       "      <td>0.447368</td>\n",
       "      <td>0.002600</td>\n",
       "      <td>0.013333</td>\n",
       "      <td>0.273301</td>\n",
       "      <td>0.023656</td>\n",
       "      <td>1</td>\n",
       "    </tr>\n",
       "    <tr>\n",
       "      <th>4</th>\n",
       "      <td>0.049474</td>\n",
       "      <td>0.002507</td>\n",
       "      <td>0.013333</td>\n",
       "      <td>0.419687</td>\n",
       "      <td>0.015218</td>\n",
       "      <td>1</td>\n",
       "    </tr>\n",
       "    <tr>\n",
       "      <th>5</th>\n",
       "      <td>0.526316</td>\n",
       "      <td>0.001300</td>\n",
       "      <td>0.013333</td>\n",
       "      <td>0.151044</td>\n",
       "      <td>0.002090</td>\n",
       "      <td>1</td>\n",
       "    </tr>\n",
       "    <tr>\n",
       "      <th>6</th>\n",
       "      <td>0.526316</td>\n",
       "      <td>0.001486</td>\n",
       "      <td>0.013333</td>\n",
       "      <td>0.020480</td>\n",
       "      <td>0.002174</td>\n",
       "      <td>1</td>\n",
       "    </tr>\n",
       "    <tr>\n",
       "      <th>7</th>\n",
       "      <td>0.526316</td>\n",
       "      <td>0.002600</td>\n",
       "      <td>0.013333</td>\n",
       "      <td>0.004614</td>\n",
       "      <td>0.005284</td>\n",
       "      <td>1</td>\n",
       "    </tr>\n",
       "    <tr>\n",
       "      <th>8</th>\n",
       "      <td>0.223684</td>\n",
       "      <td>0.965831</td>\n",
       "      <td>0.026667</td>\n",
       "      <td>0.000009</td>\n",
       "      <td>0.001700</td>\n",
       "      <td>1</td>\n",
       "    </tr>\n",
       "    <tr>\n",
       "      <th>9</th>\n",
       "      <td>0.526316</td>\n",
       "      <td>0.002600</td>\n",
       "      <td>0.013333</td>\n",
       "      <td>0.138668</td>\n",
       "      <td>0.354821</td>\n",
       "      <td>1</td>\n",
       "    </tr>\n",
       "  </tbody>\n",
       "</table>\n",
       "</div>"
      ],
      "text/plain": [
       "     budget    genres   country  charactor  director  vote_weight\n",
       "0  0.657895  0.002600  0.013333   0.001068  0.015337            1\n",
       "1  0.434211  0.001114  0.013333   0.005209  0.255205            1\n",
       "2  0.223684  0.998236  0.013333   0.034206  0.002200            1\n",
       "3  0.447368  0.002600  0.013333   0.273301  0.023656            1\n",
       "4  0.049474  0.002507  0.013333   0.419687  0.015218            1\n",
       "5  0.526316  0.001300  0.013333   0.151044  0.002090            1\n",
       "6  0.526316  0.001486  0.013333   0.020480  0.002174            1\n",
       "7  0.526316  0.002600  0.013333   0.004614  0.005284            1\n",
       "8  0.223684  0.965831  0.026667   0.000009  0.001700            1\n",
       "9  0.526316  0.002600  0.013333   0.138668  0.354821            1"
      ]
     },
     "execution_count": 216,
     "metadata": {},
     "output_type": "execute_result"
    }
   ],
   "source": [
    "df_one.head(10)"
   ]
  },
  {
   "cell_type": "code",
   "execution_count": 217,
   "metadata": {},
   "outputs": [
    {
     "name": "stdout",
     "output_type": "stream",
     "text": [
      "(5128, 6)\n"
     ]
    }
   ],
   "source": [
    "X = np.array(df_one)\n",
    "print(X.shape)\n"
   ]
  },
  {
   "cell_type": "code",
   "execution_count": 218,
   "metadata": {},
   "outputs": [
    {
     "name": "stdout",
     "output_type": "stream",
     "text": [
      "(5128, 5)\n",
      "(5128, 1)\n"
     ]
    }
   ],
   "source": [
    "y = X[:, 5:]\n",
    "X = X[:, :-1]\n",
    "print(X.shape)\n",
    "print(y.shape)"
   ]
  },
  {
   "cell_type": "code",
   "execution_count": 219,
   "metadata": {},
   "outputs": [],
   "source": [
    "# y_train : 흥행했는지(1) 안했는지(0)\n",
    "from sklearn.model_selection import train_test_split\n",
    "X_train, X_test, y_train, y_test = train_test_split(X, y, test_size=0.1)\n",
    "X_val = X_test[:513]\n",
    "y_val = y_test[:513]"
   ]
  },
  {
   "cell_type": "code",
   "execution_count": 220,
   "metadata": {},
   "outputs": [
    {
     "name": "stdout",
     "output_type": "stream",
     "text": [
      "(4615, 5)\n",
      "(4615, 1)\n",
      "(513, 5)\n",
      "(513, 1)\n",
      "(513, 5)\n",
      "(513, 1)\n"
     ]
    }
   ],
   "source": [
    "print(X_train.shape)\n",
    "print(y_train.shape)\n",
    "print(X_val.shape)\n",
    "print(y_val.shape)\n",
    "print(X_test.shape)\n",
    "print(y_test.shape)"
   ]
  },
  {
   "cell_type": "markdown",
   "metadata": {},
   "source": [
    "- 모델 구성 및 분석"
   ]
  },
  {
   "cell_type": "code",
   "execution_count": 212,
   "metadata": {},
   "outputs": [],
   "source": [
    "import matplotlib.pyplot as plt\n",
    "from tensorflow.keras.models import Sequential\n",
    "from tensorflow.keras.layers import Dense\n",
    "import matplotlib as mpl\n",
    "mpl.rcParams['axes.unicode_minus'] = False\n",
    "mpl.rcParams['font.family'] = 'Malgun Gothic'\n",
    "plt.rcParams.update({'text.color': \"black\",\n",
    "                    'axes.labelcolor': \"white\",\n",
    "                     'xtick.color': \"white\",\n",
    "                     'ytick.color': \"white\"\n",
    "                     })"
   ]
  },
  {
   "cell_type": "code",
   "execution_count": 241,
   "metadata": {},
   "outputs": [
    {
     "name": "stdout",
     "output_type": "stream",
     "text": [
      "Epoch 1/100\n",
      "145/145 [==============================] - 1s 4ms/step - loss: 0.6611 - accuracy: 0.5922 - val_loss: 0.6512 - val_accuracy: 0.6062\n",
      "Epoch 2/100\n",
      "145/145 [==============================] - 0s 3ms/step - loss: 0.6381 - accuracy: 0.6206 - val_loss: 0.6530 - val_accuracy: 0.5984\n",
      "Epoch 3/100\n",
      "145/145 [==============================] - 0s 3ms/step - loss: 0.6343 - accuracy: 0.6284 - val_loss: 0.6492 - val_accuracy: 0.5984\n",
      "Epoch 4/100\n",
      "145/145 [==============================] - 0s 3ms/step - loss: 0.6341 - accuracy: 0.6308 - val_loss: 0.6500 - val_accuracy: 0.5926\n",
      "Epoch 5/100\n",
      "145/145 [==============================] - 0s 3ms/step - loss: 0.6305 - accuracy: 0.6288 - val_loss: 0.6487 - val_accuracy: 0.6062\n",
      "Epoch 6/100\n",
      "145/145 [==============================] - 0s 3ms/step - loss: 0.6319 - accuracy: 0.6260 - val_loss: 0.6471 - val_accuracy: 0.6101\n",
      "Epoch 7/100\n",
      "145/145 [==============================] - 1s 4ms/step - loss: 0.6313 - accuracy: 0.6254 - val_loss: 0.6465 - val_accuracy: 0.6082\n",
      "Epoch 8/100\n",
      "145/145 [==============================] - 1s 3ms/step - loss: 0.6300 - accuracy: 0.6345 - val_loss: 0.6549 - val_accuracy: 0.6101\n",
      "Epoch 9/100\n",
      "145/145 [==============================] - 1s 5ms/step - loss: 0.6307 - accuracy: 0.6342 - val_loss: 0.6489 - val_accuracy: 0.5965\n",
      "Epoch 10/100\n",
      "145/145 [==============================] - 1s 4ms/step - loss: 0.6312 - accuracy: 0.6254 - val_loss: 0.6462 - val_accuracy: 0.6238\n",
      "Epoch 11/100\n",
      "145/145 [==============================] - 0s 3ms/step - loss: 0.6283 - accuracy: 0.6332 - val_loss: 0.6488 - val_accuracy: 0.6023\n",
      "Epoch 12/100\n",
      "145/145 [==============================] - 0s 3ms/step - loss: 0.6310 - accuracy: 0.6342 - val_loss: 0.6476 - val_accuracy: 0.5984\n",
      "Epoch 13/100\n",
      "145/145 [==============================] - 0s 3ms/step - loss: 0.6273 - accuracy: 0.6392 - val_loss: 0.6471 - val_accuracy: 0.6296\n",
      "Epoch 14/100\n",
      "145/145 [==============================] - 0s 3ms/step - loss: 0.6243 - accuracy: 0.6379 - val_loss: 0.6434 - val_accuracy: 0.6218\n",
      "Epoch 15/100\n",
      "145/145 [==============================] - 0s 3ms/step - loss: 0.6254 - accuracy: 0.6388 - val_loss: 0.6509 - val_accuracy: 0.5906\n",
      "Epoch 16/100\n",
      "145/145 [==============================] - 0s 3ms/step - loss: 0.6244 - accuracy: 0.6436 - val_loss: 0.6373 - val_accuracy: 0.6413\n",
      "Epoch 17/100\n",
      "145/145 [==============================] - 0s 3ms/step - loss: 0.6233 - accuracy: 0.6477 - val_loss: 0.6419 - val_accuracy: 0.6199\n",
      "Epoch 18/100\n",
      "145/145 [==============================] - 0s 3ms/step - loss: 0.6247 - accuracy: 0.6407 - val_loss: 0.6362 - val_accuracy: 0.6335\n",
      "Epoch 19/100\n",
      "145/145 [==============================] - 1s 4ms/step - loss: 0.6216 - accuracy: 0.6453 - val_loss: 0.6430 - val_accuracy: 0.6413\n",
      "Epoch 20/100\n",
      "145/145 [==============================] - 0s 3ms/step - loss: 0.6180 - accuracy: 0.6514 - val_loss: 0.6390 - val_accuracy: 0.6394\n",
      "Epoch 21/100\n",
      "145/145 [==============================] - 0s 3ms/step - loss: 0.6193 - accuracy: 0.6535 - val_loss: 0.6342 - val_accuracy: 0.6335\n",
      "Epoch 22/100\n",
      "145/145 [==============================] - 0s 3ms/step - loss: 0.6192 - accuracy: 0.6498 - val_loss: 0.6319 - val_accuracy: 0.6413\n",
      "Epoch 23/100\n",
      "145/145 [==============================] - 0s 3ms/step - loss: 0.6161 - accuracy: 0.6583 - val_loss: 0.6380 - val_accuracy: 0.6238\n",
      "Epoch 24/100\n",
      "145/145 [==============================] - 1s 3ms/step - loss: 0.6137 - accuracy: 0.6672 - val_loss: 0.6340 - val_accuracy: 0.6335\n",
      "Epoch 25/100\n",
      "145/145 [==============================] - 1s 4ms/step - loss: 0.6155 - accuracy: 0.6585 - val_loss: 0.6332 - val_accuracy: 0.6374\n",
      "Epoch 26/100\n",
      "145/145 [==============================] - 0s 3ms/step - loss: 0.6145 - accuracy: 0.6611 - val_loss: 0.6354 - val_accuracy: 0.6374\n",
      "Epoch 27/100\n",
      "145/145 [==============================] - 0s 3ms/step - loss: 0.6150 - accuracy: 0.6583 - val_loss: 0.6357 - val_accuracy: 0.6316\n",
      "Epoch 28/100\n",
      "145/145 [==============================] - 0s 3ms/step - loss: 0.6150 - accuracy: 0.6600 - val_loss: 0.6325 - val_accuracy: 0.6316\n",
      "Epoch 29/100\n",
      "145/145 [==============================] - 1s 3ms/step - loss: 0.6131 - accuracy: 0.6598 - val_loss: 0.6402 - val_accuracy: 0.6257\n",
      "Epoch 30/100\n",
      "145/145 [==============================] - 0s 3ms/step - loss: 0.6138 - accuracy: 0.6607 - val_loss: 0.6350 - val_accuracy: 0.6413\n",
      "Epoch 31/100\n",
      "145/145 [==============================] - 0s 3ms/step - loss: 0.6134 - accuracy: 0.6594 - val_loss: 0.6362 - val_accuracy: 0.6277\n",
      "Epoch 32/100\n",
      "145/145 [==============================] - 0s 3ms/step - loss: 0.6099 - accuracy: 0.6615 - val_loss: 0.6330 - val_accuracy: 0.6374\n",
      "Epoch 33/100\n",
      "145/145 [==============================] - 0s 3ms/step - loss: 0.6125 - accuracy: 0.6570 - val_loss: 0.6335 - val_accuracy: 0.6277\n",
      "Epoch 34/100\n",
      "145/145 [==============================] - 0s 3ms/step - loss: 0.6121 - accuracy: 0.6635 - val_loss: 0.6353 - val_accuracy: 0.6277\n",
      "Epoch 35/100\n",
      "145/145 [==============================] - 0s 3ms/step - loss: 0.6109 - accuracy: 0.6665 - val_loss: 0.6329 - val_accuracy: 0.6296\n",
      "Epoch 36/100\n",
      "145/145 [==============================] - 0s 3ms/step - loss: 0.6107 - accuracy: 0.6626 - val_loss: 0.6388 - val_accuracy: 0.6199\n",
      "Epoch 37/100\n",
      "145/145 [==============================] - 0s 3ms/step - loss: 0.6088 - accuracy: 0.6622 - val_loss: 0.6353 - val_accuracy: 0.6374\n",
      "Epoch 38/100\n",
      "145/145 [==============================] - 0s 3ms/step - loss: 0.6086 - accuracy: 0.6626 - val_loss: 0.6349 - val_accuracy: 0.6316\n",
      "Epoch 39/100\n",
      "145/145 [==============================] - 0s 3ms/step - loss: 0.6097 - accuracy: 0.6704 - val_loss: 0.6325 - val_accuracy: 0.6355\n",
      "Epoch 40/100\n",
      "145/145 [==============================] - 0s 3ms/step - loss: 0.6095 - accuracy: 0.6637 - val_loss: 0.6356 - val_accuracy: 0.6296\n",
      "Epoch 41/100\n",
      "145/145 [==============================] - 0s 3ms/step - loss: 0.6080 - accuracy: 0.6631 - val_loss: 0.6308 - val_accuracy: 0.6394\n",
      "Epoch 42/100\n",
      "145/145 [==============================] - 0s 3ms/step - loss: 0.6109 - accuracy: 0.6665 - val_loss: 0.6315 - val_accuracy: 0.6394\n",
      "Epoch 43/100\n",
      "145/145 [==============================] - 0s 3ms/step - loss: 0.6046 - accuracy: 0.6743 - val_loss: 0.6330 - val_accuracy: 0.6316\n",
      "Epoch 44/100\n",
      "145/145 [==============================] - 1s 4ms/step - loss: 0.6091 - accuracy: 0.6648 - val_loss: 0.6279 - val_accuracy: 0.6413\n",
      "Epoch 45/100\n",
      "145/145 [==============================] - 1s 8ms/step - loss: 0.6088 - accuracy: 0.6661 - val_loss: 0.6296 - val_accuracy: 0.6335\n",
      "Epoch 46/100\n",
      "145/145 [==============================] - 1s 3ms/step - loss: 0.6084 - accuracy: 0.6639 - val_loss: 0.6276 - val_accuracy: 0.6394\n",
      "Epoch 47/100\n",
      "145/145 [==============================] - 1s 3ms/step - loss: 0.6082 - accuracy: 0.6637 - val_loss: 0.6324 - val_accuracy: 0.6355\n",
      "Epoch 48/100\n",
      "145/145 [==============================] - 1s 4ms/step - loss: 0.6064 - accuracy: 0.6641 - val_loss: 0.6314 - val_accuracy: 0.6296\n",
      "Epoch 49/100\n",
      "145/145 [==============================] - 0s 3ms/step - loss: 0.6055 - accuracy: 0.6648 - val_loss: 0.6279 - val_accuracy: 0.6413\n",
      "Epoch 50/100\n",
      "145/145 [==============================] - 1s 4ms/step - loss: 0.6053 - accuracy: 0.6672 - val_loss: 0.6301 - val_accuracy: 0.6296\n",
      "Epoch 51/100\n",
      "145/145 [==============================] - 1s 4ms/step - loss: 0.6103 - accuracy: 0.6613 - val_loss: 0.6283 - val_accuracy: 0.6355\n",
      "Epoch 52/100\n",
      "145/145 [==============================] - 0s 3ms/step - loss: 0.6037 - accuracy: 0.6678 - val_loss: 0.6232 - val_accuracy: 0.6433\n",
      "Epoch 53/100\n",
      "145/145 [==============================] - 0s 3ms/step - loss: 0.6070 - accuracy: 0.6659 - val_loss: 0.6255 - val_accuracy: 0.6374\n",
      "Epoch 54/100\n",
      "145/145 [==============================] - 0s 3ms/step - loss: 0.6046 - accuracy: 0.6683 - val_loss: 0.6324 - val_accuracy: 0.6394\n",
      "Epoch 55/100\n",
      "145/145 [==============================] - 0s 3ms/step - loss: 0.6048 - accuracy: 0.6683 - val_loss: 0.6245 - val_accuracy: 0.6452\n",
      "Epoch 56/100\n",
      "145/145 [==============================] - 0s 3ms/step - loss: 0.6056 - accuracy: 0.6650 - val_loss: 0.6260 - val_accuracy: 0.6472\n",
      "Epoch 57/100\n",
      "145/145 [==============================] - 0s 3ms/step - loss: 0.6059 - accuracy: 0.6639 - val_loss: 0.6280 - val_accuracy: 0.6374\n",
      "Epoch 58/100\n",
      "145/145 [==============================] - 0s 3ms/step - loss: 0.6038 - accuracy: 0.6687 - val_loss: 0.6249 - val_accuracy: 0.6413\n",
      "Epoch 59/100\n",
      "145/145 [==============================] - 0s 3ms/step - loss: 0.6057 - accuracy: 0.6635 - val_loss: 0.6276 - val_accuracy: 0.6394\n",
      "Epoch 60/100\n",
      "145/145 [==============================] - 1s 4ms/step - loss: 0.6027 - accuracy: 0.6726 - val_loss: 0.6225 - val_accuracy: 0.6452\n",
      "Epoch 61/100\n",
      "145/145 [==============================] - 1s 4ms/step - loss: 0.6048 - accuracy: 0.6689 - val_loss: 0.6249 - val_accuracy: 0.6472\n",
      "Epoch 62/100\n",
      "145/145 [==============================] - 1s 3ms/step - loss: 0.6040 - accuracy: 0.6704 - val_loss: 0.6258 - val_accuracy: 0.6413\n",
      "Epoch 63/100\n",
      "145/145 [==============================] - 0s 3ms/step - loss: 0.6022 - accuracy: 0.6659 - val_loss: 0.6254 - val_accuracy: 0.6472\n",
      "Epoch 64/100\n",
      "145/145 [==============================] - 0s 3ms/step - loss: 0.6030 - accuracy: 0.6689 - val_loss: 0.6237 - val_accuracy: 0.6530\n",
      "Epoch 65/100\n",
      "145/145 [==============================] - 0s 3ms/step - loss: 0.5996 - accuracy: 0.6683 - val_loss: 0.6275 - val_accuracy: 0.6433\n",
      "Epoch 66/100\n",
      "145/145 [==============================] - 0s 3ms/step - loss: 0.6025 - accuracy: 0.6691 - val_loss: 0.6280 - val_accuracy: 0.6335\n",
      "Epoch 67/100\n",
      "145/145 [==============================] - 0s 3ms/step - loss: 0.6023 - accuracy: 0.6748 - val_loss: 0.6271 - val_accuracy: 0.6355\n",
      "Epoch 68/100\n",
      "145/145 [==============================] - 0s 3ms/step - loss: 0.6032 - accuracy: 0.6704 - val_loss: 0.6253 - val_accuracy: 0.6296\n",
      "Epoch 69/100\n",
      "145/145 [==============================] - 0s 3ms/step - loss: 0.6015 - accuracy: 0.6752 - val_loss: 0.6272 - val_accuracy: 0.6394\n",
      "Epoch 70/100\n",
      "145/145 [==============================] - 0s 3ms/step - loss: 0.6021 - accuracy: 0.6657 - val_loss: 0.6312 - val_accuracy: 0.6394\n",
      "Epoch 71/100\n",
      "145/145 [==============================] - 1s 3ms/step - loss: 0.6026 - accuracy: 0.6752 - val_loss: 0.6235 - val_accuracy: 0.6452\n",
      "Epoch 72/100\n",
      "145/145 [==============================] - 0s 3ms/step - loss: 0.6026 - accuracy: 0.6700 - val_loss: 0.6243 - val_accuracy: 0.6433\n",
      "Epoch 73/100\n",
      "145/145 [==============================] - 0s 3ms/step - loss: 0.6004 - accuracy: 0.6713 - val_loss: 0.6254 - val_accuracy: 0.6374\n",
      "Epoch 74/100\n",
      "145/145 [==============================] - 0s 3ms/step - loss: 0.6006 - accuracy: 0.6717 - val_loss: 0.6237 - val_accuracy: 0.6472\n",
      "Epoch 75/100\n",
      "145/145 [==============================] - 1s 4ms/step - loss: 0.6004 - accuracy: 0.6743 - val_loss: 0.6282 - val_accuracy: 0.6355\n",
      "Epoch 76/100\n",
      "145/145 [==============================] - 0s 3ms/step - loss: 0.6010 - accuracy: 0.6750 - val_loss: 0.6209 - val_accuracy: 0.6472\n",
      "Epoch 77/100\n",
      "145/145 [==============================] - 0s 3ms/step - loss: 0.6001 - accuracy: 0.6719 - val_loss: 0.6255 - val_accuracy: 0.6433\n",
      "Epoch 78/100\n",
      "145/145 [==============================] - 0s 3ms/step - loss: 0.6042 - accuracy: 0.6641 - val_loss: 0.6174 - val_accuracy: 0.6394\n",
      "Epoch 79/100\n",
      "145/145 [==============================] - 0s 3ms/step - loss: 0.6004 - accuracy: 0.6767 - val_loss: 0.6240 - val_accuracy: 0.6452\n",
      "Epoch 80/100\n",
      "145/145 [==============================] - 1s 4ms/step - loss: 0.6018 - accuracy: 0.6739 - val_loss: 0.6267 - val_accuracy: 0.6394\n",
      "Epoch 81/100\n",
      "145/145 [==============================] - 0s 3ms/step - loss: 0.6017 - accuracy: 0.6748 - val_loss: 0.6229 - val_accuracy: 0.6491\n",
      "Epoch 82/100\n",
      "145/145 [==============================] - 0s 3ms/step - loss: 0.5986 - accuracy: 0.6756 - val_loss: 0.6232 - val_accuracy: 0.6452\n",
      "Epoch 83/100\n",
      "145/145 [==============================] - 0s 3ms/step - loss: 0.6003 - accuracy: 0.6696 - val_loss: 0.6282 - val_accuracy: 0.6491\n",
      "Epoch 84/100\n",
      "145/145 [==============================] - 0s 3ms/step - loss: 0.6017 - accuracy: 0.6743 - val_loss: 0.6232 - val_accuracy: 0.6413\n",
      "Epoch 85/100\n",
      "145/145 [==============================] - 0s 3ms/step - loss: 0.6005 - accuracy: 0.6756 - val_loss: 0.6218 - val_accuracy: 0.6413\n",
      "Epoch 86/100\n",
      "145/145 [==============================] - 0s 3ms/step - loss: 0.5985 - accuracy: 0.6787 - val_loss: 0.6229 - val_accuracy: 0.6472\n",
      "Epoch 87/100\n",
      "145/145 [==============================] - 0s 3ms/step - loss: 0.5981 - accuracy: 0.6754 - val_loss: 0.6227 - val_accuracy: 0.6472\n",
      "Epoch 88/100\n",
      "145/145 [==============================] - 0s 3ms/step - loss: 0.5994 - accuracy: 0.6726 - val_loss: 0.6239 - val_accuracy: 0.6491\n",
      "Epoch 89/100\n",
      "145/145 [==============================] - 0s 3ms/step - loss: 0.5977 - accuracy: 0.6732 - val_loss: 0.6201 - val_accuracy: 0.6472\n",
      "Epoch 90/100\n",
      "145/145 [==============================] - 0s 3ms/step - loss: 0.5993 - accuracy: 0.6706 - val_loss: 0.6219 - val_accuracy: 0.6589\n",
      "Epoch 91/100\n",
      "145/145 [==============================] - 0s 3ms/step - loss: 0.5962 - accuracy: 0.6763 - val_loss: 0.6263 - val_accuracy: 0.6374\n",
      "Epoch 92/100\n",
      "145/145 [==============================] - 0s 3ms/step - loss: 0.6025 - accuracy: 0.6726 - val_loss: 0.6218 - val_accuracy: 0.6413\n",
      "Epoch 93/100\n",
      "145/145 [==============================] - 0s 3ms/step - loss: 0.5980 - accuracy: 0.6745 - val_loss: 0.6252 - val_accuracy: 0.6472\n",
      "Epoch 94/100\n",
      "145/145 [==============================] - 0s 3ms/step - loss: 0.5988 - accuracy: 0.6689 - val_loss: 0.6245 - val_accuracy: 0.6413\n",
      "Epoch 95/100\n",
      "145/145 [==============================] - 0s 3ms/step - loss: 0.5970 - accuracy: 0.6700 - val_loss: 0.6230 - val_accuracy: 0.6530\n",
      "Epoch 96/100\n",
      "145/145 [==============================] - 0s 3ms/step - loss: 0.5981 - accuracy: 0.6730 - val_loss: 0.6224 - val_accuracy: 0.6374\n",
      "Epoch 97/100\n",
      "145/145 [==============================] - 0s 3ms/step - loss: 0.5996 - accuracy: 0.6700 - val_loss: 0.6242 - val_accuracy: 0.6628\n",
      "Epoch 98/100\n",
      "145/145 [==============================] - 0s 3ms/step - loss: 0.5943 - accuracy: 0.6726 - val_loss: 0.6326 - val_accuracy: 0.6394\n",
      "Epoch 99/100\n",
      "145/145 [==============================] - 0s 3ms/step - loss: 0.5946 - accuracy: 0.6724 - val_loss: 0.6253 - val_accuracy: 0.6472\n",
      "Epoch 100/100\n",
      "145/145 [==============================] - 0s 3ms/step - loss: 0.5978 - accuracy: 0.6722 - val_loss: 0.6251 - val_accuracy: 0.6394\n",
      "17/17 [==============================] - 0s 2ms/step - loss: 0.6251 - accuracy: 0.6394\n",
      "손실 : 0.6251303553581238\n",
      "정확도 : 63.93762230873108 %\n",
      "--------------------\n"
     ]
    },
    {
     "data": {
      "image/png": "[encoded data removed]",
      "text/plain": [
       "<Figure size 432x288 with 2 Axes>"
      ]
     },
     "metadata": {
      "needs_background": "dark"
     },
     "output_type": "display_data"
    }
   ],
   "source": [
    "from tensorflow.keras import regularizers\n",
    "from tensorflow.keras.layers import Dropout\n",
    "import tensorflow as tf\n",
    "model = Sequential()\n",
    "# 1. 과적합 : train acc 85%, test acc 65% => Node수와 Hidden Layer수를 줄여야함\n",
    "#model.add(Dense(64, activation='relu', input_dim=22))\n",
    "#model.add(Dense(128, activation='relu'))\n",
    "#model.add(Dense(64, activation='relu'))\n",
    "\n",
    "# 2. Dense의 한계치 : test acc 68% => 다른 모델을 사용해야함, L2 Regularization : test acc 69%\n",
    "#model.add(Dense(32, activation='relu', input_dim=8))\n",
    "#model.add(Dense(1, activation='sigmoid'))\n",
    "\n",
    "#tf.keras.regularizers.L2(\n",
    "#    l2=0.01\n",
    "#)\n",
    "# Dropout 68.5%\n",
    "model.add(Dense(128, activation='relu', input_dim=5))\n",
    "model.add(Dropout(0.25))\n",
    "model.add(Dense(64, activation='relu'))\n",
    "model.add(Dropout(0.25))\n",
    "model.add(Dense(16, activation='relu'))\n",
    "#model.add(Dense(10, kernel_regularizer='l2'))\n",
    "model.add(Dense(1, activation='sigmoid'))\n",
    "\n",
    "model.compile(loss='binary_crossentropy', optimizer='adam', metrics=['accuracy'])\n",
    "\n",
    "hist = model.fit(X_train, y_train, epochs=100, batch_size=32,\n",
    "                 validation_data=(X_val, y_val))\n",
    "\n",
    "loss_and_metrics = model.evaluate(X_test, y_test, batch_size=32)\n",
    "print('손실 :', loss_and_metrics[0])\n",
    "print('정확도 :', loss_and_metrics[1] * 100, '%')\n",
    "print(\"-\" * 20)\n",
    "\n",
    "fig, loss_ax = plt.subplots()\n",
    "acc_ax = loss_ax.twinx()\n",
    "\n",
    "loss_ax.plot(hist.history['loss'], 'y', label='train loss')\n",
    "loss_ax.plot(hist.history['val_loss'], 'g', label='val loss')\n",
    "\n",
    "acc_ax.plot(hist.history['accuracy'], 'b', label='train acc')\n",
    "acc_ax.plot(hist.history['val_accuracy'], 'r', label='val acc')\n",
    "\n",
    "loss_ax.set_xlabel('epoch')\n",
    "\n",
    "loss_ax.set_ylabel('loss')\n",
    "acc_ax.set_ylabel('accuracy')\n",
    "\n",
    "loss_ax.legend(loc='upper left')\n",
    "acc_ax.legend(loc='lower left')\n",
    "\n",
    "plt.show()"
   ]
  },
  {
   "cell_type": "code",
   "execution_count": 238,
   "metadata": {},
   "outputs": [
    {
     "data": {
      "image/png": "[encoded data removed]",
      "text/plain": [
       "<Figure size 432x288 with 2 Axes>"
      ]
     },
     "metadata": {
      "needs_background": "dark"
     },
     "output_type": "display_data"
    }
   ],
   "source": [
    "fig, loss_ax = plt.subplots()\n",
    "acc_ax = loss_ax.twinx()\n",
    "\n",
    "loss_ax.plot(hist.history['loss'], 'y', label='train loss')\n",
    "loss_ax.plot(hist.history['val_loss'], 'g', label='val loss')\n",
    "\n",
    "acc_ax.plot(hist.history['accuracy'], 'b', label='train acc')\n",
    "acc_ax.plot(hist.history['val_accuracy'], 'r', label='val acc')\n",
    "\n",
    "loss_ax.set_xlabel('epoch')\n",
    "\n",
    "loss_ax.set_ylabel('loss')\n",
    "acc_ax.set_ylabel('accuracy')\n",
    "\n",
    "loss_ax.legend(loc='upper left')\n",
    "acc_ax.legend(loc='lower left')\n",
    "acc_ax.set_ylim(0, 1)\n",
    "loss_ax.set_ylim(0.55, 0.7)\n",
    "plt.show()"
   ]
  },
  {
   "cell_type": "code",
   "execution_count": 144,
   "metadata": {},
   "outputs": [
    {
     "name": "stdout",
     "output_type": "stream",
     "text": [
      "33/33 [==============================] - 0s 1ms/step\n",
      "1 0 0 1 1 0 0 1 1 1 0 1 1 1 0 0 1 1 0 1 0 0 0 0 1 0 1 1 1 0 \n",
      "1 0 0 1 0 0 1 0 0 0 0 1 1 0 0 0 1 1 0 0 1 1 0 0 1 0 1 1 1 0 "
     ]
    }
   ],
   "source": [
    "yhat = model.predict(X_test)\n",
    "for i in range(30):\n",
    "    print(1 if yhat[i] > 0.5 else 0, end=\" \")\n",
    "print()\n",
    "for i in y_test[:30]:\n",
    "    print(int(*i), end=\" \")"
   ]
  },
  {
   "cell_type": "code",
   "execution_count": 126,
   "metadata": {},
   "outputs": [],
   "source": [
    "model.save('model/Dense_Dropout_nobudget.h5')"
   ]
  },
  {
   "cell_type": "code",
   "execution_count": null,
   "metadata": {},
   "outputs": [],
   "source": []
  }
 ],
 "metadata": {
  "kernelspec": {
   "display_name": "Python 3.9.12 ('base')",
   "language": "python",
   "name": "python3"
  },
  "language_info": {
   "codemirror_mode": {
    "name": "ipython",
    "version": 3
   },
   "file_extension": ".py",
   "mimetype": "text/x-python",
   "name": "python",
   "nbconvert_exporter": "python",
   "pygments_lexer": "ipython3",
   "version": "3.9.12"
  },
  "orig_nbformat": 4,
  "vscode": {
   "interpreter": {
    "hash": "68b27da7ddeb61625eb32b27b233f0587b7aa507dfa408f4f61141179036d5a9"
   }
  }
 },
 "nbformat": 4,
 "nbformat_minor": 2
}
