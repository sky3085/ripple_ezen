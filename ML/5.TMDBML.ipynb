{
 "cells": [
  {
   "cell_type": "markdown",
   "metadata": {},
   "source": [
    "<pre>머신러닝 모델 개발한 파일(연구중)</pre>"
   ]
  },
  {
   "cell_type": "markdown",
   "metadata": {},
   "source": [
    "<pre>개봉예정영화 데이터: 장르, 개봉시기, 상영시간, 출연, 감독, 등급, 국가\n",
    "이중 장르, 출연, 감독, 국가를 데이터로 설정</pre>"
   ]
  },
  {
   "cell_type": "code",
   "execution_count": 114,
   "metadata": {},
   "outputs": [],
   "source": [
    "import pandas as pd\n",
    "import numpy as np"
   ]
  },
  {
   "cell_type": "code",
   "execution_count": 147,
   "metadata": {},
   "outputs": [],
   "source": [
    "# title budget genres country main_charactor director vote_average vote_count\n",
    "df = pd.concat([pd.read_csv('data/movie_genres_data.csv'), pd.read_csv('data/movie_data_ID.csv')], axis=1)\n",
    "# heatmap의 상관관계 있는 장르만 사용해보자\n",
    "# 모험, 애니메이션, 코미디, 드라마, 공포\n",
    "#df = df.drop(['액션', '판타지', '가족', 'SF', '스릴러', '범죄', '미스터리', '음악', '역사', '전쟁', '로맨스', '다큐멘터리', 'TV 영화', '서부'], axis=1)"
   ]
  },
  {
   "cell_type": "code",
   "execution_count": 148,
   "metadata": {},
   "outputs": [
    {
     "name": "stdout",
     "output_type": "stream",
     "text": [
      "380000000\n",
      "3646905\n",
      "3646897\n"
     ]
    }
   ],
   "source": [
    "# 로지스틱 회귀 모델(sigmoid) : weight초기화, dropout, ReLU, batch nomalization\n",
    "# 결과 : 흥행성공, 흥행 실패, 전체영화 의 평균 정확도\n",
    "# 1. 데이터셋 준비하기\n",
    "df.drop(['genres', 'country', 'vote_score', 'vote_count'], axis=1, inplace=True)\n",
    "df.vote_weight = df.vote_weight.apply(lambda x: 1 if x >= 5 else 0)\n",
    "\n",
    "print(df.budget.max())\n",
    "print(df.charactor.max())\n",
    "print(df.director.max())"
   ]
  },
  {
   "cell_type": "code",
   "execution_count": 149,
   "metadata": {},
   "outputs": [],
   "source": [
    "df.budget = df.budget / df.budget.max()\n",
    "df.charactor = df.charactor / df.charactor.max()\n",
    "df.director = df.director / df.director.max()"
   ]
  },
  {
   "cell_type": "code",
   "execution_count": 150,
   "metadata": {},
   "outputs": [],
   "source": [
    "df.to_csv('data/movie_data_ML_op.csv', index=False)"
   ]
  },
  {
   "cell_type": "code",
   "execution_count": 151,
   "metadata": {},
   "outputs": [],
   "source": [
    "df.drop(['title'], axis=1, inplace=True)\n",
    "#df.drop(['budget'], axis=1, inplace=True)"
   ]
  },
  {
   "cell_type": "code",
   "execution_count": 152,
   "metadata": {},
   "outputs": [
    {
     "data": {
      "text/html": [
       "<div>\n",
       "<style scoped>\n",
       "    .dataframe tbody tr th:only-of-type {\n",
       "        vertical-align: middle;\n",
       "    }\n",
       "\n",
       "    .dataframe tbody tr th {\n",
       "        vertical-align: top;\n",
       "    }\n",
       "\n",
       "    .dataframe thead th {\n",
       "        text-align: right;\n",
       "    }\n",
       "</style>\n",
       "<table border=\"1\" class=\"dataframe\">\n",
       "  <thead>\n",
       "    <tr style=\"text-align: right;\">\n",
       "      <th></th>\n",
       "      <th>액션</th>\n",
       "      <th>모험</th>\n",
       "      <th>판타지</th>\n",
       "      <th>가족</th>\n",
       "      <th>애니메이션</th>\n",
       "      <th>코미디</th>\n",
       "      <th>SF</th>\n",
       "      <th>드라마</th>\n",
       "      <th>공포</th>\n",
       "      <th>스릴러</th>\n",
       "      <th>...</th>\n",
       "      <th>역사</th>\n",
       "      <th>TV 영화</th>\n",
       "      <th>전쟁</th>\n",
       "      <th>로맨스</th>\n",
       "      <th>다큐멘터리</th>\n",
       "      <th>서부</th>\n",
       "      <th>budget</th>\n",
       "      <th>charactor</th>\n",
       "      <th>director</th>\n",
       "      <th>vote_weight</th>\n",
       "    </tr>\n",
       "  </thead>\n",
       "  <tbody>\n",
       "    <tr>\n",
       "      <th>0</th>\n",
       "      <td>1</td>\n",
       "      <td>1</td>\n",
       "      <td>1</td>\n",
       "      <td>0</td>\n",
       "      <td>0</td>\n",
       "      <td>0</td>\n",
       "      <td>0</td>\n",
       "      <td>0</td>\n",
       "      <td>0</td>\n",
       "      <td>0</td>\n",
       "      <td>...</td>\n",
       "      <td>0</td>\n",
       "      <td>0</td>\n",
       "      <td>0</td>\n",
       "      <td>0</td>\n",
       "      <td>0</td>\n",
       "      <td>0</td>\n",
       "      <td>0.657895</td>\n",
       "      <td>0.001068</td>\n",
       "      <td>0.015337</td>\n",
       "      <td>1</td>\n",
       "    </tr>\n",
       "  </tbody>\n",
       "</table>\n",
       "<p>1 rows × 23 columns</p>\n",
       "</div>"
      ],
      "text/plain": [
       "   액션  모험  판타지  가족  애니메이션  코미디  SF  드라마  공포  스릴러  ...  역사  TV 영화  전쟁  로맨스  \\\n",
       "0   1   1    1   0      0    0   0    0   0    0  ...   0      0   0    0   \n",
       "\n",
       "   다큐멘터리  서부    budget  charactor  director  vote_weight  \n",
       "0      0   0  0.657895   0.001068  0.015337            1  \n",
       "\n",
       "[1 rows x 23 columns]"
      ]
     },
     "execution_count": 152,
     "metadata": {},
     "output_type": "execute_result"
    }
   ],
   "source": [
    "df.head(1)"
   ]
  },
  {
   "cell_type": "code",
   "execution_count": 174,
   "metadata": {},
   "outputs": [],
   "source": [
    "df_one = pd.read_csv('data/movie_data_ID_One.csv')\n",
    "df_one.drop(['title', 'vote_score', 'vote_count'], axis=1, inplace=True)\n",
    "df_one.budget = df_one.budget / df_one.budget.max()\n",
    "df_one.charactor = df_one.charactor / df_one.charactor.max()\n",
    "df_one.director = df_one.director / df_one.director.max()\n",
    "df_one.genres = df_one.genres / df_one.genres.max()\n",
    "df_one.country = df_one.country / df_one.country.max()"
   ]
  },
  {
   "cell_type": "code",
   "execution_count": 175,
   "metadata": {},
   "outputs": [
    {
     "data": {
      "text/html": [
       "<div>\n",
       "<style scoped>\n",
       "    .dataframe tbody tr th:only-of-type {\n",
       "        vertical-align: middle;\n",
       "    }\n",
       "\n",
       "    .dataframe tbody tr th {\n",
       "        vertical-align: top;\n",
       "    }\n",
       "\n",
       "    .dataframe thead th {\n",
       "        text-align: right;\n",
       "    }\n",
       "</style>\n",
       "<table border=\"1\" class=\"dataframe\">\n",
       "  <thead>\n",
       "    <tr style=\"text-align: right;\">\n",
       "      <th></th>\n",
       "      <th>budget</th>\n",
       "      <th>genres</th>\n",
       "      <th>country</th>\n",
       "      <th>charactor</th>\n",
       "      <th>director</th>\n",
       "      <th>vote_weight</th>\n",
       "    </tr>\n",
       "  </thead>\n",
       "  <tbody>\n",
       "    <tr>\n",
       "      <th>0</th>\n",
       "      <td>0.657895</td>\n",
       "      <td>0.0026</td>\n",
       "      <td>0.013333</td>\n",
       "      <td>0.001068</td>\n",
       "      <td>0.015337</td>\n",
       "      <td>5.482992</td>\n",
       "    </tr>\n",
       "  </tbody>\n",
       "</table>\n",
       "</div>"
      ],
      "text/plain": [
       "     budget  genres   country  charactor  director  vote_weight\n",
       "0  0.657895  0.0026  0.013333   0.001068  0.015337     5.482992"
      ]
     },
     "execution_count": 175,
     "metadata": {},
     "output_type": "execute_result"
    }
   ],
   "source": [
    "df_one.head(1)"
   ]
  },
  {
   "cell_type": "code",
   "execution_count": 203,
   "metadata": {},
   "outputs": [
    {
     "name": "stdout",
     "output_type": "stream",
     "text": [
      "(5128, 6)\n"
     ]
    }
   ],
   "source": [
    "X = np.array(df_one)\n",
    "print(X.shape)\n"
   ]
  },
  {
   "cell_type": "code",
   "execution_count": 205,
   "metadata": {},
   "outputs": [
    {
     "name": "stdout",
     "output_type": "stream",
     "text": [
      "(5128, 5)\n",
      "(5128, 1)\n"
     ]
    }
   ],
   "source": [
    "y = X[:, 5:]\n",
    "X = X[:, :-1]\n",
    "print(X.shape)\n",
    "print(y.shape)"
   ]
  },
  {
   "cell_type": "code",
   "execution_count": 210,
   "metadata": {},
   "outputs": [],
   "source": [
    "# y_train : 흥행했는지(1) 안했는지(0)\n",
    "from sklearn.model_selection import train_test_split\n",
    "X_train, X_test, y_train, y_test = train_test_split(X, y, test_size=0.1)\n",
    "X_val = X_test[:513]\n",
    "y_val = y_test[:513]"
   ]
  },
  {
   "cell_type": "code",
   "execution_count": 211,
   "metadata": {},
   "outputs": [
    {
     "name": "stdout",
     "output_type": "stream",
     "text": [
      "(4615, 5)\n",
      "(4615, 1)\n",
      "(513, 5)\n",
      "(513, 1)\n",
      "(513, 5)\n",
      "(513, 1)\n"
     ]
    }
   ],
   "source": [
    "print(X_train.shape)\n",
    "print(y_train.shape)\n",
    "print(X_val.shape)\n",
    "print(y_val.shape)\n",
    "print(X_test.shape)\n",
    "print(y_test.shape)"
   ]
  },
  {
   "cell_type": "markdown",
   "metadata": {},
   "source": [
    "- 모델 구성 및 분석"
   ]
  },
  {
   "cell_type": "code",
   "execution_count": 212,
   "metadata": {},
   "outputs": [],
   "source": [
    "import matplotlib.pyplot as plt\n",
    "from tensorflow.keras.models import Sequential\n",
    "from tensorflow.keras.layers import Dense\n",
    "import matplotlib as mpl\n",
    "mpl.rcParams['axes.unicode_minus'] = False\n",
    "mpl.rcParams['font.family'] = 'Malgun Gothic'\n",
    "plt.rcParams.update({'text.color': \"black\",\n",
    "                    'axes.labelcolor': \"white\",\n",
    "                     'xtick.color': \"white\",\n",
    "                     'ytick.color': \"white\"\n",
    "                     })"
   ]
  },
  {
   "cell_type": "code",
   "execution_count": 213,
   "metadata": {},
   "outputs": [
    {
     "name": "stdout",
     "output_type": "stream",
     "text": [
      "Epoch 1/100\n",
      "145/145 [==============================] - 1s 3ms/step - loss: -9.4458 - accuracy: 0.0000e+00 - val_loss: -33.8272 - val_accuracy: 0.0000e+00\n",
      "Epoch 2/100\n",
      "145/145 [==============================] - 0s 2ms/step - loss: -120.5426 - accuracy: 0.0000e+00 - val_loss: -260.4409 - val_accuracy: 0.0000e+00\n",
      "Epoch 3/100\n",
      "145/145 [==============================] - 0s 3ms/step - loss: -553.6606 - accuracy: 0.0000e+00 - val_loss: -932.3823 - val_accuracy: 0.0000e+00\n",
      "Epoch 4/100\n",
      "145/145 [==============================] - 0s 2ms/step - loss: -1549.6183 - accuracy: 0.0000e+00 - val_loss: -2263.9136 - val_accuracy: 0.0000e+00\n",
      "Epoch 5/100\n",
      "145/145 [==============================] - 0s 2ms/step - loss: -3295.1174 - accuracy: 0.0000e+00 - val_loss: -4406.7559 - val_accuracy: 0.0000e+00\n",
      "Epoch 6/100\n",
      "145/145 [==============================] - 0s 2ms/step - loss: -5928.1396 - accuracy: 0.0000e+00 - val_loss: -7486.8408 - val_accuracy: 0.0000e+00\n",
      "Epoch 7/100\n",
      "145/145 [==============================] - 0s 2ms/step - loss: -9576.8818 - accuracy: 0.0000e+00 - val_loss: -11630.1445 - val_accuracy: 0.0000e+00\n",
      "Epoch 8/100\n",
      "145/145 [==============================] - 0s 2ms/step - loss: -14347.3203 - accuracy: 0.0000e+00 - val_loss: -16927.3906 - val_accuracy: 0.0000e+00\n",
      "Epoch 9/100\n",
      "145/145 [==============================] - 0s 2ms/step - loss: -20337.9648 - accuracy: 0.0000e+00 - val_loss: -23455.3047 - val_accuracy: 0.0000e+00\n",
      "Epoch 10/100\n",
      "145/145 [==============================] - 0s 2ms/step - loss: -27620.0527 - accuracy: 0.0000e+00 - val_loss: -31316.7266 - val_accuracy: 0.0000e+00\n",
      "Epoch 11/100\n",
      "145/145 [==============================] - 0s 2ms/step - loss: -36275.0078 - accuracy: 0.0000e+00 - val_loss: -40530.5000 - val_accuracy: 0.0000e+00\n",
      "Epoch 12/100\n",
      "145/145 [==============================] - 0s 3ms/step - loss: -46352.8633 - accuracy: 0.0000e+00 - val_loss: -51213.9609 - val_accuracy: 0.0000e+00\n",
      "Epoch 13/100\n",
      "145/145 [==============================] - 0s 2ms/step - loss: -57901.4102 - accuracy: 0.0000e+00 - val_loss: -63348.8281 - val_accuracy: 0.0000e+00\n",
      "Epoch 14/100\n",
      "145/145 [==============================] - 0s 2ms/step - loss: -70972.9922 - accuracy: 0.0000e+00 - val_loss: -77016.0625 - val_accuracy: 0.0000e+00\n",
      "Epoch 15/100\n",
      "145/145 [==============================] - 0s 2ms/step - loss: -85615.9141 - accuracy: 0.0000e+00 - val_loss: -92251.4688 - val_accuracy: 0.0000e+00\n",
      "Epoch 16/100\n",
      "145/145 [==============================] - 0s 2ms/step - loss: -101874.5156 - accuracy: 0.0000e+00 - val_loss: -109087.0469 - val_accuracy: 0.0000e+00\n",
      "Epoch 17/100\n",
      "145/145 [==============================] - 0s 3ms/step - loss: -119790.0547 - accuracy: 0.0000e+00 - val_loss: -127559.5000 - val_accuracy: 0.0000e+00\n",
      "Epoch 18/100\n",
      "145/145 [==============================] - 0s 2ms/step - loss: -139360.9844 - accuracy: 0.0000e+00 - val_loss: -147728.0469 - val_accuracy: 0.0000e+00\n",
      "Epoch 19/100\n",
      "145/145 [==============================] - 0s 2ms/step - loss: -160637.0469 - accuracy: 0.0000e+00 - val_loss: -169571.8594 - val_accuracy: 0.0000e+00\n",
      "Epoch 20/100\n",
      "145/145 [==============================] - 0s 3ms/step - loss: -183668.5625 - accuracy: 0.0000e+00 - val_loss: -193158.9531 - val_accuracy: 0.0000e+00\n",
      "Epoch 21/100\n",
      "145/145 [==============================] - 0s 2ms/step - loss: -208459.7344 - accuracy: 0.0000e+00 - val_loss: -218470.9531 - val_accuracy: 0.0000e+00\n",
      "Epoch 22/100\n",
      "145/145 [==============================] - 0s 2ms/step - loss: -235052.9375 - accuracy: 0.0000e+00 - val_loss: -245624.6719 - val_accuracy: 0.0000e+00\n",
      "Epoch 23/100\n",
      "145/145 [==============================] - 0s 2ms/step - loss: -263474.5938 - accuracy: 0.0000e+00 - val_loss: -274551.4375 - val_accuracy: 0.0000e+00\n",
      "Epoch 24/100\n",
      "145/145 [==============================] - 0s 2ms/step - loss: -293783.7188 - accuracy: 0.0000e+00 - val_loss: -305331.1250 - val_accuracy: 0.0000e+00\n",
      "Epoch 25/100\n",
      "145/145 [==============================] - 0s 2ms/step - loss: -325943.5312 - accuracy: 0.0000e+00 - val_loss: -338040.4375 - val_accuracy: 0.0000e+00\n",
      "Epoch 26/100\n",
      "145/145 [==============================] - 0s 2ms/step - loss: -360042.3750 - accuracy: 0.0000e+00 - val_loss: -372580.2500 - val_accuracy: 0.0000e+00\n",
      "Epoch 27/100\n",
      "145/145 [==============================] - 0s 2ms/step - loss: -396070.8125 - accuracy: 0.0000e+00 - val_loss: -409099.6562 - val_accuracy: 0.0000e+00\n",
      "Epoch 28/100\n",
      "145/145 [==============================] - 0s 2ms/step - loss: -434067.4688 - accuracy: 0.0000e+00 - val_loss: -447553.5938 - val_accuracy: 0.0000e+00\n",
      "Epoch 29/100\n",
      "145/145 [==============================] - 0s 3ms/step - loss: -474051.2500 - accuracy: 0.0000e+00 - val_loss: -487962.3438 - val_accuracy: 0.0000e+00\n",
      "Epoch 30/100\n",
      "145/145 [==============================] - 0s 2ms/step - loss: -516078.4062 - accuracy: 0.0000e+00 - val_loss: -530437.9375 - val_accuracy: 0.0000e+00\n",
      "Epoch 31/100\n",
      "145/145 [==============================] - 0s 2ms/step - loss: -560117.1250 - accuracy: 0.0000e+00 - val_loss: -574856.9375 - val_accuracy: 0.0000e+00\n",
      "Epoch 32/100\n",
      "145/145 [==============================] - 0s 2ms/step - loss: -606184.1875 - accuracy: 0.0000e+00 - val_loss: -621322.4375 - val_accuracy: 0.0000e+00\n",
      "Epoch 33/100\n",
      "145/145 [==============================] - 0s 2ms/step - loss: -654397.3125 - accuracy: 0.0000e+00 - val_loss: -669875.4375 - val_accuracy: 0.0000e+00\n",
      "Epoch 34/100\n",
      "145/145 [==============================] - 0s 2ms/step - loss: -704679.9375 - accuracy: 0.0000e+00 - val_loss: -720517.1250 - val_accuracy: 0.0000e+00\n",
      "Epoch 35/100\n",
      "145/145 [==============================] - 0s 2ms/step - loss: -757141.9375 - accuracy: 0.0000e+00 - val_loss: -773378.6875 - val_accuracy: 0.0000e+00\n",
      "Epoch 36/100\n",
      "145/145 [==============================] - 0s 2ms/step - loss: -811767.1250 - accuracy: 0.0000e+00 - val_loss: -828304.5000 - val_accuracy: 0.0000e+00\n",
      "Epoch 37/100\n",
      "145/145 [==============================] - 0s 2ms/step - loss: -868672.2500 - accuracy: 0.0000e+00 - val_loss: -885491.2500 - val_accuracy: 0.0000e+00\n",
      "Epoch 38/100\n",
      "145/145 [==============================] - 0s 2ms/step - loss: -927795.8125 - accuracy: 0.0000e+00 - val_loss: -944958.3125 - val_accuracy: 0.0000e+00\n",
      "Epoch 39/100\n",
      "145/145 [==============================] - 0s 3ms/step - loss: -989244.8125 - accuracy: 0.0000e+00 - val_loss: -1006648.1875 - val_accuracy: 0.0000e+00\n",
      "Epoch 40/100\n",
      "145/145 [==============================] - 0s 2ms/step - loss: -1052938.2500 - accuracy: 0.0000e+00 - val_loss: -1070573.8750 - val_accuracy: 0.0000e+00\n",
      "Epoch 41/100\n",
      "145/145 [==============================] - 0s 2ms/step - loss: -1118982.1250 - accuracy: 0.0000e+00 - val_loss: -1136848.0000 - val_accuracy: 0.0000e+00\n",
      "Epoch 42/100\n",
      "145/145 [==============================] - 0s 2ms/step - loss: -1187346.7500 - accuracy: 0.0000e+00 - val_loss: -1205438.8750 - val_accuracy: 0.0000e+00\n",
      "Epoch 43/100\n",
      "145/145 [==============================] - 0s 2ms/step - loss: -1258140.2500 - accuracy: 0.0000e+00 - val_loss: -1276441.8750 - val_accuracy: 0.0000e+00\n",
      "Epoch 44/100\n",
      "145/145 [==============================] - 0s 2ms/step - loss: -1331257.5000 - accuracy: 0.0000e+00 - val_loss: -1349798.7500 - val_accuracy: 0.0000e+00\n",
      "Epoch 45/100\n",
      "145/145 [==============================] - 0s 2ms/step - loss: -1406921.3750 - accuracy: 0.0000e+00 - val_loss: -1425570.2500 - val_accuracy: 0.0000e+00\n",
      "Epoch 46/100\n",
      "145/145 [==============================] - 0s 2ms/step - loss: -1485029.3750 - accuracy: 0.0000e+00 - val_loss: -1503751.2500 - val_accuracy: 0.0000e+00\n",
      "Epoch 47/100\n",
      "145/145 [==============================] - 0s 2ms/step - loss: -1565606.7500 - accuracy: 0.0000e+00 - val_loss: -1584450.5000 - val_accuracy: 0.0000e+00\n",
      "Epoch 48/100\n",
      "145/145 [==============================] - 0s 2ms/step - loss: -1648744.7500 - accuracy: 0.0000e+00 - val_loss: -1667762.8750 - val_accuracy: 0.0000e+00\n",
      "Epoch 49/100\n",
      "145/145 [==============================] - 0s 2ms/step - loss: -1734304.8750 - accuracy: 0.0000e+00 - val_loss: -1753405.7500 - val_accuracy: 0.0000e+00\n",
      "Epoch 50/100\n",
      "145/145 [==============================] - 0s 2ms/step - loss: -1822554.6250 - accuracy: 0.0000e+00 - val_loss: -1841610.6250 - val_accuracy: 0.0000e+00\n",
      "Epoch 51/100\n",
      "145/145 [==============================] - 0s 2ms/step - loss: -1913336.7500 - accuracy: 0.0000e+00 - val_loss: -1932450.3750 - val_accuracy: 0.0000e+00\n",
      "Epoch 52/100\n",
      "145/145 [==============================] - 0s 2ms/step - loss: -2006855.3750 - accuracy: 0.0000e+00 - val_loss: -2025952.6250 - val_accuracy: 0.0000e+00\n",
      "Epoch 53/100\n",
      "145/145 [==============================] - 0s 2ms/step - loss: -2102962.5000 - accuracy: 0.0000e+00 - val_loss: -2122208.2500 - val_accuracy: 0.0000e+00\n",
      "Epoch 54/100\n",
      "145/145 [==============================] - 0s 2ms/step - loss: -2201809.0000 - accuracy: 0.0000e+00 - val_loss: -2220836.0000 - val_accuracy: 0.0000e+00\n",
      "Epoch 55/100\n",
      "145/145 [==============================] - 0s 2ms/step - loss: -2303338.2500 - accuracy: 0.0000e+00 - val_loss: -2322428.7500 - val_accuracy: 0.0000e+00\n",
      "Epoch 56/100\n",
      "145/145 [==============================] - 0s 2ms/step - loss: -2407756.5000 - accuracy: 0.0000e+00 - val_loss: -2426751.0000 - val_accuracy: 0.0000e+00\n",
      "Epoch 57/100\n",
      "145/145 [==============================] - 0s 2ms/step - loss: -2514823.2500 - accuracy: 0.0000e+00 - val_loss: -2533695.7500 - val_accuracy: 0.0000e+00\n",
      "Epoch 58/100\n",
      "145/145 [==============================] - 0s 2ms/step - loss: -2624809.2500 - accuracy: 0.0000e+00 - val_loss: -2643555.2500 - val_accuracy: 0.0000e+00\n",
      "Epoch 59/100\n",
      "145/145 [==============================] - 0s 2ms/step - loss: -2737677.2500 - accuracy: 0.0000e+00 - val_loss: -2756235.0000 - val_accuracy: 0.0000e+00\n",
      "Epoch 60/100\n",
      "145/145 [==============================] - 0s 2ms/step - loss: -2853425.0000 - accuracy: 0.0000e+00 - val_loss: -2871796.7500 - val_accuracy: 0.0000e+00\n",
      "Epoch 61/100\n",
      "145/145 [==============================] - 0s 2ms/step - loss: -2971986.5000 - accuracy: 0.0000e+00 - val_loss: -2990205.7500 - val_accuracy: 0.0000e+00\n",
      "Epoch 62/100\n",
      "145/145 [==============================] - 0s 2ms/step - loss: -3093609.2500 - accuracy: 0.0000e+00 - val_loss: -3111477.0000 - val_accuracy: 0.0000e+00\n",
      "Epoch 63/100\n",
      "145/145 [==============================] - 0s 2ms/step - loss: -3218143.7500 - accuracy: 0.0000e+00 - val_loss: -3235751.2500 - val_accuracy: 0.0000e+00\n",
      "Epoch 64/100\n",
      "145/145 [==============================] - 0s 2ms/step - loss: -3345896.5000 - accuracy: 0.0000e+00 - val_loss: -3363280.0000 - val_accuracy: 0.0000e+00\n",
      "Epoch 65/100\n",
      "145/145 [==============================] - 0s 3ms/step - loss: -3476451.2500 - accuracy: 0.0000e+00 - val_loss: -3493543.2500 - val_accuracy: 0.0000e+00\n",
      "Epoch 66/100\n",
      "145/145 [==============================] - 0s 3ms/step - loss: -3610040.5000 - accuracy: 0.0000e+00 - val_loss: -3626664.7500 - val_accuracy: 0.0000e+00\n",
      "Epoch 67/100\n",
      "145/145 [==============================] - 0s 2ms/step - loss: -3746639.5000 - accuracy: 0.0000e+00 - val_loss: -3763221.7500 - val_accuracy: 0.0000e+00\n",
      "Epoch 68/100\n",
      "145/145 [==============================] - 0s 2ms/step - loss: -3886495.2500 - accuracy: 0.0000e+00 - val_loss: -3902227.7500 - val_accuracy: 0.0000e+00\n",
      "Epoch 69/100\n",
      "145/145 [==============================] - 0s 2ms/step - loss: -4029450.0000 - accuracy: 0.0000e+00 - val_loss: -4044748.7500 - val_accuracy: 0.0000e+00\n",
      "Epoch 70/100\n",
      "145/145 [==============================] - 0s 2ms/step - loss: -4175696.7500 - accuracy: 0.0000e+00 - val_loss: -4190662.5000 - val_accuracy: 0.0000e+00\n",
      "Epoch 71/100\n",
      "145/145 [==============================] - 0s 2ms/step - loss: -4325068.5000 - accuracy: 0.0000e+00 - val_loss: -4339378.0000 - val_accuracy: 0.0000e+00\n",
      "Epoch 72/100\n",
      "145/145 [==============================] - 0s 2ms/step - loss: -4477688.5000 - accuracy: 0.0000e+00 - val_loss: -4491649.5000 - val_accuracy: 0.0000e+00\n",
      "Epoch 73/100\n",
      "145/145 [==============================] - 0s 2ms/step - loss: -4633521.0000 - accuracy: 0.0000e+00 - val_loss: -4646695.5000 - val_accuracy: 0.0000e+00\n",
      "Epoch 74/100\n",
      "145/145 [==============================] - 0s 2ms/step - loss: -4792814.0000 - accuracy: 0.0000e+00 - val_loss: -4805288.0000 - val_accuracy: 0.0000e+00\n",
      "Epoch 75/100\n",
      "145/145 [==============================] - 0s 2ms/step - loss: -4955310.0000 - accuracy: 0.0000e+00 - val_loss: -4967444.0000 - val_accuracy: 0.0000e+00\n",
      "Epoch 76/100\n",
      "145/145 [==============================] - 0s 2ms/step - loss: -5121231.5000 - accuracy: 0.0000e+00 - val_loss: -5132748.0000 - val_accuracy: 0.0000e+00\n",
      "Epoch 77/100\n",
      "145/145 [==============================] - 0s 2ms/step - loss: -5290500.0000 - accuracy: 0.0000e+00 - val_loss: -5301331.0000 - val_accuracy: 0.0000e+00\n",
      "Epoch 78/100\n",
      "145/145 [==============================] - 0s 2ms/step - loss: -5463062.0000 - accuracy: 0.0000e+00 - val_loss: -5473250.0000 - val_accuracy: 0.0000e+00\n",
      "Epoch 79/100\n",
      "145/145 [==============================] - 0s 2ms/step - loss: -5639286.5000 - accuracy: 0.0000e+00 - val_loss: -5648352.0000 - val_accuracy: 0.0000e+00\n",
      "Epoch 80/100\n",
      "145/145 [==============================] - 0s 2ms/step - loss: -5818788.5000 - accuracy: 0.0000e+00 - val_loss: -5827294.0000 - val_accuracy: 0.0000e+00\n",
      "Epoch 81/100\n",
      "145/145 [==============================] - 0s 2ms/step - loss: -6001725.0000 - accuracy: 0.0000e+00 - val_loss: -6009338.5000 - val_accuracy: 0.0000e+00\n",
      "Epoch 82/100\n",
      "145/145 [==============================] - 0s 2ms/step - loss: -6187997.0000 - accuracy: 0.0000e+00 - val_loss: -6194805.5000 - val_accuracy: 0.0000e+00\n",
      "Epoch 83/100\n",
      "145/145 [==============================] - 0s 2ms/step - loss: -6377994.0000 - accuracy: 0.0000e+00 - val_loss: -6383948.5000 - val_accuracy: 0.0000e+00\n",
      "Epoch 84/100\n",
      "145/145 [==============================] - 0s 2ms/step - loss: -6571720.0000 - accuracy: 0.0000e+00 - val_loss: -6576817.5000 - val_accuracy: 0.0000e+00\n",
      "Epoch 85/100\n",
      "145/145 [==============================] - 0s 2ms/step - loss: -6768981.5000 - accuracy: 0.0000e+00 - val_loss: -6773000.0000 - val_accuracy: 0.0000e+00\n",
      "Epoch 86/100\n",
      "145/145 [==============================] - 0s 2ms/step - loss: -6970236.0000 - accuracy: 0.0000e+00 - val_loss: -6973238.0000 - val_accuracy: 0.0000e+00\n",
      "Epoch 87/100\n",
      "145/145 [==============================] - 0s 2ms/step - loss: -7174667.0000 - accuracy: 0.0000e+00 - val_loss: -7176572.0000 - val_accuracy: 0.0000e+00\n",
      "Epoch 88/100\n",
      "145/145 [==============================] - 0s 2ms/step - loss: -7382799.5000 - accuracy: 0.0000e+00 - val_loss: -7383786.5000 - val_accuracy: 0.0000e+00\n",
      "Epoch 89/100\n",
      "145/145 [==============================] - 0s 2ms/step - loss: -7594801.5000 - accuracy: 0.0000e+00 - val_loss: -7594331.5000 - val_accuracy: 0.0000e+00\n",
      "Epoch 90/100\n",
      "145/145 [==============================] - 0s 2ms/step - loss: -7810794.0000 - accuracy: 0.0000e+00 - val_loss: -7809317.0000 - val_accuracy: 0.0000e+00\n",
      "Epoch 91/100\n",
      "145/145 [==============================] - 0s 2ms/step - loss: -8030443.0000 - accuracy: 0.0000e+00 - val_loss: -8027749.5000 - val_accuracy: 0.0000e+00\n",
      "Epoch 92/100\n",
      "145/145 [==============================] - 0s 2ms/step - loss: -8253814.5000 - accuracy: 0.0000e+00 - val_loss: -8249495.5000 - val_accuracy: 0.0000e+00\n",
      "Epoch 93/100\n",
      "145/145 [==============================] - 0s 2ms/step - loss: -8481081.0000 - accuracy: 0.0000e+00 - val_loss: -8475917.0000 - val_accuracy: 0.0000e+00\n",
      "Epoch 94/100\n",
      "145/145 [==============================] - 0s 2ms/step - loss: -8712402.0000 - accuracy: 0.0000e+00 - val_loss: -8706092.0000 - val_accuracy: 0.0000e+00\n",
      "Epoch 95/100\n",
      "145/145 [==============================] - 0s 2ms/step - loss: -8947402.0000 - accuracy: 0.0000e+00 - val_loss: -8939323.0000 - val_accuracy: 0.0000e+00\n",
      "Epoch 96/100\n",
      "145/145 [==============================] - 0s 2ms/step - loss: -9186282.0000 - accuracy: 0.0000e+00 - val_loss: -9176912.0000 - val_accuracy: 0.0000e+00\n",
      "Epoch 97/100\n",
      "145/145 [==============================] - 0s 2ms/step - loss: -9429406.0000 - accuracy: 0.0000e+00 - val_loss: -9418711.0000 - val_accuracy: 0.0000e+00\n",
      "Epoch 98/100\n",
      "145/145 [==============================] - 0s 2ms/step - loss: -9676523.0000 - accuracy: 0.0000e+00 - val_loss: -9664207.0000 - val_accuracy: 0.0000e+00\n",
      "Epoch 99/100\n",
      "145/145 [==============================] - 0s 2ms/step - loss: -9927434.0000 - accuracy: 0.0000e+00 - val_loss: -9913926.0000 - val_accuracy: 0.0000e+00\n",
      "Epoch 100/100\n",
      "145/145 [==============================] - 0s 2ms/step - loss: -10182211.0000 - accuracy: 0.0000e+00 - val_loss: -10167069.0000 - val_accuracy: 0.0000e+00\n",
      "17/17 [==============================] - 0s 1ms/step - loss: -10167069.0000 - accuracy: 0.0000e+00\n",
      "손실 : -10167069.0\n",
      "정확도 : 0.0 %\n",
      "--------------------\n"
     ]
    },
    {
     "data": {
      "image/png": "[encoded data removed]",
      "text/plain": [
       "<Figure size 432x288 with 2 Axes>"
      ]
     },
     "metadata": {
      "needs_background": "dark"
     },
     "output_type": "display_data"
    }
   ],
   "source": [
    "from tensorflow.keras import regularizers\n",
    "from tensorflow.keras.layers import Dropout\n",
    "import tensorflow as tf\n",
    "model = Sequential()\n",
    "# 1. 과적합 : train acc 85%, test acc 65% => Node수와 Hidden Layer수를 줄여야함\n",
    "#model.add(Dense(64, activation='relu', input_dim=22))\n",
    "#model.add(Dense(128, activation='relu'))\n",
    "#model.add(Dense(64, activation='relu'))\n",
    "\n",
    "# 2. Dense의 한계치 : test acc 68% => 다른 모델을 사용해야함, L2 Regularization : test acc 69%\n",
    "#model.add(Dense(32, activation='relu', input_dim=8))\n",
    "#model.add(Dense(1, activation='sigmoid'))\n",
    "\n",
    "tf.keras.regularizers.L2(\n",
    "    l2=0.01\n",
    ")\n",
    "# Dropout 68.5%\n",
    "model.add(Dense(32, activation='relu', input_dim=5))\n",
    "model.add(Dense(10, kernel_regularizer='l2'))\n",
    "model.add(Dense(1, activation='sigmoid'))\n",
    "\n",
    "model.compile(loss='binary_crossentropy', optimizer='adam', metrics=['accuracy'])\n",
    "\n",
    "hist = model.fit(X_train, y_train, epochs=100, batch_size=32,\n",
    "                 validation_data=(X_val, y_val))\n",
    "\n",
    "loss_and_metrics = model.evaluate(X_test, y_test, batch_size=32)\n",
    "print('손실 :', loss_and_metrics[0])\n",
    "print('정확도 :', loss_and_metrics[1] * 100, '%')\n",
    "print(\"-\" * 20)\n",
    "\n",
    "fig, loss_ax = plt.subplots()\n",
    "acc_ax = loss_ax.twinx()\n",
    "\n",
    "loss_ax.plot(hist.history['loss'], 'y', label='train loss')\n",
    "loss_ax.plot(hist.history['val_loss'], 'g', label='val loss')\n",
    "\n",
    "acc_ax.plot(hist.history['accuracy'], 'b', label='train acc')\n",
    "acc_ax.plot(hist.history['val_accuracy'], 'r', label='val acc')\n",
    "\n",
    "loss_ax.set_xlabel('epoch')\n",
    "\n",
    "loss_ax.set_ylabel('loss')\n",
    "acc_ax.set_ylabel('accuracy')\n",
    "\n",
    "loss_ax.legend(loc='upper left')\n",
    "acc_ax.legend(loc='lower left')\n",
    "\n",
    "plt.show()"
   ]
  },
  {
   "cell_type": "code",
   "execution_count": 144,
   "metadata": {},
   "outputs": [
    {
     "name": "stdout",
     "output_type": "stream",
     "text": [
      "33/33 [==============================] - 0s 1ms/step\n",
      "1 0 0 1 1 0 0 1 1 1 0 1 1 1 0 0 1 1 0 1 0 0 0 0 1 0 1 1 1 0 \n",
      "1 0 0 1 0 0 1 0 0 0 0 1 1 0 0 0 1 1 0 0 1 1 0 0 1 0 1 1 1 0 "
     ]
    }
   ],
   "source": [
    "yhat = model.predict(X_test)\n",
    "for i in range(30):\n",
    "    print(1 if yhat[i] > 0.5 else 0, end=\" \")\n",
    "print()\n",
    "for i in y_test[:30]:\n",
    "    print(int(*i), end=\" \")"
   ]
  },
  {
   "cell_type": "code",
   "execution_count": 126,
   "metadata": {},
   "outputs": [],
   "source": [
    "model.save('model/Dense_Dropout_nobudget.h5')"
   ]
  },
  {
   "cell_type": "code",
   "execution_count": null,
   "metadata": {},
   "outputs": [],
   "source": []
  }
 ],
 "metadata": {
  "kernelspec": {
   "display_name": "Python 3.9.12 ('base')",
   "language": "python",
   "name": "python3"
  },
  "language_info": {
   "codemirror_mode": {
    "name": "ipython",
    "version": 3
   },
   "file_extension": ".py",
   "mimetype": "text/x-python",
   "name": "python",
   "nbconvert_exporter": "python",
   "pygments_lexer": "ipython3",
   "version": "3.9.12"
  },
  "orig_nbformat": 4,
  "vscode": {
   "interpreter": {
    "hash": "68b27da7ddeb61625eb32b27b233f0587b7aa507dfa408f4f61141179036d5a9"
   }
  }
 },
 "nbformat": 4,
 "nbformat_minor": 2
}
