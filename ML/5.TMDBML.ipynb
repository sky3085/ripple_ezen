{
 "cells": [
  {
   "cell_type": "code",
   "execution_count": 45,
   "metadata": {},
   "outputs": [],
   "source": [
    "import pandas as pd\n",
    "import numpy as np"
   ]
  },
  {
   "cell_type": "code",
   "execution_count": 46,
   "metadata": {},
   "outputs": [],
   "source": [
    "# title budget genres country main_charactor director vote_average vote_count\n",
    "df = pd.concat([pd.read_csv('data/movie_genres_data.csv'), pd.read_csv('data/movie_data_ID.csv')], axis=1)"
   ]
  },
  {
   "cell_type": "code",
   "execution_count": 47,
   "metadata": {},
   "outputs": [],
   "source": [
    "# heatmap의 상관관계 있는 장르만 사용해보자\n",
    "# 액션, 모험, 판타지 sf, 드라마 공포, 스릴러, 범죄, 로맨스\n",
    "df = df.drop(['Family','Animation','Comedy','History','TV Movie','War','Documentary','Western', 'Mystery'], axis=1)"
   ]
  },
  {
   "cell_type": "code",
   "execution_count": 48,
   "metadata": {},
   "outputs": [],
   "source": [
    "# 로지스틱 회귀 모델(sigmoid) : weight초기화, dropout, ReLU, batch nomalization\n",
    "# 결과 : 흥행성공, 흥행 실패, 전체영화 의 평균 정확도\n",
    "# 1. 데이터셋 준비하기\n",
    "df.drop(['genres', 'country', 'vote_score', 'vote_count'], axis=1, inplace=True)\n",
    "df.vote_weight = df.vote_weight.apply(lambda x: 1 if x >= 11 else 0)"
   ]
  },
  {
   "cell_type": "code",
   "execution_count": 49,
   "metadata": {},
   "outputs": [],
   "source": [
    "df.budget = df.budget / df.budget.max()\n",
    "df.charactor = df.charactor / df.charactor.max()\n",
    "df.director = df.director / df.director.max()"
   ]
  },
  {
   "cell_type": "code",
   "execution_count": 50,
   "metadata": {},
   "outputs": [],
   "source": [
    "df.to_csv('data/movie_data_ML_op.csv', index=False)"
   ]
  },
  {
   "cell_type": "code",
   "execution_count": 51,
   "metadata": {},
   "outputs": [],
   "source": [
    "df.drop(['title'], axis=1, inplace=True)"
   ]
  },
  {
   "cell_type": "code",
   "execution_count": 52,
   "metadata": {},
   "outputs": [],
   "source": [
    "X = np.array(df)"
   ]
  },
  {
   "cell_type": "code",
   "execution_count": 53,
   "metadata": {},
   "outputs": [],
   "source": [
    "# y_train : 흥행했는지(1) 안했는지(0)\n",
    "from sklearn.model_selection import train_test_split\n",
    "y = X[:, 13:]\n",
    "X = X[:, :-1]\n",
    "X_train, X_test, y_train, y_test = train_test_split(X, y, test_size=0.2)\n",
    "X_val = X_test[:513]\n",
    "y_val = y_test[:513]"
   ]
  },
  {
   "cell_type": "code",
   "execution_count": 54,
   "metadata": {},
   "outputs": [
    {
     "name": "stdout",
     "output_type": "stream",
     "text": [
      "(4102, 13)\n",
      "(4102, 1)\n",
      "(513, 13)\n",
      "(513, 1)\n",
      "(1026, 13)\n",
      "(1026, 1)\n"
     ]
    }
   ],
   "source": [
    "print(X_train.shape)\n",
    "print(y_train.shape)\n",
    "print(X_val.shape)\n",
    "print(y_val.shape)\n",
    "print(X_test.shape)\n",
    "print(y_test.shape)"
   ]
  },
  {
   "cell_type": "markdown",
   "metadata": {},
   "source": [
    "- 모델 구성 및 분석"
   ]
  },
  {
   "cell_type": "code",
   "execution_count": 55,
   "metadata": {},
   "outputs": [],
   "source": [
    "import matplotlib.pyplot as plt\n",
    "from tensorflow.keras.models import Sequential\n",
    "from tensorflow.keras.layers import Dense\n",
    "import matplotlib as mpl\n",
    "mpl.rcParams['axes.unicode_minus'] = False\n",
    "mpl.rcParams['font.family'] = 'Malgun Gothic'\n",
    "plt.rcParams.update({'text.color': \"black\",\n",
    "                    'axes.labelcolor': \"white\",\n",
    "                     'xtick.color': \"white\",\n",
    "                     'ytick.color': \"white\"\n",
    "                     })"
   ]
  },
  {
   "cell_type": "code",
   "execution_count": 56,
   "metadata": {},
   "outputs": [
    {
     "name": "stdout",
     "output_type": "stream",
     "text": [
      "Epoch 1/50\n",
      "129/129 [==============================] - 2s 7ms/step - loss: 0.6837 - accuracy: 0.5953 - val_loss: 0.6745 - val_accuracy: 0.6238\n",
      "Epoch 2/50\n",
      "129/129 [==============================] - 1s 4ms/step - loss: 0.6579 - accuracy: 0.6533 - val_loss: 0.6507 - val_accuracy: 0.6550\n",
      "Epoch 3/50\n",
      "129/129 [==============================] - 1s 4ms/step - loss: 0.6347 - accuracy: 0.6738 - val_loss: 0.6292 - val_accuracy: 0.6686\n",
      "Epoch 4/50\n",
      "129/129 [==============================] - 0s 4ms/step - loss: 0.6163 - accuracy: 0.6892 - val_loss: 0.6181 - val_accuracy: 0.6589\n",
      "Epoch 5/50\n",
      "129/129 [==============================] - 1s 5ms/step - loss: 0.6045 - accuracy: 0.6880 - val_loss: 0.6091 - val_accuracy: 0.6569\n",
      "Epoch 6/50\n",
      "129/129 [==============================] - 1s 4ms/step - loss: 0.5971 - accuracy: 0.6882 - val_loss: 0.6009 - val_accuracy: 0.6745\n",
      "Epoch 7/50\n",
      "129/129 [==============================] - 0s 4ms/step - loss: 0.5922 - accuracy: 0.6906 - val_loss: 0.5990 - val_accuracy: 0.6686\n",
      "Epoch 8/50\n",
      "129/129 [==============================] - 0s 4ms/step - loss: 0.5892 - accuracy: 0.6911 - val_loss: 0.5952 - val_accuracy: 0.6784\n",
      "Epoch 9/50\n",
      "129/129 [==============================] - 1s 4ms/step - loss: 0.5883 - accuracy: 0.6931 - val_loss: 0.5957 - val_accuracy: 0.6706\n",
      "Epoch 10/50\n",
      "129/129 [==============================] - 0s 3ms/step - loss: 0.5872 - accuracy: 0.6894 - val_loss: 0.5953 - val_accuracy: 0.6725\n",
      "Epoch 11/50\n",
      "129/129 [==============================] - 0s 4ms/step - loss: 0.5864 - accuracy: 0.6877 - val_loss: 0.5941 - val_accuracy: 0.6803\n",
      "Epoch 12/50\n",
      "129/129 [==============================] - 0s 4ms/step - loss: 0.5863 - accuracy: 0.6897 - val_loss: 0.5938 - val_accuracy: 0.6784\n",
      "Epoch 13/50\n",
      "129/129 [==============================] - 0s 4ms/step - loss: 0.5857 - accuracy: 0.6938 - val_loss: 0.5968 - val_accuracy: 0.6667\n",
      "Epoch 14/50\n",
      "129/129 [==============================] - 0s 4ms/step - loss: 0.5857 - accuracy: 0.6899 - val_loss: 0.5934 - val_accuracy: 0.6803\n",
      "Epoch 15/50\n",
      "129/129 [==============================] - 0s 4ms/step - loss: 0.5857 - accuracy: 0.6926 - val_loss: 0.5942 - val_accuracy: 0.6725\n",
      "Epoch 16/50\n",
      "129/129 [==============================] - 1s 4ms/step - loss: 0.5852 - accuracy: 0.6916 - val_loss: 0.5927 - val_accuracy: 0.6745\n",
      "Epoch 17/50\n",
      "129/129 [==============================] - 0s 4ms/step - loss: 0.5857 - accuracy: 0.6936 - val_loss: 0.5935 - val_accuracy: 0.6803\n",
      "Epoch 18/50\n",
      "129/129 [==============================] - 0s 3ms/step - loss: 0.5852 - accuracy: 0.6919 - val_loss: 0.5956 - val_accuracy: 0.6725\n",
      "Epoch 19/50\n",
      "129/129 [==============================] - 0s 4ms/step - loss: 0.5854 - accuracy: 0.6914 - val_loss: 0.5959 - val_accuracy: 0.6725\n",
      "Epoch 20/50\n",
      "129/129 [==============================] - 0s 3ms/step - loss: 0.5852 - accuracy: 0.6911 - val_loss: 0.5927 - val_accuracy: 0.6784\n",
      "Epoch 21/50\n",
      "129/129 [==============================] - 0s 3ms/step - loss: 0.5854 - accuracy: 0.6916 - val_loss: 0.5952 - val_accuracy: 0.6725\n",
      "Epoch 22/50\n",
      "129/129 [==============================] - 0s 3ms/step - loss: 0.5851 - accuracy: 0.6887 - val_loss: 0.5964 - val_accuracy: 0.6667\n",
      "Epoch 23/50\n",
      "129/129 [==============================] - 0s 3ms/step - loss: 0.5855 - accuracy: 0.6894 - val_loss: 0.5951 - val_accuracy: 0.6725\n",
      "Epoch 24/50\n",
      "129/129 [==============================] - 0s 3ms/step - loss: 0.5852 - accuracy: 0.6933 - val_loss: 0.5922 - val_accuracy: 0.6725\n",
      "Epoch 25/50\n",
      "129/129 [==============================] - 0s 4ms/step - loss: 0.5854 - accuracy: 0.6926 - val_loss: 0.5988 - val_accuracy: 0.6647\n",
      "Epoch 26/50\n",
      "129/129 [==============================] - 0s 3ms/step - loss: 0.5853 - accuracy: 0.6923 - val_loss: 0.5955 - val_accuracy: 0.6725\n",
      "Epoch 27/50\n",
      "129/129 [==============================] - 0s 3ms/step - loss: 0.5851 - accuracy: 0.6916 - val_loss: 0.5936 - val_accuracy: 0.6706\n",
      "Epoch 28/50\n",
      "129/129 [==============================] - 0s 3ms/step - loss: 0.5850 - accuracy: 0.6921 - val_loss: 0.5944 - val_accuracy: 0.6725\n",
      "Epoch 29/50\n",
      "129/129 [==============================] - 0s 3ms/step - loss: 0.5847 - accuracy: 0.6902 - val_loss: 0.5934 - val_accuracy: 0.6706\n",
      "Epoch 30/50\n",
      "129/129 [==============================] - 0s 3ms/step - loss: 0.5847 - accuracy: 0.6914 - val_loss: 0.5945 - val_accuracy: 0.6725\n",
      "Epoch 31/50\n",
      "129/129 [==============================] - 0s 3ms/step - loss: 0.5845 - accuracy: 0.6904 - val_loss: 0.5913 - val_accuracy: 0.6784\n",
      "Epoch 32/50\n",
      "129/129 [==============================] - 0s 2ms/step - loss: 0.5848 - accuracy: 0.6909 - val_loss: 0.5949 - val_accuracy: 0.6725\n",
      "Epoch 33/50\n",
      "129/129 [==============================] - 0s 3ms/step - loss: 0.5845 - accuracy: 0.6904 - val_loss: 0.5932 - val_accuracy: 0.6667\n",
      "Epoch 34/50\n",
      "129/129 [==============================] - 0s 3ms/step - loss: 0.5844 - accuracy: 0.6926 - val_loss: 0.5936 - val_accuracy: 0.6706\n",
      "Epoch 35/50\n",
      "129/129 [==============================] - 0s 3ms/step - loss: 0.5848 - accuracy: 0.6906 - val_loss: 0.5920 - val_accuracy: 0.6764\n",
      "Epoch 36/50\n",
      "129/129 [==============================] - 0s 3ms/step - loss: 0.5844 - accuracy: 0.6943 - val_loss: 0.5942 - val_accuracy: 0.6725\n",
      "Epoch 37/50\n",
      "129/129 [==============================] - 0s 2ms/step - loss: 0.5841 - accuracy: 0.6897 - val_loss: 0.5961 - val_accuracy: 0.6667\n",
      "Epoch 38/50\n",
      "129/129 [==============================] - 0s 2ms/step - loss: 0.5840 - accuracy: 0.6923 - val_loss: 0.5961 - val_accuracy: 0.6667\n",
      "Epoch 39/50\n",
      "129/129 [==============================] - 0s 3ms/step - loss: 0.5849 - accuracy: 0.6875 - val_loss: 0.5930 - val_accuracy: 0.6686\n",
      "Epoch 40/50\n",
      "129/129 [==============================] - 0s 3ms/step - loss: 0.5840 - accuracy: 0.6926 - val_loss: 0.5931 - val_accuracy: 0.6686\n",
      "Epoch 41/50\n",
      "129/129 [==============================] - 0s 3ms/step - loss: 0.5839 - accuracy: 0.6928 - val_loss: 0.5931 - val_accuracy: 0.6706\n",
      "Epoch 42/50\n",
      "129/129 [==============================] - 0s 2ms/step - loss: 0.5836 - accuracy: 0.6926 - val_loss: 0.5915 - val_accuracy: 0.6784\n",
      "Epoch 43/50\n",
      "129/129 [==============================] - 0s 2ms/step - loss: 0.5839 - accuracy: 0.6921 - val_loss: 0.5946 - val_accuracy: 0.6667\n",
      "Epoch 44/50\n",
      "129/129 [==============================] - 0s 2ms/step - loss: 0.5836 - accuracy: 0.6909 - val_loss: 0.5910 - val_accuracy: 0.6725\n",
      "Epoch 45/50\n",
      "129/129 [==============================] - 0s 2ms/step - loss: 0.5836 - accuracy: 0.6897 - val_loss: 0.5923 - val_accuracy: 0.6647\n",
      "Epoch 46/50\n",
      "129/129 [==============================] - 0s 2ms/step - loss: 0.5833 - accuracy: 0.6914 - val_loss: 0.5904 - val_accuracy: 0.6784\n",
      "Epoch 47/50\n",
      "129/129 [==============================] - 0s 2ms/step - loss: 0.5838 - accuracy: 0.6931 - val_loss: 0.5934 - val_accuracy: 0.6725\n",
      "Epoch 48/50\n",
      "129/129 [==============================] - 0s 2ms/step - loss: 0.5831 - accuracy: 0.6899 - val_loss: 0.5947 - val_accuracy: 0.6667\n",
      "Epoch 49/50\n",
      "129/129 [==============================] - 0s 3ms/step - loss: 0.5837 - accuracy: 0.6911 - val_loss: 0.5919 - val_accuracy: 0.6647\n",
      "Epoch 50/50\n",
      "129/129 [==============================] - 0s 2ms/step - loss: 0.5837 - accuracy: 0.6926 - val_loss: 0.5932 - val_accuracy: 0.6706\n",
      "33/33 [==============================] - 0s 2ms/step - loss: 0.5810 - accuracy: 0.6891\n",
      "손실 : 0.5810320377349854\n",
      "정확도 : 68.90838146209717 %\n",
      "--------------------\n"
     ]
    },
    {
     "data": {
      "image/png": "[encoded data removed]",
      "text/plain": [
       "<Figure size 432x288 with 2 Axes>"
      ]
     },
     "metadata": {
      "needs_background": "dark"
     },
     "output_type": "display_data"
    }
   ],
   "source": [
    "from tensorflow.keras import regularizers\n",
    "from tensorflow.keras.layers import Dropout\n",
    "model = Sequential()\n",
    "# 1. 과적합 : train acc 85%, test acc 65% => Node수와 Hidden Layer수를 줄여야함\n",
    "#model.add(Dense(64, activation='relu', input_dim=22))\n",
    "#model.add(Dense(128, activation='relu'))\n",
    "#model.add(Dense(64, activation='relu'))\n",
    "\n",
    "# 2. Dense의 한계치 : test acc 68% => 다른 모델을 사용해야함, L2 Regularization : test acc 69%\n",
    "#model.add(Dense(32, activation='relu', input_dim=22))\n",
    "#model.add(Dense(1, activation='sigmoid'))\n",
    "\n",
    "# Dropout 68.5%\n",
    "model.add(Dense(32, activation='relu', input_dim=13))\n",
    "model.add(Dense(1, activation='sigmoid'))\n",
    "\n",
    "model.compile(loss='binary_crossentropy', optimizer='adam', metrics=['accuracy'])\n",
    "\n",
    "hist = model.fit(X_train, y_train, epochs=50, batch_size=32,\n",
    "                 validation_data=(X_val, y_val))\n",
    "\n",
    "loss_and_metrics = model.evaluate(X_test, y_test, batch_size=32)\n",
    "print('손실 :', loss_and_metrics[0])\n",
    "print('정확도 :', loss_and_metrics[1] * 100, '%')\n",
    "print(\"-\" * 20)\n",
    "\n",
    "fig, loss_ax = plt.subplots()\n",
    "acc_ax = loss_ax.twinx()\n",
    "\n",
    "loss_ax.plot(hist.history['loss'], 'y', label='train loss')\n",
    "loss_ax.plot(hist.history['val_loss'], 'g', label='val loss')\n",
    "\n",
    "acc_ax.plot(hist.history['accuracy'], 'b', label='train acc')\n",
    "acc_ax.plot(hist.history['val_accuracy'], 'r', label='val acc')\n",
    "\n",
    "loss_ax.set_xlabel('epoch')\n",
    "\n",
    "loss_ax.set_ylabel('loss')\n",
    "acc_ax.set_ylabel('accuracy')\n",
    "\n",
    "loss_ax.legend(loc='upper left')\n",
    "acc_ax.legend(loc='lower left')\n",
    "\n",
    "plt.show()"
   ]
  },
  {
   "cell_type": "code",
   "execution_count": 57,
   "metadata": {},
   "outputs": [
    {
     "name": "stdout",
     "output_type": "stream",
     "text": [
      "33/33 [==============================] - 0s 2ms/step\n",
      "0 1 1 1 1 1 1 1 0 1 \n",
      "1 1 0 1 0 1 1 0 0 1 "
     ]
    }
   ],
   "source": [
    "yhat = model.predict(X_test)\n",
    "for i in range(10):\n",
    "    print(1 if yhat[i] > 0.5 else 0, end=\" \")\n",
    "print()\n",
    "for i in y_test[:10]:\n",
    "    print(int(*i), end=\" \")"
   ]
  },
  {
   "cell_type": "code",
   "execution_count": 58,
   "metadata": {},
   "outputs": [],
   "source": [
    "model.save('model/Dense_Dropout.h5')"
   ]
  },
  {
   "cell_type": "code",
   "execution_count": 59,
   "metadata": {},
   "outputs": [],
   "source": [
    "# tensorflow.js 용\n",
    "import tensorflowjs as tfjs\n",
    "tfjs.converters.save_keras_model(model, 'model/Dense_Dropout_js')"
   ]
  }
 ],
 "metadata": {
  "kernelspec": {
   "display_name": "Python 3.9.12 ('base')",
   "language": "python",
   "name": "python3"
  },
  "language_info": {
   "codemirror_mode": {
    "name": "ipython",
    "version": 3
   },
   "file_extension": ".py",
   "mimetype": "text/x-python",
   "name": "python",
   "nbconvert_exporter": "python",
   "pygments_lexer": "ipython3",
   "version": "3.9.12"
  },
  "orig_nbformat": 4,
  "vscode": {
   "interpreter": {
    "hash": "68b27da7ddeb61625eb32b27b233f0587b7aa507dfa408f4f61141179036d5a9"
   }
  }
 },
 "nbformat": 4,
 "nbformat_minor": 2
}
