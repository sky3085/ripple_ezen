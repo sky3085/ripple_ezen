{
 "cells": [
  {
   "cell_type": "code",
   "execution_count": 80,
   "metadata": {},
   "outputs": [],
   "source": [
    "import pandas as pd\n",
    "import numpy as np"
   ]
  },
  {
   "cell_type": "code",
   "execution_count": 81,
   "metadata": {},
   "outputs": [],
   "source": [
    "# title budget genres country main_charactor director vote_average vote_count\n",
    "df = pd.concat([pd.read_csv('data/movie_genres_data.csv'), pd.read_csv('data/movie_data_ID.csv')], axis=1)"
   ]
  },
  {
   "cell_type": "code",
   "execution_count": 82,
   "metadata": {},
   "outputs": [],
   "source": [
    "# 로지스틱 회귀 모델(sigmoid) : weight초기화, dropout, ReLU, batch nomalization\n",
    "# 결과 : 흥행성공, 흥행 실패, 전체영화 의 평균 정확도\n",
    "# 1. 데이터셋 준비하기\n",
    "df.drop(['title', 'genres', 'country', 'vote_score', 'vote_count'], axis=1, inplace=True)\n",
    "df.vote_weight = df.vote_weight.apply(lambda x: 1 if x >= 11 else 0)"
   ]
  },
  {
   "cell_type": "code",
   "execution_count": 83,
   "metadata": {},
   "outputs": [],
   "source": [
    "df.budget = df.budget / df.budget.max()\n",
    "df.charactor = df.charactor / df.charactor.max()\n",
    "df.director = df.director / df.director.max()"
   ]
  },
  {
   "cell_type": "code",
   "execution_count": 84,
   "metadata": {},
   "outputs": [],
   "source": [
    "X = np.array(df)"
   ]
  },
  {
   "cell_type": "code",
   "execution_count": 85,
   "metadata": {},
   "outputs": [],
   "source": [
    "# y_train : 흥행했는지(1) 안했는지(0)\n",
    "from sklearn.model_selection import train_test_split\n",
    "y = X[:, 22:]\n",
    "X = X[:, :-1]\n",
    "X_train, X_test, y_train, y_test = train_test_split(X, y, test_size=0.2)\n",
    "X_val = X_test[:513]\n",
    "y_val = y_test[:513]"
   ]
  },
  {
   "cell_type": "code",
   "execution_count": 86,
   "metadata": {},
   "outputs": [
    {
     "name": "stdout",
     "output_type": "stream",
     "text": [
      "(4104, 22)\n",
      "(4104, 1)\n",
      "(513, 22)\n",
      "(513, 1)\n",
      "(1026, 22)\n",
      "(1026, 1)\n"
     ]
    }
   ],
   "source": [
    "print(X_train.shape)\n",
    "print(y_train.shape)\n",
    "print(X_val.shape)\n",
    "print(y_val.shape)\n",
    "print(X_test.shape)\n",
    "print(y_test.shape)"
   ]
  },
  {
   "cell_type": "markdown",
   "metadata": {},
   "source": [
    "- 모델 구성 및 분석"
   ]
  },
  {
   "cell_type": "code",
   "execution_count": 97,
   "metadata": {},
   "outputs": [],
   "source": [
    "import matplotlib.pyplot as plt\n",
    "from tensorflow.keras.models import Sequential\n",
    "from tensorflow.keras.layers import Dense\n",
    "import matplotlib as mpl\n",
    "mpl.rcParams['axes.unicode_minus'] = False\n",
    "mpl.rcParams['font.family'] = 'Malgun Gothic'\n",
    "plt.rcParams.update({'text.color': \"black\",\n",
    "                    'axes.labelcolor': \"white\",\n",
    "                     'xtick.color': \"white\",\n",
    "                     'ytick.color': \"white\"\n",
    "                     })"
   ]
  },
  {
   "cell_type": "code",
   "execution_count": 109,
   "metadata": {},
   "outputs": [
    {
     "name": "stdout",
     "output_type": "stream",
     "text": [
      "Epoch 1/50\n",
      "129/129 [==============================] - 1s 4ms/step - loss: 0.6876 - accuracy: 0.5426 - val_loss: 0.6813 - val_accuracy: 0.5770\n",
      "Epoch 2/50\n",
      "129/129 [==============================] - 0s 3ms/step - loss: 0.6631 - accuracy: 0.6001 - val_loss: 0.6751 - val_accuracy: 0.5789\n",
      "Epoch 3/50\n",
      "129/129 [==============================] - 0s 3ms/step - loss: 0.6552 - accuracy: 0.6172 - val_loss: 0.6653 - val_accuracy: 0.5984\n",
      "Epoch 4/50\n",
      "129/129 [==============================] - 0s 3ms/step - loss: 0.6448 - accuracy: 0.6233 - val_loss: 0.6477 - val_accuracy: 0.6296\n",
      "Epoch 5/50\n",
      "129/129 [==============================] - 0s 3ms/step - loss: 0.6365 - accuracy: 0.6391 - val_loss: 0.6444 - val_accuracy: 0.6257\n",
      "Epoch 6/50\n",
      "129/129 [==============================] - 0s 3ms/step - loss: 0.6351 - accuracy: 0.6287 - val_loss: 0.6383 - val_accuracy: 0.6296\n",
      "Epoch 7/50\n",
      "129/129 [==============================] - 0s 3ms/step - loss: 0.6272 - accuracy: 0.6413 - val_loss: 0.6465 - val_accuracy: 0.6160\n",
      "Epoch 8/50\n",
      "129/129 [==============================] - 0s 3ms/step - loss: 0.6268 - accuracy: 0.6379 - val_loss: 0.6308 - val_accuracy: 0.6511\n",
      "Epoch 9/50\n",
      "129/129 [==============================] - 0s 3ms/step - loss: 0.6197 - accuracy: 0.6562 - val_loss: 0.6268 - val_accuracy: 0.6550\n",
      "Epoch 10/50\n",
      "129/129 [==============================] - 0s 3ms/step - loss: 0.6235 - accuracy: 0.6406 - val_loss: 0.6271 - val_accuracy: 0.6452\n",
      "Epoch 11/50\n",
      "129/129 [==============================] - 0s 3ms/step - loss: 0.6185 - accuracy: 0.6503 - val_loss: 0.6311 - val_accuracy: 0.6413\n",
      "Epoch 12/50\n",
      "129/129 [==============================] - 0s 3ms/step - loss: 0.6186 - accuracy: 0.6511 - val_loss: 0.6217 - val_accuracy: 0.6530\n",
      "Epoch 13/50\n",
      "129/129 [==============================] - 0s 3ms/step - loss: 0.6194 - accuracy: 0.6520 - val_loss: 0.6226 - val_accuracy: 0.6511\n",
      "Epoch 14/50\n",
      "129/129 [==============================] - 0s 3ms/step - loss: 0.6209 - accuracy: 0.6382 - val_loss: 0.6218 - val_accuracy: 0.6569\n",
      "Epoch 15/50\n",
      "129/129 [==============================] - 0s 3ms/step - loss: 0.6160 - accuracy: 0.6433 - val_loss: 0.6234 - val_accuracy: 0.6452\n",
      "Epoch 16/50\n",
      "129/129 [==============================] - 0s 3ms/step - loss: 0.6225 - accuracy: 0.6452 - val_loss: 0.6268 - val_accuracy: 0.6335\n",
      "Epoch 17/50\n",
      "129/129 [==============================] - 0s 3ms/step - loss: 0.6228 - accuracy: 0.6347 - val_loss: 0.6166 - val_accuracy: 0.6647\n",
      "Epoch 18/50\n",
      "129/129 [==============================] - 0s 3ms/step - loss: 0.6152 - accuracy: 0.6525 - val_loss: 0.6151 - val_accuracy: 0.6628\n",
      "Epoch 19/50\n",
      "129/129 [==============================] - 0s 3ms/step - loss: 0.6221 - accuracy: 0.6438 - val_loss: 0.6198 - val_accuracy: 0.6491\n",
      "Epoch 20/50\n",
      "129/129 [==============================] - 0s 2ms/step - loss: 0.6098 - accuracy: 0.6577 - val_loss: 0.6244 - val_accuracy: 0.6491\n",
      "Epoch 21/50\n",
      "129/129 [==============================] - 0s 3ms/step - loss: 0.6147 - accuracy: 0.6535 - val_loss: 0.6211 - val_accuracy: 0.6472\n",
      "Epoch 22/50\n",
      "129/129 [==============================] - 0s 3ms/step - loss: 0.6166 - accuracy: 0.6506 - val_loss: 0.6203 - val_accuracy: 0.6511\n",
      "Epoch 23/50\n",
      "129/129 [==============================] - 0s 2ms/step - loss: 0.6148 - accuracy: 0.6547 - val_loss: 0.6241 - val_accuracy: 0.6530\n",
      "Epoch 24/50\n",
      "129/129 [==============================] - 0s 3ms/step - loss: 0.6150 - accuracy: 0.6555 - val_loss: 0.6264 - val_accuracy: 0.6413\n",
      "Epoch 25/50\n",
      "129/129 [==============================] - 0s 3ms/step - loss: 0.6148 - accuracy: 0.6479 - val_loss: 0.6208 - val_accuracy: 0.6472\n",
      "Epoch 26/50\n",
      "129/129 [==============================] - 0s 3ms/step - loss: 0.6139 - accuracy: 0.6511 - val_loss: 0.6171 - val_accuracy: 0.6530\n",
      "Epoch 27/50\n",
      "129/129 [==============================] - 0s 3ms/step - loss: 0.6111 - accuracy: 0.6506 - val_loss: 0.6199 - val_accuracy: 0.6433\n",
      "Epoch 28/50\n",
      "129/129 [==============================] - 0s 2ms/step - loss: 0.6145 - accuracy: 0.6508 - val_loss: 0.6170 - val_accuracy: 0.6608\n",
      "Epoch 29/50\n",
      "129/129 [==============================] - 0s 3ms/step - loss: 0.6133 - accuracy: 0.6525 - val_loss: 0.6270 - val_accuracy: 0.6374\n",
      "Epoch 30/50\n",
      "129/129 [==============================] - 0s 3ms/step - loss: 0.6108 - accuracy: 0.6555 - val_loss: 0.6171 - val_accuracy: 0.6589\n",
      "Epoch 31/50\n",
      "129/129 [==============================] - 0s 3ms/step - loss: 0.6115 - accuracy: 0.6503 - val_loss: 0.6189 - val_accuracy: 0.6472\n",
      "Epoch 32/50\n",
      "129/129 [==============================] - 0s 3ms/step - loss: 0.6083 - accuracy: 0.6542 - val_loss: 0.6204 - val_accuracy: 0.6355\n",
      "Epoch 33/50\n",
      "129/129 [==============================] - 0s 3ms/step - loss: 0.6109 - accuracy: 0.6552 - val_loss: 0.6293 - val_accuracy: 0.6394\n",
      "Epoch 34/50\n",
      "129/129 [==============================] - 0s 2ms/step - loss: 0.6181 - accuracy: 0.6467 - val_loss: 0.6191 - val_accuracy: 0.6511\n",
      "Epoch 35/50\n",
      "129/129 [==============================] - 0s 3ms/step - loss: 0.6109 - accuracy: 0.6525 - val_loss: 0.6179 - val_accuracy: 0.6608\n",
      "Epoch 36/50\n",
      "129/129 [==============================] - 0s 3ms/step - loss: 0.6106 - accuracy: 0.6635 - val_loss: 0.6191 - val_accuracy: 0.6589\n",
      "Epoch 37/50\n",
      "129/129 [==============================] - 0s 3ms/step - loss: 0.6167 - accuracy: 0.6452 - val_loss: 0.6243 - val_accuracy: 0.6374\n",
      "Epoch 38/50\n",
      "129/129 [==============================] - 0s 3ms/step - loss: 0.6071 - accuracy: 0.6630 - val_loss: 0.6155 - val_accuracy: 0.6628\n",
      "Epoch 39/50\n",
      "129/129 [==============================] - 0s 3ms/step - loss: 0.6053 - accuracy: 0.6594 - val_loss: 0.6139 - val_accuracy: 0.6608\n",
      "Epoch 40/50\n",
      "129/129 [==============================] - 0s 3ms/step - loss: 0.6132 - accuracy: 0.6450 - val_loss: 0.6230 - val_accuracy: 0.6394\n",
      "Epoch 41/50\n",
      "129/129 [==============================] - 0s 4ms/step - loss: 0.6136 - accuracy: 0.6538 - val_loss: 0.6193 - val_accuracy: 0.6608\n",
      "Epoch 42/50\n",
      "129/129 [==============================] - 0s 3ms/step - loss: 0.6052 - accuracy: 0.6577 - val_loss: 0.6237 - val_accuracy: 0.6413\n",
      "Epoch 43/50\n",
      "129/129 [==============================] - 0s 3ms/step - loss: 0.6107 - accuracy: 0.6574 - val_loss: 0.6252 - val_accuracy: 0.6394\n",
      "Epoch 44/50\n",
      "129/129 [==============================] - 1s 4ms/step - loss: 0.6145 - accuracy: 0.6562 - val_loss: 0.6275 - val_accuracy: 0.6374\n",
      "Epoch 45/50\n",
      "129/129 [==============================] - 0s 4ms/step - loss: 0.6112 - accuracy: 0.6528 - val_loss: 0.6255 - val_accuracy: 0.6472\n",
      "Epoch 46/50\n",
      "129/129 [==============================] - 1s 5ms/step - loss: 0.6054 - accuracy: 0.6628 - val_loss: 0.6243 - val_accuracy: 0.6511\n",
      "Epoch 47/50\n",
      "129/129 [==============================] - 0s 3ms/step - loss: 0.6120 - accuracy: 0.6620 - val_loss: 0.6200 - val_accuracy: 0.6511\n",
      "Epoch 48/50\n",
      "129/129 [==============================] - 0s 3ms/step - loss: 0.6048 - accuracy: 0.6633 - val_loss: 0.6201 - val_accuracy: 0.6491\n",
      "Epoch 49/50\n",
      "129/129 [==============================] - 0s 3ms/step - loss: 0.6112 - accuracy: 0.6486 - val_loss: 0.6225 - val_accuracy: 0.6550\n",
      "Epoch 50/50\n",
      "129/129 [==============================] - 0s 3ms/step - loss: 0.6093 - accuracy: 0.6552 - val_loss: 0.6223 - val_accuracy: 0.6589\n",
      "33/33 [==============================] - 0s 2ms/step - loss: 0.5900 - accuracy: 0.6949\n",
      "손실 : 0.5899636149406433\n",
      "정확도 : 69.49317455291748 %\n",
      "--------------------\n"
     ]
    },
    {
     "data": {
      "image/png": "[encoded data removed]",
      "text/plain": [
       "<Figure size 432x288 with 2 Axes>"
      ]
     },
     "metadata": {
      "needs_background": "dark"
     },
     "output_type": "display_data"
    }
   ],
   "source": [
    "from tensorflow.keras import regularizers\n",
    "from tensorflow.keras.layers import Dropout\n",
    "model = Sequential()\n",
    "# 1. 과적합 : train acc 85%, test acc 65% => Node수와 Hidden Layer수를 줄여야함\n",
    "#model.add(Dense(64, activation='relu', input_dim=22))\n",
    "#model.add(Dense(128, activation='relu'))\n",
    "#model.add(Dense(64, activation='relu'))\n",
    "\n",
    "# 2. Dense의 한계치 : test acc 68% => 다른 모델을 사용해야함, L2 Regularization : test acc 69%\n",
    "#model.add(Dense(32, activation='relu', input_dim=22))\n",
    "#model.add(Dense(1, activation='sigmoid'))\n",
    "\n",
    "model.add(Dropout(0.25))\n",
    "model.add(Dense(32, activation='relu', input_dim=22))\n",
    "model.add(Dense(1, activation='sigmoid'))\n",
    "\n",
    "model.compile(loss='binary_crossentropy', optimizer='adam', metrics=['accuracy'])\n",
    "\n",
    "hist = model.fit(X_train, y_train, epochs=50, batch_size=32,\n",
    "                 validation_data=(X_val, y_val))\n",
    "\n",
    "loss_and_metrics = model.evaluate(X_test, y_test, batch_size=32)\n",
    "print('손실 :', loss_and_metrics[0])\n",
    "print('정확도 :', loss_and_metrics[1] * 100, '%')\n",
    "print(\"-\" * 20)\n",
    "\n",
    "fig, loss_ax = plt.subplots()\n",
    "acc_ax = loss_ax.twinx()\n",
    "\n",
    "loss_ax.plot(hist.history['loss'], 'y', label='train loss')\n",
    "loss_ax.plot(hist.history['val_loss'], 'g', label='val loss')\n",
    "\n",
    "acc_ax.plot(hist.history['accuracy'], 'b', label='train acc')\n",
    "acc_ax.plot(hist.history['val_accuracy'], 'r', label='val acc')\n",
    "\n",
    "loss_ax.set_xlabel('epoch')\n",
    "\n",
    "loss_ax.set_ylabel('loss')\n",
    "acc_ax.set_ylabel('accuracy')\n",
    "\n",
    "loss_ax.legend(loc='upper left')\n",
    "acc_ax.legend(loc='lower left')\n",
    "\n",
    "plt.show()"
   ]
  },
  {
   "cell_type": "code",
   "execution_count": 96,
   "metadata": {},
   "outputs": [
    {
     "name": "stdout",
     "output_type": "stream",
     "text": [
      "33/33 [==============================] - 0s 2ms/step\n",
      "1 1 0 0 1 1 1 0 0 1 \n",
      "1 0 0 0 0 0 1 1 0 0 "
     ]
    }
   ],
   "source": [
    "yhat = model.predict(X_test)\n",
    "for i in range(10):\n",
    "    print(1 if yhat[i] > 0.5 else 0, end=\" \")\n",
    "print()\n",
    "for i in y_test[:10]:\n",
    "    print(int(*i), end=\" \")"
   ]
  },
  {
   "cell_type": "code",
   "execution_count": 110,
   "metadata": {},
   "outputs": [],
   "source": [
    "model.save('model/Dense_Dropout.h5')"
   ]
  },
  {
   "cell_type": "code",
   "execution_count": null,
   "metadata": {},
   "outputs": [],
   "source": []
  }
 ],
 "metadata": {
  "kernelspec": {
   "display_name": "Python 3.9.12 ('base')",
   "language": "python",
   "name": "python3"
  },
  "language_info": {
   "codemirror_mode": {
    "name": "ipython",
    "version": 3
   },
   "file_extension": ".py",
   "mimetype": "text/x-python",
   "name": "python",
   "nbconvert_exporter": "python",
   "pygments_lexer": "ipython3",
   "version": "3.9.12"
  },
  "orig_nbformat": 4,
  "vscode": {
   "interpreter": {
    "hash": "68b27da7ddeb61625eb32b27b233f0587b7aa507dfa408f4f61141179036d5a9"
   }
  }
 },
 "nbformat": 4,
 "nbformat_minor": 2
}
