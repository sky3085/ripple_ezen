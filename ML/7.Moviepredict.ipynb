{
 "cells": [
  {
   "cell_type": "markdown",
   "metadata": {},
   "source": [
    "<pre>영화 개봉 예정 흥행 예측후 db로 저장</pre>"
   ]
  },
  {
   "cell_type": "markdown",
   "metadata": {},
   "source": [
    "- 네이버 개봉예정영화(72개) 클롤링"
   ]
  },
  {
   "cell_type": "code",
   "execution_count": 3,
   "metadata": {},
   "outputs": [],
   "source": [
    "from selenium import webdriver\n",
    "from selenium.webdriver.common.by import By\n",
    "import time\n",
    "from bs4 import BeautifulSoup\n",
    "from tqdm.notebook import tqdm"
   ]
  },
  {
   "cell_type": "code",
   "execution_count": 4,
   "metadata": {},
   "outputs": [
    {
     "name": "stderr",
     "output_type": "stream",
     "text": [
      "C:\\Users\\Public\\Documents\\ESTsoft\\CreatorTemp\\ipykernel_44416\\2770024186.py:2: DeprecationWarning: executable_path has been deprecated, please pass in a Service object\n",
      "  driver = webdriver.Chrome('APIKey/chromedriver')\n"
     ]
    }
   ],
   "source": [
    "url = 'https://search.naver.com/search.naver?where=nexearch&sm=tab_etc&qvt=0&query=%EA%B0%9C%EB%B4%89%EC%98%88%EC%A0%95%EC%98%81%ED%99%94'\n",
    "driver = webdriver.Chrome('APIKey/chromedriver')\n",
    "driver.get(url)\n",
    "time.sleep(2)"
   ]
  },
  {
   "cell_type": "markdown",
   "metadata": {},
   "source": [
    "- table은 영화개봉예정 page당 8개의 영화로 구성되어있다."
   ]
  },
  {
   "cell_type": "code",
   "execution_count": 5,
   "metadata": {},
   "outputs": [],
   "source": [
    "driver.find_element(By.CSS_SELECTOR, 'div.cm_paging_area > .pgs > .pg_next').click()"
   ]
  },
  {
   "cell_type": "code",
   "execution_count": null,
   "metadata": {},
   "outputs": [],
   "source": [
    "table = driver.find_elements(By.CSS_SELECTOR, '.cm_content_wrap .card_item')"
   ]
  },
  {
   "cell_type": "code",
   "execution_count": null,
   "metadata": {},
   "outputs": [],
   "source": [
    "page_html = BeautifulSoup(driver.page_source, 'html.parser')\n",
    "table_html = page_html.select('.cm_content_wrap .card_item')"
   ]
  },
  {
   "cell_type": "code",
   "execution_count": null,
   "metadata": {},
   "outputs": [],
   "source": [
    "table_url = []\n",
    "table_url.append(table_html[0].select_one('.this_text')['href'])"
   ]
  },
  {
   "cell_type": "code",
   "execution_count": null,
   "metadata": {},
   "outputs": [
    {
     "data": {
      "text/plain": [
       "'https://search.naver.com/search.naver?where=nexearch&sm=tab_etc&pkid=68&os=26500642&qvt=0&query=%EA%B7%80%EB%A9%B8%EC%9D%98%20%EC%B9%BC%EB%82%A0%3A%20%EC%95%84%EC%82%AC%EC%BF%A0%EC%82%AC%20%ED%8E%B8'"
      ]
     },
     "execution_count": 90,
     "metadata": {},
     "output_type": "execute_result"
    }
   ],
   "source": [
    "url = 'https://search.naver.com/search.naver' + table_url[0]\n",
    "url"
   ]
  },
  {
   "cell_type": "code",
   "execution_count": null,
   "metadata": {},
   "outputs": [],
   "source": [
    "table[0].find_element(By.CSS_SELECTOR, '.this_text').click()\n",
    "time.sleep(2)"
   ]
  },
  {
   "cell_type": "markdown",
   "metadata": {},
   "source": [
    "- 영화를 각각 클릭후 기본정보, 감독/출연, 포토를 클릭하여 가져온다."
   ]
  },
  {
   "cell_type": "markdown",
   "metadata": {},
   "source": [
    "- 액션\t모헌\t판타지\tSF\t드라마\t공포\t스릴러\t미스터리\t로맨스\tbudget\tcharactor\tdirector\tvote_weight"
   ]
  },
  {
   "cell_type": "code",
   "execution_count": null,
   "metadata": {},
   "outputs": [],
   "source": [
    "soup = BeautifulSoup(driver.page_source, 'html.parser')"
   ]
  },
  {
   "cell_type": "code",
   "execution_count": null,
   "metadata": {},
   "outputs": [],
   "source": [
    "# 전체 > 포스터\n",
    "poster_path = soup.select_one('img._img')[\"src\"]"
   ]
  },
  {
   "cell_type": "code",
   "execution_count": null,
   "metadata": {},
   "outputs": [],
   "source": [
    "# 기본 정보: 1, 감독/출연: 2, 포토: 5\n",
    "# 기본 정보: 1\n",
    "driver.find_elements(By.CSS_SELECTOR, '.tab_list > li')[1].find_element(By.CSS_SELECTOR, 'a').click()"
   ]
  },
  {
   "cell_type": "code",
   "execution_count": null,
   "metadata": {},
   "outputs": [
    {
     "data": {
      "text/plain": [
       "'장르'"
      ]
     },
     "execution_count": 74,
     "metadata": {},
     "output_type": "execute_result"
    }
   ],
   "source": [
    "driver.find_elements(By.CSS_SELECTOR, 'dl.info .info_group')[1].find_element(By.CSS_SELECTOR, 'dt').text"
   ]
  },
  {
   "cell_type": "code",
   "execution_count": null,
   "metadata": {},
   "outputs": [],
   "source": [
    "# 기본정보 > 장르\n",
    "infos = driver.find_elements(By.CSS_SELECTOR, 'dl.info .info_group')\n",
    "for info in infos:\n",
    "    if(info.find_element(By.CSS_SELECTOR, 'dt').text == \"장르\"):\n",
    "        genres_str = info.find_element(By.CSS_SELECTOR, 'dd').text\n",
    "geres = genres_str.split(', ')"
   ]
  },
  {
   "cell_type": "code",
   "execution_count": null,
   "metadata": {},
   "outputs": [],
   "source": [
    "# 기본정보 > 소개\n",
    "introduction = driver.find_element(By.CSS_SELECTOR, 'p._content_text').text"
   ]
  },
  {
   "cell_type": "code",
   "execution_count": null,
   "metadata": {},
   "outputs": [],
   "source": [
    "# 감독/출연: 2\n",
    "driver.find_elements(By.CSS_SELECTOR, '.tab_list > li')[2].find_element(By.CSS_SELECTOR, 'a').click()"
   ]
  },
  {
   "cell_type": "code",
   "execution_count": null,
   "metadata": {},
   "outputs": [],
   "source": [
    "# 감독/출연 > 감독: 0\n",
    "director = driver.find_elements(By.CSS_SELECTOR, 'div.cast_box')[0].find_element(By.CSS_SELECTOR,'ul.cast_list span._text').text"
   ]
  },
  {
   "cell_type": "code",
   "execution_count": null,
   "metadata": {},
   "outputs": [],
   "source": [
    "# 감독/출연 > 출연: 1\n",
    "mainCharactor = driver.find_elements(By.CSS_SELECTOR, 'div.cast_box')[1].find_elements(By.CSS_SELECTOR,'ul.cast_list li')[0].find_element(By.CSS_SELECTOR, 'span._text').text"
   ]
  },
  {
   "cell_type": "markdown",
   "metadata": {},
   "source": [
    "<pre>크롤링</pre>"
   ]
  },
  {
   "cell_type": "code",
   "execution_count": null,
   "metadata": {},
   "outputs": [
    {
     "data": {
      "application/vnd.jupyter.widget-view+json": {
       "model_id": "2ef6f1aadac543568b7d47a610edd663",
       "version_major": 2,
       "version_minor": 0
      },
      "text/plain": [
       "  0%|          | 0/9 [00:00<?, ?it/s]"
      ]
     },
     "metadata": {},
     "output_type": "display_data"
    },
    {
     "name": "stderr",
     "output_type": "stream",
     "text": [
      "C:\\Users\\Public\\Documents\\ESTsoft\\CreatorTemp\\ipykernel_33928\\3446743936.py:4: DeprecationWarning: executable_path has been deprecated, please pass in a Service object\n",
      "  driver = webdriver.Chrome('APIKey/chromedriver')\n",
      "C:\\Users\\Public\\Documents\\ESTsoft\\CreatorTemp\\ipykernel_33928\\3446743936.py:21: DeprecationWarning: executable_path has been deprecated, please pass in a Service object\n",
      "  driver = webdriver.Chrome('APIKey/chromedriver')\n"
     ]
    }
   ],
   "source": [
    "movie = []\n",
    "for page in tqdm(range(9)):\n",
    "    url = 'https://search.naver.com/search.naver?where=nexearch&sm=tab_etc&qvt=0&query=%EA%B0%9C%EB%B4%89%EC%98%88%EC%A0%95%EC%98%81%ED%99%94'\n",
    "    driver = webdriver.Chrome('APIKey/chromedriver')\n",
    "    driver.get(url)\n",
    "    time.sleep(2)\n",
    "    for click in range(page):\n",
    "        driver.find_element(By.CSS_SELECTOR, 'div.cm_paging_area > .pgs > .pg_next').click()\n",
    "        time.sleep(1)\n",
    "    page_html = BeautifulSoup(driver.page_source, 'html.parser')\n",
    "    table_html = page_html.select('.cm_content_wrap .card_item')\n",
    "    table_url = []\n",
    "    for idx in range(8):\n",
    "        try:\n",
    "            table_url.append(table_html[idx].select_one('.this_text')['href'])\n",
    "        except:\n",
    "            pass\n",
    "    driver.close()\n",
    "    for idx in range(len(table_url)):\n",
    "        url = 'https://search.naver.com/search.naver' + table_url[idx]\n",
    "        driver = webdriver.Chrome('APIKey/chromedriver')\n",
    "        driver.get(url)\n",
    "        time.sleep(2)\n",
    "        # 포스터 url Path\n",
    "        soup = BeautifulSoup(driver.page_source, 'html.parser')\n",
    "        try:\n",
    "            poster_path = soup.select_one('img._img')[\"src\"]\n",
    "        except:\n",
    "            poster_path = \"\"\n",
    "        driver.find_elements(By.CSS_SELECTOR, '.tab_list > li')[1].find_element(By.CSS_SELECTOR, 'a').click()\n",
    "        # 기본정보 > 장르\n",
    "        infos = driver.find_elements(By.CSS_SELECTOR, 'dl.info .info_group')\n",
    "        for info in infos:\n",
    "            if(info.find_element(By.CSS_SELECTOR, 'dt').text == \"장르\"):\n",
    "                genres_str = info.find_element(By.CSS_SELECTOR, 'dd').text\n",
    "        geres = genres_str.split(', ')\n",
    "        # 기본정보 > 소개\n",
    "        try:\n",
    "            introduction = driver.find_element(By.CSS_SELECTOR, 'p._content_text').text\n",
    "        except:\n",
    "            introduction = \"\"\n",
    "        # 감독/출연: 2\n",
    "        driver.find_elements(By.CSS_SELECTOR, '.tab_list > li')[2].find_element(By.CSS_SELECTOR, 'a').click()\n",
    "        # 감독/출연 > 감독: 0\n",
    "        try:\n",
    "            director = driver.find_elements(By.CSS_SELECTOR, 'div.cast_box')[0].find_element(By.CSS_SELECTOR,'ul.cast_list span._text').text\n",
    "        except:\n",
    "            director = \"\"\n",
    "        # 감독/출연 > 출연: 1\n",
    "        try:\n",
    "            mainCharactor = driver.find_elements(By.CSS_SELECTOR, 'div.cast_box')[1].find_elements(By.CSS_SELECTOR,'ul.cast_list li')[0].find_element(By.CSS_SELECTOR, 'span._text').text\n",
    "        except:\n",
    "            mainCharactor = \"\"\n",
    "        movie.append([poster_path, geres, director, mainCharactor, introduction])\n",
    "        driver.close()"
   ]
  },
  {
   "cell_type": "code",
   "execution_count": null,
   "metadata": {},
   "outputs": [],
   "source": [
    "import pandas as pd"
   ]
  },
  {
   "cell_type": "code",
   "execution_count": null,
   "metadata": {},
   "outputs": [],
   "source": [
    "df = pd.DataFrame(movie, columns=['poster_path', 'genres', 'director', 'mainCharactor', 'introduction'])"
   ]
  },
  {
   "cell_type": "code",
   "execution_count": null,
   "metadata": {},
   "outputs": [],
   "source": [
    "# null 값 확인\n",
    "df.drop(df[df.poster_path == \"\"].index, inplace=True)\n",
    "df.drop(df[df.genres == \"\"].index, inplace=True)\n",
    "df.drop(df[df.director == \"\"].index, inplace=True)\n",
    "df.drop(df[df.mainCharactor == \"\"].index, inplace=True)\n",
    "df.drop(df[df.introduction == \"\"].index, inplace=True)"
   ]
  },
  {
   "cell_type": "code",
   "execution_count": null,
   "metadata": {},
   "outputs": [],
   "source": [
    "df.to_csv('data/movie_data_predict_noscreen.csv', index=False)"
   ]
  },
  {
   "cell_type": "code",
   "execution_count": 7,
   "metadata": {},
   "outputs": [],
   "source": [
    "import pandas as pd\n",
    "df = pd.read_csv('data/movie_data_predict_noscreen.csv')"
   ]
  },
  {
   "cell_type": "code",
   "execution_count": 8,
   "metadata": {},
   "outputs": [],
   "source": [
    "movie_data_name = pd.read_csv('data/movie_data_Name.csv')"
   ]
  },
  {
   "cell_type": "code",
   "execution_count": 9,
   "metadata": {},
   "outputs": [],
   "source": [
    "movie_data_id = pd.read_csv('data/movie_data_ID.csv')"
   ]
  },
  {
   "cell_type": "code",
   "execution_count": 10,
   "metadata": {},
   "outputs": [
    {
     "data": {
      "text/html": [
       "<div>\n",
       "<style scoped>\n",
       "    .dataframe tbody tr th:only-of-type {\n",
       "        vertical-align: middle;\n",
       "    }\n",
       "\n",
       "    .dataframe tbody tr th {\n",
       "        vertical-align: top;\n",
       "    }\n",
       "\n",
       "    .dataframe thead th {\n",
       "        text-align: right;\n",
       "    }\n",
       "</style>\n",
       "<table border=\"1\" class=\"dataframe\">\n",
       "  <thead>\n",
       "    <tr style=\"text-align: right;\">\n",
       "      <th></th>\n",
       "      <th>title</th>\n",
       "      <th>budget</th>\n",
       "      <th>genres</th>\n",
       "      <th>country</th>\n",
       "      <th>charactor</th>\n",
       "      <th>director</th>\n",
       "      <th>vote_score</th>\n",
       "      <th>vote_count</th>\n",
       "      <th>vote_weight</th>\n",
       "    </tr>\n",
       "  </thead>\n",
       "  <tbody>\n",
       "    <tr>\n",
       "      <th>0</th>\n",
       "      <td>토르: 러브 앤 썬더</td>\n",
       "      <td>250000000</td>\n",
       "      <td>['액션', '모험', '판타지']</td>\n",
       "      <td>['United States of America']</td>\n",
       "      <td>Christian Bale</td>\n",
       "      <td>Taika Waititi</td>\n",
       "      <td>6.778</td>\n",
       "      <td>1802</td>\n",
       "      <td>10.000812</td>\n",
       "    </tr>\n",
       "  </tbody>\n",
       "</table>\n",
       "</div>"
      ],
      "text/plain": [
       "         title     budget               genres                       country  \\\n",
       "0  토르: 러브 앤 썬더  250000000  ['액션', '모험', '판타지']  ['United States of America']   \n",
       "\n",
       "        charactor       director  vote_score  vote_count  vote_weight  \n",
       "0  Christian Bale  Taika Waititi       6.778        1802    10.000812  "
      ]
     },
     "execution_count": 10,
     "metadata": {},
     "output_type": "execute_result"
    }
   ],
   "source": [
    "movie_data_name.head(1)"
   ]
  },
  {
   "cell_type": "code",
   "execution_count": 11,
   "metadata": {},
   "outputs": [
    {
     "data": {
      "text/html": [
       "<div>\n",
       "<style scoped>\n",
       "    .dataframe tbody tr th:only-of-type {\n",
       "        vertical-align: middle;\n",
       "    }\n",
       "\n",
       "    .dataframe tbody tr th {\n",
       "        vertical-align: top;\n",
       "    }\n",
       "\n",
       "    .dataframe thead th {\n",
       "        text-align: right;\n",
       "    }\n",
       "</style>\n",
       "<table border=\"1\" class=\"dataframe\">\n",
       "  <thead>\n",
       "    <tr style=\"text-align: right;\">\n",
       "      <th></th>\n",
       "      <th>title</th>\n",
       "      <th>budget</th>\n",
       "      <th>genres</th>\n",
       "      <th>country</th>\n",
       "      <th>charactor</th>\n",
       "      <th>director</th>\n",
       "      <th>vote_score</th>\n",
       "      <th>vote_count</th>\n",
       "      <th>vote_weight</th>\n",
       "    </tr>\n",
       "  </thead>\n",
       "  <tbody>\n",
       "    <tr>\n",
       "      <th>0</th>\n",
       "      <td>616037</td>\n",
       "      <td>250000000</td>\n",
       "      <td>[28, 12, 14]</td>\n",
       "      <td>[0]</td>\n",
       "      <td>3894</td>\n",
       "      <td>55934</td>\n",
       "      <td>6.778</td>\n",
       "      <td>1802</td>\n",
       "      <td>10.000812</td>\n",
       "    </tr>\n",
       "  </tbody>\n",
       "</table>\n",
       "</div>"
      ],
      "text/plain": [
       "    title     budget        genres country  charactor  director  vote_score  \\\n",
       "0  616037  250000000  [28, 12, 14]     [0]       3894     55934       6.778   \n",
       "\n",
       "   vote_count  vote_weight  \n",
       "0        1802    10.000812  "
      ]
     },
     "execution_count": 11,
     "metadata": {},
     "output_type": "execute_result"
    }
   ],
   "source": [
    "movie_data_id.head(1)"
   ]
  },
  {
   "cell_type": "code",
   "execution_count": 12,
   "metadata": {},
   "outputs": [
    {
     "name": "stdout",
     "output_type": "stream",
     "text": [
      "2 3 4 5 13 14 20 31 32 33 35 48 49 50 52 62 63 64 65 66 75 85 98 100 103 109 110 112 113 114 116 118 131 133 134 138 139 140 141 147 155 177 190 192 193 199 200 204 205 207 209 212 216 227 228 246 258 259 270 287 289 290 326 327 328 335 336 349 350 351 368 378 380 382 400 417 418 448 449 453 454 478 480 500 501 504 514 515 516 517 518 519 520 522 524 529 530 531 569 585 587 588 589 617 643 650 658 677 679 689 690 707 723 724 738 741 776 777 780 819 820 821 825 827 854 855 862 879 880 882 883 884 887 921 934 935 938 955 974 976 980 1003 1004 1018 1019 1037 1038 1062 1100 1101 1115 1121 1125 1137 1146 1158 1159 1160 1161 1162 1164 1204 1205 1229 1230 1231 1233 1234 1241 1244 1245 1246 1247 1248 1269 1271 1276 1281 1283 1285 1327 1328 1331 1333 1336 1337 1338 1339 1341 1370 1372 1459 1461 1518 1524 1532 1533 1548 1562 1581 1602 1607 1619 1620 1622 1639 1640 1650 1666 1679 1733 1736 1748 1749 1771 1772 1796 1810 1811 1812 1813 1892 1893 1896 1903 1904 1920 1922 1923 1925 1932 1933 1934 1937 1951 1954 1957 1979 1981 2007 2037 2038 2039 2047 2048 2053 2059 2076 2091 2109 2115 2128 2130 2133 2138 2139 2140 2144 2157 2165 2173 2176 2177 2178 2203 2219 2221 2224 2227 2228 2229 2230 2231 2232 2233 2268 2282 2283 2295 2296 2299 2310 2369 2372 2388 2394 2395 2405 2406 2413 2440 2461 2462 2463 2478 2505 2518 2524 2535 2547 2598 2628 2630 2632 2638 2639 2641 2680 2712 2713 2769 2778 2838 2839 2876 2877 2878 2879 2880 2882 2888 2923 2954 2955 2956 2957 2963 2975 2983 3001 3026 3034 3035 3036 3037 3051 3052 3061 3063 3084 3085 3087 3092 3094 3096 3124 3125 3126 3128 3129 3131 3136 3141 3149 3150 3151 3196 3197 3198 3201 3223 3234 3242 3265 3270 3272 3282 3291 3292 3293 3317 3336 3359 3360 3382 3391 3392 3416 3417 3460 3462 3489 3490 3491 3508 3547 3623 3627 3636 3663 3798 3809 3810 3872 3894 3895 3896 3897 3899 3905 3910 3926 3967 3968 3971 3977 3999 4004 4038 4070 4078 4090 4111 4135 4139 4160 4161 4165 4173 4174 4175 4201 4238 4239 4247 4273 4299 4390 4391 4430 4431 4443 4451 4457 4483 4491 4495 4512 4514 4515 4517 4520 4521 4566 4581 4587 4589 4602 4687 4688 4690 4691 4726 4730 4738 4756 4757 4764 4783 4784 4785 4786 4800 4818 4886 4935 4937 4939 4941 4958 4987 "
     ]
    }
   ],
   "source": [
    "# charactor id 중 3550 ~ 3620(70)까지는 없다.\n",
    "for i in range(5000):\n",
    "    if(len(movie_data_id[movie_data_id.charactor == i].index) > 0):\n",
    "        print(i, end=\" \")"
   ]
  },
  {
   "cell_type": "code",
   "execution_count": 13,
   "metadata": {},
   "outputs": [
    {
     "name": "stdout",
     "output_type": "stream",
     "text": [
      "1 7 8 24 31 39 40 42 43 59 68 108 138 150 172 185 190 197 201 223 224 240 280 309 323 357 366 380 455 468 488 508 510 518 525 559 564 578 607 608 628 638 648 664 686 707 716 769 793 814 819 834 865 876 879 880 893 898 956 957 974 1011 1012 1032 1035 1038 1044 1060 1071 1090 1098 1103 1108 1114 1150 1152 1176 1188 1201 1215 1223 1224 1243 1255 1269 1270 1333 1414 1461 1496 1524 1577 1614 1650 1704 1707 1723 1724 1726 1744 1748 1749 1769 1776 1777 1788 1884 1899 1921 1927 1978 2000 2034 2036 2042 2053 2087 2127 2128 2150 2163 2171 2176 2178 2199 2209 2223 2226 2228 2239 2291 2293 2294 2303 2352 2357 2388 2406 2419 2460 2461 2523 2589 2636 2662 2675 2679 2690 2710 2746 2765 2778 2836 2873 2878 2880 2917 2945 2991 3026 3027 3028 3045 3047 3055 3146 3224 3227 3239 3288 3289 3290 3310 3317 3388 3415 3417 3451 3460 3556 3632 3893 3950 3964 3974 4014 4027 4037 4065 4081 4109 4135 4163 4275 4385 4387 4415 4429 4453 4489 4499 4586 4587 4590 4600 4610 4723 4746 4755 4759 4762 4782 4786 4818 4918 4945 4956 "
     ]
    }
   ],
   "source": [
    "# 감독 id중 3150 ~ 3220(70)까지는 없다.\n",
    "for i in range(5000):\n",
    "    if(len(movie_data_id[movie_data_id.director == i].index) > 0):\n",
    "        print(i, end=\" \")"
   ]
  },
  {
   "cell_type": "code",
   "execution_count": 14,
   "metadata": {},
   "outputs": [],
   "source": [
    "# 기존에 같은 연출자는 없다.\n",
    "for char in df.mainCharactor:\n",
    "    if(len(movie_data_name[movie_data_name.charactor == char].index) > 0):\n",
    "        print(char, end=\"  \")"
   ]
  },
  {
   "cell_type": "code",
   "execution_count": 15,
   "metadata": {},
   "outputs": [],
   "source": [
    "# 기존에 같은 감독자는 없다.\n",
    "for dir in df.director:\n",
    "    if(len(movie_data_name[movie_data_name.charactor == dir].index) > 0):\n",
    "        print(dir, end=\"  \")"
   ]
  },
  {
   "cell_type": "code",
   "execution_count": 16,
   "metadata": {},
   "outputs": [
    {
     "data": {
      "text/html": [
       "<div>\n",
       "<style scoped>\n",
       "    .dataframe tbody tr th:only-of-type {\n",
       "        vertical-align: middle;\n",
       "    }\n",
       "\n",
       "    .dataframe tbody tr th {\n",
       "        vertical-align: top;\n",
       "    }\n",
       "\n",
       "    .dataframe thead th {\n",
       "        text-align: right;\n",
       "    }\n",
       "</style>\n",
       "<table border=\"1\" class=\"dataframe\">\n",
       "  <thead>\n",
       "    <tr style=\"text-align: right;\">\n",
       "      <th></th>\n",
       "      <th>poster_path</th>\n",
       "      <th>genres</th>\n",
       "      <th>director</th>\n",
       "      <th>mainCharactor</th>\n",
       "      <th>introduction</th>\n",
       "    </tr>\n",
       "  </thead>\n",
       "  <tbody>\n",
       "    <tr>\n",
       "      <th>25</th>\n",
       "      <td>https://search.pstatic.net/common?type=o&amp;size=...</td>\n",
       "      <td>['애니메이션']</td>\n",
       "      <td>소토자키 하루오</td>\n",
       "      <td>하나에 나츠키</td>\n",
       "      <td>꺽쇠 까마귀가 일러준 다음 임무지는 남남동. 임무로 향하는 도중 탄지로는 최종 선별...</td>\n",
       "    </tr>\n",
       "    <tr>\n",
       "      <th>36</th>\n",
       "      <td>https://search.pstatic.net/common?type=o&amp;size=...</td>\n",
       "      <td>['애니메이션']</td>\n",
       "      <td>소토자키 하루오</td>\n",
       "      <td>하나에 나츠키</td>\n",
       "      <td>‘탄지로’와 ‘네즈코’, ‘젠이츠’, ‘이노스케’는 귀살대원들의 실종사건을 조사하기...</td>\n",
       "    </tr>\n",
       "    <tr>\n",
       "      <th>40</th>\n",
       "      <td>https://search.pstatic.net/common?type=o&amp;size=...</td>\n",
       "      <td>['애니메이션']</td>\n",
       "      <td>소토자키 하루오</td>\n",
       "      <td>하나에 나츠키</td>\n",
       "      <td>‘탄지로’와 ‘네즈코’는 귀살대 중에서도 최고의 계급인 지주들 앞으로 끌려간다. 탄...</td>\n",
       "    </tr>\n",
       "  </tbody>\n",
       "</table>\n",
       "</div>"
      ],
      "text/plain": [
       "                                          poster_path     genres  director  \\\n",
       "25  https://search.pstatic.net/common?type=o&size=...  ['애니메이션']  소토자키 하루오   \n",
       "36  https://search.pstatic.net/common?type=o&size=...  ['애니메이션']  소토자키 하루오   \n",
       "40  https://search.pstatic.net/common?type=o&size=...  ['애니메이션']  소토자키 하루오   \n",
       "\n",
       "   mainCharactor                                       introduction  \n",
       "25       하나에 나츠키  꺽쇠 까마귀가 일러준 다음 임무지는 남남동. 임무로 향하는 도중 탄지로는 최종 선별...  \n",
       "36       하나에 나츠키  ‘탄지로’와 ‘네즈코’, ‘젠이츠’, ‘이노스케’는 귀살대원들의 실종사건을 조사하기...  \n",
       "40       하나에 나츠키  ‘탄지로’와 ‘네즈코’는 귀살대 중에서도 최고의 계급인 지주들 앞으로 끌려간다. 탄...  "
      ]
     },
     "execution_count": 16,
     "metadata": {},
     "output_type": "execute_result"
    }
   ],
   "source": [
    "# 같은 애니매이션이 감독과 연출이 같다\n",
    "df[df.mainCharactor.duplicated() == True]"
   ]
  },
  {
   "cell_type": "code",
   "execution_count": 17,
   "metadata": {},
   "outputs": [
    {
     "name": "stderr",
     "output_type": "stream",
     "text": [
      "C:\\Users\\Public\\Documents\\ESTsoft\\CreatorTemp\\ipykernel_44416\\3733998328.py:12: SettingWithCopyWarning: \n",
      "A value is trying to be set on a copy of a slice from a DataFrame\n",
      "\n",
      "See the caveats in the documentation: https://pandas.pydata.org/pandas-docs/stable/user_guide/indexing.html#returning-a-view-versus-a-copy\n",
      "  df.mainCharactorID[idx] = charactor[df.mainCharactor[idx]]\n"
     ]
    }
   ],
   "source": [
    "# charactor id 중 3550 ~ 3620(70)까지는 없다.\n",
    "df['mainCharactorID'] = 0\n",
    "charactor = {}\n",
    "i = 3550\n",
    "for char in df.mainCharactor:\n",
    "    try:\n",
    "        charactor[char]\n",
    "    except:\n",
    "        charactor[char] = i\n",
    "    i += 1\n",
    "for idx in df.index:\n",
    "    df.mainCharactorID[idx] = charactor[df.mainCharactor[idx]]"
   ]
  },
  {
   "cell_type": "code",
   "execution_count": 18,
   "metadata": {},
   "outputs": [
    {
     "name": "stderr",
     "output_type": "stream",
     "text": [
      "C:\\Users\\Public\\Documents\\ESTsoft\\CreatorTemp\\ipykernel_44416\\498819551.py:12: SettingWithCopyWarning: \n",
      "A value is trying to be set on a copy of a slice from a DataFrame\n",
      "\n",
      "See the caveats in the documentation: https://pandas.pydata.org/pandas-docs/stable/user_guide/indexing.html#returning-a-view-versus-a-copy\n",
      "  df.directorID[idx] = direc[df.director[idx]]\n"
     ]
    }
   ],
   "source": [
    "# 감독 id중 3150 ~ 3220(70)까지는 없다.\n",
    "df['directorID'] = 0\n",
    "direc = {}\n",
    "i = 3150\n",
    "for dir in df.director:\n",
    "    try:\n",
    "        direc[dir]\n",
    "    except:\n",
    "        direc[dir] = i\n",
    "    i += 1\n",
    "for idx in df.index:\n",
    "    df.directorID[idx] = direc[df.director[idx]]"
   ]
  },
  {
   "cell_type": "markdown",
   "metadata": {},
   "source": [
    "- 공연실황 : 11, 22/ 뮤지컬 : 30, 38 -> 지우기 || 멜로/로맨스 : 1, 7, 45, 48 -> 로맨스"
   ]
  },
  {
   "cell_type": "code",
   "execution_count": 19,
   "metadata": {},
   "outputs": [],
   "source": [
    "df.drop(df[df.genres.apply(lambda x: '공연실황' in x)].index, inplace=True)\n",
    "df.drop(df[df.genres.apply(lambda x: '뮤지컬' in x)].index, inplace=True)"
   ]
  },
  {
   "cell_type": "code",
   "execution_count": 20,
   "metadata": {},
   "outputs": [
    {
     "data": {
      "text/plain": [
       "1     ['멜로/로맨스', '드라마', '코미디']\n",
       "7                   ['멜로/로맨스']\n",
       "45                  ['멜로/로맨스']\n",
       "48           ['멜로/로맨스', '드라마']\n",
       "Name: genres, dtype: object"
      ]
     },
     "execution_count": 20,
     "metadata": {},
     "output_type": "execute_result"
    }
   ],
   "source": [
    "df[df.genres.apply(lambda x: '멜로/로맨스' in x)].genres"
   ]
  },
  {
   "cell_type": "code",
   "execution_count": 21,
   "metadata": {},
   "outputs": [],
   "source": [
    "import ast\n",
    "df.genres = df.genres.apply(lambda x: ast.literal_eval(x))"
   ]
  },
  {
   "cell_type": "code",
   "execution_count": 22,
   "metadata": {},
   "outputs": [],
   "source": [
    "genres_list = [\"액션\", \"모험\" ,\"판타지\", \"가족\", \"애니메이션\", \"코미디\", \"SF\", \"드라마\", \"공포\", \"스릴러\", \"범죄\", \"미스터리\", \"음악\", \"역사\", \"TV 영화\", \"전쟁\", \"멜로/로맨스\", \"다큐멘터리\", \"서부\"]\n",
    "df_genre_each = pd.DataFrame(columns=genres_list)\n",
    "for idx in df.index:\n",
    "    genres = df.genres[idx]\n",
    "    # 한 줄 0으로 초기화\n",
    "    df_genre_each.loc[idx] = 0\n",
    "    for genre in genres:\n",
    "        df_genre_each.loc[idx][str(genre)] = 1  # 한 줄 값 부여"
   ]
  },
  {
   "cell_type": "code",
   "execution_count": 23,
   "metadata": {},
   "outputs": [],
   "source": [
    "df_genre_each.rename(columns= {'멜로/로맨스':'로맨스'},inplace=True)"
   ]
  },
  {
   "cell_type": "code",
   "execution_count": 24,
   "metadata": {},
   "outputs": [],
   "source": [
    "dataframe = pd.concat([df, df_genre_each], axis=1)"
   ]
  },
  {
   "cell_type": "code",
   "execution_count": 25,
   "metadata": {},
   "outputs": [],
   "source": [
    "dataframe.to_csv('data/movie_data_predict_noscreenML.csv', index=False)"
   ]
  }
 ],
 "metadata": {
  "kernelspec": {
   "display_name": "Python 3.9.12 ('base')",
   "language": "python",
   "name": "python3"
  },
  "language_info": {
   "codemirror_mode": {
    "name": "ipython",
    "version": 3
   },
   "file_extension": ".py",
   "mimetype": "text/x-python",
   "name": "python",
   "nbconvert_exporter": "python",
   "pygments_lexer": "ipython3",
   "version": "3.9.12"
  },
  "orig_nbformat": 4,
  "vscode": {
   "interpreter": {
    "hash": "68b27da7ddeb61625eb32b27b233f0587b7aa507dfa408f4f61141179036d5a9"
   }
  }
 },
 "nbformat": 4,
 "nbformat_minor": 2
}
