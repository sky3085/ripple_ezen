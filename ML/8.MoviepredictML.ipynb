{
 "cells": [
  {
   "cell_type": "code",
   "execution_count": 41,
   "metadata": {},
   "outputs": [],
   "source": [
    "import pandas as pd\n",
    "from tensorflow.keras.models import load_model"
   ]
  },
  {
   "cell_type": "code",
   "execution_count": 42,
   "metadata": {},
   "outputs": [],
   "source": [
    "df = pd.read_csv('data/movie_data_predict_noscreenML.csv')\n",
    "X = df"
   ]
  },
  {
   "cell_type": "code",
   "execution_count": 43,
   "metadata": {},
   "outputs": [],
   "source": [
    "df['charactorId'] = df['mainCharactorID']\n",
    "df['directorId'] = df['directorID']"
   ]
  },
  {
   "cell_type": "code",
   "execution_count": 44,
   "metadata": {},
   "outputs": [],
   "source": [
    "df = df.drop(['poster_path', 'genres', 'director', 'mainCharactor', 'introduction', 'mainCharactorID', 'directorID'], axis=1)"
   ]
  },
  {
   "cell_type": "code",
   "execution_count": 45,
   "metadata": {},
   "outputs": [],
   "source": [
    "df['charactorId'] = df['charactorId'].apply(lambda x: x/3646905)\n",
    "df['directorId'] = df['directorId'].apply(lambda x: x/3646897)\n",
    "df = df.drop(['가족','애니메이션','코미디', '음악', '역사','TV 영화','전쟁','다큐멘터리','서부', '범죄'], axis=1)"
   ]
  },
  {
   "cell_type": "code",
   "execution_count": 46,
   "metadata": {},
   "outputs": [
    {
     "data": {
      "text/html": [
       "<div>\n",
       "<style scoped>\n",
       "    .dataframe tbody tr th:only-of-type {\n",
       "        vertical-align: middle;\n",
       "    }\n",
       "\n",
       "    .dataframe tbody tr th {\n",
       "        vertical-align: top;\n",
       "    }\n",
       "\n",
       "    .dataframe thead th {\n",
       "        text-align: right;\n",
       "    }\n",
       "</style>\n",
       "<table border=\"1\" class=\"dataframe\">\n",
       "  <thead>\n",
       "    <tr style=\"text-align: right;\">\n",
       "      <th></th>\n",
       "      <th>액션</th>\n",
       "      <th>모험</th>\n",
       "      <th>판타지</th>\n",
       "      <th>SF</th>\n",
       "      <th>드라마</th>\n",
       "      <th>공포</th>\n",
       "      <th>스릴러</th>\n",
       "      <th>미스터리</th>\n",
       "      <th>로맨스</th>\n",
       "      <th>charactorId</th>\n",
       "      <th>directorId</th>\n",
       "    </tr>\n",
       "  </thead>\n",
       "  <tbody>\n",
       "    <tr>\n",
       "      <th>0</th>\n",
       "      <td>0</td>\n",
       "      <td>0</td>\n",
       "      <td>0</td>\n",
       "      <td>0</td>\n",
       "      <td>0</td>\n",
       "      <td>0</td>\n",
       "      <td>0</td>\n",
       "      <td>0</td>\n",
       "      <td>0</td>\n",
       "      <td>0.000973</td>\n",
       "      <td>0.000864</td>\n",
       "    </tr>\n",
       "  </tbody>\n",
       "</table>\n",
       "</div>"
      ],
      "text/plain": [
       "   액션  모험  판타지  SF  드라마  공포  스릴러  미스터리  로맨스  charactorId  directorId\n",
       "0   0   0    0   0    0   0    0     0    0     0.000973    0.000864"
      ]
     },
     "execution_count": 46,
     "metadata": {},
     "output_type": "execute_result"
    }
   ],
   "source": [
    "df.head(1)"
   ]
  },
  {
   "cell_type": "code",
   "execution_count": 47,
   "metadata": {},
   "outputs": [],
   "source": [
    "import numpy as np\n",
    "X_data = np.array(df)"
   ]
  },
  {
   "cell_type": "code",
   "execution_count": 48,
   "metadata": {},
   "outputs": [
    {
     "name": "stdout",
     "output_type": "stream",
     "text": [
      "2/2 [==============================] - 0s 3ms/step\n",
      "1 1 1 1 1 1 0 0 1 1 \n"
     ]
    }
   ],
   "source": [
    "model = load_model('model/Dense_Dropout_nobudget.h5')\n",
    "yhat = model.predict(X_data)\n",
    "for i in range(10):\n",
    "    print(1 if yhat[i] > 0.5 else 0, end=\" \")\n",
    "print()"
   ]
  },
  {
   "cell_type": "code",
   "execution_count": 49,
   "metadata": {},
   "outputs": [],
   "source": [
    "X['predict'] = yhat"
   ]
  },
  {
   "cell_type": "code",
   "execution_count": 50,
   "metadata": {},
   "outputs": [
    {
     "data": {
      "text/html": [
       "<div>\n",
       "<style scoped>\n",
       "    .dataframe tbody tr th:only-of-type {\n",
       "        vertical-align: middle;\n",
       "    }\n",
       "\n",
       "    .dataframe tbody tr th {\n",
       "        vertical-align: top;\n",
       "    }\n",
       "\n",
       "    .dataframe thead th {\n",
       "        text-align: right;\n",
       "    }\n",
       "</style>\n",
       "<table border=\"1\" class=\"dataframe\">\n",
       "  <thead>\n",
       "    <tr style=\"text-align: right;\">\n",
       "      <th></th>\n",
       "      <th>poster_path</th>\n",
       "      <th>genres</th>\n",
       "      <th>director</th>\n",
       "      <th>mainCharactor</th>\n",
       "      <th>introduction</th>\n",
       "      <th>mainCharactorID</th>\n",
       "      <th>directorID</th>\n",
       "      <th>액션</th>\n",
       "      <th>모험</th>\n",
       "      <th>판타지</th>\n",
       "      <th>...</th>\n",
       "      <th>음악</th>\n",
       "      <th>역사</th>\n",
       "      <th>TV 영화</th>\n",
       "      <th>전쟁</th>\n",
       "      <th>로맨스</th>\n",
       "      <th>다큐멘터리</th>\n",
       "      <th>서부</th>\n",
       "      <th>charactorId</th>\n",
       "      <th>directorId</th>\n",
       "      <th>predict</th>\n",
       "    </tr>\n",
       "  </thead>\n",
       "  <tbody>\n",
       "    <tr>\n",
       "      <th>0</th>\n",
       "      <td>https://search.pstatic.net/common?type=o&amp;size=...</td>\n",
       "      <td>['애니메이션']</td>\n",
       "      <td>소토자키 하루오</td>\n",
       "      <td>하나에 나츠키</td>\n",
       "      <td>귀살대에 입대한 탄지로는 매일 소녀가 실종된다고 하는 마을로 향한다. 혈귀의 냄새는...</td>\n",
       "      <td>3550</td>\n",
       "      <td>3150</td>\n",
       "      <td>0</td>\n",
       "      <td>0</td>\n",
       "      <td>0</td>\n",
       "      <td>...</td>\n",
       "      <td>0</td>\n",
       "      <td>0</td>\n",
       "      <td>0</td>\n",
       "      <td>0</td>\n",
       "      <td>0</td>\n",
       "      <td>0</td>\n",
       "      <td>0</td>\n",
       "      <td>3550</td>\n",
       "      <td>3150</td>\n",
       "      <td>0.509248</td>\n",
       "    </tr>\n",
       "  </tbody>\n",
       "</table>\n",
       "<p>1 rows × 29 columns</p>\n",
       "</div>"
      ],
      "text/plain": [
       "                                         poster_path     genres  director  \\\n",
       "0  https://search.pstatic.net/common?type=o&size=...  ['애니메이션']  소토자키 하루오   \n",
       "\n",
       "  mainCharactor                                       introduction  \\\n",
       "0       하나에 나츠키  귀살대에 입대한 탄지로는 매일 소녀가 실종된다고 하는 마을로 향한다. 혈귀의 냄새는...   \n",
       "\n",
       "   mainCharactorID  directorID  액션  모험  판타지  ...  음악  역사  TV 영화  전쟁  로맨스  \\\n",
       "0             3550        3150   0   0    0  ...   0   0      0   0    0   \n",
       "\n",
       "   다큐멘터리  서부  charactorId  directorId   predict  \n",
       "0      0   0         3550        3150  0.509248  \n",
       "\n",
       "[1 rows x 29 columns]"
      ]
     },
     "execution_count": 50,
     "metadata": {},
     "output_type": "execute_result"
    }
   ],
   "source": [
    "X.head(1)"
   ]
  },
  {
   "cell_type": "code",
   "execution_count": 51,
   "metadata": {},
   "outputs": [],
   "source": [
    "X.to_csv('data/movie_data_predict_answer.csv')"
   ]
  }
 ],
 "metadata": {
  "kernelspec": {
   "display_name": "Python 3.9.12 ('base')",
   "language": "python",
   "name": "python3"
  },
  "language_info": {
   "codemirror_mode": {
    "name": "ipython",
    "version": 3
   },
   "file_extension": ".py",
   "mimetype": "text/x-python",
   "name": "python",
   "nbconvert_exporter": "python",
   "pygments_lexer": "ipython3",
   "version": "3.9.12"
  },
  "orig_nbformat": 4,
  "vscode": {
   "interpreter": {
    "hash": "68b27da7ddeb61625eb32b27b233f0587b7aa507dfa408f4f61141179036d5a9"
   }
  }
 },
 "nbformat": 4,
 "nbformat_minor": 2
}
