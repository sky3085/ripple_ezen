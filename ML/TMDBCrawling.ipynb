{
 "cells": [
  {
   "cell_type": "code",
   "execution_count": 12,
   "metadata": {},
   "outputs": [],
   "source": [
    "# 데이터가 부족한 경우 사용\n",
    "# NaN값을 제거하면 데이터가 5302개이므로 클롤링을 통해 NaN값을 채울려고 한다.\n",
    "import pandas as pd\n",
    "import numpy as np"
   ]
  },
  {
   "cell_type": "markdown",
   "metadata": {},
   "source": [
    "- 데이터 분석(감독)"
   ]
  },
  {
   "cell_type": "code",
   "execution_count": 13,
   "metadata": {},
   "outputs": [],
   "source": [
    "# title budget genres country main_charactor director vote_average vote_count\n",
    "df = pd.read_csv('data/movie_data_original.csv',\n",
    "                 names=\"title budget genres country main_charactor director vote_average vote_count\".split(),\n",
    "                 skiprows=1)"
   ]
  },
  {
   "cell_type": "code",
   "execution_count": 14,
   "metadata": {},
   "outputs": [
    {
     "data": {
      "text/html": [
       "<div>\n",
       "<style scoped>\n",
       "    .dataframe tbody tr th:only-of-type {\n",
       "        vertical-align: middle;\n",
       "    }\n",
       "\n",
       "    .dataframe tbody tr th {\n",
       "        vertical-align: top;\n",
       "    }\n",
       "\n",
       "    .dataframe thead th {\n",
       "        text-align: right;\n",
       "    }\n",
       "</style>\n",
       "<table border=\"1\" class=\"dataframe\">\n",
       "  <thead>\n",
       "    <tr style=\"text-align: right;\">\n",
       "      <th></th>\n",
       "      <th>title</th>\n",
       "      <th>budget</th>\n",
       "      <th>genres</th>\n",
       "      <th>country</th>\n",
       "      <th>main_charactor</th>\n",
       "      <th>director</th>\n",
       "      <th>vote_average</th>\n",
       "      <th>vote_count</th>\n",
       "    </tr>\n",
       "  </thead>\n",
       "  <tbody>\n",
       "    <tr>\n",
       "      <th>0</th>\n",
       "      <td>{616037: 'Thor: Love and Thunder'}</td>\n",
       "      <td>250000000</td>\n",
       "      <td>[{'id': 28, 'name': 'Action'}, {'id': 12, 'nam...</td>\n",
       "      <td>[{'iso_3166_1': 'US', 'name': 'United States o...</td>\n",
       "      <td>{3894: 'Christian Bale'}</td>\n",
       "      <td>{55934: 'Taika Waititi'}</td>\n",
       "      <td>6.772</td>\n",
       "      <td>1752</td>\n",
       "    </tr>\n",
       "  </tbody>\n",
       "</table>\n",
       "</div>"
      ],
      "text/plain": [
       "                                title     budget  \\\n",
       "0  {616037: 'Thor: Love and Thunder'}  250000000   \n",
       "\n",
       "                                              genres  \\\n",
       "0  [{'id': 28, 'name': 'Action'}, {'id': 12, 'nam...   \n",
       "\n",
       "                                             country  \\\n",
       "0  [{'iso_3166_1': 'US', 'name': 'United States o...   \n",
       "\n",
       "             main_charactor                  director  vote_average  \\\n",
       "0  {3894: 'Christian Bale'}  {55934: 'Taika Waititi'}         6.772   \n",
       "\n",
       "   vote_count  \n",
       "0        1752  "
      ]
     },
     "execution_count": 14,
     "metadata": {},
     "output_type": "execute_result"
    }
   ],
   "source": [
    "df.head(1)"
   ]
  },
  {
   "cell_type": "code",
   "execution_count": 35,
   "metadata": {},
   "outputs": [
    {
     "data": {
      "text/plain": [
       "114"
      ]
     },
     "execution_count": 35,
     "metadata": {},
     "output_type": "execute_result"
    }
   ],
   "source": [
    "# 감독이 없는 데이터 114개\n",
    "NoDirectors = df[df['director'] == '-']\n",
    "len(NoDirectors)"
   ]
  },
  {
   "cell_type": "code",
   "execution_count": 49,
   "metadata": {},
   "outputs": [
    {
     "data": {
      "text/html": [
       "<div>\n",
       "<style scoped>\n",
       "    .dataframe tbody tr th:only-of-type {\n",
       "        vertical-align: middle;\n",
       "    }\n",
       "\n",
       "    .dataframe tbody tr th {\n",
       "        vertical-align: top;\n",
       "    }\n",
       "\n",
       "    .dataframe thead th {\n",
       "        text-align: right;\n",
       "    }\n",
       "</style>\n",
       "<table border=\"1\" class=\"dataframe\">\n",
       "  <thead>\n",
       "    <tr style=\"text-align: right;\">\n",
       "      <th></th>\n",
       "      <th>title</th>\n",
       "      <th>budget</th>\n",
       "      <th>genres</th>\n",
       "      <th>country</th>\n",
       "      <th>main_charactor</th>\n",
       "      <th>director</th>\n",
       "      <th>vote_average</th>\n",
       "      <th>vote_count</th>\n",
       "    </tr>\n",
       "  </thead>\n",
       "  <tbody>\n",
       "    <tr>\n",
       "      <th>199</th>\n",
       "      <td>{992187: \"Chip and Potato: Chip's Holiday\"}</td>\n",
       "      <td>0</td>\n",
       "      <td>[{'id': 16, 'name': 'Animation'}]</td>\n",
       "      <td>[{'iso_3166_1': 'CA', 'name': 'Canada'}]</td>\n",
       "      <td>{76700: 'Briana Buckmaster'}</td>\n",
       "      <td>-</td>\n",
       "      <td>5.3</td>\n",
       "      <td>6</td>\n",
       "    </tr>\n",
       "    <tr>\n",
       "      <th>207</th>\n",
       "      <td>{975117: 'Father There Is Only One 3'}</td>\n",
       "      <td>0</td>\n",
       "      <td>[]</td>\n",
       "      <td>[]</td>\n",
       "      <td>{3062553: 'Bhavin Rabari'}</td>\n",
       "      <td>-</td>\n",
       "      <td>6.8</td>\n",
       "      <td>3</td>\n",
       "    </tr>\n",
       "    <tr>\n",
       "      <th>221</th>\n",
       "      <td>{755433: 'The Monster at the End of This Story'}</td>\n",
       "      <td>0</td>\n",
       "      <td>[{'id': 10751, 'name': 'Family'}, {'id': 16, '...</td>\n",
       "      <td>[{'iso_3166_1': 'US', 'name': 'United States o...</td>\n",
       "      <td>{1213631: 'Leslie Carrara-Rudolph'}</td>\n",
       "      <td>-</td>\n",
       "      <td>3.0</td>\n",
       "      <td>3</td>\n",
       "    </tr>\n",
       "    <tr>\n",
       "      <th>383</th>\n",
       "      <td>{575249: 'Dragon Ball Z: The Real 4-D at Super...</td>\n",
       "      <td>0</td>\n",
       "      <td>[{'id': 28, 'name': 'Action'}, {'id': 16, 'nam...</td>\n",
       "      <td>[{'iso_3166_1': 'JP', 'name': 'Japan'}]</td>\n",
       "      <td>{90496: 'Masako Nozawa'}</td>\n",
       "      <td>-</td>\n",
       "      <td>7.2</td>\n",
       "      <td>16</td>\n",
       "    </tr>\n",
       "    <tr>\n",
       "      <th>640</th>\n",
       "      <td>{464324: 'Depredador'}</td>\n",
       "      <td>0</td>\n",
       "      <td>[]</td>\n",
       "      <td>[]</td>\n",
       "      <td>{55392: 'Martha Higareda'}</td>\n",
       "      <td>-</td>\n",
       "      <td>6.0</td>\n",
       "      <td>2</td>\n",
       "    </tr>\n",
       "    <tr>\n",
       "      <th>...</th>\n",
       "      <td>...</td>\n",
       "      <td>...</td>\n",
       "      <td>...</td>\n",
       "      <td>...</td>\n",
       "      <td>...</td>\n",
       "      <td>...</td>\n",
       "      <td>...</td>\n",
       "      <td>...</td>\n",
       "    </tr>\n",
       "    <tr>\n",
       "      <th>9585</th>\n",
       "      <td>{934809: 'The Road to El Camino: Behind the Sc...</td>\n",
       "      <td>0</td>\n",
       "      <td>[{'id': 99, 'name': 'Documentary'}]</td>\n",
       "      <td>[]</td>\n",
       "      <td>{82945: 'Charles Baker'}</td>\n",
       "      <td>-</td>\n",
       "      <td>6.5</td>\n",
       "      <td>4</td>\n",
       "    </tr>\n",
       "    <tr>\n",
       "      <th>9608</th>\n",
       "      <td>{624372: 'Ted Bundy: Mind of a Monster'}</td>\n",
       "      <td>0</td>\n",
       "      <td>[{'id': 80, 'name': 'Crime'}, {'id': 99, 'name...</td>\n",
       "      <td>[{'iso_3166_1': 'GB', 'name': 'United Kingdom'...</td>\n",
       "      <td>{1292615: 'Ted Bundy'}</td>\n",
       "      <td>-</td>\n",
       "      <td>7.7</td>\n",
       "      <td>36</td>\n",
       "    </tr>\n",
       "    <tr>\n",
       "      <th>9628</th>\n",
       "      <td>{993503: \"Bing's Animal Stories\"}</td>\n",
       "      <td>0</td>\n",
       "      <td>[]</td>\n",
       "      <td>[]</td>\n",
       "      <td>{1138: 'Benoît Régent'}</td>\n",
       "      <td>-</td>\n",
       "      <td>0.0</td>\n",
       "      <td>0</td>\n",
       "    </tr>\n",
       "    <tr>\n",
       "      <th>9929</th>\n",
       "      <td>{672291: 'Aladdin 2'}</td>\n",
       "      <td>0</td>\n",
       "      <td>[{'id': 14, 'name': 'Fantasy'}, {'id': 10751, ...</td>\n",
       "      <td>[{'iso_3166_1': 'US', 'name': 'United States o...</td>\n",
       "      <td>{240724: 'Naomi Scott'}</td>\n",
       "      <td>-</td>\n",
       "      <td>0.0</td>\n",
       "      <td>0</td>\n",
       "    </tr>\n",
       "    <tr>\n",
       "      <th>9990</th>\n",
       "      <td>{715616: 'Speedy Gonzales'}</td>\n",
       "      <td>0</td>\n",
       "      <td>[]</td>\n",
       "      <td>[{'iso_3166_1': 'US', 'name': 'United States o...</td>\n",
       "      <td>{239574: 'Eugenio Derbez'}</td>\n",
       "      <td>-</td>\n",
       "      <td>0.0</td>\n",
       "      <td>0</td>\n",
       "    </tr>\n",
       "  </tbody>\n",
       "</table>\n",
       "<p>114 rows × 8 columns</p>\n",
       "</div>"
      ],
      "text/plain": [
       "                                                  title  budget  \\\n",
       "199         {992187: \"Chip and Potato: Chip's Holiday\"}       0   \n",
       "207              {975117: 'Father There Is Only One 3'}       0   \n",
       "221    {755433: 'The Monster at the End of This Story'}       0   \n",
       "383   {575249: 'Dragon Ball Z: The Real 4-D at Super...       0   \n",
       "640                              {464324: 'Depredador'}       0   \n",
       "...                                                 ...     ...   \n",
       "9585  {934809: 'The Road to El Camino: Behind the Sc...       0   \n",
       "9608           {624372: 'Ted Bundy: Mind of a Monster'}       0   \n",
       "9628                  {993503: \"Bing's Animal Stories\"}       0   \n",
       "9929                              {672291: 'Aladdin 2'}       0   \n",
       "9990                        {715616: 'Speedy Gonzales'}       0   \n",
       "\n",
       "                                                 genres  \\\n",
       "199                   [{'id': 16, 'name': 'Animation'}]   \n",
       "207                                                  []   \n",
       "221   [{'id': 10751, 'name': 'Family'}, {'id': 16, '...   \n",
       "383   [{'id': 28, 'name': 'Action'}, {'id': 16, 'nam...   \n",
       "640                                                  []   \n",
       "...                                                 ...   \n",
       "9585                [{'id': 99, 'name': 'Documentary'}]   \n",
       "9608  [{'id': 80, 'name': 'Crime'}, {'id': 99, 'name...   \n",
       "9628                                                 []   \n",
       "9929  [{'id': 14, 'name': 'Fantasy'}, {'id': 10751, ...   \n",
       "9990                                                 []   \n",
       "\n",
       "                                                country  \\\n",
       "199            [{'iso_3166_1': 'CA', 'name': 'Canada'}]   \n",
       "207                                                  []   \n",
       "221   [{'iso_3166_1': 'US', 'name': 'United States o...   \n",
       "383             [{'iso_3166_1': 'JP', 'name': 'Japan'}]   \n",
       "640                                                  []   \n",
       "...                                                 ...   \n",
       "9585                                                 []   \n",
       "9608  [{'iso_3166_1': 'GB', 'name': 'United Kingdom'...   \n",
       "9628                                                 []   \n",
       "9929  [{'iso_3166_1': 'US', 'name': 'United States o...   \n",
       "9990  [{'iso_3166_1': 'US', 'name': 'United States o...   \n",
       "\n",
       "                           main_charactor director  vote_average  vote_count  \n",
       "199          {76700: 'Briana Buckmaster'}        -           5.3           6  \n",
       "207            {3062553: 'Bhavin Rabari'}        -           6.8           3  \n",
       "221   {1213631: 'Leslie Carrara-Rudolph'}        -           3.0           3  \n",
       "383              {90496: 'Masako Nozawa'}        -           7.2          16  \n",
       "640            {55392: 'Martha Higareda'}        -           6.0           2  \n",
       "...                                   ...      ...           ...         ...  \n",
       "9585             {82945: 'Charles Baker'}        -           6.5           4  \n",
       "9608               {1292615: 'Ted Bundy'}        -           7.7          36  \n",
       "9628              {1138: 'Benoît Régent'}        -           0.0           0  \n",
       "9929              {240724: 'Naomi Scott'}        -           0.0           0  \n",
       "9990           {239574: 'Eugenio Derbez'}        -           0.0           0  \n",
       "\n",
       "[114 rows x 8 columns]"
      ]
     },
     "execution_count": 49,
     "metadata": {},
     "output_type": "execute_result"
    }
   ],
   "source": [
    "NoDirectors"
   ]
  },
  {
   "cell_type": "code",
   "execution_count": 36,
   "metadata": {},
   "outputs": [],
   "source": [
    "import ast"
   ]
  },
  {
   "cell_type": "code",
   "execution_count": 41,
   "metadata": {},
   "outputs": [],
   "source": [
    "# 감독이 없는 리스트 중 타이틀을 string -> dict로 그중 title name만 가져옴\n",
    "# Ndirector 에 리스트로 저장\n",
    "Ndirector = []\n",
    "for NoDirector in df.loc[NoDirectors.index].title:\n",
    "    for s in ast.literal_eval(NoDirector).values():\n",
    "        Ndirector.append(s)"
   ]
  },
  {
   "cell_type": "code",
   "execution_count": 45,
   "metadata": {},
   "outputs": [
    {
     "data": {
      "text/plain": [
       "\"Chip and Potato: Chip's Holiday\""
      ]
     },
     "execution_count": 45,
     "metadata": {},
     "output_type": "execute_result"
    }
   ],
   "source": [
    "Ndirector[0]"
   ]
  },
  {
   "cell_type": "markdown",
   "metadata": {},
   "source": [
    "- 클롤링(감독 데이터)"
   ]
  },
  {
   "cell_type": "code",
   "execution_count": 46,
   "metadata": {},
   "outputs": [],
   "source": [
    "# wikipedia 검색 -> 첫번째 wiki사이트 클릭 -> 오른쪽 설명란에 direct by [\"...\"]\n",
    "import requests"
   ]
  },
  {
   "cell_type": "code",
   "execution_count": null,
   "metadata": {},
   "outputs": [],
   "source": [
    "search = \"Chip and Potato: Chip's Holiday\"\n",
    "url = \"https://en.wikipedia.org/w/index.php?search={search}&title=Special%3ASearch&go=Go&ns0=1\"\n"
   ]
  }
 ],
 "metadata": {
  "kernelspec": {
   "display_name": "Python 3.9.12 ('base')",
   "language": "python",
   "name": "python3"
  },
  "language_info": {
   "codemirror_mode": {
    "name": "ipython",
    "version": 3
   },
   "file_extension": ".py",
   "mimetype": "text/x-python",
   "name": "python",
   "nbconvert_exporter": "python",
   "pygments_lexer": "ipython3",
   "version": "3.9.12"
  },
  "orig_nbformat": 4,
  "vscode": {
   "interpreter": {
    "hash": "68b27da7ddeb61625eb32b27b233f0587b7aa507dfa408f4f61141179036d5a9"
   }
  }
 },
 "nbformat": 4,
 "nbformat_minor": 2
}
