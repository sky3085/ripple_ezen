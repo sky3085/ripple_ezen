{
 "cells": [
  {
   "cell_type": "code",
   "execution_count": 90,
   "metadata": {},
   "outputs": [],
   "source": [
    "import pandas as pd\n",
    "import numpy as np"
   ]
  },
  {
   "cell_type": "code",
   "execution_count": 91,
   "metadata": {},
   "outputs": [
    {
     "data": {
      "text/html": [
       "<div>\n",
       "<style scoped>\n",
       "    .dataframe tbody tr th:only-of-type {\n",
       "        vertical-align: middle;\n",
       "    }\n",
       "\n",
       "    .dataframe tbody tr th {\n",
       "        vertical-align: top;\n",
       "    }\n",
       "\n",
       "    .dataframe thead th {\n",
       "        text-align: right;\n",
       "    }\n",
       "</style>\n",
       "<table border=\"1\" class=\"dataframe\">\n",
       "  <thead>\n",
       "    <tr style=\"text-align: right;\">\n",
       "      <th></th>\n",
       "      <th>title</th>\n",
       "      <th>budget</th>\n",
       "      <th>genres</th>\n",
       "      <th>country</th>\n",
       "      <th>main_charactor</th>\n",
       "      <th>director</th>\n",
       "      <th>vote_average</th>\n",
       "    </tr>\n",
       "  </thead>\n",
       "  <tbody>\n",
       "    <tr>\n",
       "      <th>0</th>\n",
       "      <td>{616037: 'Thor: Love and Thunder'}</td>\n",
       "      <td>250000000</td>\n",
       "      <td>[{'id': 28, 'name': 'Action'}, {'id': 12, 'nam...</td>\n",
       "      <td>[{'iso_3166_1': 'US', 'name': 'United States o...</td>\n",
       "      <td>{3894: 'Christian Bale'}</td>\n",
       "      <td>{55934: 'Taika Waititi'}</td>\n",
       "      <td>6.753</td>\n",
       "    </tr>\n",
       "    <tr>\n",
       "      <th>1</th>\n",
       "      <td>{438148: 'Minions: The Rise of Gru'}</td>\n",
       "      <td>85000000</td>\n",
       "      <td>[{'id': 10751, 'name': 'Family'}, {'id': 16, '...</td>\n",
       "      <td>[{'iso_3166_1': 'US', 'name': 'United States o...</td>\n",
       "      <td>{124747: 'Pierre Coffin'}</td>\n",
       "      <td>{8023: 'Kyle Balda'}</td>\n",
       "      <td>7.775</td>\n",
       "    </tr>\n",
       "    <tr>\n",
       "      <th>2</th>\n",
       "      <td>{507086: 'Jurassic World Dominion'}</td>\n",
       "      <td>165000000</td>\n",
       "      <td>[{'id': 12, 'name': 'Adventure'}, {'id': 28, '...</td>\n",
       "      <td>[{'iso_3166_1': 'US', 'name': 'United States o...</td>\n",
       "      <td>{18997: 'Bryce Dallas Howard'}</td>\n",
       "      <td>{930707: 'Colin Trevorrow'}</td>\n",
       "      <td>7.110</td>\n",
       "    </tr>\n",
       "    <tr>\n",
       "      <th>3</th>\n",
       "      <td>{361743: 'Top Gun: Maverick'}</td>\n",
       "      <td>170000000</td>\n",
       "      <td>[{'id': 28, 'name': 'Action'}, {'id': 18, 'nam...</td>\n",
       "      <td>[{'iso_3166_1': 'US', 'name': 'United States o...</td>\n",
       "      <td>{996701: 'Miles Teller'}</td>\n",
       "      <td>{86270: 'Joseph Kosinski'}</td>\n",
       "      <td>8.335</td>\n",
       "    </tr>\n",
       "    <tr>\n",
       "      <th>4</th>\n",
       "      <td>{718789: 'Lightyear'}</td>\n",
       "      <td>200000000</td>\n",
       "      <td>[{'id': 16, 'name': 'Animation'}, {'id': 878, ...</td>\n",
       "      <td>[{'iso_3166_1': 'US', 'name': 'United States o...</td>\n",
       "      <td>{74688: 'Keke Palmer'}</td>\n",
       "      <td>{7929: 'Angus MacLane'}</td>\n",
       "      <td>7.359</td>\n",
       "    </tr>\n",
       "  </tbody>\n",
       "</table>\n",
       "</div>"
      ],
      "text/plain": [
       "                                  title     budget  \\\n",
       "0    {616037: 'Thor: Love and Thunder'}  250000000   \n",
       "1  {438148: 'Minions: The Rise of Gru'}   85000000   \n",
       "2   {507086: 'Jurassic World Dominion'}  165000000   \n",
       "3         {361743: 'Top Gun: Maverick'}  170000000   \n",
       "4                 {718789: 'Lightyear'}  200000000   \n",
       "\n",
       "                                              genres  \\\n",
       "0  [{'id': 28, 'name': 'Action'}, {'id': 12, 'nam...   \n",
       "1  [{'id': 10751, 'name': 'Family'}, {'id': 16, '...   \n",
       "2  [{'id': 12, 'name': 'Adventure'}, {'id': 28, '...   \n",
       "3  [{'id': 28, 'name': 'Action'}, {'id': 18, 'nam...   \n",
       "4  [{'id': 16, 'name': 'Animation'}, {'id': 878, ...   \n",
       "\n",
       "                                             country  \\\n",
       "0  [{'iso_3166_1': 'US', 'name': 'United States o...   \n",
       "1  [{'iso_3166_1': 'US', 'name': 'United States o...   \n",
       "2  [{'iso_3166_1': 'US', 'name': 'United States o...   \n",
       "3  [{'iso_3166_1': 'US', 'name': 'United States o...   \n",
       "4  [{'iso_3166_1': 'US', 'name': 'United States o...   \n",
       "\n",
       "                   main_charactor                     director  vote_average  \n",
       "0        {3894: 'Christian Bale'}     {55934: 'Taika Waititi'}         6.753  \n",
       "1       {124747: 'Pierre Coffin'}         {8023: 'Kyle Balda'}         7.775  \n",
       "2  {18997: 'Bryce Dallas Howard'}  {930707: 'Colin Trevorrow'}         7.110  \n",
       "3        {996701: 'Miles Teller'}   {86270: 'Joseph Kosinski'}         8.335  \n",
       "4          {74688: 'Keke Palmer'}      {7929: 'Angus MacLane'}         7.359  "
      ]
     },
     "execution_count": 91,
     "metadata": {},
     "output_type": "execute_result"
    }
   ],
   "source": [
    "df = pd.read_csv(\"data/movie_data_final.csv\")\n",
    "df.head() # title : str"
   ]
  },
  {
   "cell_type": "code",
   "execution_count": null,
   "metadata": {},
   "outputs": [],
   "source": [
    "# vote_average를 가중치를 부여\n",
    "# vote = (v/(v+m))*R + (m/(v+m))*C\n",
    "# v : 개별 영화에 투표한 횟수, m : 평점을 부여하기 위한 최소 투표 횟수\n",
    "# R : 개별 영화에 대한 평균 평점(=vote_average), C : 전체 영화에 대한 평균 평점"
   ]
  },
  {
   "cell_type": "code",
   "execution_count": 92,
   "metadata": {},
   "outputs": [],
   "source": [
    "import ast #형태가 리스트/딕셔너리인 문자열을 다시 리스트/딕셔너리 형태로 바꿀 수 있다."
   ]
  },
  {
   "cell_type": "code",
   "execution_count": 93,
   "metadata": {},
   "outputs": [
    {
     "name": "stderr",
     "output_type": "stream",
     "text": [
      "C:\\Users\\Public\\Documents\\ESTsoft\\CreatorTemp\\ipykernel_26356\\997856842.py:13: VisibleDeprecationWarning: Creating an ndarray from ragged nested sequences (which is a list-or-tuple of lists-or-tuples-or ndarrays with different lengths or shapes) is deprecated. If you meant to do this, you must specify 'dtype=object' when creating the ndarray.\n",
      "  df_arr = np.array(df_list)\n"
     ]
    }
   ],
   "source": [
    "# title: 이름, id/ genres: to_categorical/ country: to_categorical/ charactor: 이름, id/ director: 이름, id/ result 0 or 1\n",
    "# numpy 배열 (5302,)\n",
    "df_list = []\n",
    "title, budget, genres, country, charactor, director, result=[], [], [], [], [], [], []\n",
    "for idx in df.index:\n",
    "    title.append([ast.literal_eval(df.title[idx])])\n",
    "    budget.append([int(df.budget[idx])])\n",
    "    genres.append(ast.literal_eval(df.genres[idx]))\n",
    "    country.append(ast.literal_eval(df.country[idx]))\n",
    "    charactor.append([ast.literal_eval(df.main_charactor[idx])])\n",
    "    director.append([ast.literal_eval(df.director[idx])])\n",
    "    result.append([1 if df.vote_average[idx] >= 0.5 else 0])\n",
    "df_list.append([title, budget, genres, country, charactor, director, result])\n",
    "df_arr = np.array(df_list)"
   ]
  },
  {
   "cell_type": "code",
   "execution_count": 94,
   "metadata": {},
   "outputs": [],
   "source": [
    "# for title, charactor, director\n",
    "class SeperateID_Name:\n",
    "    def __init__(self, column):\n",
    "        self.id = []\n",
    "        self.name = []\n",
    "        self.column = column\n",
    "\n",
    "    def print(self):\n",
    "        for col in self.column:\n",
    "            for key, value in col[0].items():\n",
    "                self.id.append(int(key))\n",
    "                self.name.append(str(value))\n",
    "        return self.id, self.name"
   ]
  },
  {
   "cell_type": "code",
   "execution_count": 95,
   "metadata": {},
   "outputs": [],
   "source": [
    "# title : dictionary about title_ID & title_Name\n",
    "sep_title = SeperateID_Name(title)\n",
    "title_ID, title_Name = sep_title.print()\n",
    "# charactor : dictionary about char_ID & char_Name\n",
    "sep_charactor = SeperateID_Name(charactor)\n",
    "char_ID, char_Name = sep_charactor.print()\n",
    "# director : dictionary about dir_ID & dir_Name\n",
    "sep_director = SeperateID_Name(director)\n",
    "dir_ID, dir_Name = sep_director.print()"
   ]
  },
  {
   "cell_type": "code",
   "execution_count": 96,
   "metadata": {},
   "outputs": [
    {
     "data": {
      "text/html": [
       "<div>\n",
       "<style scoped>\n",
       "    .dataframe tbody tr th:only-of-type {\n",
       "        vertical-align: middle;\n",
       "    }\n",
       "\n",
       "    .dataframe tbody tr th {\n",
       "        vertical-align: top;\n",
       "    }\n",
       "\n",
       "    .dataframe thead th {\n",
       "        text-align: right;\n",
       "    }\n",
       "</style>\n",
       "<table border=\"1\" class=\"dataframe\">\n",
       "  <thead>\n",
       "    <tr style=\"text-align: right;\">\n",
       "      <th></th>\n",
       "      <th>title</th>\n",
       "      <th>budget</th>\n",
       "      <th>genres</th>\n",
       "      <th>country</th>\n",
       "      <th>main_charactor</th>\n",
       "      <th>director</th>\n",
       "      <th>vote_average</th>\n",
       "    </tr>\n",
       "  </thead>\n",
       "  <tbody>\n",
       "    <tr>\n",
       "      <th>0</th>\n",
       "      <td>{616037: 'Thor: Love and Thunder'}</td>\n",
       "      <td>250000000</td>\n",
       "      <td>[{'id': 28, 'name': 'Action'}, {'id': 12, 'nam...</td>\n",
       "      <td>[{'iso_3166_1': 'US', 'name': 'United States o...</td>\n",
       "      <td>{3894: 'Christian Bale'}</td>\n",
       "      <td>{55934: 'Taika Waititi'}</td>\n",
       "      <td>6.753</td>\n",
       "    </tr>\n",
       "    <tr>\n",
       "      <th>1</th>\n",
       "      <td>{438148: 'Minions: The Rise of Gru'}</td>\n",
       "      <td>85000000</td>\n",
       "      <td>[{'id': 10751, 'name': 'Family'}, {'id': 16, '...</td>\n",
       "      <td>[{'iso_3166_1': 'US', 'name': 'United States o...</td>\n",
       "      <td>{124747: 'Pierre Coffin'}</td>\n",
       "      <td>{8023: 'Kyle Balda'}</td>\n",
       "      <td>7.775</td>\n",
       "    </tr>\n",
       "    <tr>\n",
       "      <th>2</th>\n",
       "      <td>{507086: 'Jurassic World Dominion'}</td>\n",
       "      <td>165000000</td>\n",
       "      <td>[{'id': 12, 'name': 'Adventure'}, {'id': 28, '...</td>\n",
       "      <td>[{'iso_3166_1': 'US', 'name': 'United States o...</td>\n",
       "      <td>{18997: 'Bryce Dallas Howard'}</td>\n",
       "      <td>{930707: 'Colin Trevorrow'}</td>\n",
       "      <td>7.110</td>\n",
       "    </tr>\n",
       "    <tr>\n",
       "      <th>3</th>\n",
       "      <td>{361743: 'Top Gun: Maverick'}</td>\n",
       "      <td>170000000</td>\n",
       "      <td>[{'id': 28, 'name': 'Action'}, {'id': 18, 'nam...</td>\n",
       "      <td>[{'iso_3166_1': 'US', 'name': 'United States o...</td>\n",
       "      <td>{996701: 'Miles Teller'}</td>\n",
       "      <td>{86270: 'Joseph Kosinski'}</td>\n",
       "      <td>8.335</td>\n",
       "    </tr>\n",
       "    <tr>\n",
       "      <th>4</th>\n",
       "      <td>{718789: 'Lightyear'}</td>\n",
       "      <td>200000000</td>\n",
       "      <td>[{'id': 16, 'name': 'Animation'}, {'id': 878, ...</td>\n",
       "      <td>[{'iso_3166_1': 'US', 'name': 'United States o...</td>\n",
       "      <td>{74688: 'Keke Palmer'}</td>\n",
       "      <td>{7929: 'Angus MacLane'}</td>\n",
       "      <td>7.359</td>\n",
       "    </tr>\n",
       "  </tbody>\n",
       "</table>\n",
       "</div>"
      ],
      "text/plain": [
       "                                  title     budget  \\\n",
       "0    {616037: 'Thor: Love and Thunder'}  250000000   \n",
       "1  {438148: 'Minions: The Rise of Gru'}   85000000   \n",
       "2   {507086: 'Jurassic World Dominion'}  165000000   \n",
       "3         {361743: 'Top Gun: Maverick'}  170000000   \n",
       "4                 {718789: 'Lightyear'}  200000000   \n",
       "\n",
       "                                              genres  \\\n",
       "0  [{'id': 28, 'name': 'Action'}, {'id': 12, 'nam...   \n",
       "1  [{'id': 10751, 'name': 'Family'}, {'id': 16, '...   \n",
       "2  [{'id': 12, 'name': 'Adventure'}, {'id': 28, '...   \n",
       "3  [{'id': 28, 'name': 'Action'}, {'id': 18, 'nam...   \n",
       "4  [{'id': 16, 'name': 'Animation'}, {'id': 878, ...   \n",
       "\n",
       "                                             country  \\\n",
       "0  [{'iso_3166_1': 'US', 'name': 'United States o...   \n",
       "1  [{'iso_3166_1': 'US', 'name': 'United States o...   \n",
       "2  [{'iso_3166_1': 'US', 'name': 'United States o...   \n",
       "3  [{'iso_3166_1': 'US', 'name': 'United States o...   \n",
       "4  [{'iso_3166_1': 'US', 'name': 'United States o...   \n",
       "\n",
       "                   main_charactor                     director  vote_average  \n",
       "0        {3894: 'Christian Bale'}     {55934: 'Taika Waititi'}         6.753  \n",
       "1       {124747: 'Pierre Coffin'}         {8023: 'Kyle Balda'}         7.775  \n",
       "2  {18997: 'Bryce Dallas Howard'}  {930707: 'Colin Trevorrow'}         7.110  \n",
       "3        {996701: 'Miles Teller'}   {86270: 'Joseph Kosinski'}         8.335  \n",
       "4          {74688: 'Keke Palmer'}      {7929: 'Angus MacLane'}         7.359  "
      ]
     },
     "execution_count": 96,
     "metadata": {},
     "output_type": "execute_result"
    }
   ],
   "source": [
    "df.head()"
   ]
  },
  {
   "cell_type": "code",
   "execution_count": 97,
   "metadata": {},
   "outputs": [],
   "source": [
    "# country dictionry name to id 만들기\n",
    "country_data = []\n",
    "for cs in country:\n",
    "    for c in cs:\n",
    "        country_data.append(c['name'])\n",
    "country_dict = {}\n",
    "i = 0\n",
    "for l in country_data:\n",
    "    try: country_dict[l]  # 찾으면 패스 못찾으면 선언 및 아이디 부여\n",
    "    except: \n",
    "        country_dict[l] = i\n",
    "        i += 1"
   ]
  },
  {
   "cell_type": "code",
   "execution_count": 110,
   "metadata": {},
   "outputs": [
    {
     "data": {
      "text/plain": [
       "93"
      ]
     },
     "execution_count": 110,
     "metadata": {},
     "output_type": "execute_result"
    }
   ],
   "source": [
    "len(country_dict)"
   ]
  },
  {
   "cell_type": "code",
   "execution_count": 98,
   "metadata": {},
   "outputs": [],
   "source": [
    "# for genres, country\n",
    "class SeperateID_Name_list:\n",
    "    def __init__(self, column):\n",
    "        self.ids, self.id = [], []\n",
    "        self.names, self.name = [], []\n",
    "        self.column = column\n",
    "    def print(self):\n",
    "        for cols in self.column:\n",
    "            for col in cols:\n",
    "                self.id.append(list(col.values())[0])\n",
    "                self.name.append(list(col.values())[1])\n",
    "            self.ids.append(self.id)\n",
    "            self.names.append(self.name)\n",
    "            self.id = []\n",
    "            self.name = []\n",
    "        return self.ids, self.names"
   ]
  },
  {
   "cell_type": "code",
   "execution_count": 99,
   "metadata": {},
   "outputs": [],
   "source": [
    "# genres\n",
    "sep_genres = SeperateID_Name_list(genres)\n",
    "genre_ID, genre_Name = sep_genres.print()\n",
    "# country \n",
    "sep_country = SeperateID_Name_list(country)\n",
    "country_ID, country_Name = sep_country.print()"
   ]
  },
  {
   "cell_type": "code",
   "execution_count": 100,
   "metadata": {},
   "outputs": [],
   "source": [
    "# country_ID id 저장\n",
    "country_I = []\n",
    "country_ID = []\n",
    "for names in country_Name:\n",
    "    for name in names:\n",
    "        country_I.append(country_dict[name])\n",
    "    country_ID.append(country_I)\n",
    "    country_I = []"
   ]
  },
  {
   "cell_type": "code",
   "execution_count": 101,
   "metadata": {},
   "outputs": [
    {
     "data": {
      "text/html": [
       "<div>\n",
       "<style scoped>\n",
       "    .dataframe tbody tr th:only-of-type {\n",
       "        vertical-align: middle;\n",
       "    }\n",
       "\n",
       "    .dataframe tbody tr th {\n",
       "        vertical-align: top;\n",
       "    }\n",
       "\n",
       "    .dataframe thead th {\n",
       "        text-align: right;\n",
       "    }\n",
       "</style>\n",
       "<table border=\"1\" class=\"dataframe\">\n",
       "  <thead>\n",
       "    <tr style=\"text-align: right;\">\n",
       "      <th></th>\n",
       "      <th>title</th>\n",
       "      <th>budget</th>\n",
       "      <th>genres</th>\n",
       "      <th>country</th>\n",
       "      <th>main_charactor</th>\n",
       "      <th>director</th>\n",
       "      <th>vote_average</th>\n",
       "    </tr>\n",
       "  </thead>\n",
       "  <tbody>\n",
       "    <tr>\n",
       "      <th>0</th>\n",
       "      <td>{616037: 'Thor: Love and Thunder'}</td>\n",
       "      <td>250000000</td>\n",
       "      <td>[{'id': 28, 'name': 'Action'}, {'id': 12, 'nam...</td>\n",
       "      <td>[{'iso_3166_1': 'US', 'name': 'United States o...</td>\n",
       "      <td>{3894: 'Christian Bale'}</td>\n",
       "      <td>{55934: 'Taika Waititi'}</td>\n",
       "      <td>6.753</td>\n",
       "    </tr>\n",
       "  </tbody>\n",
       "</table>\n",
       "</div>"
      ],
      "text/plain": [
       "                                title     budget  \\\n",
       "0  {616037: 'Thor: Love and Thunder'}  250000000   \n",
       "\n",
       "                                              genres  \\\n",
       "0  [{'id': 28, 'name': 'Action'}, {'id': 12, 'nam...   \n",
       "\n",
       "                                             country  \\\n",
       "0  [{'iso_3166_1': 'US', 'name': 'United States o...   \n",
       "\n",
       "             main_charactor                  director  vote_average  \n",
       "0  {3894: 'Christian Bale'}  {55934: 'Taika Waititi'}         6.753  "
      ]
     },
     "execution_count": 101,
     "metadata": {},
     "output_type": "execute_result"
    }
   ],
   "source": [
    "df.head(1)"
   ]
  },
  {
   "cell_type": "code",
   "execution_count": 102,
   "metadata": {},
   "outputs": [
    {
     "name": "stdout",
     "output_type": "stream",
     "text": [
      "5302 5302 5302\n"
     ]
    }
   ],
   "source": [
    "print(len(title_ID), len(budget), len(genre_ID))"
   ]
  },
  {
   "cell_type": "code",
   "execution_count": 103,
   "metadata": {},
   "outputs": [
    {
     "name": "stderr",
     "output_type": "stream",
     "text": [
      "C:\\Users\\Public\\Documents\\ESTsoft\\CreatorTemp\\ipykernel_26356\\553484842.py:7: VisibleDeprecationWarning: Creating an ndarray from ragged nested sequences (which is a list-or-tuple of lists-or-tuples-or ndarrays with different lengths or shapes) is deprecated. If you meant to do this, you must specify 'dtype=object' when creating the ndarray.\n",
      "  X = np.array(ID)\n"
     ]
    }
   ],
   "source": [
    "# 로지스틱 회귀 모델(sigmoid) : weight초기화, dropout, ReLU, batch nomalization\n",
    "# 결과 : 흥행성공, 흥행 실패, 전체영화 의 평균 정확도\n",
    "# 1. 데이터셋 준비하기\n",
    "ID = []\n",
    "for idx in range(5302):\n",
    "    ID.append([title_ID[idx], *budget[idx], genre_ID[idx], country_ID[idx], char_ID[idx], dir_ID[idx], result[idx]])\n",
    "X = np.array(ID)"
   ]
  },
  {
   "cell_type": "code",
   "execution_count": 104,
   "metadata": {},
   "outputs": [],
   "source": [
    "# 장르 id와 국가별 id 길이 맞추기\n",
    "# ex) [1, 2, 3], [1, 4, x] -> [1, 2, 3], [1, 4, 0]\n",
    "# 길이의 최대값 구하기 7개\n",
    "mx = 0\n",
    "for length in genre_ID:\n",
    "    if mx < len(length):\n",
    "        mx = len(length)\n",
    "\n",
    "\n",
    "# 최대가 아닌 길이들 combination\n",
    "# ex) [1, 0, 0] => [1, 0, 0], [0, 1, 0], [0, 0, 1]\n"
   ]
  },
  {
   "cell_type": "code",
   "execution_count": 105,
   "metadata": {},
   "outputs": [],
   "source": [
    "# y_train : 흥행했는지(1) 안했는지(0)\n",
    "y = X[:,6:]\n",
    "X = X[:,:-1]\n",
    "from sklearn.model_selection import train_test_split\n",
    "X_train, X_test, y_train, y_test = train_test_split(X, y, test_size=0.2)"
   ]
  },
  {
   "cell_type": "code",
   "execution_count": 106,
   "metadata": {},
   "outputs": [
    {
     "name": "stdout",
     "output_type": "stream",
     "text": [
      "(4241, 6)\n",
      "(4241, 1)\n",
      "(1061, 6)\n",
      "(1061, 1)\n"
     ]
    }
   ],
   "source": [
    "print(X_train.shape)\n",
    "print(y_train.shape)\n",
    "print(X_test.shape)\n",
    "print(y_test.shape)"
   ]
  },
  {
   "cell_type": "code",
   "execution_count": 107,
   "metadata": {},
   "outputs": [
    {
     "data": {
      "text/plain": [
       "array([440, 40000000, list([14, 28, 878, 53, 27]), list([0]), 25869, 6038],\n",
       "      dtype=object)"
      ]
     },
     "execution_count": 107,
     "metadata": {},
     "output_type": "execute_result"
    }
   ],
   "source": [
    "X_train[0]"
   ]
  },
  {
   "cell_type": "code",
   "execution_count": 108,
   "metadata": {},
   "outputs": [
    {
     "ename": "ValueError",
     "evalue": "setting an array element with a sequence.",
     "output_type": "error",
     "traceback": [
      "\u001b[1;31m---------------------------------------------------------------------------\u001b[0m",
      "\u001b[1;31mTypeError\u001b[0m                                 Traceback (most recent call last)",
      "\u001b[1;31mTypeError\u001b[0m: float() argument must be a string or a number, not 'list'",
      "\nThe above exception was the direct cause of the following exception:\n",
      "\u001b[1;31mValueError\u001b[0m                                Traceback (most recent call last)",
      "\u001b[1;32md:\\bigdata_pcj\\99.TeamProject\\workspace\\ML\\TMDBML.ipynb 셀 19\u001b[0m in \u001b[0;36m<cell line: 4>\u001b[1;34m()\u001b[0m\n\u001b[0;32m      <a href='vscode-notebook-cell:/d%3A/bigdata_pcj/99.TeamProject/workspace/ML/TMDBML.ipynb#X24sZmlsZQ%3D%3D?line=1'>2</a>\u001b[0m \u001b[39mfrom\u001b[39;00m \u001b[39msklearn\u001b[39;00m\u001b[39m.\u001b[39;00m\u001b[39mpreprocessing\u001b[39;00m \u001b[39mimport\u001b[39;00m StandardScaler\n\u001b[0;32m      <a href='vscode-notebook-cell:/d%3A/bigdata_pcj/99.TeamProject/workspace/ML/TMDBML.ipynb#X24sZmlsZQ%3D%3D?line=2'>3</a>\u001b[0m scaler \u001b[39m=\u001b[39m StandardScaler()\n\u001b[1;32m----> <a href='vscode-notebook-cell:/d%3A/bigdata_pcj/99.TeamProject/workspace/ML/TMDBML.ipynb#X24sZmlsZQ%3D%3D?line=3'>4</a>\u001b[0m scaler\u001b[39m.\u001b[39;49mfit(X_train)\n\u001b[0;32m      <a href='vscode-notebook-cell:/d%3A/bigdata_pcj/99.TeamProject/workspace/ML/TMDBML.ipynb#X24sZmlsZQ%3D%3D?line=5'>6</a>\u001b[0m X_train \u001b[39m=\u001b[39m scaler\u001b[39m.\u001b[39mtransform(X_train)\n\u001b[0;32m      <a href='vscode-notebook-cell:/d%3A/bigdata_pcj/99.TeamProject/workspace/ML/TMDBML.ipynb#X24sZmlsZQ%3D%3D?line=6'>7</a>\u001b[0m X_test \u001b[39m=\u001b[39m scaler\u001b[39m.\u001b[39mtransform(X_test)\n",
      "File \u001b[1;32mc:\\Users\\lunaw\\anaconda3\\lib\\site-packages\\sklearn\\preprocessing\\_data.py:806\u001b[0m, in \u001b[0;36mStandardScaler.fit\u001b[1;34m(self, X, y, sample_weight)\u001b[0m\n\u001b[0;32m    804\u001b[0m \u001b[39m# Reset internal state before fitting\u001b[39;00m\n\u001b[0;32m    805\u001b[0m \u001b[39mself\u001b[39m\u001b[39m.\u001b[39m_reset()\n\u001b[1;32m--> 806\u001b[0m \u001b[39mreturn\u001b[39;00m \u001b[39mself\u001b[39;49m\u001b[39m.\u001b[39;49mpartial_fit(X, y, sample_weight)\n",
      "File \u001b[1;32mc:\\Users\\lunaw\\anaconda3\\lib\\site-packages\\sklearn\\preprocessing\\_data.py:841\u001b[0m, in \u001b[0;36mStandardScaler.partial_fit\u001b[1;34m(self, X, y, sample_weight)\u001b[0m\n\u001b[0;32m    809\u001b[0m \u001b[39m\"\"\"Online computation of mean and std on X for later scaling.\u001b[39;00m\n\u001b[0;32m    810\u001b[0m \n\u001b[0;32m    811\u001b[0m \u001b[39mAll of X is processed as a single batch. This is intended for cases\u001b[39;00m\n\u001b[1;32m   (...)\u001b[0m\n\u001b[0;32m    838\u001b[0m \u001b[39m    Fitted scaler.\u001b[39;00m\n\u001b[0;32m    839\u001b[0m \u001b[39m\"\"\"\u001b[39;00m\n\u001b[0;32m    840\u001b[0m first_call \u001b[39m=\u001b[39m \u001b[39mnot\u001b[39;00m \u001b[39mhasattr\u001b[39m(\u001b[39mself\u001b[39m, \u001b[39m\"\u001b[39m\u001b[39mn_samples_seen_\u001b[39m\u001b[39m\"\u001b[39m)\n\u001b[1;32m--> 841\u001b[0m X \u001b[39m=\u001b[39m \u001b[39mself\u001b[39;49m\u001b[39m.\u001b[39;49m_validate_data(\n\u001b[0;32m    842\u001b[0m     X,\n\u001b[0;32m    843\u001b[0m     accept_sparse\u001b[39m=\u001b[39;49m(\u001b[39m\"\u001b[39;49m\u001b[39mcsr\u001b[39;49m\u001b[39m\"\u001b[39;49m, \u001b[39m\"\u001b[39;49m\u001b[39mcsc\u001b[39;49m\u001b[39m\"\u001b[39;49m),\n\u001b[0;32m    844\u001b[0m     estimator\u001b[39m=\u001b[39;49m\u001b[39mself\u001b[39;49m,\n\u001b[0;32m    845\u001b[0m     dtype\u001b[39m=\u001b[39;49mFLOAT_DTYPES,\n\u001b[0;32m    846\u001b[0m     force_all_finite\u001b[39m=\u001b[39;49m\u001b[39m\"\u001b[39;49m\u001b[39mallow-nan\u001b[39;49m\u001b[39m\"\u001b[39;49m,\n\u001b[0;32m    847\u001b[0m     reset\u001b[39m=\u001b[39;49mfirst_call,\n\u001b[0;32m    848\u001b[0m )\n\u001b[0;32m    849\u001b[0m n_features \u001b[39m=\u001b[39m X\u001b[39m.\u001b[39mshape[\u001b[39m1\u001b[39m]\n\u001b[0;32m    851\u001b[0m \u001b[39mif\u001b[39;00m sample_weight \u001b[39mis\u001b[39;00m \u001b[39mnot\u001b[39;00m \u001b[39mNone\u001b[39;00m:\n",
      "File \u001b[1;32mc:\\Users\\lunaw\\anaconda3\\lib\\site-packages\\sklearn\\base.py:566\u001b[0m, in \u001b[0;36mBaseEstimator._validate_data\u001b[1;34m(self, X, y, reset, validate_separately, **check_params)\u001b[0m\n\u001b[0;32m    564\u001b[0m     \u001b[39mraise\u001b[39;00m \u001b[39mValueError\u001b[39;00m(\u001b[39m\"\u001b[39m\u001b[39mValidation should be done on X, y or both.\u001b[39m\u001b[39m\"\u001b[39m)\n\u001b[0;32m    565\u001b[0m \u001b[39melif\u001b[39;00m \u001b[39mnot\u001b[39;00m no_val_X \u001b[39mand\u001b[39;00m no_val_y:\n\u001b[1;32m--> 566\u001b[0m     X \u001b[39m=\u001b[39m check_array(X, \u001b[39m*\u001b[39m\u001b[39m*\u001b[39mcheck_params)\n\u001b[0;32m    567\u001b[0m     out \u001b[39m=\u001b[39m X\n\u001b[0;32m    568\u001b[0m \u001b[39melif\u001b[39;00m no_val_X \u001b[39mand\u001b[39;00m \u001b[39mnot\u001b[39;00m no_val_y:\n",
      "File \u001b[1;32mc:\\Users\\lunaw\\anaconda3\\lib\\site-packages\\sklearn\\utils\\validation.py:746\u001b[0m, in \u001b[0;36mcheck_array\u001b[1;34m(array, accept_sparse, accept_large_sparse, dtype, order, copy, force_all_finite, ensure_2d, allow_nd, ensure_min_samples, ensure_min_features, estimator)\u001b[0m\n\u001b[0;32m    744\u001b[0m         array \u001b[39m=\u001b[39m array\u001b[39m.\u001b[39mastype(dtype, casting\u001b[39m=\u001b[39m\u001b[39m\"\u001b[39m\u001b[39munsafe\u001b[39m\u001b[39m\"\u001b[39m, copy\u001b[39m=\u001b[39m\u001b[39mFalse\u001b[39;00m)\n\u001b[0;32m    745\u001b[0m     \u001b[39melse\u001b[39;00m:\n\u001b[1;32m--> 746\u001b[0m         array \u001b[39m=\u001b[39m np\u001b[39m.\u001b[39;49masarray(array, order\u001b[39m=\u001b[39;49morder, dtype\u001b[39m=\u001b[39;49mdtype)\n\u001b[0;32m    747\u001b[0m \u001b[39mexcept\u001b[39;00m ComplexWarning \u001b[39mas\u001b[39;00m complex_warning:\n\u001b[0;32m    748\u001b[0m     \u001b[39mraise\u001b[39;00m \u001b[39mValueError\u001b[39;00m(\n\u001b[0;32m    749\u001b[0m         \u001b[39m\"\u001b[39m\u001b[39mComplex data not supported\u001b[39m\u001b[39m\\n\u001b[39;00m\u001b[39m{}\u001b[39;00m\u001b[39m\\n\u001b[39;00m\u001b[39m\"\u001b[39m\u001b[39m.\u001b[39mformat(array)\n\u001b[0;32m    750\u001b[0m     ) \u001b[39mfrom\u001b[39;00m \u001b[39mcomplex_warning\u001b[39;00m\n",
      "\u001b[1;31mValueError\u001b[0m: setting an array element with a sequence."
     ]
    }
   ],
   "source": [
    "# 2. 정규화 과정\n",
    "from sklearn.preprocessing import StandardScaler\n",
    "scaler = StandardScaler()\n",
    "scaler.fit(X_train)\n",
    "\n",
    "X_train = scaler.transform(X_train)\n",
    "X_test = scaler.transform(X_test)"
   ]
  },
  {
   "cell_type": "code",
   "execution_count": null,
   "metadata": {},
   "outputs": [],
   "source": []
  }
 ],
 "metadata": {
  "kernelspec": {
   "display_name": "Python 3.9.12 ('base')",
   "language": "python",
   "name": "python3"
  },
  "language_info": {
   "codemirror_mode": {
    "name": "ipython",
    "version": 3
   },
   "file_extension": ".py",
   "mimetype": "text/x-python",
   "name": "python",
   "nbconvert_exporter": "python",
   "pygments_lexer": "ipython3",
   "version": "3.9.12"
  },
  "orig_nbformat": 4,
  "vscode": {
   "interpreter": {
    "hash": "68b27da7ddeb61625eb32b27b233f0587b7aa507dfa408f4f61141179036d5a9"
   }
  }
 },
 "nbformat": 4,
 "nbformat_minor": 2
}
