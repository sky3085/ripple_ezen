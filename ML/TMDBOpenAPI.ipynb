{
 "cells": [
  {
   "cell_type": "code",
   "execution_count": 1,
   "metadata": {},
   "outputs": [],
   "source": [
    "# TMDB Open API 감독, 줄거리, 나라 전처리하는 파일입니다.\n",
    "import requests\n",
    "import json"
   ]
  },
  {
   "cell_type": "code",
   "execution_count": 2,
   "metadata": {},
   "outputs": [],
   "source": [
    "# json 에서 API Key값 가져오기 : key, token\n",
    "file_path = \"./APIKey/TMDB.json\"\n",
    "with open(file_path, 'r') as file:\n",
    "    api = json.load(file)"
   ]
  },
  {
   "cell_type": "code",
   "execution_count": 3,
   "metadata": {},
   "outputs": [],
   "source": [
    "key = api['key']\n",
    "token = api['token']"
   ]
  },
  {
   "cell_type": "code",
   "execution_count": 4,
   "metadata": {},
   "outputs": [],
   "source": [
    "movies = \"616037\"\n",
    "# movie info...\n",
    "url = f\"https://api.themoviedb.org/3/movie/{movies}?api_key={key}\"\n",
    "req = requests.get(url)\n",
    "api_info = json.loads(req.text)"
   ]
  },
  {
   "cell_type": "code",
   "execution_count": 15,
   "metadata": {},
   "outputs": [
    {
     "data": {
      "text/plain": [
       "dict"
      ]
     },
     "execution_count": 15,
     "metadata": {},
     "output_type": "execute_result"
    }
   ],
   "source": [
    "type(api_info)"
   ]
  },
  {
   "cell_type": "code",
   "execution_count": 6,
   "metadata": {},
   "outputs": [],
   "source": [
    "# title str값 => id값으로 정수 부여\n",
    "# genres dict -> key(int 'id') : value(str 'name')\n",
    "# country : 다른 것도 같이 확인 필요!!!\n",
    "title = api_info['title']\n",
    "country = api_info['production_countries'][0]['iso_3166_1']\n",
    "overview = api_info['overview']"
   ]
  },
  {
   "cell_type": "code",
   "execution_count": 36,
   "metadata": {},
   "outputs": [
    {
     "name": "stdout",
     "output_type": "stream",
     "text": [
      "title:  Thor: Love and Thunder , country:  US\n",
      "overview:  After his retirement is interrupted by Gorr the God Butcher, a galactic killer who seeks the extinction of the gods, Thor enlists the help of King Valkyrie, Korg, and ex-girlfriend Jane Foster, who now inexplicably wields Mjolnir as the Mighty Thor. Together they embark upon a harrowing cosmic adventure to uncover the mystery of the God Butcher’s vengeance and stop him before it’s too late.\n",
      "genres:  [{'id': 28, 'name': 'Action'}, {'id': 12, 'name': 'Adventure'}, {'id': 14, 'name': 'Fantasy'}]\n"
     ]
    }
   ],
   "source": [
    "print(\"title: \", title, \", country: \", country)\n",
    "print(\"overview: \", overview)\n",
    "print(\"genres: \", api_info['genres'])"
   ]
  },
  {
   "cell_type": "code",
   "execution_count": 8,
   "metadata": {},
   "outputs": [],
   "source": [
    "# cast, crew ...\n",
    "url = f\"https://api.themoviedb.org/3/movie/{movies}/credits?api_key={key}\"\n",
    "req = requests.get(url)\n",
    "api_people = json.loads(req.text)"
   ]
  },
  {
   "cell_type": "code",
   "execution_count": 10,
   "metadata": {},
   "outputs": [
    {
     "name": "stdout",
     "output_type": "stream",
     "text": [
      "{'adult': False, 'gender': 2, 'id': 55934, 'known_for_department': 'Directing', 'name': 'Taika Waititi', 'original_name': 'Taika Waititi', 'popularity': 49.668, 'profile_path': '/zCLBXGo5BS2e27srDBa5WpRnKul.jpg', 'credit_id': '5d2e0eb4caab6d164099c274', 'department': 'Directing', 'job': 'Director'}\n"
     ]
    }
   ],
   "source": [
    "for person in api_people['crew']:\n",
    "    try :  \n",
    "        if(person['job'] == 'Director'):\n",
    "            print(person)\n",
    "    except:\n",
    "        pass "
   ]
  },
  {
   "cell_type": "code",
   "execution_count": 18,
   "metadata": {},
   "outputs": [],
   "source": [
    "# id And title\n",
    "# total_pages : 34599\n",
    "# total_data : 691978\n",
    "page = 1\n",
    "url = f\"https://api.themoviedb.org/3/discover/movie?page={page}&api_key={key}\"\n",
    "req = requests.get(url)\n",
    "api_movie = json.loads(req.text)"
   ]
  },
  {
   "cell_type": "code",
   "execution_count": 22,
   "metadata": {},
   "outputs": [
    {
     "name": "stdout",
     "output_type": "stream",
     "text": [
      "616037 Thor: Love and Thunder\n",
      "438148 Minions: The Rise of Gru\n",
      "507086 Jurassic World Dominion\n",
      "361743 Top Gun: Maverick\n",
      "725201 The Gray Man\n",
      "718789 Lightyear\n",
      "453395 Doctor Strange in the Multiverse of Madness\n",
      "756999 The Black Phone\n",
      "854467 Indemnity\n",
      "919355 Dragon Knight\n",
      "634649 Spider-Man: No Way Home\n",
      "759175 The Princess\n",
      "728366 Borrego\n",
      "924482 The Ledge\n",
      "961484 Last Seen Alive\n",
      "629015 Shut In\n",
      "836225 The Exorcism of God\n",
      "675353 Sonic the Hedgehog 2\n",
      "626735 Dog\n",
      "894169 Vendetta\n"
     ]
    }
   ],
   "source": [
    "for movie in api_movie['results']:\n",
    "    print(movie['id'], movie['title'])"
   ]
  },
  {
   "cell_type": "code",
   "execution_count": 57,
   "metadata": {},
   "outputs": [],
   "source": [
    "import numpy as np\n",
    "from tqdm import tqdm\n",
    "pages = np.arange(500) + 1"
   ]
  },
  {
   "cell_type": "code",
   "execution_count": 60,
   "metadata": {},
   "outputs": [
    {
     "name": "stderr",
     "output_type": "stream",
     "text": [
      "100%|██████████| 500/500 [46:54<00:00,  5.63s/it] \n"
     ]
    }
   ],
   "source": [
    "movie_list = []\n",
    "for page in tqdm(pages):\n",
    "    url = f\"https://api.themoviedb.org/3/discover/movie?page={page}&api_key={key}\"\n",
    "    req = requests.get(url)\n",
    "    api_movie = json.loads(req.text)\n",
    "    for movie in api_movie['results']:\n",
    "        movie_id = []\n",
    "        movie_id.append(movie['id'])\n",
    "        for movie in movie_id:\n",
    "            url = f\"https://api.themoviedb.org/3/movie/{movie}?api_key={key}\"\n",
    "            req = requests.get(url)\n",
    "            api_info = json.loads(req.text)\n",
    "            title= {movie : api_info['title']}\n",
    "            budget = api_info['budget']\n",
    "            genres = api_info[\"genres\"]\n",
    "            country = api_info['production_countries']\n",
    "            vote_average = api_info['vote_average']\n",
    "            url = f\"https://api.themoviedb.org/3/movie/{movie}/credits?api_key={key}\"\n",
    "            req = requests.get(url)\n",
    "            api_people = json.loads(req.text)\n",
    "            for actor in api_people['cast']:\n",
    "                try:\n",
    "                    if(actor['order'] == 1):\n",
    "                        main_charactor = {actor['id'] : actor['name']}\n",
    "                except:\n",
    "                    pass\n",
    "            for crew in api_people['crew']:\n",
    "                try :  \n",
    "                    if(crew['job'] == 'Director'):\n",
    "                        director = {crew['id'] : crew['name']}\n",
    "                except:\n",
    "                    pass \n",
    "            movie_list.append([title, budget, genres, country, main_charactor, director, vote_average])\n",
    "            del title, budget, genres, country, vote_average\n",
    "            director = \"-\"\n",
    "        del movie_id\n"
   ]
  },
  {
   "cell_type": "code",
   "execution_count": 71,
   "metadata": {},
   "outputs": [],
   "source": [
    "import pandas as pd\n",
    "df = pd.DataFrame(movie_list)\n",
    "df.to_csv(\"movie_data\", index=False)"
   ]
  },
  {
   "cell_type": "code",
   "execution_count": 88,
   "metadata": {},
   "outputs": [],
   "source": [
    "movie_df = pd.read_csv(\"movie_data\", names=\"title, budget, genres, country, main_charactor, director, vote_average\".split(\", \"), skiprows=1)"
   ]
  },
  {
   "cell_type": "code",
   "execution_count": 95,
   "metadata": {},
   "outputs": [
    {
     "name": "stdout",
     "output_type": "stream",
     "text": [
      "total data:  10000\n"
     ]
    },
    {
     "data": {
      "text/html": [
       "<div>\n",
       "<style scoped>\n",
       "    .dataframe tbody tr th:only-of-type {\n",
       "        vertical-align: middle;\n",
       "    }\n",
       "\n",
       "    .dataframe tbody tr th {\n",
       "        vertical-align: top;\n",
       "    }\n",
       "\n",
       "    .dataframe thead th {\n",
       "        text-align: right;\n",
       "    }\n",
       "</style>\n",
       "<table border=\"1\" class=\"dataframe\">\n",
       "  <thead>\n",
       "    <tr style=\"text-align: right;\">\n",
       "      <th></th>\n",
       "      <th>title</th>\n",
       "      <th>budget</th>\n",
       "      <th>genres</th>\n",
       "      <th>country</th>\n",
       "      <th>main_charactor</th>\n",
       "      <th>director</th>\n",
       "      <th>vote_average</th>\n",
       "    </tr>\n",
       "  </thead>\n",
       "  <tbody>\n",
       "    <tr>\n",
       "      <th>0</th>\n",
       "      <td>{616037: 'Thor: Love and Thunder'}</td>\n",
       "      <td>250000000</td>\n",
       "      <td>[{'id': 28, 'name': 'Action'}, {'id': 12, 'nam...</td>\n",
       "      <td>[{'iso_3166_1': 'US', 'name': 'United States o...</td>\n",
       "      <td>{3894: 'Christian Bale'}</td>\n",
       "      <td>{55934: 'Taika Waititi'}</td>\n",
       "      <td>6.753</td>\n",
       "    </tr>\n",
       "    <tr>\n",
       "      <th>1</th>\n",
       "      <td>{438148: 'Minions: The Rise of Gru'}</td>\n",
       "      <td>85000000</td>\n",
       "      <td>[{'id': 10751, 'name': 'Family'}, {'id': 16, '...</td>\n",
       "      <td>[{'iso_3166_1': 'US', 'name': 'United States o...</td>\n",
       "      <td>{124747: 'Pierre Coffin'}</td>\n",
       "      <td>{8023: 'Kyle Balda'}</td>\n",
       "      <td>7.775</td>\n",
       "    </tr>\n",
       "    <tr>\n",
       "      <th>2</th>\n",
       "      <td>{507086: 'Jurassic World Dominion'}</td>\n",
       "      <td>165000000</td>\n",
       "      <td>[{'id': 12, 'name': 'Adventure'}, {'id': 28, '...</td>\n",
       "      <td>[{'iso_3166_1': 'US', 'name': 'United States o...</td>\n",
       "      <td>{18997: 'Bryce Dallas Howard'}</td>\n",
       "      <td>{930707: 'Colin Trevorrow'}</td>\n",
       "      <td>7.110</td>\n",
       "    </tr>\n",
       "    <tr>\n",
       "      <th>3</th>\n",
       "      <td>{361743: 'Top Gun: Maverick'}</td>\n",
       "      <td>170000000</td>\n",
       "      <td>[{'id': 28, 'name': 'Action'}, {'id': 18, 'nam...</td>\n",
       "      <td>[{'iso_3166_1': 'US', 'name': 'United States o...</td>\n",
       "      <td>{996701: 'Miles Teller'}</td>\n",
       "      <td>{86270: 'Joseph Kosinski'}</td>\n",
       "      <td>8.335</td>\n",
       "    </tr>\n",
       "    <tr>\n",
       "      <th>4</th>\n",
       "      <td>{718789: 'Lightyear'}</td>\n",
       "      <td>200000000</td>\n",
       "      <td>[{'id': 16, 'name': 'Animation'}, {'id': 878, ...</td>\n",
       "      <td>[{'iso_3166_1': 'US', 'name': 'United States o...</td>\n",
       "      <td>{74688: 'Keke Palmer'}</td>\n",
       "      <td>{7929: 'Angus MacLane'}</td>\n",
       "      <td>7.359</td>\n",
       "    </tr>\n",
       "  </tbody>\n",
       "</table>\n",
       "</div>"
      ],
      "text/plain": [
       "                                  title  ...  vote_average\n",
       "0    {616037: 'Thor: Love and Thunder'}  ...         6.753\n",
       "1  {438148: 'Minions: The Rise of Gru'}  ...         7.775\n",
       "2   {507086: 'Jurassic World Dominion'}  ...         7.110\n",
       "3         {361743: 'Top Gun: Maverick'}  ...         8.335\n",
       "4                 {718789: 'Lightyear'}  ...         7.359\n",
       "\n",
       "[5 rows x 7 columns]"
      ]
     },
     "execution_count": 95,
     "metadata": {},
     "output_type": "execute_result"
    }
   ],
   "source": [
    "print(\"total data: \", len(movie_df))\n",
    "movie_df.head()"
   ]
  },
  {
   "cell_type": "code",
   "execution_count": 90,
   "metadata": {},
   "outputs": [],
   "source": [
    "# 87개\n",
    "NoDirector = movie_df[movie_df['director'] == '-']"
   ]
  },
  {
   "cell_type": "code",
   "execution_count": 102,
   "metadata": {},
   "outputs": [
    {
     "data": {
      "text/html": [
       "<div>\n",
       "<style scoped>\n",
       "    .dataframe tbody tr th:only-of-type {\n",
       "        vertical-align: middle;\n",
       "    }\n",
       "\n",
       "    .dataframe tbody tr th {\n",
       "        vertical-align: top;\n",
       "    }\n",
       "\n",
       "    .dataframe thead th {\n",
       "        text-align: right;\n",
       "    }\n",
       "</style>\n",
       "<table border=\"1\" class=\"dataframe\">\n",
       "  <thead>\n",
       "    <tr style=\"text-align: right;\">\n",
       "      <th></th>\n",
       "      <th>title</th>\n",
       "      <th>budget</th>\n",
       "      <th>genres</th>\n",
       "      <th>country</th>\n",
       "      <th>main_charactor</th>\n",
       "      <th>director</th>\n",
       "      <th>vote_average</th>\n",
       "    </tr>\n",
       "  </thead>\n",
       "  <tbody>\n",
       "    <tr>\n",
       "      <th>168</th>\n",
       "      <td>{975117: 'Father There Is Only One 3'}</td>\n",
       "      <td>0</td>\n",
       "      <td>[]</td>\n",
       "      <td>[]</td>\n",
       "      <td>{19492: 'Viola Davis'}</td>\n",
       "      <td>-</td>\n",
       "      <td>6.8</td>\n",
       "    </tr>\n",
       "    <tr>\n",
       "      <th>177</th>\n",
       "      <td>{755433: 'The Monster at the End of This Story'}</td>\n",
       "      <td>0</td>\n",
       "      <td>[{'id': 10751, 'name': 'Family'}, {'id': 16, '...</td>\n",
       "      <td>[{'iso_3166_1': 'US', 'name': 'United States o...</td>\n",
       "      <td>{1213631: 'Leslie Carrara-Rudolph'}</td>\n",
       "      <td>-</td>\n",
       "      <td>3.0</td>\n",
       "    </tr>\n",
       "    <tr>\n",
       "      <th>205</th>\n",
       "      <td>{992187: \"Chip and Potato: Chip's Holiday\"}</td>\n",
       "      <td>0</td>\n",
       "      <td>[{'id': 16, 'name': 'Animation'}]</td>\n",
       "      <td>[{'iso_3166_1': 'CA', 'name': 'Canada'}]</td>\n",
       "      <td>{76700: 'Briana Buckmaster'}</td>\n",
       "      <td>-</td>\n",
       "      <td>5.3</td>\n",
       "    </tr>\n",
       "  </tbody>\n",
       "</table>\n",
       "</div>"
      ],
      "text/plain": [
       "                                                title  ...  vote_average\n",
       "168            {975117: 'Father There Is Only One 3'}  ...           6.8\n",
       "177  {755433: 'The Monster at the End of This Story'}  ...           3.0\n",
       "205       {992187: \"Chip and Potato: Chip's Holiday\"}  ...           5.3\n",
       "\n",
       "[3 rows x 7 columns]"
      ]
     },
     "execution_count": 102,
     "metadata": {},
     "output_type": "execute_result"
    }
   ],
   "source": [
    "NoDirector.head(3)"
   ]
  },
  {
   "cell_type": "code",
   "execution_count": 128,
   "metadata": {},
   "outputs": [
    {
     "data": {
      "text/plain": [
       "9913"
      ]
     },
     "execution_count": 128,
     "metadata": {},
     "output_type": "execute_result"
    }
   ],
   "source": [
    "movie_df1 = movie_df.drop(NoDirector.index)\n",
    "len(movie_df1)"
   ]
  },
  {
   "cell_type": "code",
   "execution_count": 129,
   "metadata": {},
   "outputs": [],
   "source": [
    "NoBudget = movie_df1[movie_df1['budget'] == 0]\n",
    "len(NoBudget)"
   ]
  },
  {
   "cell_type": "code",
   "execution_count": 131,
   "metadata": {},
   "outputs": [
    {
     "data": {
      "text/plain": [
       "5309"
      ]
     },
     "execution_count": 131,
     "metadata": {},
     "output_type": "execute_result"
    }
   ],
   "source": [
    "movie_df2 = movie_df1.drop(NoBudget.index)\n",
    "len(movie_df2)"
   ]
  },
  {
   "cell_type": "code",
   "execution_count": 143,
   "metadata": {},
   "outputs": [
    {
     "data": {
      "text/plain": [
       "5307"
      ]
     },
     "execution_count": 143,
     "metadata": {},
     "output_type": "execute_result"
    }
   ],
   "source": [
    "movie_df2 = movie_df2.drop(movie_df2[movie_df2['genres'].apply(lambda x: len(x) == 2)].index)\n",
    "len(movie_df2)"
   ]
  },
  {
   "cell_type": "code",
   "execution_count": 145,
   "metadata": {},
   "outputs": [
    {
     "data": {
      "text/plain": [
       "5302"
      ]
     },
     "execution_count": 145,
     "metadata": {},
     "output_type": "execute_result"
    }
   ],
   "source": [
    "movie_df2 = movie_df2.drop(movie_df2[movie_df2['country'].apply(lambda x: len(x) == 2)].index)\n",
    "len(movie_df2)"
   ]
  },
  {
   "cell_type": "code",
   "execution_count": 148,
   "metadata": {},
   "outputs": [
    {
     "data": {
      "text/plain": [
       "Int64Index([ 370,  463,  912,  976, 2845, 4289, 4314, 5369, 5850, 6125, 6570,\n",
       "            6990, 8128, 8360, 9396],\n",
       "           dtype='int64')"
      ]
     },
     "execution_count": 148,
     "metadata": {},
     "output_type": "execute_result"
    }
   ],
   "source": [
    "movie_df2[movie_df2['vote_average'].apply(lambda x: x == 0)].index"
   ]
  },
  {
   "cell_type": "code",
   "execution_count": 150,
   "metadata": {},
   "outputs": [],
   "source": [
    "movie_df2.to_csv(\"movie_data_final.csv\", index=False)"
   ]
  },
  {
   "cell_type": "code",
   "execution_count": 164,
   "metadata": {},
   "outputs": [],
   "source": [
    "movieDF = movie_df2"
   ]
  },
  {
   "cell_type": "code",
   "execution_count": 161,
   "metadata": {},
   "outputs": [],
   "source": [
    "#import ast\n",
    "#test = ast.literal_eval(movie_df2[\"genres\"][0])\n",
    "#print(test)\n",
    "#형태가 리스트/딕셔너리인 문자열을 다시 리스트/딕셔너리 형태로 바꿀 수 있다."
   ]
  },
  {
   "cell_type": "code",
   "execution_count": null,
   "metadata": {},
   "outputs": [],
   "source": []
  }
 ],
 "metadata": {
  "kernelspec": {
   "display_name": "Python 3.9.12 ('base')",
   "language": "python",
   "name": "python3"
  },
  "language_info": {
   "codemirror_mode": {
    "name": "ipython",
    "version": 3
   },
   "file_extension": ".py",
   "mimetype": "text/x-python",
   "name": "python",
   "nbconvert_exporter": "python",
   "pygments_lexer": "ipython3",
   "version": "3.9.12"
  },
  "orig_nbformat": 4,
  "vscode": {
   "interpreter": {
    "hash": "68b27da7ddeb61625eb32b27b233f0587b7aa507dfa408f4f61141179036d5a9"
   }
  }
 },
 "nbformat": 4,
 "nbformat_minor": 2
}
