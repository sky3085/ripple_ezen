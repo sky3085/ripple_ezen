{
 "cells": [
  {
   "cell_type": "code",
   "execution_count": 1,
   "metadata": {},
   "outputs": [],
   "source": [
    "# TMDB Open API 감독, 줄거리, 나라 전처리하는 파일입니다.\n",
    "import requests\n",
    "import json"
   ]
  },
  {
   "cell_type": "code",
   "execution_count": 2,
   "metadata": {},
   "outputs": [],
   "source": [
    "# json 에서 API Key값 가져오기 : key, token\n",
    "file_path = \"./APIKey/TMDB.json\"\n",
    "with open(file_path, 'r') as file:\n",
    "    api = json.load(file)"
   ]
  },
  {
   "cell_type": "code",
   "execution_count": 3,
   "metadata": {},
   "outputs": [],
   "source": [
    "key = api['key']\n",
    "token = api['token']"
   ]
  },
  {
   "cell_type": "code",
   "execution_count": 4,
   "metadata": {},
   "outputs": [],
   "source": [
    "movies = \"616037\"\n",
    "# movie info...\n",
    "url = f\"https://api.themoviedb.org/3/movie/{movies}?api_key={key}\"\n",
    "req = requests.get(url)\n",
    "api_info = json.loads(req.text)"
   ]
  },
  {
   "cell_type": "code",
   "execution_count": 5,
   "metadata": {},
   "outputs": [],
   "source": [
    "# title str값 => id값으로 정수 부여\n",
    "# genres dict -> key(int 'id') : value(str 'name')\n",
    "# country : 다른 것도 같이 확인 필요!!!\n",
    "title = api_info['title']\n",
    "country = api_info['production_countries'][0]['iso_3166_1']\n",
    "overview = api_info['overview']"
   ]
  },
  {
   "cell_type": "code",
   "execution_count": 6,
   "metadata": {},
   "outputs": [
    {
     "name": "stdout",
     "output_type": "stream",
     "text": [
      "title:  Thor: Love and Thunder , country:  US\n",
      "overview:  After his retirement is interrupted by Gorr the God Butcher, a galactic killer who seeks the extinction of the gods, Thor enlists the help of King Valkyrie, Korg, and ex-girlfriend Jane Foster, who now inexplicably wields Mjolnir as the Mighty Thor. Together they embark upon a harrowing cosmic adventure to uncover the mystery of the God Butcher’s vengeance and stop him before it’s too late.\n",
      "genres:  [{'id': 28, 'name': 'Action'}, {'id': 12, 'name': 'Adventure'}, {'id': 14, 'name': 'Fantasy'}]\n"
     ]
    }
   ],
   "source": [
    "print(\"title: \", title, \", country: \", country)\n",
    "print(\"overview: \", overview)\n",
    "print(\"genres: \", api_info['genres'])"
   ]
  },
  {
   "cell_type": "code",
   "execution_count": 7,
   "metadata": {},
   "outputs": [],
   "source": [
    "# cast, crew ...\n",
    "url = f\"https://api.themoviedb.org/3/movie/{movies}/credits?api_key={key}\"\n",
    "req = requests.get(url)\n",
    "api_people = json.loads(req.text)"
   ]
  },
  {
   "cell_type": "code",
   "execution_count": 8,
   "metadata": {},
   "outputs": [
    {
     "name": "stdout",
     "output_type": "stream",
     "text": [
      "{'adult': False, 'gender': 2, 'id': 55934, 'known_for_department': 'Directing', 'name': 'Taika Waititi', 'original_name': 'Taika Waititi', 'popularity': 74.439, 'profile_path': '/9Lzyk7iW50p0vq9yks8dr083Uu0.jpg', 'credit_id': '5d2e0eb4caab6d164099c274', 'department': 'Directing', 'job': 'Director'}\n"
     ]
    }
   ],
   "source": [
    "for person in api_people['crew']:\n",
    "    try :  \n",
    "        if(person['job'] == 'Director'):\n",
    "            print(person)\n",
    "    except:\n",
    "        pass "
   ]
  },
  {
   "cell_type": "code",
   "execution_count": 9,
   "metadata": {},
   "outputs": [],
   "source": [
    "# id And title\n",
    "# total_pages : 34599\n",
    "# total_data : 691978\n",
    "page = 1\n",
    "url = f\"https://api.themoviedb.org/3/discover/movie?page={page}&api_key={key}\"\n",
    "req = requests.get(url)\n",
    "api_movie = json.loads(req.text)"
   ]
  },
  {
   "cell_type": "code",
   "execution_count": 10,
   "metadata": {},
   "outputs": [
    {
     "name": "stdout",
     "output_type": "stream",
     "text": [
      "616037 Thor: Love and Thunder\n",
      "438148 Minions: The Rise of Gru\n",
      "507086 Jurassic World Dominion\n",
      "361743 Top Gun: Maverick\n",
      "756999 The Black Phone\n",
      "766507 Prey\n",
      "453395 Doctor Strange in the Multiverse of Madness\n",
      "725201 The Gray Man\n",
      "718789 Lightyear\n",
      "762975 Purple Hearts\n",
      "919355 Dragon Knight\n",
      "759175 The Princess\n",
      "924482 The Ledge\n",
      "634649 Spider-Man: No Way Home\n",
      "728366 Borrego\n",
      "854467 Indemnity\n",
      "961484 Last Seen Alive\n",
      "675353 Sonic the Hedgehog 2\n",
      "836225 The Exorcism of God\n",
      "629015 Shut In\n"
     ]
    }
   ],
   "source": [
    "for movie in api_movie['results']:\n",
    "    print(movie['id'], movie['title'])"
   ]
  },
  {
   "cell_type": "code",
   "execution_count": 11,
   "metadata": {},
   "outputs": [],
   "source": [
    "import numpy as np\n",
    "from tqdm import tqdm\n",
    "pages = np.arange(500) + 1"
   ]
  },
  {
   "cell_type": "code",
   "execution_count": 12,
   "metadata": {},
   "outputs": [
    {
     "name": "stderr",
     "output_type": "stream",
     "text": [
      "100%|██████████| 500/500 [1:23:52<00:00, 10.07s/it]\n"
     ]
    }
   ],
   "source": [
    "movie_list = []\n",
    "for page in tqdm(pages):\n",
    "    url = f\"https://api.themoviedb.org/3/discover/movie?page={page}&api_key={key}\"\n",
    "    req = requests.get(url)\n",
    "    api_movie = json.loads(req.text)\n",
    "    for movie in api_movie['results']:\n",
    "        movie_id = []\n",
    "        movie_id.append(movie['id'])\n",
    "        for movie in movie_id:\n",
    "            url = f\"https://api.themoviedb.org/3/movie/{movie}?api_key={key}\"\n",
    "            req = requests.get(url)\n",
    "            api_info = json.loads(req.text)\n",
    "            title= {movie : api_info['title']}\n",
    "            budget = api_info['budget']\n",
    "            genres = api_info[\"genres\"]\n",
    "            country = api_info['production_countries']\n",
    "            vote_average = api_info['vote_average']\n",
    "            vote_count = api_info['vote_count']\n",
    "            url = f\"https://api.themoviedb.org/3/movie/{movie}/credits?api_key={key}\"\n",
    "            req = requests.get(url)\n",
    "            api_people = json.loads(req.text)\n",
    "            for actor in api_people['cast']:\n",
    "                try:\n",
    "                    if(actor['order'] == 1):\n",
    "                        main_charactor = {actor['id'] : actor['name']}\n",
    "                except:\n",
    "                    pass\n",
    "            for crew in api_people['crew']:\n",
    "                try :  \n",
    "                    if(crew['job'] == 'Director'):\n",
    "                        director = {crew['id'] : crew['name']}\n",
    "                except:\n",
    "                    pass \n",
    "            movie_list.append([title, budget, genres, country,\n",
    "                              main_charactor, director, vote_average, vote_count])\n",
    "            del title, budget, genres, country, vote_average\n",
    "            director = \"-\"\n",
    "        del movie_id\n"
   ]
  },
  {
   "cell_type": "code",
   "execution_count": 18,
   "metadata": {},
   "outputs": [],
   "source": [
    "import pandas as pd\n",
    "df = pd.DataFrame(movie_list)\n",
    "df.to_csv(\"data/movie_data_original.csv\", index=False)"
   ]
  },
  {
   "cell_type": "code",
   "execution_count": 21,
   "metadata": {},
   "outputs": [
    {
     "name": "stdout",
     "output_type": "stream",
     "text": [
      "total movie_data_original:  10000\n"
     ]
    },
    {
     "data": {
      "text/html": [
       "<div>\n",
       "<style scoped>\n",
       "    .dataframe tbody tr th:only-of-type {\n",
       "        vertical-align: middle;\n",
       "    }\n",
       "\n",
       "    .dataframe tbody tr th {\n",
       "        vertical-align: top;\n",
       "    }\n",
       "\n",
       "    .dataframe thead th {\n",
       "        text-align: right;\n",
       "    }\n",
       "</style>\n",
       "<table border=\"1\" class=\"dataframe\">\n",
       "  <thead>\n",
       "    <tr style=\"text-align: right;\">\n",
       "      <th></th>\n",
       "      <th>title</th>\n",
       "      <th>budget</th>\n",
       "      <th>genres</th>\n",
       "      <th>country</th>\n",
       "      <th>main_charactor</th>\n",
       "      <th>director</th>\n",
       "      <th>vote_average</th>\n",
       "      <th>vote_count</th>\n",
       "    </tr>\n",
       "  </thead>\n",
       "  <tbody>\n",
       "    <tr>\n",
       "      <th>0</th>\n",
       "      <td>{616037: 'Thor: Love and Thunder'}</td>\n",
       "      <td>250000000</td>\n",
       "      <td>[{'id': 28, 'name': 'Action'}, {'id': 12, 'nam...</td>\n",
       "      <td>[{'iso_3166_1': 'US', 'name': 'United States o...</td>\n",
       "      <td>{3894: 'Christian Bale'}</td>\n",
       "      <td>{55934: 'Taika Waititi'}</td>\n",
       "      <td>6.772</td>\n",
       "      <td>1752</td>\n",
       "    </tr>\n",
       "    <tr>\n",
       "      <th>1</th>\n",
       "      <td>{438148: 'Minions: The Rise of Gru'}</td>\n",
       "      <td>85000000</td>\n",
       "      <td>[{'id': 10751, 'name': 'Family'}, {'id': 16, '...</td>\n",
       "      <td>[{'iso_3166_1': 'US', 'name': 'United States o...</td>\n",
       "      <td>{124747: 'Pierre Coffin'}</td>\n",
       "      <td>{8023: 'Kyle Balda'}</td>\n",
       "      <td>7.795</td>\n",
       "      <td>1166</td>\n",
       "    </tr>\n",
       "    <tr>\n",
       "      <th>2</th>\n",
       "      <td>{507086: 'Jurassic World Dominion'}</td>\n",
       "      <td>165000000</td>\n",
       "      <td>[{'id': 12, 'name': 'Adventure'}, {'id': 28, '...</td>\n",
       "      <td>[{'iso_3166_1': 'US', 'name': 'United States o...</td>\n",
       "      <td>{18997: 'Bryce Dallas Howard'}</td>\n",
       "      <td>{930707: 'Colin Trevorrow'}</td>\n",
       "      <td>7.117</td>\n",
       "      <td>2622</td>\n",
       "    </tr>\n",
       "    <tr>\n",
       "      <th>3</th>\n",
       "      <td>{361743: 'Top Gun: Maverick'}</td>\n",
       "      <td>170000000</td>\n",
       "      <td>[{'id': 28, 'name': 'Action'}, {'id': 18, 'nam...</td>\n",
       "      <td>[{'iso_3166_1': 'US', 'name': 'United States o...</td>\n",
       "      <td>{996701: 'Miles Teller'}</td>\n",
       "      <td>{86270: 'Joseph Kosinski'}</td>\n",
       "      <td>8.334</td>\n",
       "      <td>1852</td>\n",
       "    </tr>\n",
       "    <tr>\n",
       "      <th>4</th>\n",
       "      <td>{756999: 'The Black Phone'}</td>\n",
       "      <td>18800000</td>\n",
       "      <td>[{'id': 27, 'name': 'Horror'}, {'id': 53, 'nam...</td>\n",
       "      <td>[{'iso_3166_1': 'US', 'name': 'United States o...</td>\n",
       "      <td>{1530558: 'Madeleine McGraw'}</td>\n",
       "      <td>{55499: 'Scott Derrickson'}</td>\n",
       "      <td>7.975</td>\n",
       "      <td>1671</td>\n",
       "    </tr>\n",
       "  </tbody>\n",
       "</table>\n",
       "</div>"
      ],
      "text/plain": [
       "                                  title     budget  \\\n",
       "0    {616037: 'Thor: Love and Thunder'}  250000000   \n",
       "1  {438148: 'Minions: The Rise of Gru'}   85000000   \n",
       "2   {507086: 'Jurassic World Dominion'}  165000000   \n",
       "3         {361743: 'Top Gun: Maverick'}  170000000   \n",
       "4           {756999: 'The Black Phone'}   18800000   \n",
       "\n",
       "                                              genres  \\\n",
       "0  [{'id': 28, 'name': 'Action'}, {'id': 12, 'nam...   \n",
       "1  [{'id': 10751, 'name': 'Family'}, {'id': 16, '...   \n",
       "2  [{'id': 12, 'name': 'Adventure'}, {'id': 28, '...   \n",
       "3  [{'id': 28, 'name': 'Action'}, {'id': 18, 'nam...   \n",
       "4  [{'id': 27, 'name': 'Horror'}, {'id': 53, 'nam...   \n",
       "\n",
       "                                             country  \\\n",
       "0  [{'iso_3166_1': 'US', 'name': 'United States o...   \n",
       "1  [{'iso_3166_1': 'US', 'name': 'United States o...   \n",
       "2  [{'iso_3166_1': 'US', 'name': 'United States o...   \n",
       "3  [{'iso_3166_1': 'US', 'name': 'United States o...   \n",
       "4  [{'iso_3166_1': 'US', 'name': 'United States o...   \n",
       "\n",
       "                   main_charactor                     director  vote_average  \\\n",
       "0        {3894: 'Christian Bale'}     {55934: 'Taika Waititi'}         6.772   \n",
       "1       {124747: 'Pierre Coffin'}         {8023: 'Kyle Balda'}         7.795   \n",
       "2  {18997: 'Bryce Dallas Howard'}  {930707: 'Colin Trevorrow'}         7.117   \n",
       "3        {996701: 'Miles Teller'}   {86270: 'Joseph Kosinski'}         8.334   \n",
       "4   {1530558: 'Madeleine McGraw'}  {55499: 'Scott Derrickson'}         7.975   \n",
       "\n",
       "   vote_count  \n",
       "0        1752  \n",
       "1        1166  \n",
       "2        2622  \n",
       "3        1852  \n",
       "4        1671  "
      ]
     },
     "execution_count": 21,
     "metadata": {},
     "output_type": "execute_result"
    }
   ],
   "source": [
    "movie_df = pd.read_csv(\n",
    "    \"data/movie_data_original.csv\", names=\"title, budget, genres, country, main_charactor, director, vote_average, vote_count\".split(\", \"), skiprows=1)\n",
    "print(\"total movie_data_original: \", len(movie_df))\n",
    "movie_df.head()"
   ]
  },
  {
   "cell_type": "code",
   "execution_count": 23,
   "metadata": {},
   "outputs": [
    {
     "data": {
      "text/plain": [
       "9886"
      ]
     },
     "execution_count": 23,
     "metadata": {},
     "output_type": "execute_result"
    }
   ],
   "source": [
    "# 감독이 없는 데이터 87개 제거\n",
    "NoDirector = movie_df[movie_df['director'] == '-']\n",
    "movie_df1 = movie_df.drop(NoDirector.index)\n",
    "len(movie_df1)"
   ]
  },
  {
   "cell_type": "code",
   "execution_count": 24,
   "metadata": {},
   "outputs": [
    {
     "data": {
      "text/plain": [
       "5140"
      ]
     },
     "execution_count": 24,
     "metadata": {},
     "output_type": "execute_result"
    }
   ],
   "source": [
    "# 예산이 없는 데이터 4,604개 제거\n",
    "NoBudget = movie_df1[movie_df1['budget'] == 0]\n",
    "movie_df2 = movie_df1.drop(NoBudget.index)\n",
    "len(movie_df2)"
   ]
  },
  {
   "cell_type": "code",
   "execution_count": 25,
   "metadata": {},
   "outputs": [
    {
     "data": {
      "text/plain": [
       "5139"
      ]
     },
     "execution_count": 25,
     "metadata": {},
     "output_type": "execute_result"
    }
   ],
   "source": [
    "# 장르가 없는 데이터 2개 제거\n",
    "movie_df2 = movie_df2.drop(movie_df2[movie_df2['genres'].apply(lambda x: len(x) == 2)].index)\n",
    "len(movie_df2)"
   ]
  },
  {
   "cell_type": "code",
   "execution_count": 26,
   "metadata": {},
   "outputs": [
    {
     "data": {
      "text/plain": [
       "5130"
      ]
     },
     "execution_count": 26,
     "metadata": {},
     "output_type": "execute_result"
    }
   ],
   "source": [
    "# 국가별이 없는 데이터 5개 제거\n",
    "movie_df2 = movie_df2.drop(movie_df2[movie_df2['country'].apply(lambda x: len(x) == 2)].index)\n",
    "len(movie_df2)"
   ]
  },
  {
   "cell_type": "code",
   "execution_count": 27,
   "metadata": {},
   "outputs": [],
   "source": [
    "movie_df2.to_csv(\"movie_data_final.csv\", index=False)"
   ]
  }
 ],
 "metadata": {
  "kernelspec": {
   "display_name": "Python 3.9.12 ('base')",
   "language": "python",
   "name": "python3"
  },
  "language_info": {
   "codemirror_mode": {
    "name": "ipython",
    "version": 3
   },
   "file_extension": ".py",
   "mimetype": "text/x-python",
   "name": "python",
   "nbconvert_exporter": "python",
   "pygments_lexer": "ipython3",
   "version": "3.9.12"
  },
  "orig_nbformat": 4,
  "vscode": {
   "interpreter": {
    "hash": "68b27da7ddeb61625eb32b27b233f0587b7aa507dfa408f4f61141179036d5a9"
   }
  }
 },
 "nbformat": 4,
 "nbformat_minor": 2
}
