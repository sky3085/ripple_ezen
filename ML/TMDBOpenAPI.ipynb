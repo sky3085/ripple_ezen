{
 "cells": [
  {
   "cell_type": "code",
   "execution_count": 1,
   "metadata": {},
   "outputs": [],
   "source": [
    "# TMDB Open API 감독, 줄거리, 나라 전처리하는 파일입니다.\n",
    "import requests\n",
    "import pprint\n",
    "import json\n",
    "from bs4 import BeautifulSoup"
   ]
  },
  {
   "cell_type": "code",
   "execution_count": 2,
   "metadata": {},
   "outputs": [],
   "source": [
    "# json 에서 API Key값 가져오기 : key, token\n",
    "file_path = \"./APIKey/TMDB.json\"\n",
    "with open(file_path, 'r') as file:\n",
    "    api = json.load(file)"
   ]
  },
  {
   "cell_type": "code",
   "execution_count": 3,
   "metadata": {},
   "outputs": [],
   "source": [
    "key = api['key']\n",
    "token = api['token']"
   ]
  },
  {
   "cell_type": "code",
   "execution_count": 4,
   "metadata": {},
   "outputs": [],
   "source": [
    "movies = \"616037\"\n",
    "# movie info...\n",
    "url = f\"https://api.themoviedb.org/3/movie/{movies}?api_key={key}\"\n",
    "req = requests.get(url)\n",
    "api_info = json.loads(req.text)"
   ]
  },
  {
   "cell_type": "code",
   "execution_count": 15,
   "metadata": {},
   "outputs": [
    {
     "data": {
      "text/plain": [
       "dict"
      ]
     },
     "execution_count": 15,
     "metadata": {},
     "output_type": "execute_result"
    }
   ],
   "source": [
    "type(api_info)"
   ]
  },
  {
   "cell_type": "code",
   "execution_count": 6,
   "metadata": {},
   "outputs": [],
   "source": [
    "# title str값 => id값으로 정수 부여\n",
    "# genres dict -> key(int 'id') : value(str 'name')\n",
    "# country : 다른 것도 같이 확인 필요!!!\n",
    "title = api_info['title']\n",
    "country = api_info['production_countries'][0]['iso_3166_1']\n",
    "overview = api_info['overview']"
   ]
  },
  {
   "cell_type": "code",
   "execution_count": 14,
   "metadata": {},
   "outputs": [
    {
     "name": "stdout",
     "output_type": "stream",
     "text": [
      "title:  Thor: Love and Thunder , country:  US\n",
      "overview:  After his retirement is interrupted by Gorr the God Butcher, a galactic killer who seeks the extinction of the gods, Thor enlists the help of King Valkyrie, Korg, and ex-girlfriend Jane Foster, who now inexplicably wields Mjolnir as the Mighty Thor. Together they embark upon a harrowing cosmic adventure to uncover the mystery of the God Butcher’s vengeance and stop him before it’s too late.\n"
     ]
    }
   ],
   "source": [
    "print(\"title: \", title, \", country: \", country)\n",
    "print(\"overview: \", overview)"
   ]
  },
  {
   "cell_type": "code",
   "execution_count": 8,
   "metadata": {},
   "outputs": [],
   "source": [
    "# cast, crew ...\n",
    "url = f\"https://api.themoviedb.org/3/movie/{movies}/credits?api_key={key}\"\n",
    "req = requests.get(url)\n",
    "api_people = json.loads(req.text)"
   ]
  },
  {
   "cell_type": "code",
   "execution_count": 10,
   "metadata": {},
   "outputs": [
    {
     "name": "stdout",
     "output_type": "stream",
     "text": [
      "{'adult': False, 'gender': 2, 'id': 55934, 'known_for_department': 'Directing', 'name': 'Taika Waititi', 'original_name': 'Taika Waititi', 'popularity': 49.668, 'profile_path': '/zCLBXGo5BS2e27srDBa5WpRnKul.jpg', 'credit_id': '5d2e0eb4caab6d164099c274', 'department': 'Directing', 'job': 'Director'}\n"
     ]
    }
   ],
   "source": [
    "i= 0\n",
    "for person in api_people['crew']:\n",
    "    try :  \n",
    "        if(person['job'] == 'Director'):\n",
    "            print(person)\n",
    "    except:\n",
    "        pass "
   ]
  },
  {
   "cell_type": "code",
   "execution_count": 18,
   "metadata": {},
   "outputs": [],
   "source": [
    "# id And title\n",
    "# total_pages : 34599\n",
    "# total_data : 691978\n",
    "page = 1\n",
    "url = f\"https://api.themoviedb.org/3/discover/movie?page={page}&api_key={key}\"\n",
    "req = requests.get(url)\n",
    "api_movie = json.loads(req.text)"
   ]
  },
  {
   "cell_type": "code",
   "execution_count": 22,
   "metadata": {},
   "outputs": [
    {
     "name": "stdout",
     "output_type": "stream",
     "text": [
      "616037 Thor: Love and Thunder\n",
      "438148 Minions: The Rise of Gru\n",
      "507086 Jurassic World Dominion\n",
      "361743 Top Gun: Maverick\n",
      "725201 The Gray Man\n",
      "718789 Lightyear\n",
      "453395 Doctor Strange in the Multiverse of Madness\n",
      "756999 The Black Phone\n",
      "854467 Indemnity\n",
      "919355 Dragon Knight\n",
      "634649 Spider-Man: No Way Home\n",
      "759175 The Princess\n",
      "728366 Borrego\n",
      "924482 The Ledge\n",
      "961484 Last Seen Alive\n",
      "629015 Shut In\n",
      "836225 The Exorcism of God\n",
      "675353 Sonic the Hedgehog 2\n",
      "626735 Dog\n",
      "894169 Vendetta\n"
     ]
    }
   ],
   "source": [
    "for movie in api_movie['results']:\n",
    "    print(movie['id'], movie['title'])"
   ]
  },
  {
   "cell_type": "code",
   "execution_count": null,
   "metadata": {},
   "outputs": [],
   "source": []
  }
 ],
 "metadata": {
  "kernelspec": {
   "display_name": "Python 3.9.12 ('base')",
   "language": "python",
   "name": "python3"
  },
  "language_info": {
   "codemirror_mode": {
    "name": "ipython",
    "version": 3
   },
   "file_extension": ".py",
   "mimetype": "text/x-python",
   "name": "python",
   "nbconvert_exporter": "python",
   "pygments_lexer": "ipython3",
   "version": "3.9.12"
  },
  "orig_nbformat": 4,
  "vscode": {
   "interpreter": {
    "hash": "68b27da7ddeb61625eb32b27b233f0587b7aa507dfa408f4f61141179036d5a9"
   }
  }
 },
 "nbformat": 4,
 "nbformat_minor": 2
}
