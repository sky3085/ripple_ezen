{
 "cells": [
  {
   "cell_type": "markdown",
   "metadata": {},
   "source": [
    "<pre>id값과 name값을 각각 column에 만들고 post path추가</pre>"
   ]
  },
  {
   "cell_type": "code",
   "execution_count": 165,
   "metadata": {},
   "outputs": [],
   "source": [
    "import pandas as pd"
   ]
  },
  {
   "cell_type": "code",
   "execution_count": 166,
   "metadata": {},
   "outputs": [],
   "source": [
    "name = pd.read_csv('../ML/data/movie_data_Name.csv')\n",
    "id = pd.read_csv('../ML/data/movie_data_ID.csv')\n",
    "post = pd.read_csv('../ML/data/movie_data_final.csv')"
   ]
  },
  {
   "cell_type": "code",
   "execution_count": 167,
   "metadata": {},
   "outputs": [],
   "source": [
    "id.drop(['budget','vote_score','vote_count','vote_weight'], axis=1, inplace=True)"
   ]
  },
  {
   "cell_type": "code",
   "execution_count": 168,
   "metadata": {},
   "outputs": [],
   "source": [
    "id.columns = ['titleID','genresID','countryID','charactorID','directorID']"
   ]
  },
  {
   "cell_type": "code",
   "execution_count": 169,
   "metadata": {},
   "outputs": [],
   "source": [
    "post['overview'] = post['overview'].astype(str)"
   ]
  },
  {
   "cell_type": "code",
   "execution_count": 170,
   "metadata": {},
   "outputs": [],
   "source": [
    "post['overview'] = post['overview'].apply(lambda x: x.replace('\\r', ''))"
   ]
  },
  {
   "cell_type": "code",
   "execution_count": 171,
   "metadata": {},
   "outputs": [],
   "source": [
    "df = pd.concat(\n",
    "    [name, id, post[['overview', 'runtime', 'release_date', 'poster_path']]], axis=1)"
   ]
  },
  {
   "cell_type": "code",
   "execution_count": 172,
   "metadata": {},
   "outputs": [],
   "source": [
    "df.to_csv('data/MovieForWeb.csv', encoding='utf-8', index=False)"
   ]
  },
  {
   "cell_type": "code",
   "execution_count": 178,
   "metadata": {},
   "outputs": [
    {
     "name": "stdout",
     "output_type": "stream",
     "text": [
      "title :  79\n",
      "genres :  43\n",
      "country :  157\n",
      "charactor :  27\n",
      "director :  32\n",
      "genresID :  36\n",
      "countryID :  45\n",
      "overview :  994\n",
      "release_date :  10\n"
     ]
    }
   ],
   "source": [
    "# sql str은 len크기*4+1\n",
    "for column in df.columns:\n",
    "    try:    # str 타입인 컬럼만\n",
    "        max = df[column].apply(lambda x: len(x)).max()\n",
    "        print(column, \": \", max)\n",
    "        max=0\n",
    "    except:\n",
    "        pass"
   ]
  },
  {
   "cell_type": "code",
   "execution_count": 187,
   "metadata": {},
   "outputs": [],
   "source": [
    "df['poster_path'] = df['poster_path'].astype(str)"
   ]
  },
  {
   "cell_type": "code",
   "execution_count": 188,
   "metadata": {},
   "outputs": [
    {
     "name": "stdout",
     "output_type": "stream",
     "text": [
      "SQL title : 317\n",
      "SQL genres : 173\n",
      "SQL country : 629\n",
      "SQL charactor : 109\n",
      "SQL director : 129\n",
      "SQL genresID : 145\n",
      "SQL countryID : 181\n",
      "SQL overview : 3977\n",
      "SQL release_date : 41\n",
      "SQL poster_path : 269\n"
     ]
    }
   ],
   "source": [
    "# sql str은 len크기*4+1\n",
    "for column in df.columns:\n",
    "    try:    # str 타입인 컬럼만\n",
    "        max = df[column].apply(lambda x: len(x)).max() * 4 + 1\n",
    "        print(\"SQL\", column, \":\", max)\n",
    "        max=0\n",
    "    except:\n",
    "        pass"
   ]
  }
 ],
 "metadata": {
  "kernelspec": {
   "display_name": "Python 3.9.12 ('base')",
   "language": "python",
   "name": "python3"
  },
  "language_info": {
   "codemirror_mode": {
    "name": "ipython",
    "version": 3
   },
   "file_extension": ".py",
   "mimetype": "text/x-python",
   "name": "python",
   "nbconvert_exporter": "python",
   "pygments_lexer": "ipython3",
   "version": "3.9.12"
  },
  "orig_nbformat": 4,
  "vscode": {
   "interpreter": {
    "hash": "68b27da7ddeb61625eb32b27b233f0587b7aa507dfa408f4f61141179036d5a9"
   }
  }
 },
 "nbformat": 4,
 "nbformat_minor": 2
}
